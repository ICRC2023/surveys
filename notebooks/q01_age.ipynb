{
 "cells": [
  {
   "cell_type": "markdown",
   "metadata": {},
   "source": [
    "# 【Q1】What is your age ?\n",
    "\n",
    "- 年齢（年代）と職名（``q05``）、研究歴（``q08``）の相関を確認する\n",
    "- ``q05`` / ``q06`` / ``q07`` / ``q08`` と相関があった\n",
    "\n",
    "| questions | 内容 | p_value |\n",
    "|---|---|---|\n",
    "| ``q01-q05`` | 職名 | 1.365796e-40 |\n",
    "| ``q01-q06`` | グループ | 1.942801e-06 |\n",
    "| ``q01-q07`` | 実験/理論 | 9.265359e-03 |\n",
    "| ``q01-q08`` | 研究歴 | 3.223006e-34 |"
   ]
  },
  {
   "cell_type": "code",
   "execution_count": null,
   "metadata": {},
   "outputs": [],
   "source": [
    "import altair as alt\n",
    "import pandas as pd\n",
    "import scipy as sp\n",
    "import titanite as ti\n",
    "\n",
    "print(f\"Altair {alt.__version__}\")\n",
    "print(f\"Pandas {pd.__version__}\")\n",
    "print(f\"SciPy {sp.__version__}\")\n",
    "print(f\"Titanite {ti.__version__}\")"
   ]
  },
  {
   "cell_type": "markdown",
   "metadata": {},
   "source": [
    "データを読み込む"
   ]
  },
  {
   "cell_type": "code",
   "execution_count": null,
   "metadata": {},
   "outputs": [],
   "source": [
    "f_cfg = \"../sandbox/config.toml\"\n",
    "f_csv = \"../data/test_data/prepared_data.csv\"\n",
    "\n",
    "c = ti.Config(load_from=f_cfg)\n",
    "c.load()\n",
    "\n",
    "d = ti.Data(read_from=f_csv, load_from=f_cfg)\n",
    "data = d.read()\n",
    "# data.info()"
   ]
  },
  {
   "cell_type": "code",
   "execution_count": null,
   "metadata": {},
   "outputs": [],
   "source": [
    "x = [\"q01\"]\n",
    "headers = c.get_crosstab_headers(x, list(data.columns))"
   ]
  },
  {
   "cell_type": "code",
   "execution_count": null,
   "metadata": {},
   "outputs": [],
   "source": [
    "cross_tabs, heatmaps, chi2_data = ti.core.crosstab_loop(data, headers)\n",
    "chi2_data"
   ]
  },
  {
   "cell_type": "code",
   "execution_count": null,
   "metadata": {},
   "outputs": [],
   "source": [
    "mark = alt.Chart(chi2_data).mark_point().encode(\n",
    "    alt.X(\"p_value\"),\n",
    "    alt.Y(\"questions\"),\n",
    "    tooltip=[\"questions\", \"p_value\", \"dof\", \"statistic\"]\n",
    ")\n",
    "\n",
    "rule = (\n",
    "    alt.Chart()\n",
    "    .mark_rule(color=\"orange\")\n",
    "    .encode(x=alt.datum(0.05))\n",
    ")\n",
    "\n",
    "(mark + rule).properties(\n",
    "    width=500,\n",
    "    height=500,\n",
    ")"
   ]
  },
  {
   "cell_type": "markdown",
   "metadata": {},
   "source": [
    "``p < 0.05``の項目を調べる"
   ]
  },
  {
   "cell_type": "code",
   "execution_count": null,
   "metadata": {},
   "outputs": [],
   "source": [
    "p005 = chi2_data.query(\"p_value < 0.05\")\n",
    "p005"
   ]
  },
  {
   "cell_type": "code",
   "execution_count": null,
   "metadata": {},
   "outputs": [],
   "source": [
    "for name, hm in heatmaps.items():\n",
    "    if name in list(p005.questions):\n",
    "        hm.properties(\n",
    "            title=name,\n",
    "            width=400,\n",
    "            height=400,\n",
    "        ).display()"
   ]
  },
  {
   "cell_type": "code",
   "execution_count": null,
   "metadata": {},
   "outputs": [],
   "source": []
  }
 ],
 "metadata": {
  "kernelspec": {
   "display_name": ".venv",
   "language": "python",
   "name": "python3"
  },
  "language_info": {
   "codemirror_mode": {
    "name": "ipython",
    "version": 3
   },
   "file_extension": ".py",
   "mimetype": "text/x-python",
   "name": "python",
   "nbconvert_exporter": "python",
   "pygments_lexer": "ipython3",
   "version": "3.11.5"
  },
  "orig_nbformat": 4
 },
 "nbformat": 4,
 "nbformat_minor": 2
}
