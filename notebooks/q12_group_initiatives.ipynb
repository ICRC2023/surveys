{
 "cells": [
  {
   "cell_type": "markdown",
   "metadata": {},
   "source": [
    "# 【Q12】What do you think about the initiatives on DE&I of your group ?\n",
    "\n",
    "以下のポイントについて、グループでの取り組みの度合いを回答してもらった\n",
    "\n",
    "- Gender balance\n",
    "- Diversity\n",
    "- Equity\n",
    "- Inclusion"
   ]
  },
  {
   "cell_type": "code",
   "execution_count": null,
   "metadata": {},
   "outputs": [],
   "source": [
    "import altair as alt\n",
    "import pandas as pd\n",
    "import scipy as sp\n",
    "import titanite as ti\n",
    "\n",
    "print(f\"Altair {alt.__version__}\")\n",
    "print(f\"Pandas {pd.__version__}\")\n",
    "print(f\"SciPy {sp.__version__}\")\n",
    "print(f\"Titanite {ti.__version__}\")"
   ]
  },
  {
   "cell_type": "markdown",
   "metadata": {},
   "source": [
    "データを読み込む"
   ]
  },
  {
   "cell_type": "code",
   "execution_count": null,
   "metadata": {},
   "outputs": [],
   "source": [
    "f_cfg = \"../sandbox/config.toml\"\n",
    "f_csv = \"../data/test_data/prepared_data.csv\"\n",
    "d = ti.Data(read_from=f_csv, load_from=f_cfg)\n",
    "data = d.read()\n",
    "# data.info()"
   ]
  },
  {
   "cell_type": "markdown",
   "metadata": {},
   "source": [
    "カイ二乗検定する"
   ]
  },
  {
   "cell_type": "code",
   "execution_count": null,
   "metadata": {},
   "outputs": [],
   "source": [
    "x = [\n",
    "    \"q12_genderbalance\",\n",
    "    \"q12_diversity\",\n",
    "    \"q12_equity\",\n",
    "    \"q12_inclusion\",\n",
    "]\n",
    "headers = d.crosstab_headers(x, list(data.columns))\n",
    "# headers"
   ]
  },
  {
   "cell_type": "code",
   "execution_count": null,
   "metadata": {},
   "outputs": [],
   "source": [
    "cross_tabs, heatmaps, chi2_data = ti.core.crosstab_loop(data, headers)\n",
    "chi2_data"
   ]
  },
  {
   "cell_type": "code",
   "execution_count": null,
   "metadata": {},
   "outputs": [],
   "source": [
    "mark = (\n",
    "    alt.Chart(chi2_data)\n",
    "    .mark_point()\n",
    "    .encode(\n",
    "        alt.X(\"p_value\"),\n",
    "        alt.Y(\"questions\"),\n",
    "        tooltip=[\"questions\", \"p_value\", \"dof\", \"statistic\"],\n",
    "    )\n",
    ")\n",
    "\n",
    "rule = alt.Chart().mark_rule(color=\"orange\").encode(x=alt.datum(0.05))\n",
    "\n",
    "(mark + rule).properties(\n",
    "    width=500,\n",
    ")"
   ]
  },
  {
   "cell_type": "markdown",
   "metadata": {},
   "source": [
    "``p < 0.05``の項目を確認する"
   ]
  },
  {
   "cell_type": "code",
   "execution_count": null,
   "metadata": {},
   "outputs": [],
   "source": [
    "p005 = chi2_data.query(\"p_value < 0.05\")\n",
    "p005"
   ]
  },
  {
   "cell_type": "code",
   "execution_count": null,
   "metadata": {},
   "outputs": [],
   "source": [
    "for name, hm in heatmaps.items():\n",
    "    if name in list(p005.questions):\n",
    "        hm.properties(\n",
    "            title=name,\n",
    "            width=400,\n",
    "            height=400,\n",
    "        ).display()"
   ]
  },
  {
   "cell_type": "code",
   "execution_count": null,
   "metadata": {},
   "outputs": [],
   "source": []
  }
 ],
 "metadata": {
  "kernelspec": {
   "display_name": ".venv",
   "language": "python",
   "name": "python3"
  },
  "language_info": {
   "codemirror_mode": {
    "name": "ipython",
    "version": 3
   },
   "file_extension": ".py",
   "mimetype": "text/x-python",
   "name": "python",
   "nbconvert_exporter": "python",
   "pygments_lexer": "ipython3",
   "version": "3.11.4"
  }
 },
 "nbformat": 4,
 "nbformat_minor": 2
}
