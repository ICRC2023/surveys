{
 "cells": [
  {
   "cell_type": "markdown",
   "metadata": {},
   "source": [
    "# 【Q15】Please let us know If your group has any good practice examples related to DE&I ?\n",
    "\n",
    "【Q16】Please let us know if there is anything your group needs to work on or if your group has any problems related to DE&I.\n",
    "【Q18】Could you tell us more about your thoughts (agree / disagree) ?\n",
    "【Q20】Do you have any concerns / problems related to DE&I initiatives in science ?\n",
    "【Q21】What reasons do you think are hindering DE&I initiatives in science ?\n",
    "【Q22】Comments\n",
    "\n",
    "- 数値データ（``polarity`` / ``subjectivity``）とクラスター属性の関係を箱ひげ図に整理する\n",
    "- クラスター分類：``q01``、``q02``、``q03``、``q04``、``q05``、``q06``、``q07``、``q11``"
   ]
  },
  {
   "cell_type": "code",
   "execution_count": null,
   "metadata": {},
   "outputs": [],
   "source": [
    "import altair as alt\n",
    "import pandas as pd\n",
    "import titanite as ti"
   ]
  },
  {
   "cell_type": "code",
   "execution_count": null,
   "metadata": {},
   "outputs": [],
   "source": [
    "f_cfg = \"../sandbox/config.toml\"\n",
    "f_prepared = \"../data/test_data/prepared_data.csv\"\n",
    "f_answered = \"../data/test_data/comment/q15.csv\""
   ]
  },
  {
   "cell_type": "code",
   "execution_count": null,
   "metadata": {},
   "outputs": [],
   "source": [
    "d = ti.Data(read_from=f_prepared, load_from=f_cfg)\n",
    "config = d.config()\n",
    "data = d.read()\n",
    "# config\n",
    "# data\n",
    "\n",
    "answered = pd.read_csv(f_answered)\n",
    "answered.columns"
   ]
  },
  {
   "cell_type": "code",
   "execution_count": null,
   "metadata": {},
   "outputs": [],
   "source": [
    "clusters = [\n",
    "    \"q01\",\n",
    "    \"q02\",\n",
    "    \"q03_regional\",\n",
    "    \"q03_subregional\",\n",
    "    # \"q04_regional\",\n",
    "    # \"q04_subregional\",\n",
    "    \"q05\",\n",
    "    \"q06\",\n",
    "    \"q07\",\n",
    "    \"q11\",\n",
    "]"
   ]
  },
  {
   "cell_type": "markdown",
   "metadata": {},
   "source": [
    "すべての回答データ（``prepared.csv``）と、自由記述に回答したデータ（``質問番号.csv``）で比較\n",
    "- ``describe()`` → 同じ\n",
    "- ``mean()`` → 同じ\n",
    "\n",
    "どこかに書いてあるかもしれないが、空欄（NaN）は無視して平均値など計算しれくれるみたい\n",
    "- ``groupby``の集計対象に、q15, q16の極性を追加しても結果は同じだった\n",
    "- ``prepared_data.csv``だけで分析してよい"
   ]
  },
  {
   "cell_type": "code",
   "execution_count": null,
   "metadata": {},
   "outputs": [],
   "source": [
    "# for c in clusters:\n",
    "#     print(\"-\" * 50)\n",
    "#     print(c)\n",
    "#     display(data.groupby(c)[[\"q15_polarity\", \"q15_subjectivity\", \"q16_polarity\", \"q16_subjectivity\"]].mean())\n",
    "#     display(answered.groupby(c)[[\"q15_polarity\", \"q15_subjectivity\"]].mean())\n",
    "#     print(\"-\" * 50)"
   ]
  },
  {
   "cell_type": "code",
   "execution_count": null,
   "metadata": {},
   "outputs": [],
   "source": [
    "alt.Chart(data).mark_point().encode(\n",
    "    alt.X(\"q15_polarity\"),\n",
    "    alt.Y(\"q18_polarity\"),\n",
    ")"
   ]
  },
  {
   "cell_type": "code",
   "execution_count": null,
   "metadata": {},
   "outputs": [],
   "source": [
    "polarities = [\n",
    "    \"q15_polarity\",\n",
    "    \"q16_polarity\",\n",
    "    \"q18_polarity\",\n",
    "    \"q20_polarity\",\n",
    "    \"q21_polarity\",\n",
    "    \"q22_polarity\",\n",
    "]\n",
    "subjectivities = [\n",
    "    \"q15_subjectivity\",\n",
    "    \"q16_subjectivity\",\n",
    "    \"q18_subjectivity\",\n",
    "    \"q20_subjectivity\",\n",
    "    \"q21_subjectivity\",\n",
    "    \"q22_subjectivity\",\n",
    "]"
   ]
  },
  {
   "cell_type": "code",
   "execution_count": null,
   "metadata": {},
   "outputs": [],
   "source": [
    "def scatter_matrix(data, cols, rows, color=\"q02:N\"):\n",
    "    sm = (\n",
    "        alt.Chart(data)\n",
    "        .mark_circle()\n",
    "        .encode(\n",
    "            alt.X(alt.repeat(\"column\"), type=\"quantitative\").scale(domain=[-1, 1]),\n",
    "            alt.Y(alt.repeat(\"row\"), type=\"quantitative\").scale(domain=[-1, 1]),\n",
    "            alt.Color(color),\n",
    "        )\n",
    "        .properties(\n",
    "            width=150,\n",
    "            height=150,\n",
    "        )\n",
    "        .repeat(\n",
    "            column=cols,\n",
    "            row=rows,\n",
    "        )\n",
    "    )\n",
    "    return sm"
   ]
  },
  {
   "cell_type": "code",
   "execution_count": null,
   "metadata": {},
   "outputs": [],
   "source": [
    "color = \"q11:N\"\n",
    "scatter_matrix(data, polarities, polarities, color).display()\n",
    "scatter_matrix(data, polarities, subjectivities, color).display()\n",
    "scatter_matrix(data, subjectivities, subjectivities, color).display()"
   ]
  },
  {
   "cell_type": "code",
   "execution_count": null,
   "metadata": {},
   "outputs": [],
   "source": []
  }
 ],
 "metadata": {
  "kernelspec": {
   "display_name": ".venv",
   "language": "python",
   "name": "python3"
  },
  "language_info": {
   "codemirror_mode": {
    "name": "ipython",
    "version": 3
   },
   "file_extension": ".py",
   "mimetype": "text/x-python",
   "name": "python",
   "nbconvert_exporter": "python",
   "pygments_lexer": "ipython3",
   "version": "3.11.4"
  }
 },
 "nbformat": 4,
 "nbformat_minor": 2
}
