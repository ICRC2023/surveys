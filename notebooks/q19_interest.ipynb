{
 "cells": [
  {
   "cell_type": "markdown",
   "metadata": {},
   "source": [
    "【Q19】When did you first become interested in science ?\n",
    "\n",
    "Q19に対して、年代／性別／地域でクロス集計する"
   ]
  },
  {
   "cell_type": "code",
   "execution_count": 1,
   "metadata": {},
   "outputs": [
    {
     "name": "stdout",
     "output_type": "stream",
     "text": [
      "Altair 5.0.1\n",
      "Pandas 2.0.3\n",
      "SciPy 1.11.1\n",
      "Titanite 0.2.0\n"
     ]
    }
   ],
   "source": [
    "import altair as alt\n",
    "import pandas as pd\n",
    "import scipy as sp\n",
    "import titanite as ti\n",
    "\n",
    "print(f\"Altair {alt.__version__}\")\n",
    "print(f\"Pandas {pd.__version__}\")\n",
    "print(f\"SciPy {sp.__version__}\")\n",
    "print(f\"Titanite {ti.__version__}\")"
   ]
  },
  {
   "cell_type": "markdown",
   "metadata": {},
   "source": [
    "データを読み込む"
   ]
  },
  {
   "cell_type": "code",
   "execution_count": 2,
   "metadata": {},
   "outputs": [
    {
     "name": "stderr",
     "output_type": "stream",
     "text": [
      "\u001b[32m2023-07-22 19:04:46.328\u001b[0m | \u001b[1mINFO    \u001b[0m | \u001b[36mtitanite.preprocess\u001b[0m:\u001b[36mcategorical_data\u001b[0m:\u001b[36m123\u001b[0m - \u001b[1mCategorize\u001b[0m\n",
      "\u001b[32m2023-07-22 19:04:46.343\u001b[0m | \u001b[1mINFO    \u001b[0m | \u001b[36mtitanite.preprocess\u001b[0m:\u001b[36mbinned_data\u001b[0m:\u001b[36m229\u001b[0m - \u001b[1mBinned\u001b[0m\n"
     ]
    }
   ],
   "source": [
    "f_cfg = \"../sandbox/config.toml\"\n",
    "f_csv = \"../data/test_data/prepared_data.csv\"\n",
    "d = ti.Data(read_from=f_csv, load_from=f_cfg)\n",
    "data = d.read()\n",
    "# data.info()"
   ]
  },
  {
   "cell_type": "code",
   "execution_count": 4,
   "metadata": {},
   "outputs": [],
   "source": [
    "x = \"q19\"\n",
    "\n",
    "headers = [header for header in data.columns if header not in d.ignore_from_crosstab]\n",
    "headers.remove(x)\n",
    "\n",
    "cross_tabs = {}\n",
    "heatmaps = {}\n",
    "chi2_tests = []\n",
    "\n",
    "for y in headers:\n",
    "    name = f\"{x}-{y}\"\n",
    "    cross_tab, chi2_test, heatmap = ti.core.crosstab(data, y, x)\n",
    "    cross_tabs.update({name: cross_tab})\n",
    "    heatmaps.update({name: heatmap})\n",
    "    _data = [name, chi2_test.statistic, chi2_test.pvalue, chi2_test.dof]\n",
    "    chi2_tests.append(_data)\n",
    "\n",
    "chi2_data = pd.DataFrame(chi2_tests, columns=[\"questions\", \"statistic\", \"p-value\", \"dof\"])"
   ]
  },
  {
   "cell_type": "code",
   "execution_count": null,
   "metadata": {},
   "outputs": [],
   "source": [
    "chi2_data"
   ]
  },
  {
   "cell_type": "code",
   "execution_count": 13,
   "metadata": {},
   "outputs": [
    {
     "data": {
      "text/html": [
       "\n",
       "<style>\n",
       "  #altair-viz-3abebabd99a84c169f27c4f82d7572b3.vega-embed {\n",
       "    width: 100%;\n",
       "    display: flex;\n",
       "  }\n",
       "\n",
       "  #altair-viz-3abebabd99a84c169f27c4f82d7572b3.vega-embed details,\n",
       "  #altair-viz-3abebabd99a84c169f27c4f82d7572b3.vega-embed details summary {\n",
       "    position: relative;\n",
       "  }\n",
       "</style>\n",
       "<div id=\"altair-viz-3abebabd99a84c169f27c4f82d7572b3\"></div>\n",
       "<script type=\"text/javascript\">\n",
       "  var VEGA_DEBUG = (typeof VEGA_DEBUG == \"undefined\") ? {} : VEGA_DEBUG;\n",
       "  (function(spec, embedOpt){\n",
       "    let outputDiv = document.currentScript.previousElementSibling;\n",
       "    if (outputDiv.id !== \"altair-viz-3abebabd99a84c169f27c4f82d7572b3\") {\n",
       "      outputDiv = document.getElementById(\"altair-viz-3abebabd99a84c169f27c4f82d7572b3\");\n",
       "    }\n",
       "    const paths = {\n",
       "      \"vega\": \"https://cdn.jsdelivr.net/npm/vega@5?noext\",\n",
       "      \"vega-lib\": \"https://cdn.jsdelivr.net/npm/vega-lib?noext\",\n",
       "      \"vega-lite\": \"https://cdn.jsdelivr.net/npm/vega-lite@5.8.0?noext\",\n",
       "      \"vega-embed\": \"https://cdn.jsdelivr.net/npm/vega-embed@6?noext\",\n",
       "    };\n",
       "\n",
       "    function maybeLoadScript(lib, version) {\n",
       "      var key = `${lib.replace(\"-\", \"\")}_version`;\n",
       "      return (VEGA_DEBUG[key] == version) ?\n",
       "        Promise.resolve(paths[lib]) :\n",
       "        new Promise(function(resolve, reject) {\n",
       "          var s = document.createElement('script');\n",
       "          document.getElementsByTagName(\"head\")[0].appendChild(s);\n",
       "          s.async = true;\n",
       "          s.onload = () => {\n",
       "            VEGA_DEBUG[key] = version;\n",
       "            return resolve(paths[lib]);\n",
       "          };\n",
       "          s.onerror = () => reject(`Error loading script: ${paths[lib]}`);\n",
       "          s.src = paths[lib];\n",
       "        });\n",
       "    }\n",
       "\n",
       "    function showError(err) {\n",
       "      outputDiv.innerHTML = `<div class=\"error\" style=\"color:red;\">${err}</div>`;\n",
       "      throw err;\n",
       "    }\n",
       "\n",
       "    function displayChart(vegaEmbed) {\n",
       "      vegaEmbed(outputDiv, spec, embedOpt)\n",
       "        .catch(err => showError(`Javascript Error: ${err.message}<br>This usually means there's a typo in your chart specification. See the javascript console for the full traceback.`));\n",
       "    }\n",
       "\n",
       "    if(typeof define === \"function\" && define.amd) {\n",
       "      requirejs.config({paths});\n",
       "      require([\"vega-embed\"], displayChart, err => showError(`Error loading script: ${err.message}`));\n",
       "    } else {\n",
       "      maybeLoadScript(\"vega\", \"5\")\n",
       "        .then(() => maybeLoadScript(\"vega-lite\", \"5.8.0\"))\n",
       "        .then(() => maybeLoadScript(\"vega-embed\", \"6\"))\n",
       "        .catch(showError)\n",
       "        .then(() => displayChart(vegaEmbed));\n",
       "    }\n",
       "  })({\"config\": {\"view\": {\"continuousWidth\": 300, \"continuousHeight\": 300}}, \"layer\": [{\"data\": {\"name\": \"data-7c5038e0ac654fede16e085addbe1d0d\"}, \"mark\": {\"type\": \"point\"}, \"encoding\": {\"tooltip\": [{\"field\": \"questions\", \"type\": \"nominal\"}, {\"field\": \"p-value\", \"type\": \"quantitative\"}, {\"field\": \"dof\", \"type\": \"quantitative\"}, {\"field\": \"statistic\", \"type\": \"quantitative\"}], \"x\": {\"field\": \"p-value\", \"type\": \"quantitative\"}, \"y\": {\"field\": \"questions\", \"type\": \"nominal\"}}, \"name\": \"view_9\"}, {\"data\": {\"name\": \"empty\"}, \"mark\": {\"type\": \"rule\", \"color\": \"orange\"}, \"encoding\": {\"x\": {\"datum\": 0.05}}}], \"height\": 500, \"params\": [{\"name\": \"param_9\", \"select\": {\"type\": \"interval\", \"encodings\": [\"x\", \"y\"]}, \"bind\": \"scales\", \"views\": [\"view_9\"]}], \"width\": 500, \"$schema\": \"https://vega.github.io/schema/vega-lite/v5.8.0.json\", \"datasets\": {\"data-7c5038e0ac654fede16e085addbe1d0d\": [{\"questions\": \"q19-q01\", \"statistic\": 25.26573596033426, \"p-value\": 0.9664826134246761, \"dof\": 40}, {\"questions\": \"q19-q02\", \"statistic\": 28.574533644946566, \"p-value\": 0.09648123893391819, \"dof\": 20}, {\"questions\": \"q19-q03\", \"statistic\": 136.9978979904653, \"p-value\": 7.629276389468528e-05, \"dof\": 80}, {\"questions\": \"q19-q04\", \"statistic\": 109.01309100600085, \"p-value\": 0.04072880311223524, \"dof\": 85}, {\"questions\": \"q19-q05\", \"statistic\": 50.22132837573352, \"p-value\": 0.011761077339975353, \"dof\": 30}, {\"questions\": \"q19-q06\", \"statistic\": 36.33085017116286, \"p-value\": 0.6361840176304742, \"dof\": 40}, {\"questions\": \"q19-q07\", \"statistic\": 4.118717143998584, \"p-value\": 0.9418325410190499, \"dof\": 10}, {\"questions\": \"q19-q08\", \"statistic\": 13.583462436270032, \"p-value\": 0.968516588629141, \"dof\": 25}, {\"questions\": \"q19-q09\", \"statistic\": 17.906738243206952, \"p-value\": 0.05655736061334021, \"dof\": 10}, {\"questions\": \"q19-q11\", \"statistic\": 3.051655650482997, \"p-value\": 0.9801821403316614, \"dof\": 10}, {\"questions\": \"q19-q12_genderbalance\", \"statistic\": 31.25781082466537, \"p-value\": 0.18062346258193507, \"dof\": 25}, {\"questions\": \"q19-q12_diversity\", \"statistic\": 18.163816993135594, \"p-value\": 0.8353579735043375, \"dof\": 25}, {\"questions\": \"q19-q12_equity\", \"statistic\": 17.785805645262798, \"p-value\": 0.8513470679845493, \"dof\": 25}, {\"questions\": \"q19-q12_inclusion\", \"statistic\": 29.20899733376292, \"p-value\": 0.2552738954517343, \"dof\": 25}, {\"questions\": \"q19-q14\", \"statistic\": 26.7626852535263, \"p-value\": 0.3678434441776986, \"dof\": 25}, {\"questions\": \"q19-q17_genderbalance\", \"statistic\": 13.761391710976621, \"p-value\": 0.5436973450909282, \"dof\": 15}, {\"questions\": \"q19-q17_diversity\", \"statistic\": 7.424344088519257, \"p-value\": 0.9447878807972312, \"dof\": 15}, {\"questions\": \"q19-q17_equity\", \"statistic\": 26.584498806361832, \"p-value\": 0.03230981696845748, \"dof\": 15}, {\"questions\": \"q19-q17_inclusion\", \"statistic\": 9.944694544822527, \"p-value\": 0.8232042810719814, \"dof\": 15}, {\"questions\": \"q19-q03_regional\", \"statistic\": 35.15403269074826, \"p-value\": 0.08545274690588463, \"dof\": 25}, {\"questions\": \"q19-q03_subregional\", \"statistic\": 136.9978979904653, \"p-value\": 7.629276389468528e-05, \"dof\": 80}, {\"questions\": \"q19-q04_regional\", \"statistic\": 28.797247292069603, \"p-value\": 0.2724803960686411, \"dof\": 25}, {\"questions\": \"q19-q04_subregional\", \"statistic\": 109.01309100600085, \"p-value\": 0.04072880311223524, \"dof\": 85}, {\"questions\": \"q19-q10_binned\", \"statistic\": 71.33480878060337, \"p-value\": 0.06842046896972744, \"dof\": 55}, {\"questions\": \"q19-q13_binned\", \"statistic\": 56.458472198237075, \"p-value\": 0.9787783722325711, \"dof\": 80}], \"empty\": [{}]}}, {\"mode\": \"vega-lite\"});\n",
       "</script>"
      ],
      "text/plain": [
       "alt.LayerChart(...)"
      ]
     },
     "execution_count": 13,
     "metadata": {},
     "output_type": "execute_result"
    }
   ],
   "source": [
    "mark = alt.Chart(chi2_data).mark_point().encode(\n",
    "    alt.X(\"p-value\"),\n",
    "    alt.Y(\"questions\"),\n",
    "    tooltip=[\"questions\", \"p-value\", \"dof\", \"statistic\"]\n",
    ")\n",
    "\n",
    "rule = (\n",
    "    alt.Chart()\n",
    "    .mark_rule(color=\"orange\")\n",
    "    .encode(x=alt.datum(0.05))\n",
    ")\n",
    "\n",
    "(mark + rule).properties(\n",
    "    width=500,\n",
    "    height=500,\n",
    ").interactive()"
   ]
  },
  {
   "cell_type": "code",
   "execution_count": null,
   "metadata": {},
   "outputs": [],
   "source": []
  }
 ],
 "metadata": {
  "kernelspec": {
   "display_name": ".venv",
   "language": "python",
   "name": "python3"
  },
  "language_info": {
   "codemirror_mode": {
    "name": "ipython",
    "version": 3
   },
   "file_extension": ".py",
   "mimetype": "text/x-python",
   "name": "python",
   "nbconvert_exporter": "python",
   "pygments_lexer": "ipython3",
   "version": "3.11.4"
  },
  "orig_nbformat": 4
 },
 "nbformat": 4,
 "nbformat_minor": 2
}
