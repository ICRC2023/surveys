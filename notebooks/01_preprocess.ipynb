{
 "cells": [
  {
   "cell_type": "markdown",
   "metadata": {},
   "source": [
    "データの前処理\n",
    "\n",
    "1. ファイルを指定してデータを読み込む\n",
    "2. 回答ありのカラムを追加する\n",
    "3. タイムスタンプをdatetimeオブジェクトにする\n",
    "4. 国を大州と地域に分割する　←　カラムを追加する\n",
    "5. カラムをcategoryにする\n",
    "6. コメントのある／なしフラグを追加する　←　カラムを追加する\n",
    "7. （他にあれば追加する）\n",
    "8. ファイルをCSVで書き出す"
   ]
  },
  {
   "cell_type": "code",
   "execution_count": null,
   "metadata": {},
   "outputs": [],
   "source": [
    "from pathlib import Path\n",
    "import pandas as pd\n",
    "import altair as alt\n",
    "import textblob as tb\n",
    "import titanite as ti\n",
    "\n",
    "print(f\"Altair {alt.__version__}\")\n",
    "print(f\"Pandas {pd.__version__}\")\n",
    "print(f\"Textblob {tb.__version__}\")\n",
    "print(f\"Titanite {ti.__version__}\")"
   ]
  },
  {
   "cell_type": "markdown",
   "metadata": {},
   "source": [
    "設定ファイルを読み込む"
   ]
  },
  {
   "cell_type": "code",
   "execution_count": null,
   "metadata": {},
   "outputs": [],
   "source": [
    "f_cfg = \"../sandbox/config.toml\"\n",
    "config = ti.Config(load_from=f_cfg)\n",
    "config.load()\n",
    "# config.questions\n",
    "# config.choices\n",
    "# dir(config)"
   ]
  },
  {
   "cell_type": "markdown",
   "metadata": {},
   "source": [
    "データを読み込む\n",
    "\n",
    "- アンケート結果の生データを読み込む\n",
    "- 生データはGoogleスプレッドシートをCSV形式で ``data/raw_data`` にダウンロードした\n",
    "- リポジトリには追加しない（``.gitignore``してある）"
   ]
  },
  {
   "cell_type": "code",
   "execution_count": null,
   "metadata": {},
   "outputs": [],
   "source": [
    "read_from = Path(\"../data/raw_data/20230722_icrc2023_diversity_presurvey_answers.csv\")\n",
    "data = pd.read_csv(read_from, skiprows=1)\n",
    "data[\"response\"] = 1"
   ]
  },
  {
   "cell_type": "code",
   "execution_count": null,
   "metadata": {},
   "outputs": [],
   "source": [
    "# data.info()"
   ]
  },
  {
   "cell_type": "markdown",
   "metadata": {},
   "source": [
    "日付のカラムを``datetime``オブジェクトに変換する"
   ]
  },
  {
   "cell_type": "code",
   "execution_count": null,
   "metadata": {},
   "outputs": [],
   "source": [
    "data[\"timestamp\"] = pd.to_datetime(data[\"timestamp\"])"
   ]
  },
  {
   "cell_type": "markdown",
   "metadata": {},
   "source": [
    "カラムの値を置換して整理する\n",
    "\n",
    "- ``q03``（勤務地）と``q04``（出身地）のデータの表記を揃える\n",
    "  - ``Oceania`` → ``Oceania / Oceania``\n",
    "  - ``Prefer not to answer`` → ``Prefer not to answer / Prefer not to answer``\n",
    "- ``q14``の回答の表記を揃える\n",
    "  - ``No Interest`` → ``No interest``"
   ]
  },
  {
   "cell_type": "code",
   "execution_count": null,
   "metadata": {},
   "outputs": [],
   "source": [
    "data[\"q03\"] = data[\"q03\"].replace(\n",
    "    {\n",
    "        \"Prefer not to answer\": \"Prefer not to answer / Prefer not to answer\",\n",
    "        \"Oceania\": \"Oceania / Oceania\",\n",
    "    }\n",
    ")\n",
    "data[\"q04\"] = data[\"q04\"].replace(\n",
    "    {\n",
    "        \"Prefer not to answer\": \"Prefer not to answer / Prefer not to answer\",\n",
    "        \"Oceania\": \"Oceania / Oceania\",\n",
    "    }\n",
    ")\n",
    "data[\"q14\"] = data[\"q14\"].replace({\"No Interest\": \"No interest\"})"
   ]
  },
  {
   "cell_type": "markdown",
   "metadata": {},
   "source": [
    "- ``q03``と``q04``の回答を``/``で分割する\n",
    "- ``大州 / 地域``という選択肢になっている\n",
    "- ``_regional`` / ``_subregional`` の添字をカラム名に追加する"
   ]
  },
  {
   "cell_type": "code",
   "execution_count": null,
   "metadata": {},
   "outputs": [],
   "source": [
    "_q3 = data[\"q03\"].str.split(\"/\", expand=True)\n",
    "_q3[0] = _q3[0].str.strip()\n",
    "_q3[1] = _q3[1].str.strip()\n",
    "_q3 = _q3.rename(columns={0: \"q03_regional\", 1: \"q03_subregional\"})\n",
    "\n",
    "_q4 = data[\"q04\"].str.split(\"/\", expand=True)\n",
    "_q4[0] = _q4[0].str.strip()\n",
    "_q4[1] = _q4[1].str.strip()\n",
    "_q4 = _q4.rename(columns={0: \"q04_regional\", 1: \"q04_subregional\"})"
   ]
  },
  {
   "cell_type": "markdown",
   "metadata": {},
   "source": [
    "元のデータに結合する\n",
    "\n",
    "- 列方向に追加する（``axis=1``）\n",
    "- これは一度だけ実施する\n",
    "  - とくにガードをかけてないので、気をつける"
   ]
  },
  {
   "cell_type": "code",
   "execution_count": null,
   "metadata": {},
   "outputs": [],
   "source": [
    "data = pd.concat([data, _q3], axis=1)\n",
    "data = pd.concat([data, _q4], axis=1)\n",
    "# data"
   ]
  },
  {
   "cell_type": "code",
   "execution_count": null,
   "metadata": {},
   "outputs": [],
   "source": [
    "data.columns"
   ]
  },
  {
   "cell_type": "markdown",
   "metadata": {},
   "source": [
    "``q10``と ``q13``の回答をビン分割する\n",
    "\n",
    "- それぞれ整数値の回答だが、集計しやすいようにビン分割する\n",
    "  - ``q10`` : ``0 - 24``の時間数。10時間以上は``10+``にまとめる\n",
    "  - ``q13`` : ``0 - 100``のパーセンテージ。5%ずつ区切る\n",
    "- ビン分割したカラムは``_binned``をつけて新しく作成する  "
   ]
  },
  {
   "cell_type": "code",
   "execution_count": null,
   "metadata": {},
   "outputs": [],
   "source": [
    "data[\"q10\"].unique()"
   ]
  },
  {
   "cell_type": "code",
   "execution_count": null,
   "metadata": {},
   "outputs": [],
   "source": [
    "d = pd.cut(\n",
    "    data[\"q10\"],\n",
    "    [-1, 0, 1, 2, 3, 4, 5, 6, 7, 8, 9, 10, 25],\n",
    "    right=False,\n",
    "    labels=[\"NA\", \"0\", \"1\", \"2\", \"3\", \"4\", \"5\", \"6\", \"7\", \"8\", \"9\", \"10+\"],\n",
    ")\n",
    "\n",
    "alt.Chart(d.reset_index()).mark_bar().encode(x=\"q10\", y=\"count()\")"
   ]
  },
  {
   "cell_type": "code",
   "execution_count": null,
   "metadata": {},
   "outputs": [],
   "source": [
    "# data[\"q13\"].value_counts()\n",
    "# d = pd.cut(data[\"q13\"], [-1, 0, 10, 20, 30, 40, 50, 60, 70, 80, 90, 100], right=False, labels=[\"NA\", \"0\", \"10\", \"20\", \"30\", \"40\", \"50\", \"60\", \"70\", \"80\", \"90\"])\n",
    "d = pd.cut(\n",
    "    data[\"q13\"],\n",
    "    [\n",
    "        -1,\n",
    "        0,\n",
    "        5,\n",
    "        10,\n",
    "        15,\n",
    "        20,\n",
    "        25,\n",
    "        30,\n",
    "        35,\n",
    "        40,\n",
    "        45,\n",
    "        50,\n",
    "        55,\n",
    "        60,\n",
    "        65,\n",
    "        70,\n",
    "        75,\n",
    "        80,\n",
    "        85,\n",
    "        90,\n",
    "        95,\n",
    "        100,\n",
    "        105,\n",
    "    ],\n",
    "    right=False,\n",
    "    labels=[\n",
    "        \"NA\",\n",
    "        \"0%\",\n",
    "        \"5%\",\n",
    "        \"10%\",\n",
    "        \"15%\",\n",
    "        \"20%\",\n",
    "        \"25%\",\n",
    "        \"30%\",\n",
    "        \"35%\",\n",
    "        \"40%\",\n",
    "        \"45%\",\n",
    "        \"50%\",\n",
    "        \"55%\",\n",
    "        \"60%\",\n",
    "        \"65%\",\n",
    "        \"70%\",\n",
    "        \"75%\",\n",
    "        \"80%\",\n",
    "        \"85%\",\n",
    "        \"90%\",\n",
    "        \"95%\",\n",
    "        \"100%\",\n",
    "    ],\n",
    ")\n",
    "d.reset_index()\n",
    "alt.Chart(d.reset_index()).mark_bar().encode(x=\"q13\", y=\"count()\")"
   ]
  },
  {
   "cell_type": "markdown",
   "metadata": {},
   "source": [
    "カテゴリー型に変換する\n",
    "\n",
    "- ``ti.config.categorical()``はdeprecatedにした\n",
    "- ``Config.categories``でメンバー変数としてアクセスできるようにした"
   ]
  },
  {
   "cell_type": "code",
   "execution_count": null,
   "metadata": {},
   "outputs": [],
   "source": [
    "# category = config.categorical()\n",
    "category = config.categories"
   ]
  },
  {
   "cell_type": "code",
   "execution_count": null,
   "metadata": {},
   "outputs": [],
   "source": [
    "# data[\"q01\"] = data[\"q01\"].astype(category[\"age\"])\n",
    "# data[\"q02\"] = data[\"q02\"].astype(category[\"gender\"])\n",
    "# data[\"q03\"] = data[\"q03\"].astype(category[\"geoscheme\"])\n",
    "# data[\"q03_regional\"] = data[\"q03_regional\"].astype(category[\"regional\"])\n",
    "# data[\"q03_subregional\"] = data[\"q03_subregional\"].astype(category[\"subregional\"])\n",
    "# data[\"q04\"] = data[\"q04\"].astype(category[\"geoscheme\"])\n",
    "# data[\"q04_regional\"] = data[\"q04_regional\"].astype(category[\"regional\"])\n",
    "# data[\"q04_subregional\"] = data[\"q04_subregional\"].astype(category[\"subregional\"])\n",
    "# data[\"q05\"] = data[\"q05\"].astype(category[\"job_title\"])\n",
    "# data[\"q06\"] = data[\"q06\"].astype(category[\"research_group\"])\n",
    "# data[\"q07\"] = data[\"q07\"].astype(category[\"research_field\"]).fillna(\"Others\")\n",
    "# data[\"q08\"] = data[\"q08\"].astype(category[\"research_years\"])\n",
    "# data[\"q09\"] = data[\"q09\"].astype(category[\"yes_no\"])\n",
    "# # data[\"q10\"]\n",
    "# data[\"q11\"] = data[\"q11\"].astype(category[\"yes_no\"])\n",
    "# data[\"q12_genderbalance\"] = data[\"q12_genderbalance\"].astype(category[\"good_poor\"])\n",
    "# data[\"q12_diversity\"] = data[\"q12_diversity\"].astype(category[\"good_poor\"])\n",
    "# data[\"q12_equity\"] = data[\"q12_equity\"].astype(category[\"good_poor\"])\n",
    "# data[\"q12_inclusion\"] = data[\"q12_inclusion\"].astype(category[\"good_poor\"])\n",
    "# # data[\"q13\"]\n",
    "# data[\"q14\"] = data[\"q14\"].astype(category[\"good_poor\"])\n",
    "# # data[\"q15\"]\n",
    "# # data[\"q16\"]\n",
    "# data[\"q17_genderbalance\"] = data[\"q17_genderbalance\"].astype(category[\"agree_disagree\"])\n",
    "# data[\"q17_diversity\"] = data[\"q17_diversity\"].astype(category[\"agree_disagree\"])\n",
    "# data[\"q17_equity\"] = data[\"q17_equity\"].astype(category[\"agree_disagree\"])\n",
    "# data[\"q17_inclusion\"] = data[\"q17_inclusion\"].astype(category[\"agree_disagree\"])\n",
    "# # data[\"q18\"]\n",
    "# data[\"q19\"] = data[\"q19\"].astype(category[\"school\"])\n",
    "# # data[\"q20\"]\n",
    "# # data[\"q21\"]\n",
    "# # data[\"q22\"]"
   ]
  },
  {
   "cell_type": "code",
   "execution_count": null,
   "metadata": {},
   "outputs": [],
   "source": [
    "data.info()"
   ]
  },
  {
   "cell_type": "markdown",
   "metadata": {},
   "source": [
    "上の内容を辞書型を使って見やすくした"
   ]
  },
  {
   "cell_type": "code",
   "execution_count": null,
   "metadata": {},
   "outputs": [],
   "source": [
    "convert_to = {\n",
    "    \"q01\": \"age\",\n",
    "    \"q02\": \"gender\",\n",
    "    \"q03\": \"geoscheme\",\n",
    "    \"q03_regional\": \"regional\",\n",
    "    \"q03_subregional\": \"subregional\",\n",
    "    \"q04\": \"geoscheme\",\n",
    "    \"q04_regional\": \"regional\",\n",
    "    \"q04_subregional\": \"subregional\",\n",
    "    \"q05\": \"job_title\",\n",
    "    \"q06\": \"research_group\",\n",
    "    \"q07\": \"research_field\",\n",
    "    \"q08\": \"research_years\",\n",
    "    \"q09\": \"yes_no\",\n",
    "    \"q11\": \"yes_no\",\n",
    "    \"q12_genderbalance\": \"good_poor\",\n",
    "    \"q12_diversity\": \"good_poor\",\n",
    "    \"q12_equity\": \"good_poor\",\n",
    "    \"q12_inclusion\": \"good_poor\",\n",
    "    \"q14\": \"good_poor\",\n",
    "    \"q17_genderbalance\": \"agree_disagree\",\n",
    "    \"q17_diversity\": \"agree_disagree\",\n",
    "    \"q17_equity\": \"agree_disagree\",\n",
    "    \"q17_inclusion\": \"agree_disagree\",\n",
    "    \"q19\": \"school\",\n",
    "}\n",
    "\n",
    "categories = config.categories\n",
    "for k, v in convert_to.items():\n",
    "    c = categories.get(v, \"category\")\n",
    "    data[k] = data[k].astype(c)\n",
    "\n",
    "# 別途追加\n",
    "data[\"q07\"] = data[\"q07\"].fillna(\"Others\")"
   ]
  },
  {
   "cell_type": "code",
   "execution_count": null,
   "metadata": {},
   "outputs": [],
   "source": [
    "# data.info()\n",
    "\n",
    "for k in convert_to.keys():\n",
    "    print(data[k].unique())"
   ]
  },
  {
   "cell_type": "markdown",
   "metadata": {},
   "source": [
    "自由記述の感情分析をする\n",
    "\n",
    "- 対象となるカラム: ``q15`` / ``q16`` / ``q18`` / ``q20`` / ``q21`` / ``q22``\n",
    "- 内容を分析して、ポジティブ、ニュートラル、ネガティブに分類する\n",
    "  - 文脈を判断するわけではないのが注意点 : https://qiita.com/K_Nemoto/items/28a817d57706d536d625\n",
    "```python\n",
    "$ python -m textblob.download_corpora\n",
    "[nltk_data] Downloading package brown to /Users/shotakaha/nltk_data...\n",
    "[nltk_data]   Unzipping corpora/brown.zip.\n",
    "[nltk_data] Downloading package punkt to /Users/shotakaha/nltk_data...\n",
    "[nltk_data]   Unzipping tokenizers/punkt.zip.\n",
    "[nltk_data] Downloading package wordnet to\n",
    "[nltk_data]     /Users/shotakaha/nltk_data...\n",
    "[nltk_data] Downloading package averaged_perceptron_tagger to\n",
    "[nltk_data]     /Users/shotakaha/nltk_data...\n",
    "[nltk_data]   Unzipping taggers/averaged_perceptron_tagger.zip.\n",
    "[nltk_data] Downloading package conll2000 to\n",
    "[nltk_data]     /Users/shotakaha/nltk_data...\n",
    "[nltk_data]   Unzipping corpora/conll2000.zip.\n",
    "[nltk_data] Downloading package movie_reviews to\n",
    "[nltk_data]     /Users/shotakaha/nltk_data...\n",
    "[nltk_data]   Unzipping corpora/movie_reviews.zip.\n",
    "Finished.\n",
    "``````"
   ]
  },
  {
   "cell_type": "code",
   "execution_count": null,
   "metadata": {},
   "outputs": [],
   "source": [
    "from textblob import TextBlob\n",
    "import numpy as np\n",
    "\n",
    "\n",
    "def sentiment_polarity(text):\n",
    "    try:\n",
    "        blob = TextBlob(text)\n",
    "        return blob.sentiment.polarity\n",
    "    except TypeError as e:\n",
    "        # print(e)\n",
    "        return np.nan\n",
    "\n",
    "\n",
    "def sentiment_subjectivity(text):\n",
    "    try:\n",
    "        blob = TextBlob(text)\n",
    "        return blob.sentiment.subjectivity\n",
    "    except TypeError as e:\n",
    "        # print(e)\n",
    "        return np.nan\n",
    "\n",
    "\n",
    "def translation(text):\n",
    "    try:\n",
    "        blob = TextBlob(text)\n",
    "        return blob.translate(from_lang=\"en\", to=\"ja\")\n",
    "    except (TypeError, AttributeError) as e:\n",
    "        print(e)\n",
    "        return np.nan"
   ]
  },
  {
   "cell_type": "code",
   "execution_count": null,
   "metadata": {},
   "outputs": [],
   "source": []
  }
 ],
 "metadata": {
  "kernelspec": {
   "display_name": ".venv",
   "language": "python",
   "name": "python3"
  },
  "language_info": {
   "codemirror_mode": {
    "name": "ipython",
    "version": 3
   },
   "file_extension": ".py",
   "mimetype": "text/x-python",
   "name": "python",
   "nbconvert_exporter": "python",
   "pygments_lexer": "ipython3",
   "version": "3.11.5"
  }
 },
 "nbformat": 4,
 "nbformat_minor": 2
}
