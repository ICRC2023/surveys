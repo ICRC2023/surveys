{
 "cells": [
  {
   "cell_type": "markdown",
   "metadata": {},
   "source": [
    "データの前処理\n",
    "\n",
    "1. ファイルを指定してデータを読み込む\n",
    "2. 回答ありのカラムを追加する\n",
    "3. タイムスタンプをdatetimeオブジェクトにする\n",
    "4. 国を大州と地域に分割する　←　カラムを追加する\n",
    "5. カラムをcategoryにする\n",
    "6. コメントのある／なしフラグを追加する　←　カラムを追加する\n",
    "7. （他にあれば追加する）\n",
    "8. ファイルをCSVで書き出す"
   ]
  },
  {
   "cell_type": "code",
   "execution_count": 1,
   "metadata": {},
   "outputs": [
    {
     "name": "stdout",
     "output_type": "stream",
     "text": [
      "Altair 5.0.1\n",
      "Pandas 2.0.3\n",
      "Textblob 0.17.1\n",
      "Titanite 0.1.2\n"
     ]
    }
   ],
   "source": [
    "from pathlib import Path\n",
    "import pandas as pd\n",
    "import altair as alt\n",
    "import textblob as tb\n",
    "import titanite as ti\n",
    "\n",
    "print(f\"Altair {alt.__version__}\")\n",
    "print(f\"Pandas {pd.__version__}\")\n",
    "print(f\"Textblob {tb.__version__}\")\n",
    "print(f\"Titanite {ti.__version__}\")"
   ]
  },
  {
   "cell_type": "markdown",
   "metadata": {},
   "source": [
    "設定ファイルを読み込む"
   ]
  },
  {
   "cell_type": "code",
   "execution_count": 2,
   "metadata": {},
   "outputs": [],
   "source": [
    "fname = \"../sandbox/config.toml\"\n",
    "config = ti.Config(fname=fname)\n",
    "config.load()\n",
    "# config.questions\n",
    "# config.choices\n",
    "# dir(config)"
   ]
  },
  {
   "cell_type": "markdown",
   "metadata": {},
   "source": [
    "データを読み込む"
   ]
  },
  {
   "cell_type": "code",
   "execution_count": 2,
   "metadata": {},
   "outputs": [],
   "source": [
    "fname = Path(\"../data/raw_data/20230715_icrc2023_diversity_presurvey_answers.csv\")\n",
    "data = pd.read_csv(fname, skiprows=1)\n",
    "data[\"response\"] = 1"
   ]
  },
  {
   "cell_type": "code",
   "execution_count": 3,
   "metadata": {},
   "outputs": [
    {
     "name": "stdout",
     "output_type": "stream",
     "text": [
      "<class 'pandas.core.frame.DataFrame'>\n",
      "RangeIndex: 260 entries, 0 to 259\n",
      "Data columns (total 30 columns):\n",
      " #   Column             Non-Null Count  Dtype  \n",
      "---  ------             --------------  -----  \n",
      " 0   timestamp          260 non-null    object \n",
      " 1   q1                 260 non-null    object \n",
      " 2   q2                 260 non-null    object \n",
      " 3   q3                 260 non-null    object \n",
      " 4   q4                 260 non-null    object \n",
      " 5   q5                 260 non-null    object \n",
      " 6   q6                 260 non-null    object \n",
      " 7   q7                 260 non-null    object \n",
      " 8   q8                 260 non-null    object \n",
      " 9   q9                 260 non-null    object \n",
      " 10  q10                260 non-null    float64\n",
      " 11  q11                260 non-null    object \n",
      " 12  q12_genderbalance  260 non-null    object \n",
      " 13  q12_diversity      260 non-null    object \n",
      " 14  q12_equity         260 non-null    object \n",
      " 15  q12_inclusion      260 non-null    object \n",
      " 16  q13                260 non-null    int64  \n",
      " 17  q14                260 non-null    object \n",
      " 18  q15                51 non-null     object \n",
      " 19  q16                51 non-null     object \n",
      " 20  q17_genderbalance  260 non-null    object \n",
      " 21  q17_diversity      260 non-null    object \n",
      " 22  q17_equity         260 non-null    object \n",
      " 23  q17_inclusion      260 non-null    object \n",
      " 24  q18                62 non-null     object \n",
      " 25  q19                260 non-null    object \n",
      " 26  q20                70 non-null     object \n",
      " 27  q21                84 non-null     object \n",
      " 28  q22                32 non-null     object \n",
      " 29  response           260 non-null    int64  \n",
      "dtypes: float64(1), int64(2), object(27)\n",
      "memory usage: 61.1+ KB\n"
     ]
    }
   ],
   "source": [
    "data.info()"
   ]
  },
  {
   "cell_type": "markdown",
   "metadata": {},
   "source": [
    "日付のカラムを``datetime``オブジェクトに変換する"
   ]
  },
  {
   "cell_type": "code",
   "execution_count": 4,
   "metadata": {},
   "outputs": [],
   "source": [
    "data[\"timestamp\"] = pd.to_datetime(data[\"timestamp\"])"
   ]
  },
  {
   "cell_type": "markdown",
   "metadata": {},
   "source": [
    "カラムの値を置換して整理する\n",
    "- \"regional\" が \"Prefer not to answer\" の場合、\"subregional\" も \"Prefer not to answer\"\n",
    "- \"regional\" が \"Oceania\" の場合、\"subregional\"も\"Oceania\"\n",
    "- \"No Interest\" を \"No interest\"に修正する"
   ]
  },
  {
   "cell_type": "code",
   "execution_count": 5,
   "metadata": {},
   "outputs": [],
   "source": [
    "data[\"q3\"] = data[\"q3\"].replace(\n",
    "    {\"Prefer not to answer\": \"Prefer not to answer / Prefer not to answer\",\n",
    "    \"Oceania\": \"Oceania / Oceania\"}\n",
    ")\n",
    "data[\"q4\"] = data[\"q4\"].replace(\n",
    "    {\"Prefer not to answer\": \"Prefer not to answer / Prefer not to answer\",\n",
    "    \"Oceania\": \"Oceania / Oceania\"}\n",
    ")\n",
    "data[\"q14\"] = data[\"q14\"].replace(\n",
    "    {\"No Interest\": \"No interest\"}\n",
    ")"
   ]
  },
  {
   "cell_type": "code",
   "execution_count": 6,
   "metadata": {},
   "outputs": [],
   "source": [
    "_q3 = data[\"q3\"].str.split(\"/\", expand=True)\n",
    "_q3[0] = _q3[0].str.strip()\n",
    "_q3[1] = _q3[1].str.strip()\n",
    "_q3 = _q3.rename(columns={0: \"q3_regional\", 1: \"q3_subregional\"})\n",
    "\n",
    "_q4 = data[\"q4\"].str.split(\"/\", expand=True)\n",
    "_q4[0] = _q4[0].str.strip()\n",
    "_q4[1] = _q4[1].str.strip()\n",
    "_q4 = _q4.rename(columns={0: \"q4_regional\", 1: \"q4_subregional\"})"
   ]
  },
  {
   "cell_type": "code",
   "execution_count": 7,
   "metadata": {},
   "outputs": [],
   "source": [
    "data = pd.concat([data, _q3], axis=1)\n",
    "data = pd.concat([data, _q4], axis=1)\n",
    "#data"
   ]
  },
  {
   "cell_type": "code",
   "execution_count": 9,
   "metadata": {},
   "outputs": [
    {
     "data": {
      "text/plain": [
       "Index(['timestamp', 'q1', 'q2', 'q3', 'q4', 'q5', 'q6', 'q7', 'q8', 'q9',\n",
       "       'q10', 'q11', 'q12_genderbalance', 'q12_diversity', 'q12_equity',\n",
       "       'q12_inclusion', 'q13', 'q14', 'q15', 'q16', 'q17_genderbalance',\n",
       "       'q17_diversity', 'q17_equity', 'q17_inclusion', 'q18', 'q19', 'q20',\n",
       "       'q21', 'q22', 'response', 'q3_regional', 'q3_subregional',\n",
       "       'q4_regional', 'q4_subregional'],\n",
       "      dtype='object')"
      ]
     },
     "execution_count": 9,
     "metadata": {},
     "output_type": "execute_result"
    }
   ],
   "source": [
    "data.columns"
   ]
  },
  {
   "cell_type": "code",
   "execution_count": 9,
   "metadata": {},
   "outputs": [
    {
     "data": {
      "text/plain": [
       "array([ 0. ,  7. ,  1. ,  4. ,  2. ,  3. ,  6. , 10. , -1. ,  8. ,  9. ,\n",
       "        0.5,  5. , 12. , 14. ,  0.1, 24. ])"
      ]
     },
     "execution_count": 9,
     "metadata": {},
     "output_type": "execute_result"
    }
   ],
   "source": [
    "data[\"q10\"].unique()"
   ]
  },
  {
   "cell_type": "code",
   "execution_count": 82,
   "metadata": {},
   "outputs": [
    {
     "data": {
      "text/html": [
       "\n",
       "<style>\n",
       "  #altair-viz-33bcd17609b941698e64484e505e5075.vega-embed {\n",
       "    width: 100%;\n",
       "    display: flex;\n",
       "  }\n",
       "\n",
       "  #altair-viz-33bcd17609b941698e64484e505e5075.vega-embed details,\n",
       "  #altair-viz-33bcd17609b941698e64484e505e5075.vega-embed details summary {\n",
       "    position: relative;\n",
       "  }\n",
       "</style>\n",
       "<div id=\"altair-viz-33bcd17609b941698e64484e505e5075\"></div>\n",
       "<script type=\"text/javascript\">\n",
       "  var VEGA_DEBUG = (typeof VEGA_DEBUG == \"undefined\") ? {} : VEGA_DEBUG;\n",
       "  (function(spec, embedOpt){\n",
       "    let outputDiv = document.currentScript.previousElementSibling;\n",
       "    if (outputDiv.id !== \"altair-viz-33bcd17609b941698e64484e505e5075\") {\n",
       "      outputDiv = document.getElementById(\"altair-viz-33bcd17609b941698e64484e505e5075\");\n",
       "    }\n",
       "    const paths = {\n",
       "      \"vega\": \"https://cdn.jsdelivr.net/npm/vega@5?noext\",\n",
       "      \"vega-lib\": \"https://cdn.jsdelivr.net/npm/vega-lib?noext\",\n",
       "      \"vega-lite\": \"https://cdn.jsdelivr.net/npm/vega-lite@5.8.0?noext\",\n",
       "      \"vega-embed\": \"https://cdn.jsdelivr.net/npm/vega-embed@6?noext\",\n",
       "    };\n",
       "\n",
       "    function maybeLoadScript(lib, version) {\n",
       "      var key = `${lib.replace(\"-\", \"\")}_version`;\n",
       "      return (VEGA_DEBUG[key] == version) ?\n",
       "        Promise.resolve(paths[lib]) :\n",
       "        new Promise(function(resolve, reject) {\n",
       "          var s = document.createElement('script');\n",
       "          document.getElementsByTagName(\"head\")[0].appendChild(s);\n",
       "          s.async = true;\n",
       "          s.onload = () => {\n",
       "            VEGA_DEBUG[key] = version;\n",
       "            return resolve(paths[lib]);\n",
       "          };\n",
       "          s.onerror = () => reject(`Error loading script: ${paths[lib]}`);\n",
       "          s.src = paths[lib];\n",
       "        });\n",
       "    }\n",
       "\n",
       "    function showError(err) {\n",
       "      outputDiv.innerHTML = `<div class=\"error\" style=\"color:red;\">${err}</div>`;\n",
       "      throw err;\n",
       "    }\n",
       "\n",
       "    function displayChart(vegaEmbed) {\n",
       "      vegaEmbed(outputDiv, spec, embedOpt)\n",
       "        .catch(err => showError(`Javascript Error: ${err.message}<br>This usually means there's a typo in your chart specification. See the javascript console for the full traceback.`));\n",
       "    }\n",
       "\n",
       "    if(typeof define === \"function\" && define.amd) {\n",
       "      requirejs.config({paths});\n",
       "      require([\"vega-embed\"], displayChart, err => showError(`Error loading script: ${err.message}`));\n",
       "    } else {\n",
       "      maybeLoadScript(\"vega\", \"5\")\n",
       "        .then(() => maybeLoadScript(\"vega-lite\", \"5.8.0\"))\n",
       "        .then(() => maybeLoadScript(\"vega-embed\", \"6\"))\n",
       "        .catch(showError)\n",
       "        .then(() => displayChart(vegaEmbed));\n",
       "    }\n",
       "  })({\"config\": {\"view\": {\"continuousWidth\": 300, \"continuousHeight\": 300}}, \"data\": {\"name\": \"data-b3f4636a8a0ad78101ed2b5b4c955ecf\"}, \"mark\": {\"type\": \"bar\"}, \"encoding\": {\"x\": {\"field\": \"q10\", \"sort\": [\"NA\", \"0\", \"1\", \"2\", \"3\", \"4\", \"5\", \"6\", \"7\", \"8\", \"9\", \"10\", \"11\", \"12\", \"13\", \"14\", \"15\", \"16\", \"17\", \"18\", \"19\", \"20\", \"21\", \"22\", \"23\", \"24\"], \"type\": \"ordinal\"}, \"y\": {\"aggregate\": \"count\", \"type\": \"quantitative\"}}, \"$schema\": \"https://vega.github.io/schema/vega-lite/v5.8.0.json\", \"datasets\": {\"data-b3f4636a8a0ad78101ed2b5b4c955ecf\": [{\"index\": 0, \"q10\": \"0\"}, {\"index\": 1, \"q10\": \"7\"}, {\"index\": 2, \"q10\": \"1\"}, {\"index\": 3, \"q10\": \"4\"}, {\"index\": 4, \"q10\": \"2\"}, {\"index\": 5, \"q10\": \"3\"}, {\"index\": 6, \"q10\": \"3\"}, {\"index\": 7, \"q10\": \"6\"}, {\"index\": 8, \"q10\": \"4\"}, {\"index\": 9, \"q10\": \"0\"}, {\"index\": 10, \"q10\": \"1\"}, {\"index\": 11, \"q10\": \"1\"}, {\"index\": 12, \"q10\": \"4\"}, {\"index\": 13, \"q10\": \"2\"}, {\"index\": 14, \"q10\": \"4\"}, {\"index\": 15, \"q10\": \"10\"}, {\"index\": 16, \"q10\": \"1\"}, {\"index\": 17, \"q10\": \"1\"}, {\"index\": 18, \"q10\": \"2\"}, {\"index\": 19, \"q10\": \"NA\"}, {\"index\": 20, \"q10\": \"8\"}, {\"index\": 21, \"q10\": \"2\"}, {\"index\": 22, \"q10\": \"4\"}, {\"index\": 23, \"q10\": \"1\"}, {\"index\": 24, \"q10\": \"1\"}, {\"index\": 25, \"q10\": \"9\"}, {\"index\": 26, \"q10\": \"1\"}, {\"index\": 27, \"q10\": \"4\"}, {\"index\": 28, \"q10\": \"NA\"}, {\"index\": 29, \"q10\": \"0\"}, {\"index\": 30, \"q10\": \"1\"}, {\"index\": 31, \"q10\": \"2\"}, {\"index\": 32, \"q10\": \"2\"}, {\"index\": 33, \"q10\": \"3\"}, {\"index\": 34, \"q10\": \"8\"}, {\"index\": 35, \"q10\": \"0\"}, {\"index\": 36, \"q10\": \"8\"}, {\"index\": 37, \"q10\": \"6\"}, {\"index\": 38, \"q10\": \"1\"}, {\"index\": 39, \"q10\": \"1\"}, {\"index\": 40, \"q10\": \"1\"}, {\"index\": 41, \"q10\": \"1\"}, {\"index\": 42, \"q10\": \"9\"}, {\"index\": 43, \"q10\": \"5\"}, {\"index\": 44, \"q10\": \"2\"}, {\"index\": 45, \"q10\": \"1\"}, {\"index\": 46, \"q10\": \"1\"}, {\"index\": 47, \"q10\": \"1\"}, {\"index\": 48, \"q10\": \"0\"}, {\"index\": 49, \"q10\": \"NA\"}, {\"index\": 50, \"q10\": \"2\"}, {\"index\": 51, \"q10\": \"2\"}, {\"index\": 52, \"q10\": \"NA\"}, {\"index\": 53, \"q10\": \"6\"}, {\"index\": 54, \"q10\": \"3\"}, {\"index\": 55, \"q10\": \"4\"}, {\"index\": 56, \"q10\": \"0\"}, {\"index\": 57, \"q10\": \"2\"}, {\"index\": 58, \"q10\": \"2\"}, {\"index\": 59, \"q10\": \"12\"}, {\"index\": 60, \"q10\": \"0\"}, {\"index\": 61, \"q10\": \"3\"}, {\"index\": 62, \"q10\": \"1\"}, {\"index\": 63, \"q10\": \"10\"}, {\"index\": 64, \"q10\": \"2\"}, {\"index\": 65, \"q10\": \"2\"}, {\"index\": 66, \"q10\": \"0\"}, {\"index\": 67, \"q10\": \"5\"}, {\"index\": 68, \"q10\": \"0\"}, {\"index\": 69, \"q10\": \"1\"}, {\"index\": 70, \"q10\": \"2\"}, {\"index\": 71, \"q10\": \"14\"}, {\"index\": 72, \"q10\": \"3\"}, {\"index\": 73, \"q10\": \"5\"}, {\"index\": 74, \"q10\": \"8\"}, {\"index\": 75, \"q10\": \"2\"}, {\"index\": 76, \"q10\": \"5\"}, {\"index\": 77, \"q10\": \"1\"}, {\"index\": 78, \"q10\": \"4\"}, {\"index\": 79, \"q10\": \"1\"}, {\"index\": 80, \"q10\": \"0\"}, {\"index\": 81, \"q10\": \"1\"}, {\"index\": 82, \"q10\": \"1\"}, {\"index\": 83, \"q10\": \"1\"}, {\"index\": 84, \"q10\": \"1\"}, {\"index\": 85, \"q10\": \"1\"}, {\"index\": 86, \"q10\": \"1\"}, {\"index\": 87, \"q10\": \"1\"}, {\"index\": 88, \"q10\": \"4\"}, {\"index\": 89, \"q10\": \"5\"}, {\"index\": 90, \"q10\": \"3\"}, {\"index\": 91, \"q10\": \"2\"}, {\"index\": 92, \"q10\": \"3\"}, {\"index\": 93, \"q10\": \"2\"}, {\"index\": 94, \"q10\": \"0\"}, {\"index\": 95, \"q10\": \"4\"}, {\"index\": 96, \"q10\": \"0\"}, {\"index\": 97, \"q10\": \"2\"}, {\"index\": 98, \"q10\": \"1\"}, {\"index\": 99, \"q10\": \"NA\"}, {\"index\": 100, \"q10\": \"6\"}, {\"index\": 101, \"q10\": \"2\"}, {\"index\": 102, \"q10\": \"1\"}, {\"index\": 103, \"q10\": \"NA\"}, {\"index\": 104, \"q10\": \"3\"}, {\"index\": 105, \"q10\": \"0\"}, {\"index\": 106, \"q10\": \"0\"}, {\"index\": 107, \"q10\": \"1\"}, {\"index\": 108, \"q10\": \"2\"}, {\"index\": 109, \"q10\": \"1\"}, {\"index\": 110, \"q10\": \"5\"}, {\"index\": 111, \"q10\": \"2\"}, {\"index\": 112, \"q10\": \"1\"}, {\"index\": 113, \"q10\": \"1\"}, {\"index\": 114, \"q10\": \"1\"}, {\"index\": 115, \"q10\": \"1\"}, {\"index\": 116, \"q10\": \"2\"}, {\"index\": 117, \"q10\": \"1\"}, {\"index\": 118, \"q10\": \"1\"}, {\"index\": 119, \"q10\": \"2\"}, {\"index\": 120, \"q10\": \"3\"}, {\"index\": 121, \"q10\": \"1\"}, {\"index\": 122, \"q10\": \"1\"}, {\"index\": 123, \"q10\": \"2\"}, {\"index\": 124, \"q10\": \"2\"}, {\"index\": 125, \"q10\": \"1\"}, {\"index\": 126, \"q10\": \"0\"}, {\"index\": 127, \"q10\": \"4\"}, {\"index\": 128, \"q10\": \"3\"}, {\"index\": 129, \"q10\": \"4\"}, {\"index\": 130, \"q10\": \"1\"}, {\"index\": 131, \"q10\": \"3\"}, {\"index\": 132, \"q10\": \"4\"}, {\"index\": 133, \"q10\": \"3\"}, {\"index\": 134, \"q10\": \"1\"}, {\"index\": 135, \"q10\": \"3\"}, {\"index\": 136, \"q10\": \"2\"}, {\"index\": 137, \"q10\": \"1\"}, {\"index\": 138, \"q10\": \"4\"}, {\"index\": 139, \"q10\": \"1\"}, {\"index\": 140, \"q10\": \"0\"}, {\"index\": 141, \"q10\": \"3\"}, {\"index\": 142, \"q10\": \"2\"}, {\"index\": 143, \"q10\": \"1\"}, {\"index\": 144, \"q10\": \"1\"}, {\"index\": 145, \"q10\": \"5\"}, {\"index\": 146, \"q10\": \"1\"}, {\"index\": 147, \"q10\": \"1\"}, {\"index\": 148, \"q10\": \"4\"}, {\"index\": 149, \"q10\": \"1\"}, {\"index\": 150, \"q10\": \"2\"}, {\"index\": 151, \"q10\": \"3\"}, {\"index\": 152, \"q10\": \"5\"}, {\"index\": 153, \"q10\": \"4\"}, {\"index\": 154, \"q10\": \"3\"}, {\"index\": 155, \"q10\": \"1\"}, {\"index\": 156, \"q10\": \"2\"}, {\"index\": 157, \"q10\": \"5\"}, {\"index\": 158, \"q10\": \"0\"}, {\"index\": 159, \"q10\": \"NA\"}, {\"index\": 160, \"q10\": \"NA\"}, {\"index\": 161, \"q10\": \"2\"}, {\"index\": 162, \"q10\": \"3\"}, {\"index\": 163, \"q10\": \"1\"}, {\"index\": 164, \"q10\": \"1\"}, {\"index\": 165, \"q10\": \"2\"}, {\"index\": 166, \"q10\": \"3\"}, {\"index\": 167, \"q10\": \"1\"}, {\"index\": 168, \"q10\": \"2\"}, {\"index\": 169, \"q10\": \"8\"}, {\"index\": 170, \"q10\": \"3\"}, {\"index\": 171, \"q10\": \"5\"}, {\"index\": 172, \"q10\": \"0\"}, {\"index\": 173, \"q10\": \"2\"}, {\"index\": 174, \"q10\": \"1\"}, {\"index\": 175, \"q10\": \"1\"}, {\"index\": 176, \"q10\": \"1\"}, {\"index\": 177, \"q10\": \"2\"}, {\"index\": 178, \"q10\": \"0\"}, {\"index\": 179, \"q10\": \"5\"}, {\"index\": 180, \"q10\": \"NA\"}, {\"index\": 181, \"q10\": \"NA\"}, {\"index\": 182, \"q10\": \"2\"}, {\"index\": 183, \"q10\": \"2\"}, {\"index\": 184, \"q10\": \"4\"}, {\"index\": 185, \"q10\": \"NA\"}, {\"index\": 186, \"q10\": \"2\"}, {\"index\": 187, \"q10\": \"2\"}, {\"index\": 188, \"q10\": \"4\"}, {\"index\": 189, \"q10\": \"3\"}, {\"index\": 190, \"q10\": \"0\"}, {\"index\": 191, \"q10\": \"2\"}, {\"index\": 192, \"q10\": \"1\"}, {\"index\": 193, \"q10\": \"0\"}, {\"index\": 194, \"q10\": \"5\"}, {\"index\": 195, \"q10\": \"3\"}, {\"index\": 196, \"q10\": \"1\"}, {\"index\": 197, \"q10\": \"1\"}, {\"index\": 198, \"q10\": \"2\"}, {\"index\": 199, \"q10\": \"NA\"}, {\"index\": 200, \"q10\": \"0\"}, {\"index\": 201, \"q10\": \"2\"}, {\"index\": 202, \"q10\": \"1\"}, {\"index\": 203, \"q10\": \"NA\"}, {\"index\": 204, \"q10\": \"3\"}, {\"index\": 205, \"q10\": \"1\"}, {\"index\": 206, \"q10\": \"1\"}, {\"index\": 207, \"q10\": \"2\"}, {\"index\": 208, \"q10\": \"8\"}, {\"index\": 209, \"q10\": \"2\"}, {\"index\": 210, \"q10\": \"12\"}, {\"index\": 211, \"q10\": \"2\"}, {\"index\": 212, \"q10\": \"2\"}, {\"index\": 213, \"q10\": \"1\"}, {\"index\": 214, \"q10\": \"4\"}, {\"index\": 215, \"q10\": \"2\"}, {\"index\": 216, \"q10\": \"3\"}, {\"index\": 217, \"q10\": \"1\"}, {\"index\": 218, \"q10\": \"5\"}, {\"index\": 219, \"q10\": \"2\"}, {\"index\": 220, \"q10\": \"24\"}, {\"index\": 221, \"q10\": \"1\"}, {\"index\": 222, \"q10\": \"1\"}, {\"index\": 223, \"q10\": \"1\"}, {\"index\": 224, \"q10\": \"4\"}, {\"index\": 225, \"q10\": \"1\"}, {\"index\": 226, \"q10\": \"NA\"}, {\"index\": 227, \"q10\": \"3\"}, {\"index\": 228, \"q10\": \"2\"}, {\"index\": 229, \"q10\": \"1\"}, {\"index\": 230, \"q10\": \"1\"}, {\"index\": 231, \"q10\": \"5\"}, {\"index\": 232, \"q10\": \"0\"}, {\"index\": 233, \"q10\": \"4\"}, {\"index\": 234, \"q10\": \"2\"}, {\"index\": 235, \"q10\": \"4\"}, {\"index\": 236, \"q10\": \"4\"}, {\"index\": 237, \"q10\": \"2\"}, {\"index\": 238, \"q10\": \"14\"}, {\"index\": 239, \"q10\": \"4\"}, {\"index\": 240, \"q10\": \"1\"}, {\"index\": 241, \"q10\": \"1\"}, {\"index\": 242, \"q10\": \"3\"}, {\"index\": 243, \"q10\": \"10\"}, {\"index\": 244, \"q10\": \"2\"}, {\"index\": 245, \"q10\": \"6\"}, {\"index\": 246, \"q10\": \"2\"}, {\"index\": 247, \"q10\": \"4\"}, {\"index\": 248, \"q10\": \"5\"}, {\"index\": 249, \"q10\": \"6\"}, {\"index\": 250, \"q10\": \"3\"}, {\"index\": 251, \"q10\": \"4\"}, {\"index\": 252, \"q10\": \"2\"}, {\"index\": 253, \"q10\": \"NA\"}, {\"index\": 254, \"q10\": \"6\"}, {\"index\": 255, \"q10\": \"1\"}, {\"index\": 256, \"q10\": \"2\"}, {\"index\": 257, \"q10\": \"3\"}, {\"index\": 258, \"q10\": \"3\"}, {\"index\": 259, \"q10\": \"2\"}]}}, {\"mode\": \"vega-lite\"});\n",
       "</script>"
      ],
      "text/plain": [
       "alt.Chart(...)"
      ]
     },
     "execution_count": 82,
     "metadata": {},
     "output_type": "execute_result"
    }
   ],
   "source": [
    "d = pd.cut(\n",
    "    data[\"q10\"],\n",
    "    range(-1, 26),\n",
    "    right=False,\n",
    "    labels=[\"NA\", \"0\", \"1\", \"2\", \"3\", \"4\", \"5\", \"6\", \"7\", \"8\", \"9\", \"10\", \"11\", \"12\", \"13\", \"14\", \"15\", \"16\", \"17\", \"18\", \"19\", \"20\", \"21\", \"22\", \"23\", \"24\"])\n",
    "alt.Chart(d.reset_index()).mark_bar().encode(x=\"q10\", y=\"count()\")"
   ]
  },
  {
   "cell_type": "code",
   "execution_count": 80,
   "metadata": {},
   "outputs": [
    {
     "data": {
      "text/html": [
       "\n",
       "<style>\n",
       "  #altair-viz-8e91df233cbf4955a0771b605afa89e3.vega-embed {\n",
       "    width: 100%;\n",
       "    display: flex;\n",
       "  }\n",
       "\n",
       "  #altair-viz-8e91df233cbf4955a0771b605afa89e3.vega-embed details,\n",
       "  #altair-viz-8e91df233cbf4955a0771b605afa89e3.vega-embed details summary {\n",
       "    position: relative;\n",
       "  }\n",
       "</style>\n",
       "<div id=\"altair-viz-8e91df233cbf4955a0771b605afa89e3\"></div>\n",
       "<script type=\"text/javascript\">\n",
       "  var VEGA_DEBUG = (typeof VEGA_DEBUG == \"undefined\") ? {} : VEGA_DEBUG;\n",
       "  (function(spec, embedOpt){\n",
       "    let outputDiv = document.currentScript.previousElementSibling;\n",
       "    if (outputDiv.id !== \"altair-viz-8e91df233cbf4955a0771b605afa89e3\") {\n",
       "      outputDiv = document.getElementById(\"altair-viz-8e91df233cbf4955a0771b605afa89e3\");\n",
       "    }\n",
       "    const paths = {\n",
       "      \"vega\": \"https://cdn.jsdelivr.net/npm/vega@5?noext\",\n",
       "      \"vega-lib\": \"https://cdn.jsdelivr.net/npm/vega-lib?noext\",\n",
       "      \"vega-lite\": \"https://cdn.jsdelivr.net/npm/vega-lite@5.8.0?noext\",\n",
       "      \"vega-embed\": \"https://cdn.jsdelivr.net/npm/vega-embed@6?noext\",\n",
       "    };\n",
       "\n",
       "    function maybeLoadScript(lib, version) {\n",
       "      var key = `${lib.replace(\"-\", \"\")}_version`;\n",
       "      return (VEGA_DEBUG[key] == version) ?\n",
       "        Promise.resolve(paths[lib]) :\n",
       "        new Promise(function(resolve, reject) {\n",
       "          var s = document.createElement('script');\n",
       "          document.getElementsByTagName(\"head\")[0].appendChild(s);\n",
       "          s.async = true;\n",
       "          s.onload = () => {\n",
       "            VEGA_DEBUG[key] = version;\n",
       "            return resolve(paths[lib]);\n",
       "          };\n",
       "          s.onerror = () => reject(`Error loading script: ${paths[lib]}`);\n",
       "          s.src = paths[lib];\n",
       "        });\n",
       "    }\n",
       "\n",
       "    function showError(err) {\n",
       "      outputDiv.innerHTML = `<div class=\"error\" style=\"color:red;\">${err}</div>`;\n",
       "      throw err;\n",
       "    }\n",
       "\n",
       "    function displayChart(vegaEmbed) {\n",
       "      vegaEmbed(outputDiv, spec, embedOpt)\n",
       "        .catch(err => showError(`Javascript Error: ${err.message}<br>This usually means there's a typo in your chart specification. See the javascript console for the full traceback.`));\n",
       "    }\n",
       "\n",
       "    if(typeof define === \"function\" && define.amd) {\n",
       "      requirejs.config({paths});\n",
       "      require([\"vega-embed\"], displayChart, err => showError(`Error loading script: ${err.message}`));\n",
       "    } else {\n",
       "      maybeLoadScript(\"vega\", \"5\")\n",
       "        .then(() => maybeLoadScript(\"vega-lite\", \"5.8.0\"))\n",
       "        .then(() => maybeLoadScript(\"vega-embed\", \"6\"))\n",
       "        .catch(showError)\n",
       "        .then(() => displayChart(vegaEmbed));\n",
       "    }\n",
       "  })({\"config\": {\"view\": {\"continuousWidth\": 300, \"continuousHeight\": 300}}, \"data\": {\"name\": \"data-fb7b23e84cc6766a0196847f21df154d\"}, \"mark\": {\"type\": \"bar\"}, \"encoding\": {\"x\": {\"field\": \"q13\", \"sort\": [\"NA\", \"0\", \"5\", \"10\", \"15\", \"20\", \"25\", \"30\", \"35\", \"40\", \"45\", \"50\", \"55\", \"60\", \"65\", \"70\", \"75\", \"80\", \"85\", \"90\", \"95\"], \"type\": \"ordinal\"}, \"y\": {\"aggregate\": \"count\", \"type\": \"quantitative\"}}, \"$schema\": \"https://vega.github.io/schema/vega-lite/v5.8.0.json\", \"datasets\": {\"data-fb7b23e84cc6766a0196847f21df154d\": [{\"index\": 0, \"q13\": \"30\"}, {\"index\": 1, \"q13\": \"5\"}, {\"index\": 2, \"q13\": \"10\"}, {\"index\": 3, \"q13\": \"10\"}, {\"index\": 4, \"q13\": \"0\"}, {\"index\": 5, \"q13\": \"40\"}, {\"index\": 6, \"q13\": \"5\"}, {\"index\": 7, \"q13\": \"0\"}, {\"index\": 8, \"q13\": \"25\"}, {\"index\": 9, \"q13\": \"60\"}, {\"index\": 10, \"q13\": \"5\"}, {\"index\": 11, \"q13\": \"30\"}, {\"index\": 12, \"q13\": \"25\"}, {\"index\": 13, \"q13\": \"0\"}, {\"index\": 14, \"q13\": \"25\"}, {\"index\": 15, \"q13\": \"5\"}, {\"index\": 16, \"q13\": \"30\"}, {\"index\": 17, \"q13\": \"0\"}, {\"index\": 18, \"q13\": \"10\"}, {\"index\": 19, \"q13\": \"20\"}, {\"index\": 20, \"q13\": \"20\"}, {\"index\": 21, \"q13\": \"10\"}, {\"index\": 22, \"q13\": \"10\"}, {\"index\": 23, \"q13\": \"20\"}, {\"index\": 24, \"q13\": \"30\"}, {\"index\": 25, \"q13\": \"10\"}, {\"index\": 26, \"q13\": \"10\"}, {\"index\": 27, \"q13\": \"20\"}, {\"index\": 28, \"q13\": \"20\"}, {\"index\": 29, \"q13\": \"10\"}, {\"index\": 30, \"q13\": \"30\"}, {\"index\": 31, \"q13\": \"80\"}, {\"index\": 32, \"q13\": \"20\"}, {\"index\": 33, \"q13\": \"10\"}, {\"index\": 34, \"q13\": \"30\"}, {\"index\": 35, \"q13\": \"0\"}, {\"index\": 36, \"q13\": \"30\"}, {\"index\": 37, \"q13\": \"0\"}, {\"index\": 38, \"q13\": \"35\"}, {\"index\": 39, \"q13\": \"25\"}, {\"index\": 40, \"q13\": \"60\"}, {\"index\": 41, \"q13\": \"15\"}, {\"index\": 42, \"q13\": \"5\"}, {\"index\": 43, \"q13\": \"40\"}, {\"index\": 44, \"q13\": \"15\"}, {\"index\": 45, \"q13\": \"15\"}, {\"index\": 46, \"q13\": \"20\"}, {\"index\": 47, \"q13\": \"30\"}, {\"index\": 48, \"q13\": \"30\"}, {\"index\": 49, \"q13\": \"40\"}, {\"index\": 50, \"q13\": \"20\"}, {\"index\": 51, \"q13\": \"25\"}, {\"index\": 52, \"q13\": \"30\"}, {\"index\": 53, \"q13\": \"10\"}, {\"index\": 54, \"q13\": \"30\"}, {\"index\": 55, \"q13\": \"30\"}, {\"index\": 56, \"q13\": \"5\"}, {\"index\": 57, \"q13\": \"40\"}, {\"index\": 58, \"q13\": \"25\"}, {\"index\": 59, \"q13\": \"20\"}, {\"index\": 60, \"q13\": \"0\"}, {\"index\": 61, \"q13\": \"10\"}, {\"index\": 62, \"q13\": \"50\"}, {\"index\": 63, \"q13\": \"60\"}, {\"index\": 64, \"q13\": \"15\"}, {\"index\": 65, \"q13\": \"65\"}, {\"index\": 66, \"q13\": \"40\"}, {\"index\": 67, \"q13\": \"10\"}, {\"index\": 68, \"q13\": \"20\"}, {\"index\": 69, \"q13\": \"10\"}, {\"index\": 70, \"q13\": \"20\"}, {\"index\": 71, \"q13\": \"0\"}, {\"index\": 72, \"q13\": \"30\"}, {\"index\": 73, \"q13\": \"35\"}, {\"index\": 74, \"q13\": \"25\"}, {\"index\": 75, \"q13\": \"40\"}, {\"index\": 76, \"q13\": \"20\"}, {\"index\": 77, \"q13\": \"40\"}, {\"index\": 78, \"q13\": \"20\"}, {\"index\": 79, \"q13\": \"0\"}, {\"index\": 80, \"q13\": \"30\"}, {\"index\": 81, \"q13\": \"50\"}, {\"index\": 82, \"q13\": \"0\"}, {\"index\": 83, \"q13\": \"50\"}, {\"index\": 84, \"q13\": \"0\"}, {\"index\": 85, \"q13\": \"50\"}, {\"index\": 86, \"q13\": \"20\"}, {\"index\": 87, \"q13\": \"20\"}, {\"index\": 88, \"q13\": \"20\"}, {\"index\": 89, \"q13\": \"30\"}, {\"index\": 90, \"q13\": \"20\"}, {\"index\": 91, \"q13\": \"30\"}, {\"index\": 92, \"q13\": \"30\"}, {\"index\": 93, \"q13\": \"45\"}, {\"index\": 94, \"q13\": \"25\"}, {\"index\": 95, \"q13\": \"30\"}, {\"index\": 96, \"q13\": \"0\"}, {\"index\": 97, \"q13\": \"60\"}, {\"index\": 98, \"q13\": \"20\"}, {\"index\": 99, \"q13\": \"25\"}, {\"index\": 100, \"q13\": \"NA\"}, {\"index\": 101, \"q13\": \"5\"}, {\"index\": 102, \"q13\": \"10\"}, {\"index\": 103, \"q13\": \"10\"}, {\"index\": 104, \"q13\": \"20\"}, {\"index\": 105, \"q13\": \"20\"}, {\"index\": 106, \"q13\": \"25\"}, {\"index\": 107, \"q13\": \"20\"}, {\"index\": 108, \"q13\": \"25\"}, {\"index\": 109, \"q13\": \"30\"}, {\"index\": 110, \"q13\": \"35\"}, {\"index\": 111, \"q13\": \"40\"}, {\"index\": 112, \"q13\": \"25\"}, {\"index\": 113, \"q13\": \"40\"}, {\"index\": 114, \"q13\": \"10\"}, {\"index\": 115, \"q13\": \"65\"}, {\"index\": 116, \"q13\": \"30\"}, {\"index\": 117, \"q13\": \"45\"}, {\"index\": 118, \"q13\": \"10\"}, {\"index\": 119, \"q13\": \"10\"}, {\"index\": 120, \"q13\": \"35\"}, {\"index\": 121, \"q13\": \"25\"}, {\"index\": 122, \"q13\": \"50\"}, {\"index\": 123, \"q13\": \"40\"}, {\"index\": 124, \"q13\": \"15\"}, {\"index\": 125, \"q13\": \"50\"}, {\"index\": 126, \"q13\": \"20\"}, {\"index\": 127, \"q13\": \"40\"}, {\"index\": 128, \"q13\": \"30\"}, {\"index\": 129, \"q13\": \"20\"}, {\"index\": 130, \"q13\": \"25\"}, {\"index\": 131, \"q13\": \"30\"}, {\"index\": 132, \"q13\": \"25\"}, {\"index\": 133, \"q13\": \"30\"}, {\"index\": 134, \"q13\": \"20\"}, {\"index\": 135, \"q13\": \"60\"}, {\"index\": 136, \"q13\": \"15\"}, {\"index\": 137, \"q13\": \"30\"}, {\"index\": 138, \"q13\": \"50\"}, {\"index\": 139, \"q13\": \"35\"}, {\"index\": 140, \"q13\": \"20\"}, {\"index\": 141, \"q13\": \"20\"}, {\"index\": 142, \"q13\": \"30\"}, {\"index\": 143, \"q13\": \"60\"}, {\"index\": 144, \"q13\": \"20\"}, {\"index\": 145, \"q13\": \"5\"}, {\"index\": 146, \"q13\": \"50\"}, {\"index\": 147, \"q13\": \"70\"}, {\"index\": 148, \"q13\": \"0\"}, {\"index\": 149, \"q13\": \"75\"}, {\"index\": 150, \"q13\": \"50\"}, {\"index\": 151, \"q13\": \"15\"}, {\"index\": 152, \"q13\": \"10\"}, {\"index\": 153, \"q13\": \"20\"}, {\"index\": 154, \"q13\": \"35\"}, {\"index\": 155, \"q13\": \"10\"}, {\"index\": 156, \"q13\": \"10\"}, {\"index\": 157, \"q13\": \"0\"}, {\"index\": 158, \"q13\": \"50\"}, {\"index\": 159, \"q13\": \"30\"}, {\"index\": 160, \"q13\": \"20\"}, {\"index\": 161, \"q13\": \"20\"}, {\"index\": 162, \"q13\": \"40\"}, {\"index\": 163, \"q13\": \"5\"}, {\"index\": 164, \"q13\": \"25\"}, {\"index\": 165, \"q13\": \"40\"}, {\"index\": 166, \"q13\": \"NA\"}, {\"index\": 167, \"q13\": \"15\"}, {\"index\": 168, \"q13\": \"15\"}, {\"index\": 169, \"q13\": \"30\"}, {\"index\": 170, \"q13\": \"30\"}, {\"index\": 171, \"q13\": \"40\"}, {\"index\": 172, \"q13\": \"25\"}, {\"index\": 173, \"q13\": \"25\"}, {\"index\": 174, \"q13\": \"20\"}, {\"index\": 175, \"q13\": \"0\"}, {\"index\": 176, \"q13\": \"20\"}, {\"index\": 177, \"q13\": \"45\"}, {\"index\": 178, \"q13\": \"0\"}, {\"index\": 179, \"q13\": \"20\"}, {\"index\": 180, \"q13\": \"0\"}, {\"index\": 181, \"q13\": \"30\"}, {\"index\": 182, \"q13\": \"20\"}, {\"index\": 183, \"q13\": \"30\"}, {\"index\": 184, \"q13\": \"20\"}, {\"index\": 185, \"q13\": \"30\"}, {\"index\": 186, \"q13\": \"30\"}, {\"index\": 187, \"q13\": \"50\"}, {\"index\": 188, \"q13\": \"25\"}, {\"index\": 189, \"q13\": \"40\"}, {\"index\": 190, \"q13\": \"40\"}, {\"index\": 191, \"q13\": \"NA\"}, {\"index\": 192, \"q13\": \"10\"}, {\"index\": 193, \"q13\": \"25\"}, {\"index\": 194, \"q13\": \"20\"}, {\"index\": 195, \"q13\": \"20\"}, {\"index\": 196, \"q13\": \"30\"}, {\"index\": 197, \"q13\": \"25\"}, {\"index\": 198, \"q13\": \"35\"}, {\"index\": 199, \"q13\": \"30\"}, {\"index\": 200, \"q13\": \"30\"}, {\"index\": 201, \"q13\": \"0\"}, {\"index\": 202, \"q13\": \"30\"}, {\"index\": 203, \"q13\": \"20\"}, {\"index\": 204, \"q13\": \"20\"}, {\"index\": 205, \"q13\": \"20\"}, {\"index\": 206, \"q13\": \"50\"}, {\"index\": 207, \"q13\": \"40\"}, {\"index\": 208, \"q13\": \"20\"}, {\"index\": 209, \"q13\": \"20\"}, {\"index\": 210, \"q13\": \"15\"}, {\"index\": 211, \"q13\": \"50\"}, {\"index\": 212, \"q13\": \"40\"}, {\"index\": 213, \"q13\": \"50\"}, {\"index\": 214, \"q13\": \"20\"}, {\"index\": 215, \"q13\": \"15\"}, {\"index\": 216, \"q13\": \"20\"}, {\"index\": 217, \"q13\": \"25\"}, {\"index\": 218, \"q13\": \"30\"}, {\"index\": 219, \"q13\": \"20\"}, {\"index\": 220, \"q13\": \"80\"}, {\"index\": 221, \"q13\": \"15\"}, {\"index\": 222, \"q13\": \"50\"}, {\"index\": 223, \"q13\": \"NA\"}, {\"index\": 224, \"q13\": \"30\"}, {\"index\": 225, \"q13\": \"35\"}, {\"index\": 226, \"q13\": \"25\"}, {\"index\": 227, \"q13\": \"30\"}, {\"index\": 228, \"q13\": \"10\"}, {\"index\": 229, \"q13\": \"40\"}, {\"index\": 230, \"q13\": \"55\"}, {\"index\": 231, \"q13\": null}, {\"index\": 232, \"q13\": \"0\"}, {\"index\": 233, \"q13\": \"40\"}, {\"index\": 234, \"q13\": \"10\"}, {\"index\": 235, \"q13\": \"30\"}, {\"index\": 236, \"q13\": \"50\"}, {\"index\": 237, \"q13\": \"75\"}, {\"index\": 238, \"q13\": \"25\"}, {\"index\": 239, \"q13\": \"30\"}, {\"index\": 240, \"q13\": \"20\"}, {\"index\": 241, \"q13\": \"10\"}, {\"index\": 242, \"q13\": \"20\"}, {\"index\": 243, \"q13\": \"50\"}, {\"index\": 244, \"q13\": \"30\"}, {\"index\": 245, \"q13\": \"40\"}, {\"index\": 246, \"q13\": \"30\"}, {\"index\": 247, \"q13\": \"50\"}, {\"index\": 248, \"q13\": \"70\"}, {\"index\": 249, \"q13\": \"30\"}, {\"index\": 250, \"q13\": \"0\"}, {\"index\": 251, \"q13\": \"20\"}, {\"index\": 252, \"q13\": \"35\"}, {\"index\": 253, \"q13\": \"NA\"}, {\"index\": 254, \"q13\": \"40\"}, {\"index\": 255, \"q13\": \"60\"}, {\"index\": 256, \"q13\": \"0\"}, {\"index\": 257, \"q13\": \"10\"}, {\"index\": 258, \"q13\": \"50\"}, {\"index\": 259, \"q13\": \"40\"}]}}, {\"mode\": \"vega-lite\"});\n",
       "</script>"
      ],
      "text/plain": [
       "alt.Chart(...)"
      ]
     },
     "execution_count": 80,
     "metadata": {},
     "output_type": "execute_result"
    }
   ],
   "source": [
    "#data[\"q13\"].value_counts()\n",
    "#d = pd.cut(data[\"q13\"], [-1, 0, 10, 20, 30, 40, 50, 60, 70, 80, 90, 100], right=False, labels=[\"NA\", \"0\", \"10\", \"20\", \"30\", \"40\", \"50\", \"60\", \"70\", \"80\", \"90\"])\n",
    "d = pd.cut(\n",
    "    data[\"q13\"],\n",
    "    [-1, 0, 5, 10, 15, 20, 25, 30, 35, 40, 45, 50, 55, 60, 65, 70, 75, 80, 85, 90, 95, 100],\n",
    "    right=False,\n",
    "    labels=[\"NA\", \"0\", \"5\", \"10\", \"15\", \"20\", \"25\", \"30\", \"35\", \"40\", \"45\", \"50\", \"55\", \"60\", \"65\", \"70\", \"75\", \"80\", \"85\", \"90\", \"95\"])\n",
    "d.reset_index()\n",
    "alt.Chart(d.reset_index()).mark_bar().encode(x=\"q13\", y=\"count()\")"
   ]
  },
  {
   "cell_type": "markdown",
   "metadata": {},
   "source": [
    "カテゴリー型に変換する"
   ]
  },
  {
   "cell_type": "code",
   "execution_count": 10,
   "metadata": {},
   "outputs": [],
   "source": [
    "category = config.categories()\n",
    "data[\"q1\"] = data[\"q1\"].astype(category[\"age\"])\n",
    "data[\"q2\"] = data[\"q2\"].astype(category[\"gender\"])\n",
    "data[\"q3\"] = data[\"q3\"].astype(category[\"geoscheme\"])\n",
    "data[\"q3_regional\"] = data[\"q3_regional\"].astype(category[\"regional\"])\n",
    "data[\"q3_subregional\"] = data[\"q3_subregional\"].astype(category[\"subregional\"])\n",
    "data[\"q4\"] = data[\"q4\"].astype(category[\"geoscheme\"])\n",
    "data[\"q4_regional\"] = data[\"q4_regional\"].astype(category[\"regional\"])\n",
    "data[\"q4_subregional\"] = data[\"q4_subregional\"].astype(category[\"subregional\"])\n",
    "data[\"q5\"] = data[\"q5\"].astype(category[\"job_title\"])\n",
    "data[\"q6\"] = data[\"q6\"].astype(category[\"research_group\"])\n",
    "data[\"q7\"] = data[\"q7\"].astype(category[\"research_field\"])\n",
    "data[\"q8\"] = data[\"q8\"].astype(category[\"research_years\"])\n",
    "data[\"q9\"] = data[\"q9\"].astype(category[\"yes_no\"])\n",
    "# data[\"q10\"]\n",
    "data[\"q11\"] = data[\"q11\"].astype(category[\"yes_no\"])\n",
    "data[\"q12_genderbalance\"] = data[\"q12_genderbalance\"].astype(category[\"good_poor\"])\n",
    "data[\"q12_diversity\"] = data[\"q12_diversity\"].astype(category[\"good_poor\"])\n",
    "data[\"q12_equity\"] = data[\"q12_equity\"].astype(category[\"good_poor\"])\n",
    "data[\"q12_inclusion\"] = data[\"q12_inclusion\"].astype(category[\"good_poor\"])\n",
    "# data[\"q13\"]\n",
    "data[\"q14\"] = data[\"q14\"].astype(category[\"good_poor\"])\n",
    "# data[\"q15\"]\n",
    "# data[\"q16\"]\n",
    "data[\"q17_genderbalance\"] = data[\"q17_genderbalance\"].astype(category[\"agree_disagree\"])\n",
    "data[\"q17_diversity\"] = data[\"q17_diversity\"].astype(category[\"agree_disagree\"])\n",
    "data[\"q17_equity\"] = data[\"q17_equity\"].astype(category[\"agree_disagree\"])\n",
    "data[\"q17_inclusion\"] = data[\"q17_inclusion\"].astype(category[\"agree_disagree\"])\n",
    "# data[\"q18\"]\n",
    "data[\"q19\"] = data[\"q19\"].astype(category[\"school\"])\n",
    "# data[\"q20\"]\n",
    "# data[\"q21\"]\n",
    "# data[\"q22\"]"
   ]
  },
  {
   "cell_type": "markdown",
   "metadata": {},
   "source": [
    "自由記述の感情分析をする\n",
    "\n",
    "- 対象となるカラム: ``q15`` / ``q16`` / ``q18`` / ``q20`` / ``q21`` / ``q22``\n",
    "- 内容を分析して、ポジティブ、ニュートラル、ネガティブに分類する\n",
    "  - 文脈を判断するわけではないのが注意点 : https://qiita.com/K_Nemoto/items/28a817d57706d536d625\n",
    "```python\n",
    "$ python -m textblob.download_corpora\n",
    "[nltk_data] Downloading package brown to /Users/shotakaha/nltk_data...\n",
    "[nltk_data]   Unzipping corpora/brown.zip.\n",
    "[nltk_data] Downloading package punkt to /Users/shotakaha/nltk_data...\n",
    "[nltk_data]   Unzipping tokenizers/punkt.zip.\n",
    "[nltk_data] Downloading package wordnet to\n",
    "[nltk_data]     /Users/shotakaha/nltk_data...\n",
    "[nltk_data] Downloading package averaged_perceptron_tagger to\n",
    "[nltk_data]     /Users/shotakaha/nltk_data...\n",
    "[nltk_data]   Unzipping taggers/averaged_perceptron_tagger.zip.\n",
    "[nltk_data] Downloading package conll2000 to\n",
    "[nltk_data]     /Users/shotakaha/nltk_data...\n",
    "[nltk_data]   Unzipping corpora/conll2000.zip.\n",
    "[nltk_data] Downloading package movie_reviews to\n",
    "[nltk_data]     /Users/shotakaha/nltk_data...\n",
    "[nltk_data]   Unzipping corpora/movie_reviews.zip.\n",
    "Finished.\n",
    "``````"
   ]
  },
  {
   "cell_type": "code",
   "execution_count": 21,
   "metadata": {},
   "outputs": [],
   "source": [
    "from textblob import TextBlob\n",
    "import numpy as np\n",
    "def sentiment_polarity(text):\n",
    "    try:\n",
    "        blob = TextBlob(text)\n",
    "        return blob.sentiment.polarity\n",
    "    except TypeError as e:\n",
    "        #print(e)\n",
    "        return np.nan\n",
    "    \n",
    "def sentiment_subjectivity(text):\n",
    "    try:\n",
    "        blob = TextBlob(text)\n",
    "        return blob.sentiment.subjectivity\n",
    "    except TypeError as e:\n",
    "        # print(e)\n",
    "        return np.nan\n",
    "    \n",
    "def translation(text):\n",
    "    try:\n",
    "        blob = TextBlob(text)\n",
    "        return blob.translate(from_lang=\"en\", to=\"ja\")\n",
    "    except (TypeError, AttributeError) as e:\n",
    "        print(e)\n",
    "        return np.nan\n",
    "    "
   ]
  },
  {
   "cell_type": "code",
   "execution_count": 22,
   "metadata": {},
   "outputs": [
    {
     "name": "stdout",
     "output_type": "stream",
     "text": [
      "The `text` argument passed to `__init__(text)` must be a string, not <class 'float'>\n",
      "The `text` argument passed to `__init__(text)` must be a string, not <class 'float'>\n",
      "The `text` argument passed to `__init__(text)` must be a string, not <class 'float'>\n",
      "The `text` argument passed to `__init__(text)` must be a string, not <class 'float'>\n",
      "The `text` argument passed to `__init__(text)` must be a string, not <class 'float'>\n",
      "The `text` argument passed to `__init__(text)` must be a string, not <class 'float'>\n",
      "The `text` argument passed to `__init__(text)` must be a string, not <class 'float'>\n",
      "The `text` argument passed to `__init__(text)` must be a string, not <class 'float'>\n",
      "The `text` argument passed to `__init__(text)` must be a string, not <class 'float'>\n",
      "The `text` argument passed to `__init__(text)` must be a string, not <class 'float'>\n",
      "The `text` argument passed to `__init__(text)` must be a string, not <class 'float'>\n",
      "The `text` argument passed to `__init__(text)` must be a string, not <class 'float'>\n",
      "The `text` argument passed to `__init__(text)` must be a string, not <class 'float'>\n",
      "The `text` argument passed to `__init__(text)` must be a string, not <class 'float'>\n",
      "The `text` argument passed to `__init__(text)` must be a string, not <class 'float'>\n",
      "The `text` argument passed to `__init__(text)` must be a string, not <class 'float'>\n",
      "The `text` argument passed to `__init__(text)` must be a string, not <class 'float'>\n",
      "The `text` argument passed to `__init__(text)` must be a string, not <class 'float'>\n",
      "The `text` argument passed to `__init__(text)` must be a string, not <class 'float'>\n",
      "The `text` argument passed to `__init__(text)` must be a string, not <class 'float'>\n",
      "The `text` argument passed to `__init__(text)` must be a string, not <class 'float'>\n",
      "The `text` argument passed to `__init__(text)` must be a string, not <class 'float'>\n",
      "The `text` argument passed to `__init__(text)` must be a string, not <class 'float'>\n",
      "The `text` argument passed to `__init__(text)` must be a string, not <class 'float'>\n",
      "The `text` argument passed to `__init__(text)` must be a string, not <class 'float'>\n",
      "The `text` argument passed to `__init__(text)` must be a string, not <class 'float'>\n",
      "The `text` argument passed to `__init__(text)` must be a string, not <class 'float'>\n",
      "The `text` argument passed to `__init__(text)` must be a string, not <class 'float'>\n",
      "The `text` argument passed to `__init__(text)` must be a string, not <class 'float'>\n",
      "The `text` argument passed to `__init__(text)` must be a string, not <class 'float'>\n",
      "The `text` argument passed to `__init__(text)` must be a string, not <class 'float'>\n",
      "The `text` argument passed to `__init__(text)` must be a string, not <class 'float'>\n",
      "The `text` argument passed to `__init__(text)` must be a string, not <class 'float'>\n",
      "The `text` argument passed to `__init__(text)` must be a string, not <class 'float'>\n",
      "The `text` argument passed to `__init__(text)` must be a string, not <class 'float'>\n",
      "The `text` argument passed to `__init__(text)` must be a string, not <class 'float'>\n",
      "The `text` argument passed to `__init__(text)` must be a string, not <class 'float'>\n",
      "The `text` argument passed to `__init__(text)` must be a string, not <class 'float'>\n",
      "The `text` argument passed to `__init__(text)` must be a string, not <class 'float'>\n",
      "The `text` argument passed to `__init__(text)` must be a string, not <class 'float'>\n",
      "The `text` argument passed to `__init__(text)` must be a string, not <class 'float'>\n",
      "The `text` argument passed to `__init__(text)` must be a string, not <class 'float'>\n",
      "The `text` argument passed to `__init__(text)` must be a string, not <class 'float'>\n",
      "The `text` argument passed to `__init__(text)` must be a string, not <class 'float'>\n",
      "The `text` argument passed to `__init__(text)` must be a string, not <class 'float'>\n",
      "The `text` argument passed to `__init__(text)` must be a string, not <class 'float'>\n",
      "The `text` argument passed to `__init__(text)` must be a string, not <class 'float'>\n",
      "The `text` argument passed to `__init__(text)` must be a string, not <class 'float'>\n",
      "The `text` argument passed to `__init__(text)` must be a string, not <class 'float'>\n",
      "The `text` argument passed to `__init__(text)` must be a string, not <class 'float'>\n",
      "The `text` argument passed to `__init__(text)` must be a string, not <class 'float'>\n",
      "The `text` argument passed to `__init__(text)` must be a string, not <class 'float'>\n",
      "The `text` argument passed to `__init__(text)` must be a string, not <class 'float'>\n",
      "The `text` argument passed to `__init__(text)` must be a string, not <class 'float'>\n",
      "The `text` argument passed to `__init__(text)` must be a string, not <class 'float'>\n",
      "The `text` argument passed to `__init__(text)` must be a string, not <class 'float'>\n",
      "The `text` argument passed to `__init__(text)` must be a string, not <class 'float'>\n",
      "The `text` argument passed to `__init__(text)` must be a string, not <class 'float'>\n",
      "The `text` argument passed to `__init__(text)` must be a string, not <class 'float'>\n",
      "The `text` argument passed to `__init__(text)` must be a string, not <class 'float'>\n",
      "The `text` argument passed to `__init__(text)` must be a string, not <class 'float'>\n",
      "The `text` argument passed to `__init__(text)` must be a string, not <class 'float'>\n",
      "The `text` argument passed to `__init__(text)` must be a string, not <class 'float'>\n",
      "The `text` argument passed to `__init__(text)` must be a string, not <class 'float'>\n",
      "The `text` argument passed to `__init__(text)` must be a string, not <class 'float'>\n",
      "The `text` argument passed to `__init__(text)` must be a string, not <class 'float'>\n",
      "The `text` argument passed to `__init__(text)` must be a string, not <class 'float'>\n",
      "The `text` argument passed to `__init__(text)` must be a string, not <class 'float'>\n",
      "The `text` argument passed to `__init__(text)` must be a string, not <class 'float'>\n",
      "The `text` argument passed to `__init__(text)` must be a string, not <class 'float'>\n",
      "The `text` argument passed to `__init__(text)` must be a string, not <class 'float'>\n",
      "The `text` argument passed to `__init__(text)` must be a string, not <class 'float'>\n",
      "The `text` argument passed to `__init__(text)` must be a string, not <class 'float'>\n",
      "The `text` argument passed to `__init__(text)` must be a string, not <class 'float'>\n",
      "The `text` argument passed to `__init__(text)` must be a string, not <class 'float'>\n",
      "The `text` argument passed to `__init__(text)` must be a string, not <class 'float'>\n",
      "The `text` argument passed to `__init__(text)` must be a string, not <class 'float'>\n",
      "The `text` argument passed to `__init__(text)` must be a string, not <class 'float'>\n",
      "The `text` argument passed to `__init__(text)` must be a string, not <class 'float'>\n",
      "The `text` argument passed to `__init__(text)` must be a string, not <class 'float'>\n",
      "The `text` argument passed to `__init__(text)` must be a string, not <class 'float'>\n",
      "The `text` argument passed to `__init__(text)` must be a string, not <class 'float'>\n",
      "The `text` argument passed to `__init__(text)` must be a string, not <class 'float'>\n",
      "The `text` argument passed to `__init__(text)` must be a string, not <class 'float'>\n",
      "The `text` argument passed to `__init__(text)` must be a string, not <class 'float'>\n",
      "The `text` argument passed to `__init__(text)` must be a string, not <class 'float'>\n",
      "The `text` argument passed to `__init__(text)` must be a string, not <class 'float'>\n",
      "The `text` argument passed to `__init__(text)` must be a string, not <class 'float'>\n",
      "The `text` argument passed to `__init__(text)` must be a string, not <class 'float'>\n",
      "The `text` argument passed to `__init__(text)` must be a string, not <class 'float'>\n",
      "The `text` argument passed to `__init__(text)` must be a string, not <class 'float'>\n",
      "The `text` argument passed to `__init__(text)` must be a string, not <class 'float'>\n",
      "The `text` argument passed to `__init__(text)` must be a string, not <class 'float'>\n",
      "The `text` argument passed to `__init__(text)` must be a string, not <class 'float'>\n",
      "The `text` argument passed to `__init__(text)` must be a string, not <class 'float'>\n",
      "The `text` argument passed to `__init__(text)` must be a string, not <class 'float'>\n",
      "The `text` argument passed to `__init__(text)` must be a string, not <class 'float'>\n",
      "The `text` argument passed to `__init__(text)` must be a string, not <class 'float'>\n",
      "The `text` argument passed to `__init__(text)` must be a string, not <class 'float'>\n",
      "The `text` argument passed to `__init__(text)` must be a string, not <class 'float'>\n",
      "The `text` argument passed to `__init__(text)` must be a string, not <class 'float'>\n",
      "The `text` argument passed to `__init__(text)` must be a string, not <class 'float'>\n",
      "The `text` argument passed to `__init__(text)` must be a string, not <class 'float'>\n",
      "The `text` argument passed to `__init__(text)` must be a string, not <class 'float'>\n",
      "The `text` argument passed to `__init__(text)` must be a string, not <class 'float'>\n",
      "The `text` argument passed to `__init__(text)` must be a string, not <class 'float'>\n",
      "The `text` argument passed to `__init__(text)` must be a string, not <class 'float'>\n",
      "The `text` argument passed to `__init__(text)` must be a string, not <class 'float'>\n",
      "The `text` argument passed to `__init__(text)` must be a string, not <class 'float'>\n",
      "The `text` argument passed to `__init__(text)` must be a string, not <class 'float'>\n",
      "The `text` argument passed to `__init__(text)` must be a string, not <class 'float'>\n",
      "The `text` argument passed to `__init__(text)` must be a string, not <class 'float'>\n",
      "The `text` argument passed to `__init__(text)` must be a string, not <class 'float'>\n",
      "The `text` argument passed to `__init__(text)` must be a string, not <class 'float'>\n",
      "The `text` argument passed to `__init__(text)` must be a string, not <class 'float'>\n",
      "The `text` argument passed to `__init__(text)` must be a string, not <class 'float'>\n",
      "The `text` argument passed to `__init__(text)` must be a string, not <class 'float'>\n",
      "The `text` argument passed to `__init__(text)` must be a string, not <class 'float'>\n",
      "The `text` argument passed to `__init__(text)` must be a string, not <class 'float'>\n",
      "The `text` argument passed to `__init__(text)` must be a string, not <class 'float'>\n",
      "The `text` argument passed to `__init__(text)` must be a string, not <class 'float'>\n",
      "The `text` argument passed to `__init__(text)` must be a string, not <class 'float'>\n",
      "The `text` argument passed to `__init__(text)` must be a string, not <class 'float'>\n",
      "The `text` argument passed to `__init__(text)` must be a string, not <class 'float'>\n",
      "The `text` argument passed to `__init__(text)` must be a string, not <class 'float'>\n",
      "The `text` argument passed to `__init__(text)` must be a string, not <class 'float'>\n",
      "The `text` argument passed to `__init__(text)` must be a string, not <class 'float'>\n",
      "The `text` argument passed to `__init__(text)` must be a string, not <class 'float'>\n",
      "The `text` argument passed to `__init__(text)` must be a string, not <class 'float'>\n",
      "The `text` argument passed to `__init__(text)` must be a string, not <class 'float'>\n",
      "The `text` argument passed to `__init__(text)` must be a string, not <class 'float'>\n",
      "The `text` argument passed to `__init__(text)` must be a string, not <class 'float'>\n",
      "The `text` argument passed to `__init__(text)` must be a string, not <class 'float'>\n",
      "The `text` argument passed to `__init__(text)` must be a string, not <class 'float'>\n",
      "The `text` argument passed to `__init__(text)` must be a string, not <class 'float'>\n",
      "The `text` argument passed to `__init__(text)` must be a string, not <class 'float'>\n",
      "The `text` argument passed to `__init__(text)` must be a string, not <class 'float'>\n",
      "The `text` argument passed to `__init__(text)` must be a string, not <class 'float'>\n",
      "The `text` argument passed to `__init__(text)` must be a string, not <class 'float'>\n",
      "The `text` argument passed to `__init__(text)` must be a string, not <class 'float'>\n",
      "The `text` argument passed to `__init__(text)` must be a string, not <class 'float'>\n",
      "The `text` argument passed to `__init__(text)` must be a string, not <class 'float'>\n",
      "The `text` argument passed to `__init__(text)` must be a string, not <class 'float'>\n",
      "The `text` argument passed to `__init__(text)` must be a string, not <class 'float'>\n",
      "The `text` argument passed to `__init__(text)` must be a string, not <class 'float'>\n",
      "The `text` argument passed to `__init__(text)` must be a string, not <class 'float'>\n",
      "The `text` argument passed to `__init__(text)` must be a string, not <class 'float'>\n",
      "The `text` argument passed to `__init__(text)` must be a string, not <class 'float'>\n",
      "The `text` argument passed to `__init__(text)` must be a string, not <class 'float'>\n",
      "The `text` argument passed to `__init__(text)` must be a string, not <class 'float'>\n",
      "The `text` argument passed to `__init__(text)` must be a string, not <class 'float'>\n",
      "The `text` argument passed to `__init__(text)` must be a string, not <class 'float'>\n",
      "The `text` argument passed to `__init__(text)` must be a string, not <class 'float'>\n",
      "The `text` argument passed to `__init__(text)` must be a string, not <class 'float'>\n",
      "The `text` argument passed to `__init__(text)` must be a string, not <class 'float'>\n",
      "The `text` argument passed to `__init__(text)` must be a string, not <class 'float'>\n",
      "The `text` argument passed to `__init__(text)` must be a string, not <class 'float'>\n",
      "The `text` argument passed to `__init__(text)` must be a string, not <class 'float'>\n",
      "The `text` argument passed to `__init__(text)` must be a string, not <class 'float'>\n",
      "The `text` argument passed to `__init__(text)` must be a string, not <class 'float'>\n",
      "The `text` argument passed to `__init__(text)` must be a string, not <class 'float'>\n",
      "The `text` argument passed to `__init__(text)` must be a string, not <class 'float'>\n",
      "The `text` argument passed to `__init__(text)` must be a string, not <class 'float'>\n",
      "The `text` argument passed to `__init__(text)` must be a string, not <class 'float'>\n",
      "The `text` argument passed to `__init__(text)` must be a string, not <class 'float'>\n",
      "The `text` argument passed to `__init__(text)` must be a string, not <class 'float'>\n",
      "The `text` argument passed to `__init__(text)` must be a string, not <class 'float'>\n",
      "The `text` argument passed to `__init__(text)` must be a string, not <class 'float'>\n",
      "The `text` argument passed to `__init__(text)` must be a string, not <class 'float'>\n",
      "The `text` argument passed to `__init__(text)` must be a string, not <class 'float'>\n",
      "The `text` argument passed to `__init__(text)` must be a string, not <class 'float'>\n",
      "The `text` argument passed to `__init__(text)` must be a string, not <class 'float'>\n",
      "The `text` argument passed to `__init__(text)` must be a string, not <class 'float'>\n",
      "The `text` argument passed to `__init__(text)` must be a string, not <class 'float'>\n",
      "The `text` argument passed to `__init__(text)` must be a string, not <class 'float'>\n",
      "The `text` argument passed to `__init__(text)` must be a string, not <class 'float'>\n",
      "The `text` argument passed to `__init__(text)` must be a string, not <class 'float'>\n",
      "The `text` argument passed to `__init__(text)` must be a string, not <class 'float'>\n",
      "The `text` argument passed to `__init__(text)` must be a string, not <class 'float'>\n",
      "The `text` argument passed to `__init__(text)` must be a string, not <class 'float'>\n",
      "The `text` argument passed to `__init__(text)` must be a string, not <class 'float'>\n",
      "The `text` argument passed to `__init__(text)` must be a string, not <class 'float'>\n",
      "The `text` argument passed to `__init__(text)` must be a string, not <class 'float'>\n",
      "The `text` argument passed to `__init__(text)` must be a string, not <class 'float'>\n",
      "The `text` argument passed to `__init__(text)` must be a string, not <class 'float'>\n",
      "The `text` argument passed to `__init__(text)` must be a string, not <class 'float'>\n",
      "The `text` argument passed to `__init__(text)` must be a string, not <class 'float'>\n",
      "The `text` argument passed to `__init__(text)` must be a string, not <class 'float'>\n",
      "The `text` argument passed to `__init__(text)` must be a string, not <class 'float'>\n",
      "The `text` argument passed to `__init__(text)` must be a string, not <class 'float'>\n",
      "The `text` argument passed to `__init__(text)` must be a string, not <class 'float'>\n",
      "The `text` argument passed to `__init__(text)` must be a string, not <class 'float'>\n",
      "The `text` argument passed to `__init__(text)` must be a string, not <class 'float'>\n",
      "The `text` argument passed to `__init__(text)` must be a string, not <class 'float'>\n",
      "The `text` argument passed to `__init__(text)` must be a string, not <class 'float'>\n",
      "The `text` argument passed to `__init__(text)` must be a string, not <class 'float'>\n",
      "The `text` argument passed to `__init__(text)` must be a string, not <class 'float'>\n",
      "The `text` argument passed to `__init__(text)` must be a string, not <class 'float'>\n",
      "The `text` argument passed to `__init__(text)` must be a string, not <class 'float'>\n",
      "The `text` argument passed to `__init__(text)` must be a string, not <class 'float'>\n",
      "The `text` argument passed to `__init__(text)` must be a string, not <class 'float'>\n",
      "The `text` argument passed to `__init__(text)` must be a string, not <class 'float'>\n",
      "The `text` argument passed to `__init__(text)` must be a string, not <class 'float'>\n",
      "The `text` argument passed to `__init__(text)` must be a string, not <class 'float'>\n",
      "The `text` argument passed to `__init__(text)` must be a string, not <class 'float'>\n",
      "The `text` argument passed to `__init__(text)` must be a string, not <class 'float'>\n",
      "The `text` argument passed to `__init__(text)` must be a string, not <class 'float'>\n",
      "The `text` argument passed to `__init__(text)` must be a string, not <class 'float'>\n",
      "The `text` argument passed to `__init__(text)` must be a string, not <class 'float'>\n"
     ]
    },
    {
     "data": {
      "text/plain": [
       "0                                                    NaN\n",
       "1                                                    NaN\n",
       "2                                                    NaN\n",
       "3                                                    NaN\n",
       "4                                                    NaN\n",
       "                             ...                        \n",
       "255    (D, e, ＆, I, は, マ, ル, ク, ス, 主, 義, の, ツ, ー, ル, ...\n",
       "256                                               (議, 論)\n",
       "257                                                  NaN\n",
       "258                                                  NaN\n",
       "259    (こ, れ, に, 対, す, る, 具, 体, 的, な, ア, ク, テ, ィ, ビ, ...\n",
       "Name: q15, Length: 260, dtype: object"
      ]
     },
     "execution_count": 22,
     "metadata": {},
     "output_type": "execute_result"
    }
   ],
   "source": [
    "data[\"q15\"][255]\n",
    "# data[\"q15\"].apply(sentiment_polarity)[255]\n",
    "# data[\"q15\"].apply(sentiment_subjectivity)[255]\n",
    "data[\"q15\"].apply(translation)"
   ]
  },
  {
   "cell_type": "code",
   "execution_count": 40,
   "metadata": {},
   "outputs": [
    {
     "data": {
      "text/plain": [
       "'De&Iは'"
      ]
     },
     "execution_count": 40,
     "metadata": {},
     "output_type": "execute_result"
    }
   ],
   "source": [
    "(\"\").join(list((\"D\", \"e\", \"&\", \"I\", \"は\",)))"
   ]
  },
  {
   "cell_type": "code",
   "execution_count": null,
   "metadata": {},
   "outputs": [],
   "source": []
  }
 ],
 "metadata": {
  "kernelspec": {
   "display_name": ".venv",
   "language": "python",
   "name": "python3"
  },
  "language_info": {
   "codemirror_mode": {
    "name": "ipython",
    "version": 3
   },
   "file_extension": ".py",
   "mimetype": "text/x-python",
   "name": "python",
   "nbconvert_exporter": "python",
   "pygments_lexer": "ipython3",
   "version": "3.11.4"
  },
  "orig_nbformat": 4
 },
 "nbformat": 4,
 "nbformat_minor": 2
}
