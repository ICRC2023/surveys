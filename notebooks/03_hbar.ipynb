{
 "cells": [
  {
   "cell_type": "markdown",
   "metadata": {},
   "source": [
    "# 基本分布（ヒストグラム）の確認\n",
    "\n",
    "- ``core.py``のモジュールに、ヒストグラムを作成するメソッドを追加する\n",
    "  - ``group_data`` : クロス集計した結果をカイ二乗検定する\n",
    "  - ``group_hbar`` : クロス集計した結果をヒートマップにする\n",
    "  - ``hbar``: 上記のメソッドをまとめて実行する\n",
    "  - ``hbars``: すべてのカラムに対して``hbar``を実行する"
   ]
  },
  {
   "cell_type": "code",
   "execution_count": null,
   "metadata": {},
   "outputs": [],
   "source": [
    "import altair as alt\n",
    "import pandas as pd\n",
    "import titanite as ti\n",
    "import scipy as sp\n",
    "\n",
    "print(f\"Altair {alt.__version__}\")\n",
    "print(f\"Pandas {pd.__version__}\")\n",
    "print(f\"SciPy {sp.__version__}\")\n",
    "print(f\"Titanite {ti.__version__}\")"
   ]
  },
  {
   "cell_type": "code",
   "execution_count": null,
   "metadata": {},
   "outputs": [],
   "source": [
    "from titanite.core import group_data, group_hbar"
   ]
  },
  {
   "cell_type": "code",
   "execution_count": null,
   "metadata": {},
   "outputs": [],
   "source": [
    "f_cfg = \"../sandbox/config.toml\"\n",
    "c = ti.Config(load_from=f_cfg)\n",
    "c.load()\n",
    "\n",
    "f_csv = \"../data/test_data/prepared_data.csv\"\n",
    "d = ti.Data(read_from=f_csv, load_from=f_cfg)\n",
    "data = d.read()"
   ]
  },
  {
   "cell_type": "code",
   "execution_count": null,
   "metadata": {},
   "outputs": [],
   "source": [
    "# sorted(data.columns)"
   ]
  },
  {
   "cell_type": "code",
   "execution_count": null,
   "metadata": {},
   "outputs": [],
   "source": [
    "x = \"q01\"\n",
    "color = \"q02\"\n",
    "grouped = group_data(data, x=x, color=color)\n",
    "# grouped\n",
    "h1, h2 = group_hbar(grouped, x=x, color=color, title=\"Y軸=response\")\n",
    "h3, h4 = group_hbar(data, x=x, color=color, title=\"Y軸=count()\", y=\"count()\")"
   ]
  },
  {
   "cell_type": "code",
   "execution_count": null,
   "metadata": {},
   "outputs": [],
   "source": [
    "h2 | h4"
   ]
  },
  {
   "cell_type": "code",
   "execution_count": null,
   "metadata": {},
   "outputs": [],
   "source": [
    "def hbar(data: pd.DataFrame, x: str, color: str, title: str):\n",
    "    grouped = group_data(data, x, color)\n",
    "    h1, h2 = group_hbar(grouped, x, color, title)\n",
    "    h = h1 | h2\n",
    "    return grouped, h"
   ]
  },
  {
   "cell_type": "code",
   "execution_count": null,
   "metadata": {},
   "outputs": [],
   "source": [
    "# questions = c.config.get(\"questions\")\n",
    "# questions = c.titles\n",
    "questions = c.descriptions\n",
    "t = questions.get(x, \"no_title\")\n",
    "g, h = hbar(data, x=x, color=color, title=t)\n",
    "# g\n",
    "h"
   ]
  },
  {
   "cell_type": "code",
   "execution_count": null,
   "metadata": {},
   "outputs": [],
   "source": [
    "h = [\"q03_regional\"]\n",
    "headers = c.get_crosstab_headers(h, sorted(data.columns))\n",
    "questions = c.titles\n",
    "groups = {}\n",
    "hbars = {}\n",
    "\n",
    "\n",
    "for x, color in headers:\n",
    "    name = f\"{x}-{color}\"\n",
    "    # key = x.split(\"_\")[0]\n",
    "    t = questions.get(x, \"no_title\")\n",
    "    print(name)\n",
    "    g, h = hbar(data, x, color, t)\n",
    "    groups.update({name: g})\n",
    "    hbars.update({name: h})"
   ]
  },
  {
   "cell_type": "code",
   "execution_count": null,
   "metadata": {},
   "outputs": [],
   "source": [
    "for k, v in groups.items():\n",
    "    print(k)\n",
    "\n",
    "for k, h in hbars.items():\n",
    "    h.display()"
   ]
  },
  {
   "cell_type": "code",
   "execution_count": null,
   "metadata": {},
   "outputs": [],
   "source": []
  },
  {
   "cell_type": "code",
   "execution_count": null,
   "metadata": {},
   "outputs": [],
   "source": []
  }
 ],
 "metadata": {
  "kernelspec": {
   "display_name": ".venv",
   "language": "python",
   "name": "python3"
  },
  "language_info": {
   "codemirror_mode": {
    "name": "ipython",
    "version": 3
   },
   "file_extension": ".py",
   "mimetype": "text/x-python",
   "name": "python",
   "nbconvert_exporter": "python",
   "pygments_lexer": "ipython3",
   "version": "3.11.5"
  },
  "orig_nbformat": 4
 },
 "nbformat": 4,
 "nbformat_minor": 2
}
