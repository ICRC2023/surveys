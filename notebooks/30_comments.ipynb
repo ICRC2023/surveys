{
 "cells": [
  {
   "cell_type": "markdown",
   "metadata": {},
   "source": [
    "自由記述を読みやすくする\n",
    "\n",
    "- 質問ごとに回答をJSONで書き出し、Typstのデータ読み込み機能を使って、PDFに変換する\n",
    "\n",
    "```console\n",
    "#line(width=100%)\n",
    "\n",
    "回答（英語）\n",
    "翻訳（日本語）\n",
    "\n",
    "回答者の属性（年代、性別、地域、肩書き）\n",
    "回答の感情分析（極性、主体性）\n",
    "\n",
    "...の繰り返し構造\n",
    "```"
   ]
  },
  {
   "cell_type": "markdown",
   "metadata": {},
   "source": [
    "自由記述の質問\n",
    "\n",
    "- ``q15``: 【Q15】Please let us know If your group has any good practice examples related to DE&I ?\n",
    "- ``q16``: 【Q16】Please let us know if there is anything your group needs to work on or if your group has any problems related to DE&I.\n",
    "- ``q18``: 【Q18】Could you tell us more about your thoughts (agree / disagree) ?\n",
    "- ``q20``: 【Q20】Do you have any concerns / problems related to DE&I initiatives in science ?\n",
    "- ``q21``: 【Q21】What reasons do you think are hindering DE&I initiatives in science ?\n",
    "- ``q22``:【Q22】Comments\n",
    "\n",
    "属性\n",
    "\n",
    "- ``q1``: 【Q1】What is your age ?\n",
    "- ``q2``: 【Q2】What gender do you identify as ?\n",
    "- ``q3``: 【Q3】Which geographical region are you currently working or attending school/university in ?\n",
    "- ``q5``: 【Q5】What is your job title ?\n",
    "- ``q6``: 【Q6】Which group do you belong to ? \n",
    "- ``q7``: 【Q7】What is your research type ?"
   ]
  },
  {
   "cell_type": "code",
   "execution_count": null,
   "metadata": {},
   "outputs": [],
   "source": [
    "from pathlib import Path\n",
    "import pandas as pd\n",
    "import altair as alt\n",
    "import titanite as ti\n",
    "\n",
    "print(f\"Pandas : {pd.__version__}\")\n",
    "print(f\"Altair : {alt.__version__}\")\n",
    "print(f\"Titanite : {ti.__version__}\")"
   ]
  },
  {
   "cell_type": "code",
   "execution_count": null,
   "metadata": {},
   "outputs": [],
   "source": [
    "f_cfg = \"../sandbox/config.toml\"\n",
    "f_csv = \"../data/test_data/all.csv\"\n",
    "\n",
    "cfg = ti.Config(fname=f_cfg)\n",
    "cfg.load()\n",
    "# config.questions\n",
    "category = cfg.categories()\n",
    "\n",
    "data = pd.read_csv(f_csv, parse_dates=[\"timestamp\"])\n",
    "data = ti.categorical_data(data, category)"
   ]
  },
  {
   "cell_type": "code",
   "execution_count": null,
   "metadata": {},
   "outputs": [],
   "source": [
    "q15 = data.dropna(subset=\"q15\")\n",
    "len(q15)"
   ]
  },
  {
   "cell_type": "code",
   "execution_count": null,
   "metadata": {},
   "outputs": [],
   "source": [
    "q16 = data.dropna(subset=\"q16\")\n",
    "len(q16)"
   ]
  },
  {
   "cell_type": "code",
   "execution_count": null,
   "metadata": {},
   "outputs": [],
   "source": [
    "q18 = data.dropna(subset=\"q18\")\n",
    "len(q18)"
   ]
  },
  {
   "cell_type": "code",
   "execution_count": null,
   "metadata": {},
   "outputs": [],
   "source": [
    "attributes = [\"q1\", \"q2\", \"q3\", \"q5\", \"q6\", \"q7\"]\n",
    "headers = [\"q15\", \"q16\", \"q18\", \"q20\", \"q21\", \"q22\"]\n",
    "\n",
    "for header in headers:\n",
    "    q = data.dropna(subset=header)\n",
    "    # print(f\"{header}: {len(q)}\")\n",
    "    h = attributes + [\n",
    "        header,\n",
    "        f\"{header}_ja\",\n",
    "        f\"{header}_polarity\",\n",
    "        f\"{header}_subjectivity\",\n",
    "    ]\n",
    "    # fname = f\"../data/test_data/{header}.csv\"\n",
    "    # q[h].to_csv(fname, index=False)\n",
    "    # fname = f\"../data/test_data/{header}.json\"\n",
    "    # q[h].sort_values(by=header).to_json(fname, orient=\"records\")\n",
    "    # print(f\"Saved as {fname}\")"
   ]
  },
  {
   "cell_type": "code",
   "execution_count": null,
   "metadata": {},
   "outputs": [],
   "source": [
    "alt.Chart(data).mark_point().encode(\n",
    "    alt.X(\"q16_polarity\").scale(domain=(-1, 1)),\n",
    "    alt.Y(\"q16_subjectivity\").scale(domain=(0, 1)),\n",
    "    alt.Size(\"count()\"),\n",
    "    alt.Color(\"q2:N\"),\n",
    "    alt.Shape(\"q2:N\"),\n",
    ").properties(\n",
    "    width=500,\n",
    "    height=500,\n",
    ")"
   ]
  },
  {
   "cell_type": "code",
   "execution_count": null,
   "metadata": {},
   "outputs": [],
   "source": []
  }
 ],
 "metadata": {
  "kernelspec": {
   "display_name": ".venv",
   "language": "python",
   "name": "python3"
  },
  "language_info": {
   "codemirror_mode": {
    "name": "ipython",
    "version": 3
   },
   "file_extension": ".py",
   "mimetype": "text/x-python",
   "name": "python",
   "nbconvert_exporter": "python",
   "pygments_lexer": "ipython3",
   "version": "3.11.4"
  }
 },
 "nbformat": 4,
 "nbformat_minor": 2
}
