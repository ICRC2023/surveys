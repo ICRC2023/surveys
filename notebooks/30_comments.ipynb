{
 "cells": [
  {
   "cell_type": "markdown",
   "metadata": {},
   "source": [
    "自由記述を読みやすくする\n",
    "\n",
    "- 質問ごとに、回答をCSVファイルに書き出す\n",
    "- LaTeX（やTypst）を使って、（あまり手間がかからない形で）読みやすい形に変換する\n",
    "- とりあえずGoogleドキュメント or スプレッドシートに貼り付ける"
   ]
  },
  {
   "cell_type": "markdown",
   "metadata": {},
   "source": [
    "自由記述の質問\n",
    "\n",
    "- ``q15``: 【Q15】Please let us know If your group has any good practice examples related to DE&I ?\n",
    "- ``q16``: 【Q16】Please let us know if there is anything your group needs to work on or if your group has any problems related to DE&I.\n",
    "- ``q18``: 【Q18】Could you tell us more about your thoughts (agree / disagree) ?\n",
    "- ``q20``: 【Q20】Do you have any concerns / problems related to DE&I initiatives in science ?\n",
    "- ``q21``: 【Q21】What reasons do you think are hindering DE&I initiatives in science ?\n",
    "- ``q22``':【Q22】Comments"
   ]
  },
  {
   "cell_type": "code",
   "execution_count": 1,
   "metadata": {},
   "outputs": [
    {
     "name": "stdout",
     "output_type": "stream",
     "text": [
      "Pandas : 2.0.3\n",
      "Altair : 5.0.1\n",
      "Titanite : 0.1.0\n"
     ]
    }
   ],
   "source": [
    "from pathlib import Path\n",
    "import pandas as pd\n",
    "import altair as alt\n",
    "import titanite as ti\n",
    "\n",
    "print(f\"Pandas : {pd.__version__}\")\n",
    "print(f\"Altair : {alt.__version__}\")\n",
    "print(f\"Titanite : {ti.__version__}\")"
   ]
  },
  {
   "cell_type": "code",
   "execution_count": 2,
   "metadata": {},
   "outputs": [],
   "source": [
    "fname = Path(\"../sandbox/config.toml\")\n",
    "config = ti.Config(fname=fname)\n",
    "config.load()\n",
    "# config.questions"
   ]
  },
  {
   "cell_type": "code",
   "execution_count": 3,
   "metadata": {},
   "outputs": [],
   "source": [
    "fname = Path(\"../data/test_data/20230715_icrc2023_diversity_presurvey_answers.csv\")\n",
    "data = pd.read_csv(fname, skiprows=1)"
   ]
  },
  {
   "cell_type": "code",
   "execution_count": 9,
   "metadata": {},
   "outputs": [],
   "source": [
    "columns = [\"q15\", \"q16\", \"q18\", \"q20\", \"q21\", \"q22\"]\n",
    "# comments\n",
    "# q15 = comments[\"q15\"].dropna()\n",
    "# q16 = comments[\"q16\"].dropna()\n",
    "# q18 = comments[\"q18\"].dropna()\n",
    "# q20 = comments[\"q20\"].dropna()\n",
    "# q21 = comments[\"q21\"].dropna()\n",
    "# q22 = comments[\"q22\"].dropna()"
   ]
  },
  {
   "cell_type": "markdown",
   "metadata": {},
   "source": [
    "Typstのファイルを作成する\n",
    "\n",
    "- ファイル名: ``質問番号.typ``（e.g. ``q15.typ``）\n",
    "- コメントをアルファベット順にソートする\n",
    "  - コメントの大文字／小文字、ピリオドのあり／なし、は元データを直接編集して整理する"
   ]
  },
  {
   "cell_type": "code",
   "execution_count": 7,
   "metadata": {},
   "outputs": [],
   "source": [
    "def make_typst(data, key):\n",
    "    q = data[key].dropna()\n",
    "    comments = sorted(q.str.strip())\n",
    "    heading = f\"= {config.questions.get(key, 'Could not get heading...')}\\n\\n\"\n",
    "    fname = Path(f\"../data/typst/{key}.typ\")\n",
    "\n",
    "    with fname.open(\"w\") as f:\n",
    "        f.write(heading)\n",
    "        for comment in comments:\n",
    "            text = f\"\\n#line(length: 100%)\\n\\n{comment}\\n\"\n",
    "            f.write(text)\n",
    "        print(f\"Saved as {fname}\")\n"
   ]
  },
  {
   "cell_type": "code",
   "execution_count": 11,
   "metadata": {},
   "outputs": [
    {
     "name": "stdout",
     "output_type": "stream",
     "text": [
      "Saved as ../data/typst/q15.typ\n",
      "Saved as ../data/typst/q16.typ\n",
      "Saved as ../data/typst/q18.typ\n",
      "Saved as ../data/typst/q20.typ\n",
      "Saved as ../data/typst/q21.typ\n",
      "Saved as ../data/typst/q22.typ\n"
     ]
    }
   ],
   "source": [
    "columns = [\"q15\", \"q16\", \"q18\", \"q20\", \"q21\", \"q22\"]\n",
    "for key in columns:\n",
    "    make_typst(data, key)"
   ]
  },
  {
   "cell_type": "code",
   "execution_count": 41,
   "metadata": {},
   "outputs": [],
   "source": []
  },
  {
   "cell_type": "code",
   "execution_count": null,
   "metadata": {},
   "outputs": [],
   "source": []
  }
 ],
 "metadata": {
  "kernelspec": {
   "display_name": ".venv",
   "language": "python",
   "name": "python3"
  },
  "language_info": {
   "codemirror_mode": {
    "name": "ipython",
    "version": 3
   },
   "file_extension": ".py",
   "mimetype": "text/x-python",
   "name": "python",
   "nbconvert_exporter": "python",
   "pygments_lexer": "ipython3",
   "version": "3.11.4"
  },
  "orig_nbformat": 4
 },
 "nbformat": 4,
 "nbformat_minor": 2
}
