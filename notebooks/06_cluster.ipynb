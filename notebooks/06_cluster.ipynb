{
 "cells": [
  {
   "cell_type": "markdown",
   "metadata": {},
   "source": [
    "# 新しいクラスターを作って分析する\n",
    "\n",
    "- ``q13-14``の相関\n",
    "  - ``q13 < 25%`` で ``q14 == [\"Very Poor\" , \"Poor\"]``のグループ\n",
    "  - ``q13 > 25%`` で ``q14 == [\"Very Good\" , \"Good\"]``のグループ"
   ]
  },
  {
   "cell_type": "code",
   "execution_count": null,
   "metadata": {},
   "outputs": [],
   "source": [
    "import altair as alt\n",
    "import pandas as pd\n",
    "import scipy as sp\n",
    "import titanite as ti\n",
    "\n",
    "print(f\"Altair {alt.__version__}\")\n",
    "print(f\"Pandas {pd.__version__}\")\n",
    "print(f\"SciPy {sp.__version__}\")\n",
    "print(f\"Titanite {ti.__version__}\")"
   ]
  },
  {
   "cell_type": "code",
   "execution_count": null,
   "metadata": {},
   "outputs": [],
   "source": [
    "f_cfg = \"../sandbox/config.toml\"\n",
    "f_csv = \"../data/test_data/prepared_data.csv\"\n",
    "\n",
    "d = ti.Data(read_from=f_csv, load_from=f_cfg)\n",
    "config = d.config()\n",
    "data = d.read()"
   ]
  },
  {
   "cell_type": "code",
   "execution_count": null,
   "metadata": {},
   "outputs": [],
   "source": [
    "data[\"q13_q14\"] = \"Others\""
   ]
  },
  {
   "cell_type": "code",
   "execution_count": null,
   "metadata": {},
   "outputs": [],
   "source": [
    "#is_q13 = data[\"q13\"] < 25\n",
    "#is_q14 = data[\"q14\"].isin([\"Very Poor\", \"Poor\"])\n",
    "#isT = is_q13 & is_q14\n",
    "#data.loc[isT, \"q13_q14\"] = \"< 25% is poor\"\n",
    "\n",
    "#is_q13 = data[\"q13\"] < 25\n",
    "#is_q14 = data[\"q14\"].isin([\"Very Good\", \"Good\"])\n",
    "#isT = is_q13 & is_q14\n",
    "#data.loc[isT, \"q13_q14\"] = \"< 25% is good\""
   ]
  },
  {
   "cell_type": "code",
   "execution_count": null,
   "metadata": {},
   "outputs": [],
   "source": [
    "#is_q13 = data[\"q13\"] >= 25\n",
    "#is_q14 = data[\"q14\"].isin([\"Very Poor\", \"Poor\"])\n",
    "#isT = is_q13 & is_q14\n",
    "#data.loc[isT, \"q13_q14\"] = \">= 25% is poor\"\n",
    "\n",
    "#is_q13 = data[\"q13\"] >= 25\n",
    "#is_q14 = data[\"q14\"].isin([\"Very Good\", \"Good\"])\n",
    "#isT = is_q13 & is_q14\n",
    "#data.loc[isT, \"q13_q14\"] = \">= 25% is good\""
   ]
  },
  {
   "cell_type": "code",
   "execution_count": null,
   "metadata": {},
   "outputs": [],
   "source": [
    "is_q13 = data[\"q13\"] <= 20\n",
    "is_q14 = data[\"q14\"].isin([\"Very Poor\", \"Poor\"])\n",
    "isT = is_q13 & is_q14\n",
    "data.loc[isT, \"q13_q14\"] = \"<= 20% is poor\"\n",
    "\n",
    "is_q13 = data[\"q13\"] >= 30\n",
    "is_q14 = data[\"q14\"].isin([\"Very Good\", \"Good\"])\n",
    "isT = is_q13 & is_q14\n",
    "data.loc[isT, \"q13_q14\"] = \">= 30% is good\""
   ]
  },
  {
   "cell_type": "code",
   "execution_count": null,
   "metadata": {},
   "outputs": [],
   "source": [
    "alt.Chart(data).mark_point().encode(\n",
    "    alt.X(\"q13_binned\"),\n",
    "    alt.Y(\"q14\"),\n",
    "    alt.Color(\"q13_q14\"),\n",
    "    alt.Size(\"count()\"),\n",
    ")"
   ]
  },
  {
   "cell_type": "code",
   "execution_count": null,
   "metadata": {},
   "outputs": [],
   "source": [
    "def h(data: pd.DataFrame, x: str, color=\"q13_q14\", title=\"No title\"):\n",
    "\n",
    "    base = alt.Chart(data).encode(\n",
    "        alt.X(x),\n",
    "    ).properties(\n",
    "        title=title,\n",
    "        width=500,\n",
    "    )\n",
    "    mark = base.mark_bar(opacity=0.5).encode(\n",
    "        #alt.Y(\"count()\").stack(\"normalize\"),\n",
    "        alt.Y(\"count()\"),\n",
    "        alt.Color(color)\n",
    "    )\n",
    "    text = base.mark_text().encode(\n",
    "        alt.Text(\"count()\"),\n",
    "        alt.Color(color)\n",
    "    )\n",
    "\n",
    "    chart = mark + text\n",
    "    return chart"
   ]
  },
  {
   "cell_type": "code",
   "execution_count": null,
   "metadata": {},
   "outputs": [],
   "source": [
    "questions = config.questions\n",
    "for header in d.categorical_headers:\n",
    "    key = header.split(\"_\")[0]\n",
    "    t = questions.get(key, \"Could not get title.\")\n",
    "    h(data, header, title=t).display()"
   ]
  },
  {
   "cell_type": "code",
   "execution_count": null,
   "metadata": {},
   "outputs": [],
   "source": []
  }
 ],
 "metadata": {
  "kernelspec": {
   "display_name": ".venv",
   "language": "python",
   "name": "python3"
  },
  "language_info": {
   "codemirror_mode": {
    "name": "ipython",
    "version": 3
   },
   "file_extension": ".py",
   "mimetype": "text/x-python",
   "name": "python",
   "nbconvert_exporter": "python",
   "pygments_lexer": "ipython3",
   "version": "3.11.4"
  },
  "orig_nbformat": 4
 },
 "nbformat": 4,
 "nbformat_minor": 2
}
