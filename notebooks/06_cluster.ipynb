{
 "cells": [
  {
   "cell_type": "markdown",
   "metadata": {},
   "source": [
    "# 新しいクラスターを作って分析する\n",
    "\n",
    "- ``q01``クラスタ -> カラム名 : ``q01_clustered``\n",
    "  - 40歳を境に若手／シニアにクラスター化する\n",
    "  - クラスター1 : ``q01 < 40s``\n",
    "  - クラスター2 : ``q02 >= 40s``\n",
    "- ``q13-14``の相関クラスタ -> カラム名 : ``q13_clustered``\n",
    "  - 女性比率が20%周辺は不満（Poor / Very Poor）、30%周辺は満足（Good / Very Good）が多い\n",
    "  - クラスター1 : ``q13 < 25%`` かつ ``q14 == [\"Very Poor\" , \"Poor\"]``\n",
    "  - クラスター2 : ``q13 > 25%`` かつ ``q14 == [\"Very Good\" , \"Good\"]``"
   ]
  },
  {
   "cell_type": "code",
   "execution_count": null,
   "metadata": {},
   "outputs": [],
   "source": [
    "import altair as alt\n",
    "import pandas as pd\n",
    "import scipy as sp\n",
    "import titanite as ti\n",
    "\n",
    "print(f\"Altair {alt.__version__}\")\n",
    "print(f\"Pandas {pd.__version__}\")\n",
    "print(f\"SciPy {sp.__version__}\")\n",
    "print(f\"Titanite {ti.__version__}\")"
   ]
  },
  {
   "cell_type": "code",
   "execution_count": null,
   "metadata": {},
   "outputs": [],
   "source": [
    "f_cfg = \"../sandbox/config.toml\"\n",
    "f_csv = \"../data/test_data/prepared_data.csv\"\n",
    "\n",
    "d = ti.Data(read_from=f_csv, load_from=f_cfg)\n",
    "config = d.config()\n",
    "#config\n",
    "data = d.read()\n",
    "#data"
   ]
  },
  {
   "cell_type": "code",
   "execution_count": null,
   "metadata": {},
   "outputs": [],
   "source": [
    "c1, c2 = ti.core.group_hbar(data, x=\"q02\", y=\"count()\", color=\"q01_clustered\")\n",
    "c1 | c2"
   ]
  },
  {
   "cell_type": "markdown",
   "metadata": {},
   "source": [
    "# ``q01_clustered``"
   ]
  },
  {
   "cell_type": "code",
   "execution_count": null,
   "metadata": {},
   "outputs": [],
   "source": [
    "header = \"q01_clustered\"\n",
    "data[header] = \"Others\"\n",
    "\n",
    "isT = data[\"q01\"] < \"40s\"\n",
    "data.loc[isT, header] = \"Cluster1\"\n",
    "\n",
    "isT = data[\"q01\"] >= \"40s\"\n",
    "data.loc[isT, header] = \"Cluster2\"\n",
    "\n",
    "data[header].value_counts()"
   ]
  },
  {
   "cell_type": "markdown",
   "metadata": {},
   "source": [
    "# ``q01q02_clustered``\n"
   ]
  },
  {
   "cell_type": "code",
   "execution_count": null,
   "metadata": {},
   "outputs": [],
   "source": [
    "header = \"q01q02_clustered\"\n",
    "data[header] = \"Others\"\n",
    "\n",
    "is_q01 = data[\"q01\"] < \"40s\"\n",
    "is_q02 = data[\"q02\"].isin([\"Female\"])\n",
    "isT = is_q01 & is_q02\n",
    "data.loc[isT, header] = \"Cluster1\"\n",
    "\n",
    "is_q01 = data[\"q01\"] < \"40s\"\n",
    "is_q02 = data[\"q02\"].isin([\"Male\"])\n",
    "isT = is_q01 & is_q02\n",
    "data.loc[isT, header] = \"Cluster2\"\n",
    "\n",
    "data[header].value_counts()"
   ]
  },
  {
   "cell_type": "markdown",
   "metadata": {},
   "source": [
    "# ``q13q14_clustered``"
   ]
  },
  {
   "cell_type": "code",
   "execution_count": null,
   "metadata": {},
   "outputs": [],
   "source": [
    "header = \"q13q14_clustered\"\n",
    "data[header] = \"Others\"\n",
    "\n",
    "is_q13 = data[\"q13\"] < 25\n",
    "is_q14 = data[\"q14\"].isin([\"Very Poor\", \"Poor\"])\n",
    "isT = is_q13 & is_q14\n",
    "data.loc[isT, header] = \"Cluster1\"\n",
    "\n",
    "is_q13 = data[\"q13\"] > 25\n",
    "is_q14 = data[\"q14\"].isin([\"Very Good\", \"Good\"])\n",
    "isT = is_q13 & is_q14\n",
    "data.loc[isT, header] = \"Cluster2\"\n",
    "\n",
    "data[header].value_counts()"
   ]
  },
  {
   "cell_type": "code",
   "execution_count": null,
   "metadata": {},
   "outputs": [],
   "source": [
    "alt.Chart(data).mark_point().encode(\n",
    "    alt.X(\"q13_binned\"),\n",
    "    alt.Y(\"q14\"),\n",
    "    alt.Color(\"q13q14_clustered:N\"),\n",
    "    alt.Size(\"count()\"),\n",
    ")"
   ]
  },
  {
   "cell_type": "code",
   "execution_count": null,
   "metadata": {},
   "outputs": [],
   "source": [
    "def h(data: pd.DataFrame, x: str, color:str, title=\"No title\"):\n",
    "\n",
    "    base = alt.Chart(data).encode(\n",
    "        alt.X(x)\n",
    "    ).properties(\n",
    "        title=title,\n",
    "        width=300,\n",
    "    )\n",
    "    mark = base.mark_bar(tooltip=True, opacity=0.5).encode(\n",
    "        alt.Y(\"count()\"),\n",
    "        alt.Color(color)\n",
    "    )\n",
    "    stack = base.mark_bar(tooltip=True, opacity=0.5).encode(\n",
    "        alt.Y(\"count()\").stack(\"normalize\"),\n",
    "        alt.Color(color)\n",
    "    )\n",
    "\n",
    "    text = base.mark_text(dy=10).encode(\n",
    "        alt.Y(\"count()\").stack(\"normalize\"),\n",
    "        alt.Text(\"count()\"),\n",
    "        alt.Color(color)\n",
    "    )\n",
    "\n",
    "    chart = mark | (stack + text)\n",
    "    #chart = (mark + text) | stack\n",
    "    return chart.interactive()"
   ]
  },
  {
   "cell_type": "code",
   "execution_count": null,
   "metadata": {},
   "outputs": [],
   "source": [
    "h(data, \"q02\", \"q01_clustered\", title=\"\")"
   ]
  },
  {
   "cell_type": "code",
   "execution_count": null,
   "metadata": {},
   "outputs": [],
   "source": [
    "config"
   ]
  },
  {
   "cell_type": "code",
   "execution_count": null,
   "metadata": {},
   "outputs": [],
   "source": [
    "questions = config.get(\"questions\")\n",
    "for header in d.categorical_headers:\n",
    "    key = header.split(\"_\")[0]\n",
    "    t = questions.get(key, \"Could not get title.\")\n",
    "    h(data, header, \"q01_clustered\", title=t).display()\n",
    "    # c1, c2 = ti.core.group_hbar(data, header, \"count()\", \"q01_clustered\", title=t)\n",
    "    # (c1 | c2).display()\n",
    "    h(data, header, \"q01q02_clustered\", title=t).display()\n",
    "    h(data, header, \"q13q14_clustered\", title=t).display()\n",
    "    print(\"=\" * 80)"
   ]
  },
  {
   "cell_type": "code",
   "execution_count": null,
   "metadata": {},
   "outputs": [],
   "source": []
  },
  {
   "cell_type": "code",
   "execution_count": null,
   "metadata": {},
   "outputs": [],
   "source": []
  }
 ],
 "metadata": {
  "kernelspec": {
   "display_name": ".venv",
   "language": "python",
   "name": "python3"
  },
  "language_info": {
   "codemirror_mode": {
    "name": "ipython",
    "version": 3
   },
   "file_extension": ".py",
   "mimetype": "text/x-python",
   "name": "python",
   "nbconvert_exporter": "python",
   "pygments_lexer": "ipython3",
   "version": "3.11.4"
  },
  "orig_nbformat": 4
 },
 "nbformat": 4,
 "nbformat_minor": 2
}
