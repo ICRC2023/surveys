{
 "cells": [
  {
   "cell_type": "markdown",
   "metadata": {},
   "source": [
    "カイ二乗検定のp値を確認する"
   ]
  },
  {
   "cell_type": "code",
   "execution_count": 1,
   "metadata": {},
   "outputs": [
    {
     "name": "stdout",
     "output_type": "stream",
     "text": [
      "Altair 5.0.1\n",
      "Pandas 2.0.3\n",
      "SciPy 1.11.1\n",
      "Titanite 0.3.0\n"
     ]
    }
   ],
   "source": [
    "import altair as alt\n",
    "import pandas as pd\n",
    "import scipy as sp\n",
    "import titanite as ti\n",
    "\n",
    "print(f\"Altair {alt.__version__}\")\n",
    "print(f\"Pandas {pd.__version__}\")\n",
    "print(f\"SciPy {sp.__version__}\")\n",
    "print(f\"Titanite {ti.__version__}\")"
   ]
  },
  {
   "cell_type": "code",
   "execution_count": 56,
   "metadata": {},
   "outputs": [],
   "source": [
    "f_csv = \"../data/test_data/chi2_test/chi2_test.csv\"\n",
    "f_p005 = \"../data/test_data/chi2_test/chi2_test_p005.csv\"\n",
    "data = pd.read_csv(f_csv)\n",
    "p005 = pd.read_csv(f_p005)\n",
    "#data"
   ]
  },
  {
   "cell_type": "code",
   "execution_count": 63,
   "metadata": {},
   "outputs": [
    {
     "data": {
      "text/plain": [
       "True"
      ]
     },
     "execution_count": 63,
     "metadata": {},
     "output_type": "execute_result"
    }
   ],
   "source": [
    "len(data.query(\"p_value < 0.05\")) == len(p005)"
   ]
  },
  {
   "cell_type": "code",
   "execution_count": 53,
   "metadata": {},
   "outputs": [],
   "source": [
    "def draw_chi2_test(data: pd.DataFrame):\n",
    "    mark = alt.Chart(data).mark_circle(size=300).encode(\n",
    "        alt.X(\"p_value\"),\n",
    "        alt.Y(\"questions\"),\n",
    "        alt.Color(\"dof\"),\n",
    "        alt.Tooltip([\"questions\", \"p_value\", \"statistic\", \"dof\"])\n",
    "    )\n",
    "\n",
    "    rule = alt.Chart().mark_rule(color=\"orange\").encode(\n",
    "        x = alt.datum(0.05)\n",
    "    )\n",
    "\n",
    "    n = len(data)\n",
    "    chart = (mark + rule).properties(\n",
    "        title=f\"Number of data : {n}\",\n",
    "        width=1000,\n",
    "    )\n",
    "    \n",
    "    return chart"
   ]
  },
  {
   "cell_type": "code",
   "execution_count": 54,
   "metadata": {},
   "outputs": [],
   "source": [
    "draw_chi2_test(data).interactive()\n",
    "draw_chi2_test(data).save(\"../data/test_data/chi2_test/chi2_test.png\")"
   ]
  },
  {
   "cell_type": "code",
   "execution_count": 55,
   "metadata": {},
   "outputs": [],
   "source": [
    "diff = data.query(\"0 < p_value < 0.05\")\n",
    "draw_chi2_test(diff).interactive()\n",
    "draw_chi2_test(diff).save(\"../data/test_data/chi2_test/chi2_test_p005.png\")"
   ]
  },
  {
   "cell_type": "code",
   "execution_count": null,
   "metadata": {},
   "outputs": [],
   "source": []
  }
 ],
 "metadata": {
  "kernelspec": {
   "display_name": ".venv",
   "language": "python",
   "name": "python3"
  },
  "language_info": {
   "codemirror_mode": {
    "name": "ipython",
    "version": 3
   },
   "file_extension": ".py",
   "mimetype": "text/x-python",
   "name": "python",
   "nbconvert_exporter": "python",
   "pygments_lexer": "ipython3",
   "version": "3.11.4"
  },
  "orig_nbformat": 4
 },
 "nbformat": 4,
 "nbformat_minor": 2
}
