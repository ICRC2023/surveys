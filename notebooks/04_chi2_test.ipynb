{
 "cells": [
  {
   "cell_type": "markdown",
   "metadata": {},
   "source": [
    "カイ二乗検定のp値を確認する"
   ]
  },
  {
   "cell_type": "code",
   "execution_count": 1,
   "metadata": {},
   "outputs": [
    {
     "name": "stdout",
     "output_type": "stream",
     "text": [
      "Altair 5.0.1\n",
      "Pandas 2.0.3\n",
      "SciPy 1.11.1\n",
      "Titanite 0.4.0\n"
     ]
    }
   ],
   "source": [
    "import altair as alt\n",
    "import pandas as pd\n",
    "import scipy as sp\n",
    "import titanite as ti\n",
    "\n",
    "print(f\"Altair {alt.__version__}\")\n",
    "print(f\"Pandas {pd.__version__}\")\n",
    "print(f\"SciPy {sp.__version__}\")\n",
    "print(f\"Titanite {ti.__version__}\")"
   ]
  },
  {
   "cell_type": "code",
   "execution_count": 2,
   "metadata": {},
   "outputs": [],
   "source": [
    "f_csv = \"../data/test_data/chi2_test/chi2_test.csv\"\n",
    "f_p005 = \"../data/test_data/chi2_test/chi2_test_p005.csv\"\n",
    "data = pd.read_csv(f_csv)\n",
    "p005 = pd.read_csv(f_p005)\n",
    "#data"
   ]
  },
  {
   "cell_type": "markdown",
   "metadata": {},
   "source": [
    "データが同じか確認"
   ]
  },
  {
   "cell_type": "code",
   "execution_count": null,
   "metadata": {},
   "outputs": [],
   "source": [
    "len(data.query(\"p_value < 0.05\")) == len(p005)"
   ]
  },
  {
   "cell_type": "markdown",
   "metadata": {},
   "source": [
    "データにヒートマップのファイル名も追加したい"
   ]
  },
  {
   "cell_type": "code",
   "execution_count": null,
   "metadata": {},
   "outputs": [],
   "source": [
    "\"../data/test_data/crosstab/\" + data[\"questions\"] + \".png\""
   ]
  },
  {
   "cell_type": "code",
   "execution_count": 3,
   "metadata": {},
   "outputs": [
    {
     "data": {
      "text/html": [
       "<div>\n",
       "<style scoped>\n",
       "    .dataframe tbody tr th:only-of-type {\n",
       "        vertical-align: middle;\n",
       "    }\n",
       "\n",
       "    .dataframe tbody tr th {\n",
       "        vertical-align: top;\n",
       "    }\n",
       "\n",
       "    .dataframe thead th {\n",
       "        text-align: right;\n",
       "    }\n",
       "</style>\n",
       "<table border=\"1\" class=\"dataframe\">\n",
       "  <thead>\n",
       "    <tr style=\"text-align: right;\">\n",
       "      <th></th>\n",
       "      <th>questions</th>\n",
       "      <th>p_value</th>\n",
       "      <th>statistic</th>\n",
       "      <th>dof</th>\n",
       "      <th>png</th>\n",
       "    </tr>\n",
       "  </thead>\n",
       "  <tbody>\n",
       "    <tr>\n",
       "      <th>0</th>\n",
       "      <td>q01-q02</td>\n",
       "      <td>5.795956e-01</td>\n",
       "      <td>29.775320</td>\n",
       "      <td>32</td>\n",
       "      <td>../data/test_data/crosstab/q01-q02.png</td>\n",
       "    </tr>\n",
       "    <tr>\n",
       "      <th>1</th>\n",
       "      <td>q01-q03</td>\n",
       "      <td>4.781194e-08</td>\n",
       "      <td>232.366478</td>\n",
       "      <td>128</td>\n",
       "      <td>../data/test_data/crosstab/q01-q03.png</td>\n",
       "    </tr>\n",
       "    <tr>\n",
       "      <th>2</th>\n",
       "      <td>q01-q03_regional</td>\n",
       "      <td>2.875787e-09</td>\n",
       "      <td>115.590322</td>\n",
       "      <td>40</td>\n",
       "      <td>../data/test_data/crosstab/q01-q03_regional.png</td>\n",
       "    </tr>\n",
       "    <tr>\n",
       "      <th>3</th>\n",
       "      <td>q01-q03_subregional</td>\n",
       "      <td>4.781194e-08</td>\n",
       "      <td>232.366478</td>\n",
       "      <td>128</td>\n",
       "      <td>../data/test_data/crosstab/q01-q03_subregional...</td>\n",
       "    </tr>\n",
       "    <tr>\n",
       "      <th>4</th>\n",
       "      <td>q01-q04</td>\n",
       "      <td>2.089338e-11</td>\n",
       "      <td>274.586635</td>\n",
       "      <td>136</td>\n",
       "      <td>../data/test_data/crosstab/q01-q04.png</td>\n",
       "    </tr>\n",
       "    <tr>\n",
       "      <th>...</th>\n",
       "      <td>...</td>\n",
       "      <td>...</td>\n",
       "      <td>...</td>\n",
       "      <td>...</td>\n",
       "      <td>...</td>\n",
       "    </tr>\n",
       "    <tr>\n",
       "      <th>320</th>\n",
       "      <td>q17_equity-q17_inclusion</td>\n",
       "      <td>1.088810e-100</td>\n",
       "      <td>494.033999</td>\n",
       "      <td>9</td>\n",
       "      <td>../data/test_data/crosstab/q17_equity-q17_incl...</td>\n",
       "    </tr>\n",
       "    <tr>\n",
       "      <th>321</th>\n",
       "      <td>q17_equity-q19</td>\n",
       "      <td>3.230982e-02</td>\n",
       "      <td>26.584499</td>\n",
       "      <td>15</td>\n",
       "      <td>../data/test_data/crosstab/q17_equity-q19.png</td>\n",
       "    </tr>\n",
       "    <tr>\n",
       "      <th>322</th>\n",
       "      <td>q17_genderbalance-q17_inclusion</td>\n",
       "      <td>2.737238e-53</td>\n",
       "      <td>271.582306</td>\n",
       "      <td>9</td>\n",
       "      <td>../data/test_data/crosstab/q17_genderbalance-q...</td>\n",
       "    </tr>\n",
       "    <tr>\n",
       "      <th>323</th>\n",
       "      <td>q17_genderbalance-q19</td>\n",
       "      <td>5.436973e-01</td>\n",
       "      <td>13.761392</td>\n",
       "      <td>15</td>\n",
       "      <td>../data/test_data/crosstab/q17_genderbalance-q...</td>\n",
       "    </tr>\n",
       "    <tr>\n",
       "      <th>324</th>\n",
       "      <td>q17_inclusion-q19</td>\n",
       "      <td>8.232043e-01</td>\n",
       "      <td>9.944695</td>\n",
       "      <td>15</td>\n",
       "      <td>../data/test_data/crosstab/q17_inclusion-q19.png</td>\n",
       "    </tr>\n",
       "  </tbody>\n",
       "</table>\n",
       "<p>325 rows × 5 columns</p>\n",
       "</div>"
      ],
      "text/plain": [
       "                           questions        p_value   statistic  dof  \\\n",
       "0                            q01-q02   5.795956e-01   29.775320   32   \n",
       "1                            q01-q03   4.781194e-08  232.366478  128   \n",
       "2                   q01-q03_regional   2.875787e-09  115.590322   40   \n",
       "3                q01-q03_subregional   4.781194e-08  232.366478  128   \n",
       "4                            q01-q04   2.089338e-11  274.586635  136   \n",
       "..                               ...            ...         ...  ...   \n",
       "320         q17_equity-q17_inclusion  1.088810e-100  494.033999    9   \n",
       "321                   q17_equity-q19   3.230982e-02   26.584499   15   \n",
       "322  q17_genderbalance-q17_inclusion   2.737238e-53  271.582306    9   \n",
       "323            q17_genderbalance-q19   5.436973e-01   13.761392   15   \n",
       "324                q17_inclusion-q19   8.232043e-01    9.944695   15   \n",
       "\n",
       "                                                   png  \n",
       "0               ../data/test_data/crosstab/q01-q02.png  \n",
       "1               ../data/test_data/crosstab/q01-q03.png  \n",
       "2      ../data/test_data/crosstab/q01-q03_regional.png  \n",
       "3    ../data/test_data/crosstab/q01-q03_subregional...  \n",
       "4               ../data/test_data/crosstab/q01-q04.png  \n",
       "..                                                 ...  \n",
       "320  ../data/test_data/crosstab/q17_equity-q17_incl...  \n",
       "321      ../data/test_data/crosstab/q17_equity-q19.png  \n",
       "322  ../data/test_data/crosstab/q17_genderbalance-q...  \n",
       "323  ../data/test_data/crosstab/q17_genderbalance-q...  \n",
       "324   ../data/test_data/crosstab/q17_inclusion-q19.png  \n",
       "\n",
       "[325 rows x 5 columns]"
      ]
     },
     "execution_count": 3,
     "metadata": {},
     "output_type": "execute_result"
    }
   ],
   "source": [
    "data"
   ]
  },
  {
   "cell_type": "code",
   "execution_count": null,
   "metadata": {},
   "outputs": [],
   "source": [
    "def draw_chi2_test(data: pd.DataFrame):\n",
    "    mark = alt.Chart(data).mark_circle(size=300).encode(\n",
    "        alt.X(\"p_value\"),\n",
    "        alt.Y(\"questions\"),\n",
    "        alt.Color(\"dof\"),\n",
    "        alt.Tooltip([\"questions\", \"p_value\", \"statistic\", \"dof\"])\n",
    "    )\n",
    "\n",
    "    rule = alt.Chart().mark_rule(color=\"orange\").encode(\n",
    "        x = alt.datum(0.05)\n",
    "    )\n",
    "\n",
    "    n = len(data)\n",
    "    chart = (mark + rule).properties(\n",
    "        title=f\"Number of data : {n}\",\n",
    "        width=1000,\n",
    "    )\n",
    "    \n",
    "    return chart"
   ]
  },
  {
   "cell_type": "code",
   "execution_count": null,
   "metadata": {},
   "outputs": [],
   "source": [
    "draw_chi2_test(data).interactive()\n",
    "draw_chi2_test(data).save(\"../data/test_data/chi2_test/chi2_test.png\")"
   ]
  },
  {
   "cell_type": "code",
   "execution_count": null,
   "metadata": {},
   "outputs": [],
   "source": [
    "diff = data.query(\"0 < p_value < 0.05\")\n",
    "draw_chi2_test(diff).interactive()\n",
    "draw_chi2_test(diff).save(\"../data/test_data/chi2_test/chi2_test_p005.png\")"
   ]
  },
  {
   "cell_type": "code",
   "execution_count": null,
   "metadata": {},
   "outputs": [],
   "source": []
  }
 ],
 "metadata": {
  "kernelspec": {
   "display_name": ".venv",
   "language": "python",
   "name": "python3"
  },
  "language_info": {
   "codemirror_mode": {
    "name": "ipython",
    "version": 3
   },
   "file_extension": ".py",
   "mimetype": "text/x-python",
   "name": "python",
   "nbconvert_exporter": "python",
   "pygments_lexer": "ipython3",
   "version": "3.11.4"
  },
  "orig_nbformat": 4
 },
 "nbformat": 4,
 "nbformat_minor": 2
}
