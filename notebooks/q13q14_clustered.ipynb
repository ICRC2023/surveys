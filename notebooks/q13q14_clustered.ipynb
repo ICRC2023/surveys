{
 "cells": [
  {
   "cell_type": "code",
   "execution_count": null,
   "metadata": {},
   "outputs": [],
   "source": [
    "import altair as alt\n",
    "import pandas as pd\n",
    "import scipy as sp\n",
    "import titanite as ti\n",
    "\n",
    "print(f\"Altair {alt.__version__}\")\n",
    "print(f\"Pandas {pd.__version__}\")\n",
    "print(f\"SciPy {sp.__version__}\")\n",
    "print(f\"Titanite {ti.__version__}\")"
   ]
  },
  {
   "cell_type": "code",
   "execution_count": null,
   "metadata": {},
   "outputs": [],
   "source": [
    "f_cfg = \"../sandbox/config.toml\"\n",
    "f_csv = \"../data/test_data/prepared_data.csv\"\n",
    "\n",
    "d = ti.Data(read_from=f_csv, load_from=f_cfg)\n",
    "config = d.config()\n",
    "data = d.read()"
   ]
  },
  {
   "cell_type": "code",
   "execution_count": null,
   "metadata": {},
   "outputs": [],
   "source": [
    "def h(data:pd.DataFrame, x: str, y: str, color:str, title:str = \"No title\"):\n",
    "    c1, c2 = ti.core.group_hbar(data, x, y, color, title)\n",
    "    c1.properties(width=300)\n",
    "    c2.properties(width=300)\n",
    "    return (c1 | c2)"
   ]
  },
  {
   "cell_type": "code",
   "execution_count": null,
   "metadata": {},
   "outputs": [],
   "source": [
    "questions = config.get(\"questions\")\n",
    "for header in d.categorical_headers:\n",
    "    key = header#.split(\"_\")[0]\n",
    "    t = questions.get(key, \"Could not get title.\")\n",
    "    print(\"=\" * 80)\n",
    "    print(f\"{header}\")\n",
    "    \n",
    "    for color in [\"q01_clustered\", \"q0102_clustered\", \"q13q14_clustered\"]:    \n",
    "        name = f\"{header}-{color}\"\n",
    "        print(\"-\" * 40)\n",
    "        print(f\"{name}\")\n",
    "        print(\"-\" * 40)\n",
    "        c = h(data, x=header, y=\"count()\", color=color, title=t)\n",
    "        c.display()\n",
    "        fname = f\"../data/test_data/hbar/tmp_{name}.png\"\n",
    "        #c.save(fname)\n",
    "        print(f\"Saved chart to: {fname}\")"
   ]
  },
  {
   "cell_type": "code",
   "execution_count": null,
   "metadata": {},
   "outputs": [],
   "source": []
  },
  {
   "cell_type": "code",
   "execution_count": null,
   "metadata": {},
   "outputs": [],
   "source": []
  }
 ],
 "metadata": {
  "kernelspec": {
   "display_name": ".venv",
   "language": "python",
   "name": "python3"
  },
  "language_info": {
   "codemirror_mode": {
    "name": "ipython",
    "version": 3
   },
   "file_extension": ".py",
   "mimetype": "text/x-python",
   "name": "python",
   "nbconvert_exporter": "python",
   "pygments_lexer": "ipython3",
   "version": "3.11.4"
  },
  "orig_nbformat": 4
 },
 "nbformat": 4,
 "nbformat_minor": 2
}
