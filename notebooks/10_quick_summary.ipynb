{
 "cells": [
  {
   "cell_type": "markdown",
   "metadata": {},
   "source": [
    "# 事前アンケートの質問項目\n",
    "\n",
    "0. タイムスタンプ\n",
    "1. 【Q1】What is your age ?\n",
    "2. 【Q2】What gender do you identify as ?\n",
    "3. 【Q3】Which geographical region are you currently working or attending school/university in ?\n",
    "4. 【Q4】Which geographical region do you most strongly associate with ?\n",
    "5. 【Q5】What is your job title ?\n",
    "6. 【Q6】Which group do you belong to ?\n",
    "7. 【Q7】What is your research type ?\n",
    "8. 【Q8】How long have you been in this field ?\n",
    "9. 【Q9】Are you satisfied with your career to date ?\n",
    "10. 【Q10】How many hours, on average, do you spend on housework, childcare, and caregiving per day ?\n",
    "11. 【Q11】Did you already sign up for the diversity session in ICRC2023?\n",
    "12. 【Q12】What do you think about the initiatives on DE&I of your group? [Gender balance]\n",
    "13. 【Q12】What do you think about the initiatives on DE&I of your group? [Diversity]\n",
    "14. 【Q12】What do you think about the initiatives on DE&I of your group? [Equity]\n",
    "15. 【Q12】What do you think about the initiatives on DE&I of your group? [Inclusion]\n",
    "16. 【Q13】What is the percentage of female researcher in your group?\n",
    "17. 【Q14】What do you think about the percentage above ?\n",
    "18. 【Q15】Please let us know If your group has any good practice examples related to DE&I ?\n",
    "19. 【Q16】Please let us know if there is anything your group needs to work on or if your group has any problems related to DE&I.\n",
    "20. 【Q17】What are your thoughts on diversity, equity & inclusion initiatives ? [Gender balance]\n",
    "21. 【Q17】What are your thoughts on diversity, equity & inclusion initiatives ? [Diversity]\n",
    "22. 【Q17】What are your thoughts on diversity, equity & inclusion initiatives ? [Equity]\n",
    "23. 【Q17】What are your thoughts on diversity, equity & inclusion initiatives ? [Inclusion]\n",
    "24. 【Q18】Could you tell us more about your thoughts (agree / disagree) ?\n",
    "25. 【Q19】When did you first become interested in science ?\n",
    "26. 【Q20】Do you have any concerns / problems related to DE&I initiatives in science ?\n",
    "27. 【Q21】What reasons do you think are hindering DE&I initiatives in science ?\n",
    "28. 【Q22】Comments"
   ]
  },
  {
   "cell_type": "markdown",
   "metadata": {},
   "source": [
    "Pythonのライブラリ\n",
    "- ``pathlib.Path`` : パス操作\n",
    "- ``pandas`` : データ集計\n",
    "- ``altair (v5)`` : プロット作成"
   ]
  },
  {
   "cell_type": "code",
   "execution_count": null,
   "metadata": {},
   "outputs": [],
   "source": [
    "from pathlib import Path\n",
    "import pandas as pd\n",
    "import altair as alt\n",
    "import titanite as ti\n",
    "\n",
    "print(f\"Pandas {pd.__version__}\")\n",
    "print(f\"Altair {alt.__version__}\")\n",
    "print(f\"Titanite {ti.__version__}\")"
   ]
  },
  {
   "cell_type": "markdown",
   "metadata": {},
   "source": [
    "事前アンケートの結果を読み込む\n",
    "\n",
    "- 回答データはGoogleスプレッドシートからCSV形式でダウンロード（手動）\n",
    "- ファイルパスは``../data/test_data/``にする（あとで変えるかも）\n",
    "- 回答時刻（``timestamp``カラム）はDateTimeオブジェクトに変換する\n",
    "- 回答数を集計（主に``sum``）するためのカラム``response``を追加する"
   ]
  },
  {
   "cell_type": "code",
   "execution_count": null,
   "metadata": {},
   "outputs": [],
   "source": [
    "fname = \"../sandbox/config.toml\"\n",
    "cfg = ti.Config(fname=fname)\n",
    "cfg.load()\n",
    "category = cfg.categories()"
   ]
  },
  {
   "cell_type": "code",
   "execution_count": null,
   "metadata": {},
   "outputs": [],
   "source": []
  },
  {
   "cell_type": "code",
   "execution_count": null,
   "metadata": {},
   "outputs": [],
   "source": [
    "fname = \"../data/test_data/all.csv\"\n",
    "data = pd.read_csv(fname, parse_dates=[\"timestamp\"])\n",
    "data = ti.categorical_data(data, category)\n",
    "data.info()"
   ]
  },
  {
   "cell_type": "code",
   "execution_count": null,
   "metadata": {},
   "outputs": [],
   "source": []
  },
  {
   "cell_type": "code",
   "execution_count": null,
   "metadata": {},
   "outputs": [],
   "source": [
    "# データフレームを確認する（不要なときはコメントアウトしておく）\n",
    "# data.head()\n",
    "# data.columns"
   ]
  },
  {
   "cell_type": "code",
   "execution_count": null,
   "metadata": {},
   "outputs": [],
   "source": [
    "alt.Chart(data).mark_bar().encode(x=\"q1\", y=\"count()\")"
   ]
  },
  {
   "cell_type": "markdown",
   "metadata": {},
   "source": [
    "回答時刻を調べてみる\n",
    "\n",
    "- [バブル図](https://altair-viz.github.io/gallery/histogram_scatterplot.html)を使ってみる → いまいちだったのでヒートマップにした\n",
    "- ``timestamp``カラムを使って、回答時刻の分布を調べる\n",
    "- 記録されている日時は、たぶんUTC+0900？（よく分かってない）\n",
    "- 年月日（=date）ごとにリサンプルして合計したいので、データフレームのインデックスを``timestamp``にする\n",
    "- ``date``と``時刻``のヒートマップを作りたいので、それ用のカラムを追加する"
   ]
  },
  {
   "cell_type": "code",
   "execution_count": null,
   "metadata": {},
   "outputs": [],
   "source": [
    "data.index = data[\"timestamp\"]\n",
    "tm = data.resample(\"H\")[\"response\"].sum().reset_index()\n",
    "# tm[\"yyyymmdd\"] = pd.to_datetime(tm[\"timestamp\"].dt.date)\n",
    "# tm[\"HH\"] = tm[\"timestamp\"].dt.hour\n",
    "# tm.info()"
   ]
  },
  {
   "cell_type": "code",
   "execution_count": null,
   "metadata": {},
   "outputs": [],
   "source": [
    "tm"
   ]
  },
  {
   "cell_type": "markdown",
   "metadata": {},
   "source": [
    "回答"
   ]
  },
  {
   "cell_type": "code",
   "execution_count": null,
   "metadata": {},
   "outputs": [],
   "source": [
    "base = alt.Chart(tm).encode(\n",
    "    alt.X(\"hours(timestamp):T\").title(\"時刻\"),\n",
    "    alt.Y(\"yearmonthdate(timestamp):T\").title(\"記入日\").axis(format=\"%Y-%m-%d\").sort(\"descending\"),\n",
    ").properties(\n",
    "    width=800,\n",
    "    height=400,\n",
    ")\n",
    "\n",
    "\n",
    "hm = base.mark_rect().encode(\n",
    "    alt.Color(\"response\").scale(scheme=\"blues\").title(\"回答数\"),\n",
    "    #size=\"response\"\n",
    ")\n",
    "\n",
    "tt = base.mark_text(baseline=\"line-top\").encode(\n",
    "    alt.Text(\"response\"),\n",
    ")\n",
    "\n",
    "\n",
    "(hm + tt).save(\"tmp_registered.png\")\n",
    "(hm + tt)"
   ]
  },
  {
   "cell_type": "markdown",
   "metadata": {},
   "source": [
    "すべての質問に対してヒストグラムを作成する\n",
    "\n",
    "- 横軸を「質問番号」にしたヒストグラムを作成する\n",
    "- 横軸はカテゴリカルなデータにして、任意の順番に並べたい（TODO）\n",
    "  - いまは自動でアルファベット順に整列"
   ]
  },
  {
   "cell_type": "code",
   "execution_count": null,
   "metadata": {},
   "outputs": [],
   "source": [
    "def make_histogram(data: pd.DataFrame, x: str, title: str):\n",
    "    g = list(set([\"q2\", x]))\n",
    "    grouped = data.groupby(g)[\"response\"].sum().reset_index().sort_values(by=x)\n",
    "    chart = alt.Chart(grouped).mark_bar().encode(\n",
    "        alt.X(x),\n",
    "        alt.Y(\"response\").stack(\"normalize\"),\n",
    "        alt.Color(\"q2\"),\n",
    "    ).properties(\n",
    "        title=title,\n",
    "        width=500,\n",
    "        height=500,\n",
    "    )\n",
    "    return {\"data\": grouped, \"chart\": chart}"
   ]
  },
  {
   "cell_type": "code",
   "execution_count": null,
   "metadata": {},
   "outputs": [],
   "source": [
    "t = cfg.questions.get(\"q3\", \"Could not get title\")\n",
    "q = make_histogram(data, \"q3\", t)\n",
    "q[\"data\"]\n",
    "q[\"chart\"]"
   ]
  },
  {
   "cell_type": "code",
   "execution_count": null,
   "metadata": {},
   "outputs": [],
   "source": [
    "# sorted(data.columns)[:-2]"
   ]
  },
  {
   "cell_type": "code",
   "execution_count": null,
   "metadata": {},
   "outputs": [],
   "source": [
    "# すべてのカラムでループ\n",
    "# ただし timestampとresponseは除外\n",
    "cols = sorted(data.columns)[:-2]\n",
    "for col in cols:\n",
    "    key = col.split(\"_\")[0]\n",
    "    title = cfg.questions.get(key, \"Could Not Find Key\")\n",
    "    hist = make_histogram(data, col, title)\n",
    "    fname = f\"../data/quick_summary/tmp_{col}.csv\"\n",
    "    hist[\"data\"].to_csv(fname, index=False)\n",
    "    fname = f\"../data/quick_summary/tmp_{col}.png\"\n",
    "    hist[\"chart\"].save(fname)\n",
    "    "
   ]
  },
  {
   "cell_type": "markdown",
   "metadata": {},
   "source": [
    "2つの質問をクロス集計する\n",
    "\n",
    "- すべてのカラムに対してクロス集計する\n",
    "- CSV集計するときの見出し列をわかりやすくするために、転置（``.T``）している\n",
    "  - もっとコードが読みやすくなる方法があるかもしれない"
   ]
  },
  {
   "cell_type": "code",
   "execution_count": null,
   "metadata": {},
   "outputs": [],
   "source": [
    "cols = sorted(data.columns)[:-2]\n",
    "ctabs = {}\n",
    "for c1 in cols:\n",
    "    for c2 in cols:\n",
    "        ctab = pd.crosstab(data[c1], data[c2])\n",
    "        name = f\"{c1}_{c2}\"\n",
    "        fname = f\"../data/quick_summary/tmp_crosstab_{name}.csv\"\n",
    "        ctab.T.to_csv(fname)\n",
    "        print(f\"Saved as {fname}\")\n",
    "        ctabs.update({name: ctab})"
   ]
  },
  {
   "cell_type": "code",
   "execution_count": null,
   "metadata": {},
   "outputs": [],
   "source": []
  }
 ],
 "metadata": {
  "kernelspec": {
   "display_name": ".venv",
   "language": "python",
   "name": "python3"
  },
  "language_info": {
   "codemirror_mode": {
    "name": "ipython",
    "version": 3
   },
   "file_extension": ".py",
   "mimetype": "text/x-python",
   "name": "python",
   "nbconvert_exporter": "python",
   "pygments_lexer": "ipython3",
   "version": "3.11.4"
  },
  "orig_nbformat": 4
 },
 "nbformat": 4,
 "nbformat_minor": 2
}
