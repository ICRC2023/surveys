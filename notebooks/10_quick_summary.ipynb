{
 "cells": [
  {
   "cell_type": "markdown",
   "metadata": {},
   "source": [
    "# 事前アンケートの質問項目\n",
    "\n",
    "0. タイムスタンプ\n",
    "1. 【Q1】What is your age ?\n",
    "2. 【Q2】What gender do you identify as ?\n",
    "3. 【Q3】Which geographical region are you currently working or attending school/university in ?\n",
    "4. 【Q4】Which geographical region do you most strongly associate with ?\n",
    "5. 【Q5】What is your job title ?\n",
    "6. 【Q6】Which group do you belong to ?\n",
    "7. 【Q7】What is your research type ?\n",
    "8. 【Q8】How long have you been in this field ?\n",
    "9. 【Q9】Are you satisfied with your career to date ?\n",
    "10. 【Q10】How many hours, on average, do you spend on housework, childcare, and caregiving per day ?\n",
    "11. 【Q11】Did you already sign up for the diversity session in ICRC2023?\n",
    "12. 【Q12】What do you think about the initiatives on DE&I of your group? [Gender balance]\n",
    "13. 【Q12】What do you think about the initiatives on DE&I of your group? [Diversity]\n",
    "14. 【Q12】What do you think about the initiatives on DE&I of your group? [Equity]\n",
    "15. 【Q12】What do you think about the initiatives on DE&I of your group? [Inclusion]\n",
    "16. 【Q13】What is the percentage of female researcher in your group?\n",
    "17. 【Q14】What do you think about the percentage above ?\n",
    "18. 【Q15】Please let us know If your group has any good practice examples related to DE&I ?\n",
    "19. 【Q16】Please let us know if there is anything your group needs to work on or if your group has any problems related to DE&I.\n",
    "20. 【Q17】What are your thoughts on diversity, equity & inclusion initiatives ? [Gender balance]\n",
    "21. 【Q17】What are your thoughts on diversity, equity & inclusion initiatives ? [Diversity]\n",
    "22. 【Q17】What are your thoughts on diversity, equity & inclusion initiatives ? [Equity]\n",
    "23. 【Q17】What are your thoughts on diversity, equity & inclusion initiatives ? [Inclusion]\n",
    "24. 【Q18】Could you tell us more about your thoughts (agree / disagree) ?\n",
    "25. 【Q19】When did you first become interested in science ?\n",
    "26. 【Q20】Do you have any concerns / problems related to DE&I initiatives in science ?\n",
    "27. 【Q21】What reasons do you think are hindering DE&I initiatives in science ?\n",
    "28. 【Q22】Comments"
   ]
  },
  {
   "cell_type": "markdown",
   "metadata": {},
   "source": [
    "Pythonのライブラリ\n",
    "- ``pathlib.Path`` : パス操作\n",
    "- ``pandas`` : データ集計\n",
    "- ``altair (v5)`` : プロット作成"
   ]
  },
  {
   "cell_type": "code",
   "execution_count": 16,
   "metadata": {},
   "outputs": [
    {
     "name": "stdout",
     "output_type": "stream",
     "text": [
      "Pandas 2.0.3\n",
      "Altair 5.0.1\n",
      "Titanite 0.4.1\n"
     ]
    }
   ],
   "source": [
    "from pathlib import Path\n",
    "import pandas as pd\n",
    "import altair as alt\n",
    "import titanite as ti\n",
    "\n",
    "print(f\"Pandas {pd.__version__}\")\n",
    "print(f\"Altair {alt.__version__}\")\n",
    "print(f\"Titanite {ti.__version__}\")"
   ]
  },
  {
   "cell_type": "markdown",
   "metadata": {},
   "source": [
    "事前アンケートの結果を読み込む\n",
    "\n",
    "- 回答データはGoogleスプレッドシートからCSV形式でダウンロード（手動）\n",
    "- ファイルパスは``../data/test_data/``にする（あとで変えるかも）\n",
    "- 回答時刻（``timestamp``カラム）はDateTimeオブジェクトに変換する\n",
    "- 回答数を集計（主に``sum``）するためのカラム``response``を追加する"
   ]
  },
  {
   "cell_type": "code",
   "execution_count": 17,
   "metadata": {},
   "outputs": [],
   "source": [
    "f_cfg = \"../sandbox/config.toml\"\n",
    "cfg = ti.Config(fname=f_cfg)\n",
    "cfg.load()\n",
    "category = cfg.categories()"
   ]
  },
  {
   "cell_type": "code",
   "execution_count": 18,
   "metadata": {},
   "outputs": [
    {
     "name": "stderr",
     "output_type": "stream",
     "text": [
      "\u001b[32m2023-07-24 09:38:39.937\u001b[0m | \u001b[1mINFO    \u001b[0m | \u001b[36mtitanite.preprocess\u001b[0m:\u001b[36mcategorical_data\u001b[0m:\u001b[36m123\u001b[0m - \u001b[1mCategorize\u001b[0m\n",
      "\u001b[32m2023-07-24 09:38:39.942\u001b[0m | \u001b[1mINFO    \u001b[0m | \u001b[36mtitanite.preprocess\u001b[0m:\u001b[36mbinned_data\u001b[0m:\u001b[36m229\u001b[0m - \u001b[1mBinned\u001b[0m\n"
     ]
    },
    {
     "name": "stdout",
     "output_type": "stream",
     "text": [
      "<class 'pandas.core.frame.DataFrame'>\n",
      "RangeIndex: 287 entries, 0 to 286\n",
      "Data columns (total 54 columns):\n",
      " #   Column             Non-Null Count  Dtype         \n",
      "---  ------             --------------  -----         \n",
      " 0   timestamp          287 non-null    datetime64[ns]\n",
      " 1   q01                287 non-null    category      \n",
      " 2   q02                287 non-null    category      \n",
      " 3   q03                287 non-null    category      \n",
      " 4   q04                287 non-null    category      \n",
      " 5   q05                287 non-null    category      \n",
      " 6   q06                287 non-null    category      \n",
      " 7   q07                287 non-null    category      \n",
      " 8   q08                287 non-null    category      \n",
      " 9   q09                287 non-null    category      \n",
      " 10  q10                287 non-null    int64         \n",
      " 11  q11                287 non-null    category      \n",
      " 12  q12_genderbalance  287 non-null    category      \n",
      " 13  q12_diversity      287 non-null    category      \n",
      " 14  q12_equity         287 non-null    category      \n",
      " 15  q12_inclusion      287 non-null    category      \n",
      " 16  q13                287 non-null    int64         \n",
      " 17  q14                287 non-null    category      \n",
      " 18  q15                54 non-null     object        \n",
      " 19  q16                56 non-null     object        \n",
      " 20  q17_genderbalance  287 non-null    category      \n",
      " 21  q17_diversity      287 non-null    category      \n",
      " 22  q17_equity         287 non-null    category      \n",
      " 23  q17_inclusion      287 non-null    category      \n",
      " 24  q18                68 non-null     object        \n",
      " 25  q19                287 non-null    category      \n",
      " 26  q20                79 non-null     object        \n",
      " 27  q21                91 non-null     object        \n",
      " 28  q22                36 non-null     object        \n",
      " 29  response           287 non-null    int64         \n",
      " 30  q03_regional       287 non-null    category      \n",
      " 31  q03_subregional    287 non-null    category      \n",
      " 32  q04_regional       287 non-null    category      \n",
      " 33  q04_subregional    287 non-null    category      \n",
      " 34  q15_polarity       54 non-null     float64       \n",
      " 35  q15_subjectivity   54 non-null     float64       \n",
      " 36  q15_ja             54 non-null     object        \n",
      " 37  q16_polarity       56 non-null     float64       \n",
      " 38  q16_subjectivity   56 non-null     float64       \n",
      " 39  q16_ja             56 non-null     object        \n",
      " 40  q18_polarity       68 non-null     float64       \n",
      " 41  q18_subjectivity   68 non-null     float64       \n",
      " 42  q18_ja             68 non-null     object        \n",
      " 43  q20_polarity       79 non-null     float64       \n",
      " 44  q20_subjectivity   79 non-null     float64       \n",
      " 45  q20_ja             79 non-null     object        \n",
      " 46  q21_polarity       91 non-null     float64       \n",
      " 47  q21_subjectivity   91 non-null     float64       \n",
      " 48  q21_ja             91 non-null     object        \n",
      " 49  q22_polarity       36 non-null     float64       \n",
      " 50  q22_subjectivity   36 non-null     float64       \n",
      " 51  q22_ja             36 non-null     object        \n",
      " 52  q10_binned         287 non-null    category      \n",
      " 53  q13_binned         287 non-null    category      \n",
      "dtypes: category(26), datetime64[ns](1), float64(12), int64(3), object(12)\n",
      "memory usage: 78.6+ KB\n"
     ]
    }
   ],
   "source": [
    "f_csv = \"../data/test_data/prepared_data.csv\"\n",
    "data = pd.read_csv(f_csv, parse_dates=[\"timestamp\"])\n",
    "data = ti.categorical_data(data, category)\n",
    "data.info()"
   ]
  },
  {
   "cell_type": "markdown",
   "metadata": {},
   "source": [
    "ビニングを追加"
   ]
  },
  {
   "cell_type": "code",
   "execution_count": 19,
   "metadata": {},
   "outputs": [],
   "source": [
    "data[\"q10_binned\"] = pd.cut(\n",
    "    data[\"q10\"],\n",
    "    [-1, 0, 1, 2, 3, 4, 5, 6, 7, 8, 9, 10, 25],\n",
    "    labels = [\"Prefer not to answer\", \"0\", \"1\", \"2\", \"3\", \"4\", \"5\", \"6\", \"7\", \"8\", \"9\", \"10+\"],\n",
    "    right=False)\n",
    "data[\"q13_binned\"] = pd.cut(\n",
    "    data[\"q13\"],\n",
    "    [-1, 0, 10, 15, 20, 25, 30, 35, 40, 45, 50, 55, 60, 65, 70, 75, 80, 85, 90, 95, 100],\n",
    "    labels = [\"Prefer not to answer\", \"0\", \"10\", \"15\", \"20\", \"25\", \"30\", \"35\", \"40\", \"45\", \"50\", \"55\", \"60\", \"65\", \"70\", \"75\", \"80\", \"85\", \"90\", \"95\"],\n",
    "    right=False)"
   ]
  },
  {
   "cell_type": "code",
   "execution_count": 20,
   "metadata": {},
   "outputs": [],
   "source": [
    "# データフレームを確認する（不要なときはコメントアウトしておく）\n",
    "# data.head()\n",
    "# data.columns"
   ]
  },
  {
   "cell_type": "code",
   "execution_count": 21,
   "metadata": {},
   "outputs": [],
   "source": [
    "#alt.Chart(data).mark_bar().encode(x=\"q1\", y=\"count()\")"
   ]
  },
  {
   "cell_type": "markdown",
   "metadata": {},
   "source": [
    "回答時刻を調べてみる\n",
    "\n",
    "- [バブル図](https://altair-viz.github.io/gallery/histogram_scatterplot.html)を使ってみる → いまいちだったのでヒートマップにした\n",
    "- ``timestamp``カラムを使って、回答時刻の分布を調べる\n",
    "- 記録されている日時は、たぶんUTC+0900？（よく分かってない）\n",
    "- 年月日（=date）ごとにリサンプルして合計したいので、データフレームのインデックスを``timestamp``にする\n",
    "- ``date``と``時刻``のヒートマップを作りたいので、それ用のカラムを追加する"
   ]
  },
  {
   "cell_type": "code",
   "execution_count": 22,
   "metadata": {},
   "outputs": [],
   "source": [
    "data.index = data[\"timestamp\"]\n",
    "tm = data.resample(\"H\")[\"response\"].sum().reset_index()\n",
    "# tm[\"yyyymmdd\"] = pd.to_datetime(tm[\"timestamp\"].dt.date)\n",
    "# tm[\"HH\"] = tm[\"timestamp\"].dt.hour\n",
    "# tm.info()"
   ]
  },
  {
   "cell_type": "code",
   "execution_count": 23,
   "metadata": {},
   "outputs": [],
   "source": [
    "#tm"
   ]
  },
  {
   "cell_type": "markdown",
   "metadata": {},
   "source": [
    "回答"
   ]
  },
  {
   "cell_type": "code",
   "execution_count": 24,
   "metadata": {},
   "outputs": [
    {
     "data": {
      "text/html": [
       "\n",
       "<style>\n",
       "  #altair-viz-a8a921c519e94571abe115f5ba47cf23.vega-embed {\n",
       "    width: 100%;\n",
       "    display: flex;\n",
       "  }\n",
       "\n",
       "  #altair-viz-a8a921c519e94571abe115f5ba47cf23.vega-embed details,\n",
       "  #altair-viz-a8a921c519e94571abe115f5ba47cf23.vega-embed details summary {\n",
       "    position: relative;\n",
       "  }\n",
       "</style>\n",
       "<div id=\"altair-viz-a8a921c519e94571abe115f5ba47cf23\"></div>\n",
       "<script type=\"text/javascript\">\n",
       "  var VEGA_DEBUG = (typeof VEGA_DEBUG == \"undefined\") ? {} : VEGA_DEBUG;\n",
       "  (function(spec, embedOpt){\n",
       "    let outputDiv = document.currentScript.previousElementSibling;\n",
       "    if (outputDiv.id !== \"altair-viz-a8a921c519e94571abe115f5ba47cf23\") {\n",
       "      outputDiv = document.getElementById(\"altair-viz-a8a921c519e94571abe115f5ba47cf23\");\n",
       "    }\n",
       "    const paths = {\n",
       "      \"vega\": \"https://cdn.jsdelivr.net/npm/vega@5?noext\",\n",
       "      \"vega-lib\": \"https://cdn.jsdelivr.net/npm/vega-lib?noext\",\n",
       "      \"vega-lite\": \"https://cdn.jsdelivr.net/npm/vega-lite@5.8.0?noext\",\n",
       "      \"vega-embed\": \"https://cdn.jsdelivr.net/npm/vega-embed@6?noext\",\n",
       "    };\n",
       "\n",
       "    function maybeLoadScript(lib, version) {\n",
       "      var key = `${lib.replace(\"-\", \"\")}_version`;\n",
       "      return (VEGA_DEBUG[key] == version) ?\n",
       "        Promise.resolve(paths[lib]) :\n",
       "        new Promise(function(resolve, reject) {\n",
       "          var s = document.createElement('script');\n",
       "          document.getElementsByTagName(\"head\")[0].appendChild(s);\n",
       "          s.async = true;\n",
       "          s.onload = () => {\n",
       "            VEGA_DEBUG[key] = version;\n",
       "            return resolve(paths[lib]);\n",
       "          };\n",
       "          s.onerror = () => reject(`Error loading script: ${paths[lib]}`);\n",
       "          s.src = paths[lib];\n",
       "        });\n",
       "    }\n",
       "\n",
       "    function showError(err) {\n",
       "      outputDiv.innerHTML = `<div class=\"error\" style=\"color:red;\">${err}</div>`;\n",
       "      throw err;\n",
       "    }\n",
       "\n",
       "    function displayChart(vegaEmbed) {\n",
       "      vegaEmbed(outputDiv, spec, embedOpt)\n",
       "        .catch(err => showError(`Javascript Error: ${err.message}<br>This usually means there's a typo in your chart specification. See the javascript console for the full traceback.`));\n",
       "    }\n",
       "\n",
       "    if(typeof define === \"function\" && define.amd) {\n",
       "      requirejs.config({paths});\n",
       "      require([\"vega-embed\"], displayChart, err => showError(`Error loading script: ${err.message}`));\n",
       "    } else {\n",
       "      maybeLoadScript(\"vega\", \"5\")\n",
       "        .then(() => maybeLoadScript(\"vega-lite\", \"5.8.0\"))\n",
       "        .then(() => maybeLoadScript(\"vega-embed\", \"6\"))\n",
       "        .catch(showError)\n",
       "        .then(() => displayChart(vegaEmbed));\n",
       "    }\n",
       "  })({\"config\": {\"view\": {\"continuousWidth\": 300, \"continuousHeight\": 300}}, \"layer\": [{\"mark\": {\"type\": \"rect\"}, \"encoding\": {\"color\": {\"field\": \"response\", \"scale\": {\"scheme\": \"blues\"}, \"title\": \"\\u56de\\u7b54\\u6570\", \"type\": \"quantitative\"}, \"x\": {\"field\": \"timestamp\", \"timeUnit\": \"hours\", \"title\": \"\\u6642\\u523b\", \"type\": \"temporal\"}, \"y\": {\"axis\": {\"format\": \"%Y-%m-%d\"}, \"field\": \"timestamp\", \"sort\": \"descending\", \"timeUnit\": \"yearmonthdate\", \"title\": \"\\u8a18\\u5165\\u65e5\", \"type\": \"temporal\"}}}, {\"mark\": {\"type\": \"text\", \"baseline\": \"line-top\", \"dx\": 15, \"dy\": 10}, \"encoding\": {\"text\": {\"field\": \"response\", \"type\": \"quantitative\"}, \"x\": {\"field\": \"timestamp\", \"timeUnit\": \"hours\", \"title\": \"\\u6642\\u523b\", \"type\": \"temporal\"}, \"y\": {\"axis\": {\"format\": \"%Y-%m-%d\"}, \"field\": \"timestamp\", \"sort\": \"descending\", \"timeUnit\": \"yearmonthdate\", \"title\": \"\\u8a18\\u5165\\u65e5\", \"type\": \"temporal\"}}}], \"data\": {\"name\": \"data-c3266e09d724ef77e87c6d54c2f2df01\"}, \"height\": 400, \"width\": 800, \"$schema\": \"https://vega.github.io/schema/vega-lite/v5.8.0.json\", \"datasets\": {\"data-c3266e09d724ef77e87c6d54c2f2df01\": [{\"timestamp\": \"2023-07-08T08:00:00\", \"response\": 4}, {\"timestamp\": \"2023-07-08T09:00:00\", \"response\": 15}, {\"timestamp\": \"2023-07-08T10:00:00\", \"response\": 6}, {\"timestamp\": \"2023-07-08T11:00:00\", \"response\": 5}, {\"timestamp\": \"2023-07-08T12:00:00\", \"response\": 3}, {\"timestamp\": \"2023-07-08T13:00:00\", \"response\": 5}, {\"timestamp\": \"2023-07-08T14:00:00\", \"response\": 5}, {\"timestamp\": \"2023-07-08T15:00:00\", \"response\": 6}, {\"timestamp\": \"2023-07-08T16:00:00\", \"response\": 6}, {\"timestamp\": \"2023-07-08T17:00:00\", \"response\": 9}, {\"timestamp\": \"2023-07-08T18:00:00\", \"response\": 4}, {\"timestamp\": \"2023-07-08T19:00:00\", \"response\": 5}, {\"timestamp\": \"2023-07-08T20:00:00\", \"response\": 6}, {\"timestamp\": \"2023-07-08T21:00:00\", \"response\": 9}, {\"timestamp\": \"2023-07-08T22:00:00\", \"response\": 4}, {\"timestamp\": \"2023-07-08T23:00:00\", \"response\": 4}, {\"timestamp\": \"2023-07-09T00:00:00\", \"response\": 1}, {\"timestamp\": \"2023-07-09T01:00:00\", \"response\": 3}, {\"timestamp\": \"2023-07-09T02:00:00\", \"response\": 1}, {\"timestamp\": \"2023-07-09T03:00:00\", \"response\": 2}, {\"timestamp\": \"2023-07-09T04:00:00\", \"response\": 2}, {\"timestamp\": \"2023-07-09T05:00:00\", \"response\": 3}, {\"timestamp\": \"2023-07-09T06:00:00\", \"response\": 2}, {\"timestamp\": \"2023-07-09T07:00:00\", \"response\": 1}, {\"timestamp\": \"2023-07-09T08:00:00\", \"response\": 1}, {\"timestamp\": \"2023-07-09T09:00:00\", \"response\": 1}, {\"timestamp\": \"2023-07-09T10:00:00\", \"response\": 0}, {\"timestamp\": \"2023-07-09T11:00:00\", \"response\": 2}, {\"timestamp\": \"2023-07-09T12:00:00\", \"response\": 1}, {\"timestamp\": \"2023-07-09T13:00:00\", \"response\": 1}, {\"timestamp\": \"2023-07-09T14:00:00\", \"response\": 0}, {\"timestamp\": \"2023-07-09T15:00:00\", \"response\": 0}, {\"timestamp\": \"2023-07-09T16:00:00\", \"response\": 1}, {\"timestamp\": \"2023-07-09T17:00:00\", \"response\": 3}, {\"timestamp\": \"2023-07-09T18:00:00\", \"response\": 7}, {\"timestamp\": \"2023-07-09T19:00:00\", \"response\": 4}, {\"timestamp\": \"2023-07-09T20:00:00\", \"response\": 0}, {\"timestamp\": \"2023-07-09T21:00:00\", \"response\": 1}, {\"timestamp\": \"2023-07-09T22:00:00\", \"response\": 3}, {\"timestamp\": \"2023-07-09T23:00:00\", \"response\": 2}, {\"timestamp\": \"2023-07-10T00:00:00\", \"response\": 3}, {\"timestamp\": \"2023-07-10T01:00:00\", \"response\": 0}, {\"timestamp\": \"2023-07-10T02:00:00\", \"response\": 3}, {\"timestamp\": \"2023-07-10T03:00:00\", \"response\": 0}, {\"timestamp\": \"2023-07-10T04:00:00\", \"response\": 0}, {\"timestamp\": \"2023-07-10T05:00:00\", \"response\": 4}, {\"timestamp\": \"2023-07-10T06:00:00\", \"response\": 2}, {\"timestamp\": \"2023-07-10T07:00:00\", \"response\": 0}, {\"timestamp\": \"2023-07-10T08:00:00\", \"response\": 3}, {\"timestamp\": \"2023-07-10T09:00:00\", \"response\": 1}, {\"timestamp\": \"2023-07-10T10:00:00\", \"response\": 1}, {\"timestamp\": \"2023-07-10T11:00:00\", \"response\": 1}, {\"timestamp\": \"2023-07-10T12:00:00\", \"response\": 1}, {\"timestamp\": \"2023-07-10T13:00:00\", \"response\": 2}, {\"timestamp\": \"2023-07-10T14:00:00\", \"response\": 2}, {\"timestamp\": \"2023-07-10T15:00:00\", \"response\": 3}, {\"timestamp\": \"2023-07-10T16:00:00\", \"response\": 7}, {\"timestamp\": \"2023-07-10T17:00:00\", \"response\": 17}, {\"timestamp\": \"2023-07-10T18:00:00\", \"response\": 5}, {\"timestamp\": \"2023-07-10T19:00:00\", \"response\": 4}, {\"timestamp\": \"2023-07-10T20:00:00\", \"response\": 4}, {\"timestamp\": \"2023-07-10T21:00:00\", \"response\": 6}, {\"timestamp\": \"2023-07-10T22:00:00\", \"response\": 4}, {\"timestamp\": \"2023-07-10T23:00:00\", \"response\": 6}, {\"timestamp\": \"2023-07-11T00:00:00\", \"response\": 1}, {\"timestamp\": \"2023-07-11T01:00:00\", \"response\": 4}, {\"timestamp\": \"2023-07-11T02:00:00\", \"response\": 0}, {\"timestamp\": \"2023-07-11T03:00:00\", \"response\": 1}, {\"timestamp\": \"2023-07-11T04:00:00\", \"response\": 1}, {\"timestamp\": \"2023-07-11T05:00:00\", \"response\": 1}, {\"timestamp\": \"2023-07-11T06:00:00\", \"response\": 0}, {\"timestamp\": \"2023-07-11T07:00:00\", \"response\": 2}, {\"timestamp\": \"2023-07-11T08:00:00\", \"response\": 0}, {\"timestamp\": \"2023-07-11T09:00:00\", \"response\": 1}, {\"timestamp\": \"2023-07-11T10:00:00\", \"response\": 0}, {\"timestamp\": \"2023-07-11T11:00:00\", \"response\": 0}, {\"timestamp\": \"2023-07-11T12:00:00\", \"response\": 0}, {\"timestamp\": \"2023-07-11T13:00:00\", \"response\": 0}, {\"timestamp\": \"2023-07-11T14:00:00\", \"response\": 0}, {\"timestamp\": \"2023-07-11T15:00:00\", \"response\": 1}, {\"timestamp\": \"2023-07-11T16:00:00\", \"response\": 2}, {\"timestamp\": \"2023-07-11T17:00:00\", \"response\": 4}, {\"timestamp\": \"2023-07-11T18:00:00\", \"response\": 0}, {\"timestamp\": \"2023-07-11T19:00:00\", \"response\": 0}, {\"timestamp\": \"2023-07-11T20:00:00\", \"response\": 0}, {\"timestamp\": \"2023-07-11T21:00:00\", \"response\": 0}, {\"timestamp\": \"2023-07-11T22:00:00\", \"response\": 1}, {\"timestamp\": \"2023-07-11T23:00:00\", \"response\": 1}, {\"timestamp\": \"2023-07-12T00:00:00\", \"response\": 1}, {\"timestamp\": \"2023-07-12T01:00:00\", \"response\": 2}, {\"timestamp\": \"2023-07-12T02:00:00\", \"response\": 0}, {\"timestamp\": \"2023-07-12T03:00:00\", \"response\": 0}, {\"timestamp\": \"2023-07-12T04:00:00\", \"response\": 0}, {\"timestamp\": \"2023-07-12T05:00:00\", \"response\": 0}, {\"timestamp\": \"2023-07-12T06:00:00\", \"response\": 0}, {\"timestamp\": \"2023-07-12T07:00:00\", \"response\": 0}, {\"timestamp\": \"2023-07-12T08:00:00\", \"response\": 0}, {\"timestamp\": \"2023-07-12T09:00:00\", \"response\": 0}, {\"timestamp\": \"2023-07-12T10:00:00\", \"response\": 0}, {\"timestamp\": \"2023-07-12T11:00:00\", \"response\": 2}, {\"timestamp\": \"2023-07-12T12:00:00\", \"response\": 0}, {\"timestamp\": \"2023-07-12T13:00:00\", \"response\": 0}, {\"timestamp\": \"2023-07-12T14:00:00\", \"response\": 0}, {\"timestamp\": \"2023-07-12T15:00:00\", \"response\": 0}, {\"timestamp\": \"2023-07-12T16:00:00\", \"response\": 0}, {\"timestamp\": \"2023-07-12T17:00:00\", \"response\": 2}, {\"timestamp\": \"2023-07-12T18:00:00\", \"response\": 0}, {\"timestamp\": \"2023-07-12T19:00:00\", \"response\": 0}, {\"timestamp\": \"2023-07-12T20:00:00\", \"response\": 0}, {\"timestamp\": \"2023-07-12T21:00:00\", \"response\": 1}, {\"timestamp\": \"2023-07-12T22:00:00\", \"response\": 0}, {\"timestamp\": \"2023-07-12T23:00:00\", \"response\": 0}, {\"timestamp\": \"2023-07-13T00:00:00\", \"response\": 0}, {\"timestamp\": \"2023-07-13T01:00:00\", \"response\": 1}, {\"timestamp\": \"2023-07-13T02:00:00\", \"response\": 0}, {\"timestamp\": \"2023-07-13T03:00:00\", \"response\": 0}, {\"timestamp\": \"2023-07-13T04:00:00\", \"response\": 0}, {\"timestamp\": \"2023-07-13T05:00:00\", \"response\": 0}, {\"timestamp\": \"2023-07-13T06:00:00\", \"response\": 0}, {\"timestamp\": \"2023-07-13T07:00:00\", \"response\": 0}, {\"timestamp\": \"2023-07-13T08:00:00\", \"response\": 0}, {\"timestamp\": \"2023-07-13T09:00:00\", \"response\": 0}, {\"timestamp\": \"2023-07-13T10:00:00\", \"response\": 0}, {\"timestamp\": \"2023-07-13T11:00:00\", \"response\": 1}, {\"timestamp\": \"2023-07-13T12:00:00\", \"response\": 0}, {\"timestamp\": \"2023-07-13T13:00:00\", \"response\": 0}, {\"timestamp\": \"2023-07-13T14:00:00\", \"response\": 0}, {\"timestamp\": \"2023-07-13T15:00:00\", \"response\": 0}, {\"timestamp\": \"2023-07-13T16:00:00\", \"response\": 0}, {\"timestamp\": \"2023-07-13T17:00:00\", \"response\": 1}, {\"timestamp\": \"2023-07-13T18:00:00\", \"response\": 0}, {\"timestamp\": \"2023-07-13T19:00:00\", \"response\": 0}, {\"timestamp\": \"2023-07-13T20:00:00\", \"response\": 0}, {\"timestamp\": \"2023-07-13T21:00:00\", \"response\": 0}, {\"timestamp\": \"2023-07-13T22:00:00\", \"response\": 1}, {\"timestamp\": \"2023-07-13T23:00:00\", \"response\": 0}, {\"timestamp\": \"2023-07-14T00:00:00\", \"response\": 1}, {\"timestamp\": \"2023-07-14T01:00:00\", \"response\": 0}, {\"timestamp\": \"2023-07-14T02:00:00\", \"response\": 0}, {\"timestamp\": \"2023-07-14T03:00:00\", \"response\": 0}, {\"timestamp\": \"2023-07-14T04:00:00\", \"response\": 2}, {\"timestamp\": \"2023-07-14T05:00:00\", \"response\": 1}, {\"timestamp\": \"2023-07-14T06:00:00\", \"response\": 0}, {\"timestamp\": \"2023-07-14T07:00:00\", \"response\": 0}, {\"timestamp\": \"2023-07-14T08:00:00\", \"response\": 0}, {\"timestamp\": \"2023-07-14T09:00:00\", \"response\": 1}, {\"timestamp\": \"2023-07-14T10:00:00\", \"response\": 1}, {\"timestamp\": \"2023-07-14T11:00:00\", \"response\": 0}, {\"timestamp\": \"2023-07-14T12:00:00\", \"response\": 0}, {\"timestamp\": \"2023-07-14T13:00:00\", \"response\": 0}, {\"timestamp\": \"2023-07-14T14:00:00\", \"response\": 1}, {\"timestamp\": \"2023-07-14T15:00:00\", \"response\": 0}, {\"timestamp\": \"2023-07-14T16:00:00\", \"response\": 0}, {\"timestamp\": \"2023-07-14T17:00:00\", \"response\": 1}, {\"timestamp\": \"2023-07-14T18:00:00\", \"response\": 0}, {\"timestamp\": \"2023-07-14T19:00:00\", \"response\": 0}, {\"timestamp\": \"2023-07-14T20:00:00\", \"response\": 0}, {\"timestamp\": \"2023-07-14T21:00:00\", \"response\": 0}, {\"timestamp\": \"2023-07-14T22:00:00\", \"response\": 0}, {\"timestamp\": \"2023-07-14T23:00:00\", \"response\": 1}, {\"timestamp\": \"2023-07-15T00:00:00\", \"response\": 0}, {\"timestamp\": \"2023-07-15T01:00:00\", \"response\": 0}, {\"timestamp\": \"2023-07-15T02:00:00\", \"response\": 0}, {\"timestamp\": \"2023-07-15T03:00:00\", \"response\": 0}, {\"timestamp\": \"2023-07-15T04:00:00\", \"response\": 0}, {\"timestamp\": \"2023-07-15T05:00:00\", \"response\": 0}, {\"timestamp\": \"2023-07-15T06:00:00\", \"response\": 0}, {\"timestamp\": \"2023-07-15T07:00:00\", \"response\": 0}, {\"timestamp\": \"2023-07-15T08:00:00\", \"response\": 0}, {\"timestamp\": \"2023-07-15T09:00:00\", \"response\": 0}, {\"timestamp\": \"2023-07-15T10:00:00\", \"response\": 0}, {\"timestamp\": \"2023-07-15T11:00:00\", \"response\": 0}, {\"timestamp\": \"2023-07-15T12:00:00\", \"response\": 0}, {\"timestamp\": \"2023-07-15T13:00:00\", \"response\": 0}, {\"timestamp\": \"2023-07-15T14:00:00\", \"response\": 0}, {\"timestamp\": \"2023-07-15T15:00:00\", \"response\": 0}, {\"timestamp\": \"2023-07-15T16:00:00\", \"response\": 0}, {\"timestamp\": \"2023-07-15T17:00:00\", \"response\": 0}, {\"timestamp\": \"2023-07-15T18:00:00\", \"response\": 1}, {\"timestamp\": \"2023-07-15T19:00:00\", \"response\": 0}, {\"timestamp\": \"2023-07-15T20:00:00\", \"response\": 0}, {\"timestamp\": \"2023-07-15T21:00:00\", \"response\": 0}, {\"timestamp\": \"2023-07-15T22:00:00\", \"response\": 2}, {\"timestamp\": \"2023-07-15T23:00:00\", \"response\": 1}, {\"timestamp\": \"2023-07-16T00:00:00\", \"response\": 0}, {\"timestamp\": \"2023-07-16T01:00:00\", \"response\": 0}, {\"timestamp\": \"2023-07-16T02:00:00\", \"response\": 0}, {\"timestamp\": \"2023-07-16T03:00:00\", \"response\": 0}, {\"timestamp\": \"2023-07-16T04:00:00\", \"response\": 0}, {\"timestamp\": \"2023-07-16T05:00:00\", \"response\": 0}, {\"timestamp\": \"2023-07-16T06:00:00\", \"response\": 0}, {\"timestamp\": \"2023-07-16T07:00:00\", \"response\": 0}, {\"timestamp\": \"2023-07-16T08:00:00\", \"response\": 0}, {\"timestamp\": \"2023-07-16T09:00:00\", \"response\": 0}, {\"timestamp\": \"2023-07-16T10:00:00\", \"response\": 0}, {\"timestamp\": \"2023-07-16T11:00:00\", \"response\": 0}, {\"timestamp\": \"2023-07-16T12:00:00\", \"response\": 0}, {\"timestamp\": \"2023-07-16T13:00:00\", \"response\": 0}, {\"timestamp\": \"2023-07-16T14:00:00\", \"response\": 0}, {\"timestamp\": \"2023-07-16T15:00:00\", \"response\": 0}, {\"timestamp\": \"2023-07-16T16:00:00\", \"response\": 0}, {\"timestamp\": \"2023-07-16T17:00:00\", \"response\": 0}, {\"timestamp\": \"2023-07-16T18:00:00\", \"response\": 0}, {\"timestamp\": \"2023-07-16T19:00:00\", \"response\": 0}, {\"timestamp\": \"2023-07-16T20:00:00\", \"response\": 0}, {\"timestamp\": \"2023-07-16T21:00:00\", \"response\": 0}, {\"timestamp\": \"2023-07-16T22:00:00\", \"response\": 0}, {\"timestamp\": \"2023-07-16T23:00:00\", \"response\": 0}, {\"timestamp\": \"2023-07-17T00:00:00\", \"response\": 0}, {\"timestamp\": \"2023-07-17T01:00:00\", \"response\": 0}, {\"timestamp\": \"2023-07-17T02:00:00\", \"response\": 0}, {\"timestamp\": \"2023-07-17T03:00:00\", \"response\": 0}, {\"timestamp\": \"2023-07-17T04:00:00\", \"response\": 0}, {\"timestamp\": \"2023-07-17T05:00:00\", \"response\": 1}, {\"timestamp\": \"2023-07-17T06:00:00\", \"response\": 0}, {\"timestamp\": \"2023-07-17T07:00:00\", \"response\": 0}, {\"timestamp\": \"2023-07-17T08:00:00\", \"response\": 0}, {\"timestamp\": \"2023-07-17T09:00:00\", \"response\": 1}, {\"timestamp\": \"2023-07-17T10:00:00\", \"response\": 0}, {\"timestamp\": \"2023-07-17T11:00:00\", \"response\": 0}, {\"timestamp\": \"2023-07-17T12:00:00\", \"response\": 3}, {\"timestamp\": \"2023-07-17T13:00:00\", \"response\": 1}, {\"timestamp\": \"2023-07-17T14:00:00\", \"response\": 1}, {\"timestamp\": \"2023-07-17T15:00:00\", \"response\": 0}, {\"timestamp\": \"2023-07-17T16:00:00\", \"response\": 0}, {\"timestamp\": \"2023-07-17T17:00:00\", \"response\": 0}, {\"timestamp\": \"2023-07-17T18:00:00\", \"response\": 1}, {\"timestamp\": \"2023-07-17T19:00:00\", \"response\": 0}, {\"timestamp\": \"2023-07-17T20:00:00\", \"response\": 0}, {\"timestamp\": \"2023-07-17T21:00:00\", \"response\": 0}, {\"timestamp\": \"2023-07-17T22:00:00\", \"response\": 0}, {\"timestamp\": \"2023-07-17T23:00:00\", \"response\": 2}, {\"timestamp\": \"2023-07-18T00:00:00\", \"response\": 0}, {\"timestamp\": \"2023-07-18T01:00:00\", \"response\": 1}, {\"timestamp\": \"2023-07-18T02:00:00\", \"response\": 0}, {\"timestamp\": \"2023-07-18T03:00:00\", \"response\": 0}, {\"timestamp\": \"2023-07-18T04:00:00\", \"response\": 0}, {\"timestamp\": \"2023-07-18T05:00:00\", \"response\": 0}, {\"timestamp\": \"2023-07-18T06:00:00\", \"response\": 0}, {\"timestamp\": \"2023-07-18T07:00:00\", \"response\": 0}, {\"timestamp\": \"2023-07-18T08:00:00\", \"response\": 1}, {\"timestamp\": \"2023-07-18T09:00:00\", \"response\": 0}, {\"timestamp\": \"2023-07-18T10:00:00\", \"response\": 0}, {\"timestamp\": \"2023-07-18T11:00:00\", \"response\": 1}, {\"timestamp\": \"2023-07-18T12:00:00\", \"response\": 0}, {\"timestamp\": \"2023-07-18T13:00:00\", \"response\": 0}, {\"timestamp\": \"2023-07-18T14:00:00\", \"response\": 0}, {\"timestamp\": \"2023-07-18T15:00:00\", \"response\": 0}, {\"timestamp\": \"2023-07-18T16:00:00\", \"response\": 1}, {\"timestamp\": \"2023-07-18T17:00:00\", \"response\": 0}, {\"timestamp\": \"2023-07-18T18:00:00\", \"response\": 1}, {\"timestamp\": \"2023-07-18T19:00:00\", \"response\": 0}, {\"timestamp\": \"2023-07-18T20:00:00\", \"response\": 0}, {\"timestamp\": \"2023-07-18T21:00:00\", \"response\": 1}, {\"timestamp\": \"2023-07-18T22:00:00\", \"response\": 0}, {\"timestamp\": \"2023-07-18T23:00:00\", \"response\": 0}, {\"timestamp\": \"2023-07-19T00:00:00\", \"response\": 0}, {\"timestamp\": \"2023-07-19T01:00:00\", \"response\": 0}, {\"timestamp\": \"2023-07-19T02:00:00\", \"response\": 0}, {\"timestamp\": \"2023-07-19T03:00:00\", \"response\": 0}, {\"timestamp\": \"2023-07-19T04:00:00\", \"response\": 0}, {\"timestamp\": \"2023-07-19T05:00:00\", \"response\": 0}, {\"timestamp\": \"2023-07-19T06:00:00\", \"response\": 0}, {\"timestamp\": \"2023-07-19T07:00:00\", \"response\": 0}, {\"timestamp\": \"2023-07-19T08:00:00\", \"response\": 0}, {\"timestamp\": \"2023-07-19T09:00:00\", \"response\": 0}, {\"timestamp\": \"2023-07-19T10:00:00\", \"response\": 0}, {\"timestamp\": \"2023-07-19T11:00:00\", \"response\": 0}, {\"timestamp\": \"2023-07-19T12:00:00\", \"response\": 0}, {\"timestamp\": \"2023-07-19T13:00:00\", \"response\": 0}, {\"timestamp\": \"2023-07-19T14:00:00\", \"response\": 0}, {\"timestamp\": \"2023-07-19T15:00:00\", \"response\": 0}, {\"timestamp\": \"2023-07-19T16:00:00\", \"response\": 0}, {\"timestamp\": \"2023-07-19T17:00:00\", \"response\": 0}, {\"timestamp\": \"2023-07-19T18:00:00\", \"response\": 0}, {\"timestamp\": \"2023-07-19T19:00:00\", \"response\": 0}, {\"timestamp\": \"2023-07-19T20:00:00\", \"response\": 0}, {\"timestamp\": \"2023-07-19T21:00:00\", \"response\": 0}, {\"timestamp\": \"2023-07-19T22:00:00\", \"response\": 0}, {\"timestamp\": \"2023-07-19T23:00:00\", \"response\": 0}, {\"timestamp\": \"2023-07-20T00:00:00\", \"response\": 0}, {\"timestamp\": \"2023-07-20T01:00:00\", \"response\": 1}, {\"timestamp\": \"2023-07-20T02:00:00\", \"response\": 0}, {\"timestamp\": \"2023-07-20T03:00:00\", \"response\": 0}, {\"timestamp\": \"2023-07-20T04:00:00\", \"response\": 0}, {\"timestamp\": \"2023-07-20T05:00:00\", \"response\": 0}, {\"timestamp\": \"2023-07-20T06:00:00\", \"response\": 0}, {\"timestamp\": \"2023-07-20T07:00:00\", \"response\": 0}, {\"timestamp\": \"2023-07-20T08:00:00\", \"response\": 0}, {\"timestamp\": \"2023-07-20T09:00:00\", \"response\": 0}, {\"timestamp\": \"2023-07-20T10:00:00\", \"response\": 0}, {\"timestamp\": \"2023-07-20T11:00:00\", \"response\": 0}, {\"timestamp\": \"2023-07-20T12:00:00\", \"response\": 0}, {\"timestamp\": \"2023-07-20T13:00:00\", \"response\": 1}, {\"timestamp\": \"2023-07-20T14:00:00\", \"response\": 0}, {\"timestamp\": \"2023-07-20T15:00:00\", \"response\": 0}, {\"timestamp\": \"2023-07-20T16:00:00\", \"response\": 0}, {\"timestamp\": \"2023-07-20T17:00:00\", \"response\": 1}, {\"timestamp\": \"2023-07-20T18:00:00\", \"response\": 0}, {\"timestamp\": \"2023-07-20T19:00:00\", \"response\": 0}, {\"timestamp\": \"2023-07-20T20:00:00\", \"response\": 0}, {\"timestamp\": \"2023-07-20T21:00:00\", \"response\": 0}, {\"timestamp\": \"2023-07-20T22:00:00\", \"response\": 1}, {\"timestamp\": \"2023-07-20T23:00:00\", \"response\": 1}, {\"timestamp\": \"2023-07-21T00:00:00\", \"response\": 0}, {\"timestamp\": \"2023-07-21T01:00:00\", \"response\": 0}, {\"timestamp\": \"2023-07-21T02:00:00\", \"response\": 0}, {\"timestamp\": \"2023-07-21T03:00:00\", \"response\": 0}, {\"timestamp\": \"2023-07-21T04:00:00\", \"response\": 0}, {\"timestamp\": \"2023-07-21T05:00:00\", \"response\": 0}, {\"timestamp\": \"2023-07-21T06:00:00\", \"response\": 0}, {\"timestamp\": \"2023-07-21T07:00:00\", \"response\": 0}, {\"timestamp\": \"2023-07-21T08:00:00\", \"response\": 0}, {\"timestamp\": \"2023-07-21T09:00:00\", \"response\": 0}, {\"timestamp\": \"2023-07-21T10:00:00\", \"response\": 1}, {\"timestamp\": \"2023-07-21T11:00:00\", \"response\": 0}, {\"timestamp\": \"2023-07-21T12:00:00\", \"response\": 0}, {\"timestamp\": \"2023-07-21T13:00:00\", \"response\": 0}, {\"timestamp\": \"2023-07-21T14:00:00\", \"response\": 0}, {\"timestamp\": \"2023-07-21T15:00:00\", \"response\": 0}, {\"timestamp\": \"2023-07-21T16:00:00\", \"response\": 1}, {\"timestamp\": \"2023-07-21T17:00:00\", \"response\": 0}, {\"timestamp\": \"2023-07-21T18:00:00\", \"response\": 0}, {\"timestamp\": \"2023-07-21T19:00:00\", \"response\": 1}, {\"timestamp\": \"2023-07-21T20:00:00\", \"response\": 0}, {\"timestamp\": \"2023-07-21T21:00:00\", \"response\": 1}]}}, {\"mode\": \"vega-lite\"});\n",
       "</script>"
      ],
      "text/plain": [
       "alt.LayerChart(...)"
      ]
     },
     "execution_count": 24,
     "metadata": {},
     "output_type": "execute_result"
    }
   ],
   "source": [
    "base = alt.Chart(tm).encode(\n",
    "    alt.X(\"hours(timestamp):T\").title(\"時刻\"),\n",
    "    alt.Y(\"yearmonthdate(timestamp):T\").title(\"記入日\").axis(format=\"%Y-%m-%d\").sort(\"descending\"),\n",
    ").properties(\n",
    "    width=800,\n",
    "    height=400,\n",
    ")\n",
    "\n",
    "\n",
    "hm = base.mark_rect().encode(\n",
    "    alt.Color(\"response\").scale(scheme=\"blues\").title(\"回答数\"),\n",
    "    #size=\"response\"\n",
    ")\n",
    "\n",
    "tt = base.mark_text(dx=15, dy=10, baseline=\"line-top\").encode(\n",
    "    alt.Text(\"response\"),\n",
    ")\n",
    "\n",
    "\n",
    "(hm + tt).save(\"tmp_registered.png\")\n",
    "(hm + tt)"
   ]
  },
  {
   "cell_type": "markdown",
   "metadata": {},
   "source": [
    "すべての質問に対してヒストグラムを作成する\n",
    "\n",
    "- 横軸を「質問番号」にしたヒストグラムを作成する\n",
    "- 横軸はカテゴリカルなデータにして、任意の順番に並べたい（TODO）\n",
    "  - いまは自動でアルファベット順に整列"
   ]
  },
  {
   "cell_type": "code",
   "execution_count": 25,
   "metadata": {},
   "outputs": [],
   "source": [
    "def make_histogram(data: pd.DataFrame, x: str, title: str):\n",
    "    g = list(set([\"q02\", x]))\n",
    "    grouped = data.groupby(g)[\"response\"].sum().reset_index().sort_values(by=x)\n",
    "    h = alt.Chart(grouped).mark_bar().encode(\n",
    "        alt.X(x),\n",
    "        alt.Y(\"response\"),\n",
    "        alt.Color(\"q02:N\"),\n",
    "        alt.Order(\"response\", sort=\"descending\"),\n",
    "    ).properties(\n",
    "        title=title,\n",
    "        width=400,\n",
    "        height=400,\n",
    "    )\n",
    "\n",
    "    hs = h.encode(\n",
    "        alt.Y(\"response\").stack(\"normalize\"),\n",
    "    )\n",
    "\n",
    "    chart = h | hs\n",
    "\n",
    "    return {\"data\": grouped, \"chart\": chart}"
   ]
  },
  {
   "cell_type": "code",
   "execution_count": 26,
   "metadata": {},
   "outputs": [
    {
     "data": {
      "text/plain": [
       "CategoricalDtype(categories=['Male', 'Female', 'Non-binary', 'Prefer to self-identify',\n",
       "                  'Prefer not to answer'],\n",
       ", ordered=True)"
      ]
     },
     "execution_count": 26,
     "metadata": {},
     "output_type": "execute_result"
    }
   ],
   "source": [
    "category[\"gender\"]"
   ]
  },
  {
   "cell_type": "code",
   "execution_count": 27,
   "metadata": {},
   "outputs": [
    {
     "data": {
      "text/html": [
       "\n",
       "<style>\n",
       "  #altair-viz-fd9ed9afafa640faa245343572b2b7c9.vega-embed {\n",
       "    width: 100%;\n",
       "    display: flex;\n",
       "  }\n",
       "\n",
       "  #altair-viz-fd9ed9afafa640faa245343572b2b7c9.vega-embed details,\n",
       "  #altair-viz-fd9ed9afafa640faa245343572b2b7c9.vega-embed details summary {\n",
       "    position: relative;\n",
       "  }\n",
       "</style>\n",
       "<div id=\"altair-viz-fd9ed9afafa640faa245343572b2b7c9\"></div>\n",
       "<script type=\"text/javascript\">\n",
       "  var VEGA_DEBUG = (typeof VEGA_DEBUG == \"undefined\") ? {} : VEGA_DEBUG;\n",
       "  (function(spec, embedOpt){\n",
       "    let outputDiv = document.currentScript.previousElementSibling;\n",
       "    if (outputDiv.id !== \"altair-viz-fd9ed9afafa640faa245343572b2b7c9\") {\n",
       "      outputDiv = document.getElementById(\"altair-viz-fd9ed9afafa640faa245343572b2b7c9\");\n",
       "    }\n",
       "    const paths = {\n",
       "      \"vega\": \"https://cdn.jsdelivr.net/npm/vega@5?noext\",\n",
       "      \"vega-lib\": \"https://cdn.jsdelivr.net/npm/vega-lib?noext\",\n",
       "      \"vega-lite\": \"https://cdn.jsdelivr.net/npm/vega-lite@5.8.0?noext\",\n",
       "      \"vega-embed\": \"https://cdn.jsdelivr.net/npm/vega-embed@6?noext\",\n",
       "    };\n",
       "\n",
       "    function maybeLoadScript(lib, version) {\n",
       "      var key = `${lib.replace(\"-\", \"\")}_version`;\n",
       "      return (VEGA_DEBUG[key] == version) ?\n",
       "        Promise.resolve(paths[lib]) :\n",
       "        new Promise(function(resolve, reject) {\n",
       "          var s = document.createElement('script');\n",
       "          document.getElementsByTagName(\"head\")[0].appendChild(s);\n",
       "          s.async = true;\n",
       "          s.onload = () => {\n",
       "            VEGA_DEBUG[key] = version;\n",
       "            return resolve(paths[lib]);\n",
       "          };\n",
       "          s.onerror = () => reject(`Error loading script: ${paths[lib]}`);\n",
       "          s.src = paths[lib];\n",
       "        });\n",
       "    }\n",
       "\n",
       "    function showError(err) {\n",
       "      outputDiv.innerHTML = `<div class=\"error\" style=\"color:red;\">${err}</div>`;\n",
       "      throw err;\n",
       "    }\n",
       "\n",
       "    function displayChart(vegaEmbed) {\n",
       "      vegaEmbed(outputDiv, spec, embedOpt)\n",
       "        .catch(err => showError(`Javascript Error: ${err.message}<br>This usually means there's a typo in your chart specification. See the javascript console for the full traceback.`));\n",
       "    }\n",
       "\n",
       "    if(typeof define === \"function\" && define.amd) {\n",
       "      requirejs.config({paths});\n",
       "      require([\"vega-embed\"], displayChart, err => showError(`Error loading script: ${err.message}`));\n",
       "    } else {\n",
       "      maybeLoadScript(\"vega\", \"5\")\n",
       "        .then(() => maybeLoadScript(\"vega-lite\", \"5.8.0\"))\n",
       "        .then(() => maybeLoadScript(\"vega-embed\", \"6\"))\n",
       "        .catch(showError)\n",
       "        .then(() => displayChart(vegaEmbed));\n",
       "    }\n",
       "  })({\"config\": {\"view\": {\"continuousWidth\": 300, \"continuousHeight\": 300}}, \"hconcat\": [{\"mark\": {\"type\": \"bar\"}, \"encoding\": {\"color\": {\"field\": \"q02\", \"type\": \"nominal\"}, \"order\": {\"field\": \"response\", \"sort\": \"descending\", \"type\": \"quantitative\"}, \"x\": {\"field\": \"q10_binned\", \"sort\": [\"Prefer not to answer\", \"0\", \"1\", \"2\", \"3\", \"4\", \"5\", \"6\", \"7\", \"8\", \"9\", \"10+\"], \"type\": \"ordinal\"}, \"y\": {\"field\": \"response\", \"type\": \"quantitative\"}}, \"height\": 400, \"title\": \"\\u3010Q10\\u3011How many hours, on average, do you spend on housework, childcare, and caregiving per day ?\", \"width\": 400}, {\"mark\": {\"type\": \"bar\"}, \"encoding\": {\"color\": {\"field\": \"q02\", \"type\": \"nominal\"}, \"order\": {\"field\": \"response\", \"sort\": \"descending\", \"type\": \"quantitative\"}, \"x\": {\"field\": \"q10_binned\", \"sort\": [\"Prefer not to answer\", \"0\", \"1\", \"2\", \"3\", \"4\", \"5\", \"6\", \"7\", \"8\", \"9\", \"10+\"], \"type\": \"ordinal\"}, \"y\": {\"field\": \"response\", \"stack\": \"normalize\", \"type\": \"quantitative\"}}, \"height\": 400, \"title\": \"\\u3010Q10\\u3011How many hours, on average, do you spend on housework, childcare, and caregiving per day ?\", \"width\": 400}], \"data\": {\"name\": \"data-06c92f6350c5c83f84255618f81c8298\"}, \"$schema\": \"https://vega.github.io/schema/vega-lite/v5.8.0.json\", \"datasets\": {\"data-06c92f6350c5c83f84255618f81c8298\": [{\"q10_binned\": \"Prefer not to answer\", \"q02\": \"Male\", \"response\": 16}, {\"q10_binned\": \"Prefer not to answer\", \"q02\": \"Female\", \"response\": 2}, {\"q10_binned\": \"Prefer not to answer\", \"q02\": \"Non-binary\", \"response\": 0}, {\"q10_binned\": \"Prefer not to answer\", \"q02\": \"Prefer to self-identify\", \"response\": 1}, {\"q10_binned\": \"Prefer not to answer\", \"q02\": \"Prefer not to answer\", \"response\": 0}, {\"q10_binned\": \"0\", \"q02\": \"Male\", \"response\": 21}, {\"q10_binned\": \"0\", \"q02\": \"Female\", \"response\": 3}, {\"q10_binned\": \"0\", \"q02\": \"Non-binary\", \"response\": 0}, {\"q10_binned\": \"0\", \"q02\": \"Prefer to self-identify\", \"response\": 0}, {\"q10_binned\": \"0\", \"q02\": \"Prefer not to answer\", \"response\": 0}, {\"q10_binned\": \"1\", \"q02\": \"Prefer not to answer\", \"response\": 2}, {\"q10_binned\": \"1\", \"q02\": \"Non-binary\", \"response\": 2}, {\"q10_binned\": \"1\", \"q02\": \"Prefer to self-identify\", \"response\": 0}, {\"q10_binned\": \"1\", \"q02\": \"Male\", \"response\": 48}, {\"q10_binned\": \"1\", \"q02\": \"Female\", \"response\": 26}, {\"q10_binned\": \"2\", \"q02\": \"Male\", \"response\": 41}, {\"q10_binned\": \"2\", \"q02\": \"Female\", \"response\": 19}, {\"q10_binned\": \"2\", \"q02\": \"Non-binary\", \"response\": 2}, {\"q10_binned\": \"2\", \"q02\": \"Prefer to self-identify\", \"response\": 0}, {\"q10_binned\": \"2\", \"q02\": \"Prefer not to answer\", \"response\": 0}, {\"q10_binned\": \"3\", \"q02\": \"Male\", \"response\": 20}, {\"q10_binned\": \"3\", \"q02\": \"Female\", \"response\": 13}, {\"q10_binned\": \"3\", \"q02\": \"Non-binary\", \"response\": 1}, {\"q10_binned\": \"3\", \"q02\": \"Prefer to self-identify\", \"response\": 0}, {\"q10_binned\": \"3\", \"q02\": \"Prefer not to answer\", \"response\": 0}, {\"q10_binned\": \"4\", \"q02\": \"Prefer to self-identify\", \"response\": 1}, {\"q10_binned\": \"4\", \"q02\": \"Non-binary\", \"response\": 0}, {\"q10_binned\": \"4\", \"q02\": \"Prefer not to answer\", \"response\": 0}, {\"q10_binned\": \"4\", \"q02\": \"Male\", \"response\": 18}, {\"q10_binned\": \"4\", \"q02\": \"Female\", \"response\": 9}, {\"q10_binned\": \"5\", \"q02\": \"Male\", \"response\": 10}, {\"q10_binned\": \"5\", \"q02\": \"Female\", \"response\": 5}, {\"q10_binned\": \"5\", \"q02\": \"Non-binary\", \"response\": 0}, {\"q10_binned\": \"5\", \"q02\": \"Prefer to self-identify\", \"response\": 1}, {\"q10_binned\": \"5\", \"q02\": \"Prefer not to answer\", \"response\": 0}, {\"q10_binned\": \"6\", \"q02\": \"Male\", \"response\": 6}, {\"q10_binned\": \"6\", \"q02\": \"Female\", \"response\": 3}, {\"q10_binned\": \"6\", \"q02\": \"Non-binary\", \"response\": 0}, {\"q10_binned\": \"6\", \"q02\": \"Prefer to self-identify\", \"response\": 0}, {\"q10_binned\": \"6\", \"q02\": \"Prefer not to answer\", \"response\": 0}, {\"q10_binned\": \"7\", \"q02\": \"Prefer not to answer\", \"response\": 0}, {\"q10_binned\": \"7\", \"q02\": \"Non-binary\", \"response\": 0}, {\"q10_binned\": \"7\", \"q02\": \"Prefer to self-identify\", \"response\": 0}, {\"q10_binned\": \"7\", \"q02\": \"Male\", \"response\": 1}, {\"q10_binned\": \"7\", \"q02\": \"Female\", \"response\": 0}, {\"q10_binned\": \"8\", \"q02\": \"Male\", \"response\": 3}, {\"q10_binned\": \"8\", \"q02\": \"Female\", \"response\": 3}, {\"q10_binned\": \"8\", \"q02\": \"Non-binary\", \"response\": 0}, {\"q10_binned\": \"8\", \"q02\": \"Prefer to self-identify\", \"response\": 0}, {\"q10_binned\": \"8\", \"q02\": \"Prefer not to answer\", \"response\": 0}, {\"q10_binned\": \"9\", \"q02\": \"Prefer not to answer\", \"response\": 0}, {\"q10_binned\": \"9\", \"q02\": \"Prefer to self-identify\", \"response\": 0}, {\"q10_binned\": \"9\", \"q02\": \"Female\", \"response\": 1}, {\"q10_binned\": \"9\", \"q02\": \"Male\", \"response\": 1}, {\"q10_binned\": \"9\", \"q02\": \"Non-binary\", \"response\": 0}, {\"q10_binned\": \"10+\", \"q02\": \"Prefer to self-identify\", \"response\": 0}, {\"q10_binned\": \"10+\", \"q02\": \"Male\", \"response\": 6}, {\"q10_binned\": \"10+\", \"q02\": \"Female\", \"response\": 2}, {\"q10_binned\": \"10+\", \"q02\": \"Non-binary\", \"response\": 0}, {\"q10_binned\": \"10+\", \"q02\": \"Prefer not to answer\", \"response\": 0}]}}, {\"mode\": \"vega-lite\"});\n",
       "</script>"
      ],
      "text/plain": [
       "alt.HConcatChart(...)"
      ]
     },
     "execution_count": 27,
     "metadata": {},
     "output_type": "execute_result"
    }
   ],
   "source": [
    "t = cfg.questions.get(\"q10\", \"Could not get title\")\n",
    "q = make_histogram(data, \"q10_binned\", t)\n",
    "q[\"data\"]\n",
    "q[\"chart\"]"
   ]
  },
  {
   "cell_type": "code",
   "execution_count": 28,
   "metadata": {},
   "outputs": [],
   "source": [
    "# すべてのカラムに対して、2つの総当たりの組み合わせを取得する\n",
    "# ただし：timestampとresponseは除外する\n",
    "# ただし：自由記述は除外（極性などは残す）\n",
    "\n",
    "headers = [\n",
    "    \"q01\",\n",
    "    \"q02\",\n",
    "    \"q03\", \"q03_regional\", \"q03_subregional\",\n",
    "    \"q04\", \"q04_regional\", \"q04_subregional\",\n",
    "    \"q05\",\n",
    "    \"q06\",\n",
    "    \"q07\",\n",
    "    \"q08\",\n",
    "    \"q09\",\n",
    "    \"q10\", \"q10_binned\",\n",
    "    \"q11\",\n",
    "    \"q12_diversity\", \"q12_equity\", \"q12_genderbalance\", \"q12_inclusion\",\n",
    "    \"q13\", \"q13_binned\",\n",
    "    \"q14\", \n",
    "    \"q15_polarity\", \"q15_subjectivity\",\n",
    "    \"q16_polarity\", \"q16_subjectivity\",\n",
    "    \"q17_diversity\", \"q17_equity\", \"q17_genderbalance\", \"q17_inclusion\",\n",
    "    \"q18_polarity\", \"q18_subjectivity\",\n",
    "    \"q19\",\n",
    "    \"q20_polarity\", \"q20_subjectivity\",\n",
    "    \"q21_polarity\", \"q21_subjectivity\",\n",
    "    \"q22_polarity\", \"q22_subjectivity\",\n",
    "]"
   ]
  },
  {
   "cell_type": "code",
   "execution_count": 29,
   "metadata": {},
   "outputs": [
    {
     "ename": "NameError",
     "evalue": "name 'matches' is not defined",
     "output_type": "error",
     "traceback": [
      "\u001b[0;31m---------------------------------------------------------------------------\u001b[0m",
      "\u001b[0;31mNameError\u001b[0m                                 Traceback (most recent call last)",
      "Cell \u001b[0;32mIn[29], line 1\u001b[0m\n\u001b[0;32m----> 1\u001b[0m \u001b[39mfor\u001b[39;00m (h1, h2) \u001b[39min\u001b[39;00m matches:\n\u001b[1;32m      2\u001b[0m     key \u001b[39m=\u001b[39m h1\u001b[39m.\u001b[39msplit(\u001b[39m\"\u001b[39m\u001b[39m_\u001b[39m\u001b[39m\"\u001b[39m)[\u001b[39m0\u001b[39m]\n\u001b[1;32m      3\u001b[0m     \u001b[39mprint\u001b[39m(h1, h2, key)\n",
      "\u001b[0;31mNameError\u001b[0m: name 'matches' is not defined"
     ]
    }
   ],
   "source": [
    "for (h1, h2) in matches:\n",
    "    key = h1.split(\"_\")[0]\n",
    "    print(h1, h2, key)"
   ]
  },
  {
   "cell_type": "code",
   "execution_count": 30,
   "metadata": {},
   "outputs": [
    {
     "name": "stdout",
     "output_type": "stream",
     "text": [
      "Saved as ../data/quick_summary/tmp_q01.png\n",
      "Saved as ../data/quick_summary/tmp_q02.png\n",
      "Saved as ../data/quick_summary/tmp_q03.png\n",
      "Saved as ../data/quick_summary/tmp_q03_regional.png\n",
      "Saved as ../data/quick_summary/tmp_q03_subregional.png\n",
      "Saved as ../data/quick_summary/tmp_q04.png\n",
      "Saved as ../data/quick_summary/tmp_q04_regional.png\n",
      "Saved as ../data/quick_summary/tmp_q04_subregional.png\n",
      "Saved as ../data/quick_summary/tmp_q05.png\n",
      "Saved as ../data/quick_summary/tmp_q06.png\n",
      "Saved as ../data/quick_summary/tmp_q07.png\n",
      "Saved as ../data/quick_summary/tmp_q08.png\n",
      "Saved as ../data/quick_summary/tmp_q09.png\n",
      "Saved as ../data/quick_summary/tmp_q10.png\n",
      "Saved as ../data/quick_summary/tmp_q10_binned.png\n",
      "Saved as ../data/quick_summary/tmp_q11.png\n",
      "Saved as ../data/quick_summary/tmp_q12_diversity.png\n",
      "Saved as ../data/quick_summary/tmp_q12_equity.png\n",
      "Saved as ../data/quick_summary/tmp_q12_genderbalance.png\n",
      "Saved as ../data/quick_summary/tmp_q12_inclusion.png\n",
      "Saved as ../data/quick_summary/tmp_q13.png\n",
      "Saved as ../data/quick_summary/tmp_q13_binned.png\n",
      "Saved as ../data/quick_summary/tmp_q14.png\n",
      "Saved as ../data/quick_summary/tmp_q15_polarity.png\n",
      "Saved as ../data/quick_summary/tmp_q15_subjectivity.png\n",
      "Saved as ../data/quick_summary/tmp_q16_polarity.png\n",
      "Saved as ../data/quick_summary/tmp_q16_subjectivity.png\n",
      "Saved as ../data/quick_summary/tmp_q17_diversity.png\n",
      "Saved as ../data/quick_summary/tmp_q17_equity.png\n",
      "Saved as ../data/quick_summary/tmp_q17_genderbalance.png\n",
      "Saved as ../data/quick_summary/tmp_q17_inclusion.png\n",
      "Saved as ../data/quick_summary/tmp_q18_polarity.png\n",
      "Saved as ../data/quick_summary/tmp_q18_subjectivity.png\n",
      "Saved as ../data/quick_summary/tmp_q19.png\n",
      "Saved as ../data/quick_summary/tmp_q20_polarity.png\n",
      "Saved as ../data/quick_summary/tmp_q20_subjectivity.png\n",
      "Saved as ../data/quick_summary/tmp_q21_polarity.png\n",
      "Saved as ../data/quick_summary/tmp_q21_subjectivity.png\n",
      "Saved as ../data/quick_summary/tmp_q22_polarity.png\n",
      "Saved as ../data/quick_summary/tmp_q22_subjectivity.png\n"
     ]
    }
   ],
   "source": [
    "for header in headers:\n",
    "    key = header.split(\"_\")[0]\n",
    "    title = cfg.questions.get(key, \"Could Not Find Key\")\n",
    "    hist = make_histogram(data, header, title)\n",
    "    fname = f\"../data/quick_summary/tmp_{header}.csv\"\n",
    "    hist[\"data\"].to_csv(fname, index=False)\n",
    "    fname = f\"../data/quick_summary/tmp_{header}.png\"\n",
    "    hist[\"chart\"].save(fname)\n",
    "    print(f\"Saved as {fname}\")"
   ]
  },
  {
   "cell_type": "markdown",
   "metadata": {},
   "source": [
    "2つの質問をクロス集計する\n",
    "\n",
    "- すべてのカラムに対してクロス集計する\n",
    "- CSV集計するときの見出し列をわかりやすくするために、転置（``.T``）している\n",
    "  - もっとコードが読みやすくなる方法があるかもしれない"
   ]
  },
  {
   "cell_type": "code",
   "execution_count": null,
   "metadata": {},
   "outputs": [],
   "source": [
    "import itertools\n",
    "matches = list(itertools.combinations(headers, 2))\n",
    "len(matches)"
   ]
  },
  {
   "cell_type": "code",
   "execution_count": null,
   "metadata": {},
   "outputs": [],
   "source": [
    "ctabs = {}\n",
    "for h1, h2 in matches:\n",
    "    ctab = pd.crosstab(data[h1], data[h2], margins=True)\n",
    "    name = f\"{h1}_{h2}\"\n",
    "    fname = f\"../data/quick_summary/tmp_crosstab_{name}.csv\"\n",
    "    ctab.T.to_csv(fname)\n",
    "    print(f\"Saved as {fname}\")\n",
    "    ctabs.update({name: ctab})"
   ]
  },
  {
   "cell_type": "code",
   "execution_count": null,
   "metadata": {},
   "outputs": [],
   "source": []
  }
 ],
 "metadata": {
  "kernelspec": {
   "display_name": ".venv",
   "language": "python",
   "name": "python3"
  },
  "language_info": {
   "codemirror_mode": {
    "name": "ipython",
    "version": 3
   },
   "file_extension": ".py",
   "mimetype": "text/x-python",
   "name": "python",
   "nbconvert_exporter": "python",
   "pygments_lexer": "ipython3",
   "version": "3.11.4"
  },
  "orig_nbformat": 4
 },
 "nbformat": 4,
 "nbformat_minor": 2
}
