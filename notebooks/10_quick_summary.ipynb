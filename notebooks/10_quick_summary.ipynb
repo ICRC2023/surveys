{
 "cells": [
  {
   "cell_type": "markdown",
   "metadata": {},
   "source": [
    "# 事前アンケートの質問項目\n",
    "\n",
    "0. タイムスタンプ\n",
    "1. 【Q1】What is your age ?\n",
    "2. 【Q2】What gender do you identify as ?\n",
    "3. 【Q3】Which geographical region are you currently working or attending school/university in ?\n",
    "4. 【Q4】Which geographical region do you most strongly associate with ?\n",
    "5. 【Q5】What is your job title ?\n",
    "6. 【Q6】Which group do you belong to ?\n",
    "7. 【Q7】What is your research type ?\n",
    "8. 【Q8】How long have you been in this field ?\n",
    "9. 【Q9】Are you satisfied with your career to date ?\n",
    "10. 【Q10】How many hours, on average, do you spend on housework, childcare, and caregiving per day ?\n",
    "11. 【Q11】Did you already sign up for the diversity session in ICRC2023?\n",
    "12. 【Q12】What do you think about the initiatives on DE&I of your group? [Gender balance]\n",
    "13. 【Q12】What do you think about the initiatives on DE&I of your group? [Diversity]\n",
    "14. 【Q12】What do you think about the initiatives on DE&I of your group? [Equity]\n",
    "15. 【Q12】What do you think about the initiatives on DE&I of your group? [Inclusion]\n",
    "16. 【Q13】What is the percentage of female researcher in your group?\n",
    "17. 【Q14】What do you think about the percentage above ?\n",
    "18. 【Q15】Please let us know If your group has any good practice examples related to DE&I ?\n",
    "19. 【Q16】Please let us know if there is anything your group needs to work on or if your group has any problems related to DE&I.\n",
    "20. 【Q17】What are your thoughts on diversity, equity & inclusion initiatives ? [Gender balance]\n",
    "21. 【Q17】What are your thoughts on diversity, equity & inclusion initiatives ? [Diversity]\n",
    "22. 【Q17】What are your thoughts on diversity, equity & inclusion initiatives ? [Equity]\n",
    "23. 【Q17】What are your thoughts on diversity, equity & inclusion initiatives ? [Inclusion]\n",
    "24. 【Q18】Could you tell us more about your thoughts (agree / disagree) ?\n",
    "25. 【Q19】When did you first become interested in science ?\n",
    "26. 【Q20】Do you have any concerns / problems related to DE&I initiatives in science ?\n",
    "27. 【Q21】What reasons do you think are hindering DE&I initiatives in science ?\n",
    "28. 【Q22】Comments"
   ]
  },
  {
   "cell_type": "markdown",
   "metadata": {},
   "source": [
    "Pythonのライブラリ\n",
    "- ``pathlib.Path`` : パス操作\n",
    "- ``pandas`` : データ集計\n",
    "- ``altair (v5)`` : プロット作成"
   ]
  },
  {
   "cell_type": "code",
   "execution_count": null,
   "metadata": {},
   "outputs": [],
   "source": [
    "from pathlib import Path\n",
    "import pandas as pd\n",
    "import altair as alt\n",
    "import titanite as ti\n",
    "\n",
    "print(f\"Pandas {pd.__version__}\")\n",
    "print(f\"Altair {alt.__version__}\")\n",
    "print(f\"Titanite {ti.__version__}\")"
   ]
  },
  {
   "cell_type": "markdown",
   "metadata": {},
   "source": [
    "事前アンケートの結果を読み込む\n",
    "\n",
    "- 回答データはGoogleスプレッドシートからCSV形式でダウンロード（手動）\n",
    "- ファイルパスは``../data/test_data/``にする（あとで変えるかも）\n",
    "- 回答時刻（``timestamp``カラム）はDateTimeオブジェクトに変換する\n",
    "- 回答数を集計（主に``sum``）するためのカラム``response``を追加する"
   ]
  },
  {
   "cell_type": "code",
   "execution_count": null,
   "metadata": {},
   "outputs": [],
   "source": [
    "f_cfg = \"../sandbox/config.toml\"\n",
    "cfg = ti.Config(fname=f_cfg)\n",
    "cfg.load()\n",
    "category = cfg.categories()"
   ]
  },
  {
   "cell_type": "code",
   "execution_count": null,
   "metadata": {},
   "outputs": [],
   "source": [
    "f_csv = \"../data/test_data/prepared_data.csv\"\n",
    "data = pd.read_csv(f_csv, parse_dates=[\"timestamp\"])\n",
    "data = ti.categorical_data(data, category)\n",
    "data.info()"
   ]
  },
  {
   "cell_type": "markdown",
   "metadata": {},
   "source": [
    "ビニングを追加"
   ]
  },
  {
   "cell_type": "code",
   "execution_count": null,
   "metadata": {},
   "outputs": [],
   "source": [
    "data[\"q10_binned\"] = pd.cut(\n",
    "    data[\"q10\"],\n",
    "    [-1, 0, 1, 2, 3, 4, 5, 6, 7, 8, 9, 10, 25],\n",
    "    labels = [\"Prefer not to answer\", \"0\", \"1\", \"2\", \"3\", \"4\", \"5\", \"6\", \"7\", \"8\", \"9\", \"10+\"],\n",
    "    right=False)\n",
    "data[\"q13_binned\"] = pd.cut(\n",
    "    data[\"q13\"],\n",
    "    [-1, 0, 10, 15, 20, 25, 30, 35, 40, 45, 50, 55, 60, 65, 70, 75, 80, 85, 90, 95, 100],\n",
    "    labels = [\"Prefer not to answer\", \"0\", \"10\", \"15\", \"20\", \"25\", \"30\", \"35\", \"40\", \"45\", \"50\", \"55\", \"60\", \"65\", \"70\", \"75\", \"80\", \"85\", \"90\", \"95\"],\n",
    "    right=False)"
   ]
  },
  {
   "cell_type": "code",
   "execution_count": null,
   "metadata": {},
   "outputs": [],
   "source": [
    "# データフレームを確認する（不要なときはコメントアウトしておく）\n",
    "# data.head()\n",
    "# data.columns"
   ]
  },
  {
   "cell_type": "code",
   "execution_count": null,
   "metadata": {},
   "outputs": [],
   "source": [
    "#alt.Chart(data).mark_bar().encode(x=\"q1\", y=\"count()\")"
   ]
  },
  {
   "cell_type": "markdown",
   "metadata": {},
   "source": [
    "回答"
   ]
  },
  {
   "cell_type": "markdown",
   "metadata": {},
   "source": [
    "すべての質問に対してヒストグラムを作成する\n",
    "\n",
    "- 横軸を「質問番号」にしたヒストグラムを作成する\n",
    "- 横軸はカテゴリカルなデータにして、任意の順番に並べたい（TODO）\n",
    "  - いまは自動でアルファベット順に整列"
   ]
  },
  {
   "cell_type": "code",
   "execution_count": null,
   "metadata": {},
   "outputs": [],
   "source": [
    "def make_histogram(data: pd.DataFrame, x: str, title: str):\n",
    "    g = list(set([\"q02\", x]))\n",
    "    grouped = data.groupby(g)[\"response\"].sum().reset_index().sort_values(by=x)\n",
    "    h = alt.Chart(grouped).mark_bar().encode(\n",
    "        alt.X(x),\n",
    "        alt.Y(\"response\"),\n",
    "        alt.Color(\"q02:N\"),\n",
    "        alt.Order(\"response\", sort=\"descending\"),\n",
    "    ).properties(\n",
    "        title=title,\n",
    "        width=400,\n",
    "        height=400,\n",
    "    )\n",
    "\n",
    "    hs = h.encode(\n",
    "        alt.Y(\"response\").stack(\"normalize\"),\n",
    "    )\n",
    "\n",
    "    chart = h | hs\n",
    "\n",
    "    return {\"data\": grouped, \"chart\": chart}"
   ]
  },
  {
   "cell_type": "code",
   "execution_count": null,
   "metadata": {},
   "outputs": [],
   "source": [
    "category[\"gender\"]"
   ]
  },
  {
   "cell_type": "code",
   "execution_count": null,
   "metadata": {},
   "outputs": [],
   "source": [
    "t = cfg.questions.get(\"q10\", \"Could not get title\")\n",
    "q = make_histogram(data, \"q10_binned\", t)\n",
    "q[\"data\"]\n",
    "q[\"chart\"]"
   ]
  },
  {
   "cell_type": "code",
   "execution_count": null,
   "metadata": {},
   "outputs": [],
   "source": [
    "# すべてのカラムに対して、2つの総当たりの組み合わせを取得する\n",
    "# ただし：timestampとresponseは除外する\n",
    "# ただし：自由記述は除外（極性などは残す）\n",
    "\n",
    "headers = [\n",
    "    \"q01\",\n",
    "    \"q02\",\n",
    "    \"q03\", \"q03_regional\", \"q03_subregional\",\n",
    "    \"q04\", \"q04_regional\", \"q04_subregional\",\n",
    "    \"q05\",\n",
    "    \"q06\",\n",
    "    \"q07\",\n",
    "    \"q08\",\n",
    "    \"q09\",\n",
    "    \"q10\", \"q10_binned\",\n",
    "    \"q11\",\n",
    "    \"q12_diversity\", \"q12_equity\", \"q12_genderbalance\", \"q12_inclusion\",\n",
    "    \"q13\", \"q13_binned\",\n",
    "    \"q14\", \n",
    "    \"q15_polarity\", \"q15_subjectivity\",\n",
    "    \"q16_polarity\", \"q16_subjectivity\",\n",
    "    \"q17_diversity\", \"q17_equity\", \"q17_genderbalance\", \"q17_inclusion\",\n",
    "    \"q18_polarity\", \"q18_subjectivity\",\n",
    "    \"q19\",\n",
    "    \"q20_polarity\", \"q20_subjectivity\",\n",
    "    \"q21_polarity\", \"q21_subjectivity\",\n",
    "    \"q22_polarity\", \"q22_subjectivity\",\n",
    "]"
   ]
  },
  {
   "cell_type": "code",
   "execution_count": null,
   "metadata": {},
   "outputs": [],
   "source": [
    "#for (h1, h2) in matches:\n",
    "#    key = h1.split(\"_\")[0]\n",
    "#    print(h1, h2, key)"
   ]
  },
  {
   "cell_type": "code",
   "execution_count": null,
   "metadata": {},
   "outputs": [],
   "source": [
    "for header in headers:\n",
    "    key = header.split(\"_\")[0]\n",
    "    title = cfg.questions.get(key, \"Could Not Find Key\")\n",
    "    hist = make_histogram(data, header, title)\n",
    "    fname = f\"../data/quick_summary/tmp_{header}.csv\"\n",
    "    hist[\"data\"].to_csv(fname, index=False)\n",
    "    fname = f\"../data/quick_summary/tmp_{header}.png\"\n",
    "    hist[\"chart\"].save(fname)\n",
    "    print(f\"Saved as {fname}\")"
   ]
  },
  {
   "cell_type": "markdown",
   "metadata": {},
   "source": [
    "2つの質問をクロス集計する\n",
    "\n",
    "- すべてのカラムに対してクロス集計する\n",
    "- CSV集計するときの見出し列をわかりやすくするために、転置（``.T``）している\n",
    "  - もっとコードが読みやすくなる方法があるかもしれない"
   ]
  },
  {
   "cell_type": "code",
   "execution_count": null,
   "metadata": {},
   "outputs": [],
   "source": [
    "import itertools\n",
    "matches = list(itertools.combinations(headers, 2))\n",
    "len(matches)"
   ]
  },
  {
   "cell_type": "code",
   "execution_count": null,
   "metadata": {},
   "outputs": [],
   "source": [
    "ctabs = {}\n",
    "for h1, h2 in matches:\n",
    "    ctab = pd.crosstab(data[h1], data[h2], margins=True)\n",
    "    name = f\"{h1}_{h2}\"\n",
    "    fname = f\"../data/quick_summary/tmp_crosstab_{name}.csv\"\n",
    "    ctab.T.to_csv(fname)\n",
    "    print(f\"Saved as {fname}\")\n",
    "    ctabs.update({name: ctab})"
   ]
  },
  {
   "cell_type": "code",
   "execution_count": null,
   "metadata": {},
   "outputs": [],
   "source": []
  }
 ],
 "metadata": {
  "kernelspec": {
   "display_name": ".venv",
   "language": "python",
   "name": "python3"
  },
  "language_info": {
   "codemirror_mode": {
    "name": "ipython",
    "version": 3
   },
   "file_extension": ".py",
   "mimetype": "text/x-python",
   "name": "python",
   "nbconvert_exporter": "python",
   "pygments_lexer": "ipython3",
   "version": "3.11.5"
  },
  "orig_nbformat": 4
 },
 "nbformat": 4,
 "nbformat_minor": 2
}
