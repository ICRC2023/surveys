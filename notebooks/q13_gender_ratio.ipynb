{
 "cells": [
  {
   "cell_type": "markdown",
   "metadata": {},
   "source": [
    "# 【Q13】What is the percentage of female researcher in your group ?\n",
    "\n",
    "- 【Q13】What is the percentage of female researcher in your group ?\n",
    "- 【Q14】What do you think about the percentage above ?"
   ]
  },
  {
   "cell_type": "code",
   "execution_count": null,
   "metadata": {},
   "outputs": [],
   "source": [
    "import altair as alt\n",
    "import pandas as pd\n",
    "import scipy as sp\n",
    "import titanite as ti\n",
    "\n",
    "print(f\"Altair {alt.__version__}\")\n",
    "print(f\"Pandas {pd.__version__}\")\n",
    "print(f\"SciPy {sp.__version__}\")\n",
    "print(f\"Titanite {ti.__version__}\")"
   ]
  },
  {
   "cell_type": "markdown",
   "metadata": {},
   "source": [
    "データを読み込む"
   ]
  },
  {
   "cell_type": "code",
   "execution_count": null,
   "metadata": {},
   "outputs": [],
   "source": [
    "f_cfg = \"../sandbox/config.toml\"\n",
    "f_csv = \"../data/test_data/prepared_data.csv\"\n",
    "d = ti.Data(read_from=f_csv, load_from=f_cfg)\n",
    "data = d.read()\n",
    "# data.info()"
   ]
  },
  {
   "cell_type": "code",
   "execution_count": null,
   "metadata": {},
   "outputs": [],
   "source": [
    "# x = [\"q13\", \"q13_binned\"]\n",
    "# x = [\"q13_binned\", \"q14\"]\n",
    "x = [\"q14\"]\n",
    "headers = d.crosstab_headers(x, list(data.columns))"
   ]
  },
  {
   "cell_type": "code",
   "execution_count": null,
   "metadata": {},
   "outputs": [],
   "source": [
    "cross_tabs, heatmaps, chi2_data = ti.core.crosstab_loop(data, headers)\n",
    "chi2_data"
   ]
  },
  {
   "cell_type": "code",
   "execution_count": null,
   "metadata": {},
   "outputs": [],
   "source": [
    "mark = (\n",
    "    alt.Chart(chi2_data)\n",
    "    .mark_point()\n",
    "    .encode(\n",
    "        alt.X(\"p_value\"),\n",
    "        alt.Y(\"questions\"),\n",
    "        tooltip=[\"questions\", \"p_value\", \"dof\", \"statistic\"],\n",
    "    )\n",
    ")\n",
    "\n",
    "rule = alt.Chart().mark_rule(color=\"orange\").encode(x=alt.datum(0.05))\n",
    "\n",
    "(mark + rule).properties(\n",
    "    width=500,\n",
    ")"
   ]
  },
  {
   "cell_type": "markdown",
   "metadata": {},
   "source": [
    "``p < 0.05``の項目を調べる"
   ]
  },
  {
   "cell_type": "code",
   "execution_count": null,
   "metadata": {},
   "outputs": [],
   "source": [
    "p005 = chi2_data.query(\"p_value < 0.05\")\n",
    "p005"
   ]
  },
  {
   "cell_type": "code",
   "execution_count": null,
   "metadata": {},
   "outputs": [],
   "source": [
    "for name, hm in heatmaps.items():\n",
    "    if name in list(p005.questions):\n",
    "        hm.properties(\n",
    "            title=name,\n",
    "            width=400,\n",
    "            height=400,\n",
    "        ).display()"
   ]
  },
  {
   "cell_type": "markdown",
   "metadata": {},
   "source": [
    "# q13とq14の相関の詳細を確認中\n",
    "\n",
    "- q13のビン幅（5%）でよさそうかを確認？"
   ]
  },
  {
   "cell_type": "code",
   "execution_count": null,
   "metadata": {},
   "outputs": [],
   "source": [
    "range_x = alt.Scale(domain=[-10, 100])\n",
    "base = (\n",
    "    alt.Chart(data)\n",
    "    .encode(\n",
    "        alt.Y(\"q14\"),\n",
    "        alt.Color(\"count()\").scale(scheme=\"blues\"),\n",
    "    )\n",
    "    .properties(\n",
    "        width=800,\n",
    "        height=400,\n",
    "    )\n",
    ")\n",
    "\n",
    "base0 = base.encode(alt.X(\"q13\").scale(range_x)).properties(title=\"ビン幅：なし\")\n",
    "base5 = base.encode(alt.X(\"q13\").bin(step=5).scale(range_x)).properties(\n",
    "    title=\"ビン幅：5%\"\n",
    ")\n",
    "base10 = base.encode(alt.X(\"q13\").bin(step=10).scale(range_x)).properties(\n",
    "    title=\"ビン幅：10%\"\n",
    ")"
   ]
  },
  {
   "cell_type": "code",
   "execution_count": null,
   "metadata": {},
   "outputs": [],
   "source": [
    "mark = base0.mark_point()\n",
    "text = base0.mark_text(dy=-20).encode(alt.Text(\"count()\"))\n",
    "bin0 = mark + text\n",
    "# bin0"
   ]
  },
  {
   "cell_type": "code",
   "execution_count": null,
   "metadata": {},
   "outputs": [],
   "source": [
    "mark = base5.mark_rect()\n",
    "text = base5.mark_text(dy=-20, color=\"black\").encode(alt.Text(\"count()\"))\n",
    "bin5 = mark + text\n",
    "# bin5"
   ]
  },
  {
   "cell_type": "code",
   "execution_count": null,
   "metadata": {},
   "outputs": [],
   "source": [
    "mark = base10.mark_rect()\n",
    "text = base10.mark_text(dy=-20).encode(alt.Text(\"count()\"))\n",
    "bin10 = mark + text\n",
    "# bin10"
   ]
  },
  {
   "cell_type": "code",
   "execution_count": null,
   "metadata": {},
   "outputs": [],
   "source": [
    "bin0 & bin5 & bin10"
   ]
  },
  {
   "cell_type": "markdown",
   "metadata": {},
   "source": [
    "``q13``（``q13_binned``）と``q14``のジェンダー比率"
   ]
  },
  {
   "cell_type": "code",
   "execution_count": null,
   "metadata": {},
   "outputs": [],
   "source": [
    "base = (\n",
    "    alt.Chart(data)\n",
    "    .encode(\n",
    "        alt.X(\"q13_binned\"),\n",
    "        alt.Y(\"count()\").stack(\"normalize\"),\n",
    "        alt.Color(\"q02:N\"),\n",
    "        alt.Order(\"count()\"),\n",
    "    )\n",
    "    .properties(\n",
    "        height=200,\n",
    "        width=400,\n",
    "    )\n",
    ")\n",
    "\n",
    "mark = base.mark_bar(opacity=0.5)\n",
    "text = base.mark_text(dy=10).encode(\n",
    "    alt.Text(\"count()\"),\n",
    ")\n",
    "top = mark + text"
   ]
  },
  {
   "cell_type": "code",
   "execution_count": null,
   "metadata": {},
   "outputs": [],
   "source": [
    "base = (\n",
    "    alt.Chart(data)\n",
    "    .encode(\n",
    "        alt.Y(\"q14\"),\n",
    "        alt.X(\"count()\").stack(\"normalize\"),\n",
    "        alt.Color(\"q02:N\"),\n",
    "        alt.Order(\"count()\"),\n",
    "    )\n",
    "    .properties(\n",
    "        height=400,\n",
    "        width=200,\n",
    "    )\n",
    ")\n",
    "\n",
    "mark = base.mark_bar(opacity=0.5)\n",
    "text = base.mark_text(dx=-10).encode(alt.Text(\"count()\"))\n",
    "right = mark + text"
   ]
  },
  {
   "cell_type": "code",
   "execution_count": null,
   "metadata": {},
   "outputs": [],
   "source": [
    "base = (\n",
    "    alt.Chart(data)\n",
    "    .encode(\n",
    "        alt.X(\"q13_binned\"),\n",
    "        alt.Y(\"q14\"),\n",
    "    )\n",
    "    .properties(\n",
    "        width=400,\n",
    "        height=400,\n",
    "    )\n",
    ")\n",
    "\n",
    "mark = base.mark_rect().encode(\n",
    "    alt.Color(\"count()\").scale(scheme=\"blues\"),\n",
    ")\n",
    "\n",
    "text = base.mark_text().encode(alt.Text(\"count()\"))\n",
    "\n",
    "main = mark + text"
   ]
  },
  {
   "cell_type": "code",
   "execution_count": null,
   "metadata": {},
   "outputs": [],
   "source": [
    "top & (main | right)"
   ]
  },
  {
   "cell_type": "markdown",
   "metadata": {},
   "source": []
  },
  {
   "cell_type": "markdown",
   "metadata": {},
   "source": []
  }
 ],
 "metadata": {
  "kernelspec": {
   "display_name": ".venv",
   "language": "python",
   "name": "python3"
  },
  "language_info": {
   "codemirror_mode": {
    "name": "ipython",
    "version": 3
   },
   "file_extension": ".py",
   "mimetype": "text/x-python",
   "name": "python",
   "nbconvert_exporter": "python",
   "pygments_lexer": "ipython3",
   "version": "3.11.4"
  }
 },
 "nbformat": 4,
 "nbformat_minor": 2
}
