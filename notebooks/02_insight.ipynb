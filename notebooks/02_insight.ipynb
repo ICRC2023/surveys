{
 "cells": [
  {
   "cell_type": "markdown",
   "metadata": {},
   "source": [
    "いろいろ確認\n",
    "\n",
    "- データをグループ化\n",
    "- データを可視化"
   ]
  },
  {
   "cell_type": "code",
   "execution_count": 1,
   "metadata": {},
   "outputs": [
    {
     "name": "stdout",
     "output_type": "stream",
     "text": [
      "Pandas 2.0.3\n",
      "Altair 5.0.1\n",
      "Titanite 0.1.2\n"
     ]
    }
   ],
   "source": [
    "import pandas as pd\n",
    "import altair as alt\n",
    "import titanite as ti\n",
    "\n",
    "print(f\"Pandas {pd.__version__}\")\n",
    "print(f\"Altair {alt.__version__}\")\n",
    "print(f\"Titanite {ti.__version__}\")"
   ]
  },
  {
   "cell_type": "code",
   "execution_count": 2,
   "metadata": {},
   "outputs": [
    {
     "data": {
      "text/plain": [
       "{'q1': '【Q1】What is your age ?',\n",
       " 'q2': '【Q2】What gender do you identify as ?',\n",
       " 'q3': '【Q3】Which geographical region are you currently working or attending school/university in ?',\n",
       " 'q4': '【Q4】Which geographical region do you most strongly associate with ?',\n",
       " 'q5': '【Q5】What is your job title ?',\n",
       " 'q6': '【Q6】Which group do you belong to ? ',\n",
       " 'q7': '【Q7】What is your research type ?',\n",
       " 'q8': '【Q8】How long have you been in this field ?',\n",
       " 'q9': '【Q9】Are you satisfied with your career to date ?',\n",
       " 'q10': '【Q10】How many hours, on average, do you spend on housework, childcare, and caregiving per day ?',\n",
       " 'q11': '【Q11】Did you already sign up for the diversity session in ICRC2023?',\n",
       " 'q12': '【Q12】What do you think about the initiatives on DE&I of your group?',\n",
       " 'q13': '【Q13】What is the percentage of female researcher in your group?',\n",
       " 'q14': '【Q14】What do you think about the percentage above ?',\n",
       " 'q15': '【Q15】Please let us know If your group has any good practice examples related to DE&I ?',\n",
       " 'q16': '【Q16】Please let us know if there is anything your group needs to work on or if your group has any problems related to DE&I.',\n",
       " 'q17': '【Q17】What are your thoughts on diversity, equity & inclusion initiatives ?',\n",
       " 'q18': '【Q18】Could you tell us more about your thoughts (agree / disagree) ?',\n",
       " 'q19': '【Q19】When did you first become interested in science ?',\n",
       " 'q20': '【Q20】Do you have any concerns / problems related to DE&I initiatives in science ?',\n",
       " 'q21': '【Q21】What reasons do you think are hindering DE&I initiatives in science ?',\n",
       " 'q22': '【Q22】Comments'}"
      ]
     },
     "execution_count": 2,
     "metadata": {},
     "output_type": "execute_result"
    }
   ],
   "source": [
    "fcfg = \"../sandbox/config.toml\"\n",
    "fcsv = \"../sandbox/tmp_preprocessed.csv\"\n",
    "\n",
    "cfg = ti.Config(fname=fcfg)\n",
    "cfg.load()\n",
    "category = cfg.categories()\n",
    "\n",
    "data = pd.read_csv(fcsv, parse_dates=[\"timestamp\"])\n",
    "data = ti.categorical_data(data, category)\n",
    "# data\n",
    "\n",
    "cfg.questions"
   ]
  },
  {
   "cell_type": "code",
   "execution_count": 3,
   "metadata": {},
   "outputs": [],
   "source": [
    "def group_data(data: pd.DataFrame, group: list) -> pd.DataFrame:\n",
    "    c = \"response\"\n",
    "    grouped = data.groupby(group)[c].sum().reset_index()\n",
    "    return grouped"
   ]
  },
  {
   "cell_type": "code",
   "execution_count": 7,
   "metadata": {},
   "outputs": [
    {
     "data": {
      "text/html": [
       "<div>\n",
       "<style scoped>\n",
       "    .dataframe tbody tr th:only-of-type {\n",
       "        vertical-align: middle;\n",
       "    }\n",
       "\n",
       "    .dataframe tbody tr th {\n",
       "        vertical-align: top;\n",
       "    }\n",
       "\n",
       "    .dataframe thead th {\n",
       "        text-align: right;\n",
       "    }\n",
       "</style>\n",
       "<table border=\"1\" class=\"dataframe\">\n",
       "  <thead>\n",
       "    <tr style=\"text-align: right;\">\n",
       "      <th></th>\n",
       "      <th>q1</th>\n",
       "      <th>q2</th>\n",
       "      <th>q3</th>\n",
       "      <th>response</th>\n",
       "    </tr>\n",
       "  </thead>\n",
       "  <tbody>\n",
       "    <tr>\n",
       "      <th>107</th>\n",
       "      <td>20s</td>\n",
       "      <td>Male</td>\n",
       "      <td>Europe / Central Europe</td>\n",
       "      <td>19</td>\n",
       "    </tr>\n",
       "    <tr>\n",
       "      <th>214</th>\n",
       "      <td>30s</td>\n",
       "      <td>Male</td>\n",
       "      <td>Europe / South Europe</td>\n",
       "      <td>11</td>\n",
       "    </tr>\n",
       "    <tr>\n",
       "      <th>211</th>\n",
       "      <td>30s</td>\n",
       "      <td>Male</td>\n",
       "      <td>Europe / West Europe</td>\n",
       "      <td>9</td>\n",
       "    </tr>\n",
       "    <tr>\n",
       "      <th>110</th>\n",
       "      <td>20s</td>\n",
       "      <td>Male</td>\n",
       "      <td>Asia / Japan</td>\n",
       "      <td>9</td>\n",
       "    </tr>\n",
       "    <tr>\n",
       "      <th>128</th>\n",
       "      <td>20s</td>\n",
       "      <td>Female</td>\n",
       "      <td>Europe / Central Europe</td>\n",
       "      <td>9</td>\n",
       "    </tr>\n",
       "    <tr>\n",
       "      <th>...</th>\n",
       "      <td>...</td>\n",
       "      <td>...</td>\n",
       "      <td>...</td>\n",
       "      <td>...</td>\n",
       "    </tr>\n",
       "    <tr>\n",
       "      <th>390</th>\n",
       "      <td>40s</td>\n",
       "      <td>Prefer to self-identify</td>\n",
       "      <td>America / Central America</td>\n",
       "      <td>0</td>\n",
       "    </tr>\n",
       "    <tr>\n",
       "      <th>391</th>\n",
       "      <td>40s</td>\n",
       "      <td>Prefer to self-identify</td>\n",
       "      <td>America / South America</td>\n",
       "      <td>0</td>\n",
       "    </tr>\n",
       "    <tr>\n",
       "      <th>392</th>\n",
       "      <td>40s</td>\n",
       "      <td>Prefer to self-identify</td>\n",
       "      <td>Oceania / Oceania</td>\n",
       "      <td>0</td>\n",
       "    </tr>\n",
       "    <tr>\n",
       "      <th>393</th>\n",
       "      <td>40s</td>\n",
       "      <td>Prefer to self-identify</td>\n",
       "      <td>Africa / Northern Africa</td>\n",
       "      <td>0</td>\n",
       "    </tr>\n",
       "    <tr>\n",
       "      <th>1049</th>\n",
       "      <td>Prefer not to answer</td>\n",
       "      <td>Prefer not to answer</td>\n",
       "      <td>Prefer not to answer / Prefer not to answer</td>\n",
       "      <td>0</td>\n",
       "    </tr>\n",
       "  </tbody>\n",
       "</table>\n",
       "<p>1050 rows × 4 columns</p>\n",
       "</div>"
      ],
      "text/plain": [
       "                        q1                       q2  \\\n",
       "107                    20s                     Male   \n",
       "214                    30s                     Male   \n",
       "211                    30s                     Male   \n",
       "110                    20s                     Male   \n",
       "128                    20s                   Female   \n",
       "...                    ...                      ...   \n",
       "390                    40s  Prefer to self-identify   \n",
       "391                    40s  Prefer to self-identify   \n",
       "392                    40s  Prefer to self-identify   \n",
       "393                    40s  Prefer to self-identify   \n",
       "1049  Prefer not to answer     Prefer not to answer   \n",
       "\n",
       "                                               q3  response  \n",
       "107                       Europe / Central Europe        19  \n",
       "214                         Europe / South Europe        11  \n",
       "211                          Europe / West Europe         9  \n",
       "110                                  Asia / Japan         9  \n",
       "128                       Europe / Central Europe         9  \n",
       "...                                           ...       ...  \n",
       "390                     America / Central America         0  \n",
       "391                       America / South America         0  \n",
       "392                             Oceania / Oceania         0  \n",
       "393                      Africa / Northern Africa         0  \n",
       "1049  Prefer not to answer / Prefer not to answer         0  \n",
       "\n",
       "[1050 rows x 4 columns]"
      ]
     },
     "execution_count": 7,
     "metadata": {},
     "output_type": "execute_result"
    }
   ],
   "source": [
    "group_data(data, [\"q1\", \"q2\", \"q3\"]).sort_values(\"response\", ascending=False)"
   ]
  },
  {
   "cell_type": "code",
   "execution_count": null,
   "metadata": {},
   "outputs": [],
   "source": [
    "def histogram(data: pd.DataFrame, x: str, color: str):\n",
    "    y = \"response\"\n",
    "    h = alt.Chart(data).mark_bar().encode(\n",
    "        alt.X(x),\n",
    "        alt.Y(y),\n",
    "        alt.Color(color),\n",
    "    ).properties(\n",
    "        width = 500,\n",
    "    )\n",
    "    return h    "
   ]
  },
  {
   "cell_type": "code",
   "execution_count": null,
   "metadata": {},
   "outputs": [],
   "source": [
    "def heatmap(data: pd.DataFrame, x: str, y: str, color: str):\n",
    "    hm = alt.Chart(data).mark_rect().encode(\n",
    "        alt.X(x),\n",
    "        alt.Y(y),\n",
    "        alt.Color(color),\n",
    "    ).properties(\n",
    "        width = 500,\n",
    "    )\n",
    "    return hm"
   ]
  },
  {
   "cell_type": "code",
   "execution_count": 8,
   "metadata": {},
   "outputs": [],
   "source": [
    "x = \"q2\"\n",
    "y = \"q6\"\n",
    "z = \"response\"\n",
    "\n",
    "g = [x, y]\n",
    "gdata = group_data(data, g)\n",
    "# hi = histogram(gdata, x, y)\n",
    "# hm = heatmap(gdata, x, y, color=\"response\")"
   ]
  },
  {
   "cell_type": "code",
   "execution_count": null,
   "metadata": {},
   "outputs": [],
   "source": []
  }
 ],
 "metadata": {
  "kernelspec": {
   "display_name": ".venv",
   "language": "python",
   "name": "python3"
  },
  "language_info": {
   "codemirror_mode": {
    "name": "ipython",
    "version": 3
   },
   "file_extension": ".py",
   "mimetype": "text/x-python",
   "name": "python",
   "nbconvert_exporter": "python",
   "pygments_lexer": "ipython3",
   "version": "3.11.4"
  },
  "orig_nbformat": 4
 },
 "nbformat": 4,
 "nbformat_minor": 2
}
