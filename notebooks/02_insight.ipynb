{
 "cells": [
  {
   "cell_type": "markdown",
   "metadata": {},
   "source": [
    "いろいろ確認\n",
    "\n",
    "- データをグループ化\n",
    "- データを可視化"
   ]
  },
  {
   "cell_type": "code",
   "execution_count": null,
   "metadata": {},
   "outputs": [],
   "source": [
    "import pandas as pd\n",
    "import altair as alt\n",
    "import titanite as ti\n",
    "\n",
    "print(f\"Pandas {pd.__version__}\")\n",
    "print(f\"Altair {alt.__version__}\")\n",
    "print(f\"Titanite {ti.__version__}\")"
   ]
  },
  {
   "cell_type": "code",
   "execution_count": null,
   "metadata": {},
   "outputs": [],
   "source": [
    "f_cfg = \"../sandbox/config.toml\"\n",
    "f_csv = \"../data/test_data/prepared_data.csv\"\n",
    "d = ti.Data(read_from=f_csv, load_from=f_cfg)\n",
    "config = d.config()\n",
    "data = d.read()\n",
    "# data = d.read()\n",
    "# data\n"
   ]
  },
  {
   "cell_type": "code",
   "execution_count": null,
   "metadata": {},
   "outputs": [],
   "source": [
    "n_headers = d.numerical_headers\n",
    "c_headers = d.categorical_headers"
   ]
  },
  {
   "cell_type": "markdown",
   "metadata": {},
   "source": [
    "各質問の記述統計\n",
    "\n",
    "- 数値型のカラムに対して、平均、標準偏差、最小値、最大値などを計算する\n",
    "- カテゴリカルなカラムに対して、頻度とパーセンテージを取得する\n",
    "- 自由記述のカラムは除外する"
   ]
  },
  {
   "cell_type": "code",
   "execution_count": null,
   "metadata": {},
   "outputs": [],
   "source": [
    "n_stats = data[n_headers].describe().T\n",
    "c_stats = data[c_headers].apply(lambda x: x.value_counts(dropna=False)).T\n",
    "n_stats\n",
    "# c_stats"
   ]
  },
  {
   "cell_type": "markdown",
   "metadata": {},
   "source": [
    "性別と感情分析（極性と主観度）\n",
    "\n",
    "- カテゴリ型と数値型は、直接的な相関を計算できない\n",
    "- 性別ごとに極性と主観度の平均値を計算して比較する\n",
    "- 箱ひげ図を使って、性別ごとの極性と主観度の分布を可視化する"
   ]
  },
  {
   "cell_type": "code",
   "execution_count": null,
   "metadata": {},
   "outputs": [],
   "source": [
    "# Compute the mean values\n",
    "g = [\"q02\"]\n",
    "headers = [\"q15_polarity\", \"q15_subjectivity\"]\n",
    "mean_values = data.groupby(g)[headers].describe().T\n",
    "mean_values"
   ]
  },
  {
   "cell_type": "code",
   "execution_count": null,
   "metadata": {},
   "outputs": [],
   "source": [
    "alt.Chart(data).mark_boxplot().encode(\n",
    "        alt.X(\"q03_subregional\"),\n",
    "        alt.Y(\"q10\"),\n",
    ").properties(\n",
    "    title=\"Boxplot of q15_polarity by gender\",\n",
    "    width=800,\n",
    ").interactive()"
   ]
  },
  {
   "cell_type": "code",
   "execution_count": null,
   "metadata": {},
   "outputs": [],
   "source": [
    "f_q15 = \"../data/test_data/comment/q15.csv\"\n",
    "q15 = pd.read_csv(f_q15)\n",
    "q15.groupby(g)[headers].mean()"
   ]
  },
  {
   "cell_type": "code",
   "execution_count": null,
   "metadata": {},
   "outputs": [],
   "source": [
    "alt.Chart(q15).mark_boxplot().encode(\n",
    "        alt.X(\"q02\"),\n",
    "        alt.Y(\"q15_polarity\"),\n",
    ").properties(\n",
    "    title=\"Boxplot of q15_polarity by gender\",\n",
    "    width=500,\n",
    ")\n",
    "\n",
    "alt.Chart(q15).mark_boxplot().encode(\n",
    "        alt.X(\"q02\"),\n",
    "        alt.Y(\"q15_subjectivity\"),\n",
    ").properties(\n",
    "    title=\"Boxplot of q15_subjectivity by gender\",\n",
    "    width=500,\n",
    ")"
   ]
  },
  {
   "cell_type": "code",
   "execution_count": null,
   "metadata": {},
   "outputs": [],
   "source": [
    "def group_data(data: pd.DataFrame, group: list) -> pd.DataFrame:\n",
    "    c = \"response\"\n",
    "    grouped = data.groupby(group)[c].sum().reset_index()\n",
    "    return grouped"
   ]
  },
  {
   "cell_type": "code",
   "execution_count": null,
   "metadata": {},
   "outputs": [],
   "source": [
    "group_data(data, [\"q1\", \"q2\", \"q3\"]).sort_values(\"response\", ascending=False)"
   ]
  },
  {
   "cell_type": "code",
   "execution_count": null,
   "metadata": {},
   "outputs": [],
   "source": [
    "def histogram(data: pd.DataFrame, x: str, color: str):\n",
    "    y = \"response\"\n",
    "    h = alt.Chart(data).mark_bar().encode(\n",
    "        alt.X(x),\n",
    "        alt.Y(y),\n",
    "        alt.Color(color),\n",
    "    ).properties(\n",
    "        width = 500,\n",
    "    )\n",
    "    return h    "
   ]
  },
  {
   "cell_type": "code",
   "execution_count": null,
   "metadata": {},
   "outputs": [],
   "source": [
    "def heatmap(data: pd.DataFrame, x: str, y: str, color: str):\n",
    "    hm = alt.Chart(data).mark_rect().encode(\n",
    "        alt.X(x),\n",
    "        alt.Y(y),\n",
    "        alt.Color(color),\n",
    "    ).properties(\n",
    "        width = 500,\n",
    "    )\n",
    "    return hm"
   ]
  },
  {
   "cell_type": "code",
   "execution_count": null,
   "metadata": {},
   "outputs": [],
   "source": [
    "x = \"q2\"\n",
    "y = \"q6\"\n",
    "z = \"response\"\n",
    "\n",
    "g = [x, y]\n",
    "gdata = group_data(data, g)\n",
    "# hi = histogram(gdata, x, y)\n",
    "# hm = heatmap(gdata, x, y, color=\"response\")"
   ]
  },
  {
   "cell_type": "code",
   "execution_count": null,
   "metadata": {},
   "outputs": [],
   "source": []
  }
 ],
 "metadata": {
  "kernelspec": {
   "display_name": ".venv",
   "language": "python",
   "name": "python3"
  },
  "language_info": {
   "codemirror_mode": {
    "name": "ipython",
    "version": 3
   },
   "file_extension": ".py",
   "mimetype": "text/x-python",
   "name": "python",
   "nbconvert_exporter": "python",
   "pygments_lexer": "ipython3",
   "version": "3.11.5"
  },
  "orig_nbformat": 4
 },
 "nbformat": 4,
 "nbformat_minor": 2
}
