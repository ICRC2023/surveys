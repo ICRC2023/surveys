{
 "cells": [
  {
   "cell_type": "markdown",
   "metadata": {},
   "source": [
    "設定ファイルを読み込む\n",
    "\n",
    "- ``sandbox/config.toml``\n",
    "- 質問をカテゴリー型に変換するための設定\n",
    "- ``[questions]``: 質問の内容を取得するための設定\n",
    "- ``[choices]``: 質問の回答をカテゴリー型に変換するための設定\n",
    "- ``choices``は使いまわすことがあるので、``questions``と1対1に対応させず、別々のセクションにした\n",
    "  - 例: ``regional`` / ``subregional`` / ``good_poor`` / ``agree_disgree`` など"
   ]
  },
  {
   "cell_type": "code",
   "execution_count": 1,
   "metadata": {},
   "outputs": [],
   "source": [
    "from pathlib import Path\n",
    "import tomllib"
   ]
  },
  {
   "cell_type": "code",
   "execution_count": 2,
   "metadata": {},
   "outputs": [],
   "source": [
    "f_cfg = \"../sandbox/config.toml\"\n",
    "fname = Path(f_cfg)\n",
    "with fname.open(\"rb\") as f:\n",
    "    config = tomllib.load(f)"
   ]
  },
  {
   "cell_type": "code",
   "execution_count": 3,
   "metadata": {},
   "outputs": [
    {
     "data": {
      "text/plain": [
       "dict_keys(['volumes', 'questions', 'choices'])"
      ]
     },
     "execution_count": 3,
     "metadata": {},
     "output_type": "execute_result"
    }
   ],
   "source": [
    "config.keys()"
   ]
  },
  {
   "cell_type": "code",
   "execution_count": 4,
   "metadata": {},
   "outputs": [
    {
     "data": {
      "text/plain": [
       "dict_keys(['q01', 'q02', 'q03', 'q04', 'q05', 'q06', 'q07', 'q08', 'q09', 'q10', 'q11', 'q12', 'q13', 'q14', 'q15', 'q16', 'q17', 'q18', 'q19', 'q20', 'q21', 'q22'])"
      ]
     },
     "execution_count": 4,
     "metadata": {},
     "output_type": "execute_result"
    }
   ],
   "source": [
    "questions = config[\"questions\"]\n",
    "questions.keys()"
   ]
  },
  {
   "cell_type": "code",
   "execution_count": 5,
   "metadata": {},
   "outputs": [
    {
     "data": {
      "text/plain": [
       "dict_keys(['age', 'gender', 'geoscheme', 'regional', 'subregional', 'job_title', 'research_group', 'research_field', 'research_years', 'yes_no', 'good_poor', 'agree_disagree', 'school', 'cluster'])"
      ]
     },
     "execution_count": 5,
     "metadata": {},
     "output_type": "execute_result"
    }
   ],
   "source": [
    "choices = config[\"choices\"]\n",
    "choices.keys()"
   ]
  },
  {
   "cell_type": "code",
   "execution_count": 6,
   "metadata": {},
   "outputs": [
    {
     "data": {
      "text/plain": [
       "dict_keys(['main', 'test'])"
      ]
     },
     "execution_count": 6,
     "metadata": {},
     "output_type": "execute_result"
    }
   ],
   "source": [
    "volumes = config[\"volumes\"]\n",
    "volumes.keys()"
   ]
  },
  {
   "cell_type": "code",
   "execution_count": 7,
   "metadata": {},
   "outputs": [
    {
     "data": {
      "text/plain": [
       "{'main': '../data/main_data', 'test': '../data/test_data'}"
      ]
     },
     "execution_count": 7,
     "metadata": {},
     "output_type": "execute_result"
    }
   ],
   "source": [
    "volumes"
   ]
  },
  {
   "cell_type": "code",
   "execution_count": 8,
   "metadata": {},
   "outputs": [
    {
     "data": {
      "text/plain": [
       "{'age': CategoricalDtype(categories=['10s', '20s', '30s', '40s', '50s', '60s', '70s', '80s',\n",
       "                   '90s+', 'Prefer not to answer'],\n",
       " , ordered=True),\n",
       " 'gender': CategoricalDtype(categories=['Male', 'Female', 'Non-binary', 'Prefer to self-identify',\n",
       "                   'Prefer not to answer'],\n",
       " , ordered=True),\n",
       " 'geoscheme': CategoricalDtype(categories=['Europe / North Europe', 'Europe / West Europe',\n",
       "                   'Europe / Central Europe', 'Europe / East Europe',\n",
       "                   'Europe / South Europe', 'Asia / Japan',\n",
       "                   'Asia / Eastern Asia', 'Asia / South-Eastern Asia',\n",
       "                   'Asia / Southern Asia', 'Asia / Central Asia',\n",
       "                   'Asia / Western Asia', 'America / North America',\n",
       "                   'America / Central America', 'America / South America',\n",
       "                   'Oceania / Oceania', 'Africa / Northern Africa',\n",
       "                   'Africa / Western Africa', 'Africa / Middle Africa',\n",
       "                   'Africa / Eastern Africa', 'Africa / Southern Africa',\n",
       "                   'Prefer not to answer / Prefer not to answer'],\n",
       " , ordered=True),\n",
       " 'regional': CategoricalDtype(categories=['Europe', 'Asia', 'America', 'Oceania', 'Africa',\n",
       "                   'Prefer not to answer'],\n",
       " , ordered=True),\n",
       " 'subregional': CategoricalDtype(categories=['North Europe', 'West Europe', 'Central Europe',\n",
       "                   'East Europe', 'South Europe', 'Japan', 'Eastern Asia',\n",
       "                   'South-Eastern Asia', 'Southern Asia', 'Central Asia',\n",
       "                   'Western Asia', 'North America', 'Central America',\n",
       "                   'South America', 'Oceania', 'Northern Africa',\n",
       "                   'Western Africa', 'Middle Africa', 'Eastern Africa',\n",
       "                   'Southern Africa', 'Prefer not to answer'],\n",
       " , ordered=True),\n",
       " 'job_title': CategoricalDtype(categories=['Undergraduate', 'Master', 'Doctrate', 'Postdoc',\n",
       "                   'Fixed-term staff', 'Permanent staff',\n",
       "                   'Prefer not to answer'],\n",
       " , ordered=True),\n",
       " 'research_group': CategoricalDtype(categories=['CRD: Cosmic-ray physics (Direct)',\n",
       "                   'CRI: Cosmic-ray physics (Indirect)',\n",
       "                   'GA: Gamma-ray astronomy',\n",
       "                   'NU: Neutrino astronomy & physics',\n",
       "                   'SH: Solar & heliospheric physics',\n",
       "                   'DM: Dark-matter physics',\n",
       "                   'MM&GW: Multimessenger & gravitational wave',\n",
       "                   'O&E: Outreach & education', 'Prefer not to answer'],\n",
       " , ordered=True),\n",
       " 'research_field': CategoricalDtype(categories=['Theorist', 'Experimentalist', 'Others',\n",
       "                   'Prefer not to answer'],\n",
       " , ordered=True),\n",
       " 'research_years': CategoricalDtype(categories=['< 1 year', '1 - 3 years', '3 - 5 years', '5 - 10 yeas',\n",
       "                   '> 10 years', 'Prefer not to answer'],\n",
       " , ordered=True),\n",
       " 'yes_no': CategoricalDtype(categories=['Yes', 'No', 'Prefer not to answer'], ordered=True),\n",
       " 'good_poor': CategoricalDtype(categories=['Very Good', 'Good', 'Poor', 'Very Poor', 'No interest',\n",
       "                   'Prefer not to answer'],\n",
       " , ordered=True),\n",
       " 'agree_disagree': CategoricalDtype(categories=['Agree', 'Disagree', 'No interest', 'Prefer not to answer'], ordered=True),\n",
       " 'school': CategoricalDtype(categories=['Pre school', 'Elementary school', 'Junior High school',\n",
       "                   'High school', 'University', 'Prefer not to answer'],\n",
       " , ordered=True),\n",
       " 'cluster': CategoricalDtype(categories=['Cluster1', 'Cluster2', 'Cluster3', 'Cluster4', 'Others'], ordered=True)}"
      ]
     },
     "execution_count": 8,
     "metadata": {},
     "output_type": "execute_result"
    }
   ],
   "source": [
    "import titanite as ti\n",
    "c = ti.Config(load_from=f_cfg)\n",
    "config = c.load_config()\n",
    "#config\n",
    "#config.get(\"volumes\")\n",
    "#config.get(\"questions\")\n",
    "#config.get(\"choices\").items()\n",
    "categories = c.categorical()\n",
    "categories"
   ]
  },
  {
   "cell_type": "code",
   "execution_count": null,
   "metadata": {},
   "outputs": [],
   "source": []
  }
 ],
 "metadata": {
  "kernelspec": {
   "display_name": "Python 3 (ipykernel)",
   "language": "python",
   "name": "python3"
  },
  "language_info": {
   "codemirror_mode": {
    "name": "ipython",
    "version": 3
   },
   "file_extension": ".py",
   "mimetype": "text/x-python",
   "name": "python",
   "nbconvert_exporter": "python",
   "pygments_lexer": "ipython3",
   "version": "3.11.4"
  }
 },
 "nbformat": 4,
 "nbformat_minor": 4
}
