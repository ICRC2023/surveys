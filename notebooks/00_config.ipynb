{
 "cells": [
  {
   "cell_type": "markdown",
   "metadata": {},
   "source": [
    "設定ファイルを読み込む\n",
    "\n",
    "- ``sandbox/config.toml``\n",
    "- 質問をカテゴリー型に変換するための設定\n",
    "- ``[questions]``: 質問の内容を取得するための設定\n",
    "- ``[choices]``: 質問の回答をカテゴリー型に変換するための設定\n",
    "- ``choices``は使いまわすことがあるので、``questions``と1対1に対応させず、別々のセクションにした\n",
    "  - 例: ``regional`` / ``subregional`` / ``good_poor`` / ``agree_disgree`` など"
   ]
  },
  {
   "cell_type": "code",
   "execution_count": null,
   "metadata": {},
   "outputs": [],
   "source": [
    "from pathlib import Path\n",
    "import pandas as pd\n",
    "import tomllib"
   ]
  },
  {
   "cell_type": "markdown",
   "metadata": {},
   "source": [
    "``tomllib``を使って設定ファイルを読み込む"
   ]
  },
  {
   "cell_type": "code",
   "execution_count": null,
   "metadata": {},
   "outputs": [],
   "source": [
    "f_cfg = \"../sandbox/config.toml\"\n",
    "fname = Path(f_cfg)\n",
    "with fname.open(\"rb\") as f:\n",
    "    config = tomllib.load(f)"
   ]
  },
  {
   "cell_type": "markdown",
   "metadata": {},
   "source": [
    "キーを確認する"
   ]
  },
  {
   "cell_type": "code",
   "execution_count": null,
   "metadata": {},
   "outputs": [],
   "source": [
    "config.keys()"
   ]
  },
  {
   "cell_type": "code",
   "execution_count": null,
   "metadata": {},
   "outputs": [],
   "source": [
    "nd = config.get(\"defined\", \"Not defined\")\n",
    "volumes = config.get(\"volumes\", \"Not Defined\")\n",
    "questions = config.get(\"questions\", \"Not Defined\")\n",
    "choices = config.get(\"choices\", \"Not Defined\")\n",
    "o = config.get(\"options\", \"Not Defined\")\n",
    "options = pd.DataFrame(o)"
   ]
  },
  {
   "cell_type": "code",
   "execution_count": null,
   "metadata": {},
   "outputs": [],
   "source": [
    "nd"
   ]
  },
  {
   "cell_type": "code",
   "execution_count": null,
   "metadata": {},
   "outputs": [],
   "source": [
    "volumes.keys()"
   ]
  },
  {
   "cell_type": "code",
   "execution_count": null,
   "metadata": {},
   "outputs": [],
   "source": [
    "questions.keys()"
   ]
  },
  {
   "cell_type": "code",
   "execution_count": null,
   "metadata": {},
   "outputs": [],
   "source": [
    "choices.keys()"
   ]
  },
  {
   "cell_type": "markdown",
   "metadata": {},
   "source": [
    "質問の概要オプションをデータフレームに変換する"
   ]
  },
  {
   "cell_type": "code",
   "execution_count": null,
   "metadata": {},
   "outputs": [],
   "source": [
    "options[\"name\"].tolist()\n",
    "options.query(\"type == 'categorical'\")[\"name\"].to_list()\n",
    "options.query(\"type == 'categorical'\")[\"description\"].to_list()\n",
    "options.query(\"type == 'categorical'\")[[\"name\", \"title\"]].to_dict().keys()"
   ]
  },
  {
   "cell_type": "markdown",
   "metadata": {},
   "source": [
    "## ``config``モジュールの動作確認"
   ]
  },
  {
   "cell_type": "code",
   "execution_count": null,
   "metadata": {},
   "outputs": [],
   "source": [
    "import titanite as ti\n",
    "f_cfg = \"../sandbox/config.toml\"\n",
    "c = ti.Config(load_from=f_cfg)\n",
    "# c.load_categories()\n",
    "# c.load_options()\n",
    "c.load()\n",
    "#categories = c.categorical()"
   ]
  },
  {
   "cell_type": "markdown",
   "metadata": {},
   "source": [
    "``self.config``の値を確認する"
   ]
  },
  {
   "cell_type": "code",
   "execution_count": null,
   "metadata": {},
   "outputs": [],
   "source": [
    "#c.config.get(\"volumes\", \"Not defined\")\n",
    "#c.config.get(\"questions\", \"Not defined\")\n",
    "#c.config.get(\"choices\", \"Not defined\").items()\n",
    "#c.config.get(\"options\", \"Not defined\")\n",
    "#c.config"
   ]
  },
  {
   "cell_type": "markdown",
   "metadata": {},
   "source": [
    "- ``categorical()`` を ``load_categories()``で置き換える\n",
    "- ``self.categories``でアクセスできるようにした"
   ]
  },
  {
   "cell_type": "code",
   "execution_count": null,
   "metadata": {},
   "outputs": [],
   "source": [
    "c.categorical() == c.categories"
   ]
  },
  {
   "cell_type": "markdown",
   "metadata": {},
   "source": [
    "- 質問に関係するオプション一式はデータフレームにした\n",
    "- ``load_options()``で読み込み＆変換ができる\n",
    "- ``self.options``でアクセスできるようにした"
   ]
  },
  {
   "cell_type": "code",
   "execution_count": null,
   "metadata": {},
   "outputs": [],
   "source": [
    "c.options"
   ]
  },
  {
   "cell_type": "code",
   "execution_count": null,
   "metadata": {},
   "outputs": [],
   "source": []
  }
 ],
 "metadata": {
  "kernelspec": {
   "display_name": "Python 3 (ipykernel)",
   "language": "python",
   "name": "python3"
  },
  "language_info": {
   "codemirror_mode": {
    "name": "ipython",
    "version": 3
   },
   "file_extension": ".py",
   "mimetype": "text/x-python",
   "name": "python",
   "nbconvert_exporter": "python",
   "pygments_lexer": "ipython3",
   "version": "3.11.5"
  }
 },
 "nbformat": 4,
 "nbformat_minor": 4
}
