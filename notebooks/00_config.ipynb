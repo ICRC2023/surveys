{
 "cells": [
  {
   "cell_type": "markdown",
   "metadata": {},
   "source": [
    "設定ファイルを読み込む\n",
    "\n",
    "- ``sandbox/config.toml``\n",
    "- 質問をカテゴリー型に変換するための設定\n",
    "- ``[questions]``: 質問の内容を取得するための設定\n",
    "- ``[choices]``: 質問の回答をカテゴリー型に変換するための設定\n",
    "- ``choices``は使いまわすことがあるので、``questions``と1対1に対応させず、別々のセクションにした\n",
    "  - 例: ``regional`` / ``subregional`` / ``good_poor`` / ``agree_disgree`` など"
   ]
  },
  {
   "cell_type": "code",
   "execution_count": null,
   "metadata": {},
   "outputs": [],
   "source": [
    "from pathlib import Path\n",
    "import pandas as pd\n",
    "import tomllib"
   ]
  },
  {
   "cell_type": "markdown",
   "metadata": {},
   "source": [
    "``tomllib``を使って設定ファイルを読み込む"
   ]
  },
  {
   "cell_type": "code",
   "execution_count": null,
   "metadata": {},
   "outputs": [],
   "source": [
    "f_cfg = \"../sandbox/config.toml\"\n",
    "fname = Path(f_cfg)\n",
    "with fname.open(\"rb\") as f:\n",
    "    config = tomllib.load(f)"
   ]
  },
  {
   "cell_type": "markdown",
   "metadata": {},
   "source": [
    "設定ファイルのセクション名を確認する\n",
    "\n",
    "1. ``volumes``\n",
    "2. ``questions`` : そのうち廃止する\n",
    "3. ``choices``\n",
    "4. ``options``\n",
    "5. ``overview``"
   ]
  },
  {
   "cell_type": "code",
   "execution_count": null,
   "metadata": {},
   "outputs": [],
   "source": [
    "config.keys()"
   ]
  },
  {
   "cell_type": "code",
   "execution_count": null,
   "metadata": {},
   "outputs": [],
   "source": [
    "nd = config.get(\"defined\", \"Not defined\")\n",
    "volumes = config.get(\"volumes\", \"Not Defined\")\n",
    "questions = config.get(\"questions\", \"Not Defined\")\n",
    "choices = config.get(\"choices\", \"Not Defined\")"
   ]
  },
  {
   "cell_type": "code",
   "execution_count": null,
   "metadata": {},
   "outputs": [],
   "source": [
    "nd"
   ]
  },
  {
   "cell_type": "code",
   "execution_count": null,
   "metadata": {},
   "outputs": [],
   "source": [
    "volumes.keys()"
   ]
  },
  {
   "cell_type": "code",
   "execution_count": null,
   "metadata": {},
   "outputs": [],
   "source": [
    "questions.keys()"
   ]
  },
  {
   "cell_type": "code",
   "execution_count": null,
   "metadata": {},
   "outputs": [],
   "source": [
    "choices.keys()"
   ]
  },
  {
   "cell_type": "markdown",
   "metadata": {},
   "source": [
    "質問の概要オプションをデータフレームに変換する"
   ]
  },
  {
   "cell_type": "code",
   "execution_count": null,
   "metadata": {},
   "outputs": [],
   "source": [
    "_options = config.get(\"options\", \"Not Defined\")\n",
    "options = pd.DataFrame(_options)\n",
    "options.index = options[\"name\"]\n",
    "#options"
   ]
  },
  {
   "cell_type": "markdown",
   "metadata": {},
   "source": [
    "カラム名（``name``）をキーにして、タイトルなどを取得できるようにする\n",
    "\n",
    "- titles = ``{name: title}``\n",
    "- descriptions = ``{name: description}``\n",
    "- category_maps = ``{name: category_name}``"
   ]
  },
  {
   "cell_type": "code",
   "execution_count": null,
   "metadata": {},
   "outputs": [],
   "source": [
    "def get_option(data: pd.DataFrame, name: str) -> dict[str, str]:\n",
    "    \"\"\"Get option as dict\"\"\"\n",
    "    options = data[[name]].dropna()\n",
    "    option = options.to_dict().get(name, dict())\n",
    "    return option"
   ]
  },
  {
   "cell_type": "markdown",
   "metadata": {},
   "source": [
    "カラム名を取得する"
   ]
  },
  {
   "cell_type": "code",
   "execution_count": null,
   "metadata": {},
   "outputs": [],
   "source": [
    "names1 = sorted(options[\"name\"])\n",
    "# names1\n",
    "names2 = get_option(options, \"name\")\n",
    "names1 == sorted(names2.keys())"
   ]
  },
  {
   "cell_type": "markdown",
   "metadata": {},
   "source": [
    "質問のタイトル取得する"
   ]
  },
  {
   "cell_type": "code",
   "execution_count": null,
   "metadata": {},
   "outputs": [],
   "source": [
    "titles1 = options.to_dict().get(\"title\")\n",
    "titles2 = get_option(options, \"title\")\n",
    "titles1 == titles2"
   ]
  },
  {
   "cell_type": "markdown",
   "metadata": {},
   "source": [
    "質問の内容を取得する"
   ]
  },
  {
   "cell_type": "code",
   "execution_count": null,
   "metadata": {},
   "outputs": [],
   "source": [
    "descriptions1 = options.to_dict().get(\"description\")\n",
    "descriptions2 = get_option(options, \"description\")\n",
    "descriptions1 == descriptions2"
   ]
  },
  {
   "cell_type": "markdown",
   "metadata": {},
   "source": [
    "カテゴリー型へのマッピングを取得する\n",
    "\n",
    "- ``category``フィールドに、``[choices]``セクションで定義したカテゴリ名を入力する\n",
    "- 未設定（``nan``）は除外する"
   ]
  },
  {
   "cell_type": "code",
   "execution_count": null,
   "metadata": {},
   "outputs": [],
   "source": [
    "_options = options[[\"category\"]].dropna()\n",
    "cmaps1 = _options.to_dict().get(\"category\")\n",
    "cmaps2 = get_option(options, \"category\")\n",
    "cmaps1 == cmaps2"
   ]
  },
  {
   "cell_type": "markdown",
   "metadata": {},
   "source": [
    "質問の回答の形式を取得する\n",
    "\n",
    "- ``categorical``\n",
    "- ``numerical``\n",
    "- ``comment``"
   ]
  },
  {
   "cell_type": "code",
   "execution_count": null,
   "metadata": {},
   "outputs": [],
   "source": [
    "def get_headers(data: pd.DataFrame, type: str):\n",
    "    q = f\"type == '{type}'\"\n",
    "    headers = data.query(q)[\"name\"].to_list()\n",
    "    return headers"
   ]
  },
  {
   "cell_type": "code",
   "execution_count": null,
   "metadata": {},
   "outputs": [],
   "source": [
    "#get_headers(options, type=\"categorical\")\n",
    "#get_headers(options, type=\"numerical\")\n",
    "#get_headers(options, type=\"comment\")"
   ]
  },
  {
   "cell_type": "markdown",
   "metadata": {},
   "source": [
    "## ``config``モジュールの動作確認\n",
    "\n",
    "- ``Config``クラス、``Data``クラスは``__init__.py``で呼び出していて、トップレベル（``ti.Config``、``ti.Data``）で使うことができる"
   ]
  },
  {
   "cell_type": "markdown",
   "metadata": {},
   "source": [
    "## ``Config``クラス\n",
    "\n",
    "- ``load_from``で設定ファイルを指定する\n",
    "  - 現在は``../sandbox``にある``config.toml``\n",
    "- インスタンスを作成しただけでは設定は読み込まれていない\n",
    "  - ``Config``クラスは（無駄に）``pydantic``の``BaseModel``を継承している\n",
    "  - 正直``dataclasses``でよかった気がしている\n",
    "- ``Config.load``を実行すると、設定ファイルの内容を読み込むことできる\n",
    "  - このときにメンバー変数（``config`` / ``categories`` / ``optins``）も設定される"
   ]
  },
  {
   "cell_type": "code",
   "execution_count": null,
   "metadata": {},
   "outputs": [],
   "source": [
    "import titanite as ti\n",
    "f_cfg = \"../sandbox/config.toml\"\n",
    "c = ti.Config(load_from=f_cfg)\n",
    "c"
   ]
  },
  {
   "cell_type": "markdown",
   "metadata": {},
   "source": [
    "``load_from``で指定したファイルの内容を読み込む"
   ]
  },
  {
   "cell_type": "code",
   "execution_count": null,
   "metadata": {},
   "outputs": [],
   "source": [
    "c.load()"
   ]
  },
  {
   "cell_type": "markdown",
   "metadata": {},
   "source": [
    "Configクラスのメンバー変数に値が代入されていることを確認する"
   ]
  },
  {
   "cell_type": "code",
   "execution_count": null,
   "metadata": {},
   "outputs": [],
   "source": [
    "# c.categories\n",
    "# c.categories.keys()\n",
    "# c.names\n",
    "# c.titles\n",
    "# c.descriptions\n",
    "# c.category_maps\n",
    "# c.categorical_headers\n",
    "# c.numerical_headers\n",
    "# c.comment_headers\n"
   ]
  },
  {
   "cell_type": "code",
   "execution_count": null,
   "metadata": {},
   "outputs": [],
   "source": [
    "for k, v in c.category_maps.items():\n",
    "    q = c.categories.get(v)\n",
    "    # print(k, q)\n"
   ]
  },
  {
   "cell_type": "markdown",
   "metadata": {},
   "source": [
    "## テスト用"
   ]
  },
  {
   "cell_type": "markdown",
   "metadata": {},
   "source": [
    "設定を確認する\n",
    "\n",
    "- すべての設定内容は``self.config``で確認できる\n",
    "- ``self.config``は辞書型"
   ]
  },
  {
   "cell_type": "code",
   "execution_count": null,
   "metadata": {},
   "outputs": [],
   "source": [
    "type(c.config)\n",
    "c.config.keys()\n",
    "#c.config.get(\"volumes\", \"Not defined\")\n",
    "#c.config.get(\"questions\", \"Not defined\")\n",
    "#c.config.get(\"choices\", \"Not defined\").items()\n",
    "#c.config.get(\"options\", \"Not defined\")\n",
    "#c.config.get(\"overview\", \"Not defined\")"
   ]
  },
  {
   "cell_type": "markdown",
   "metadata": {},
   "source": [
    "- ``categorical()`` を ``load_categories()``で置き換える\n",
    "- ``self.categories``でアクセスできるようにした"
   ]
  },
  {
   "cell_type": "code",
   "execution_count": null,
   "metadata": {},
   "outputs": [],
   "source": [
    "c.categorical() == c.categories"
   ]
  },
  {
   "cell_type": "markdown",
   "metadata": {},
   "source": [
    "- 質問に関係するオプション一式はデータフレームにした\n",
    "- ``load_options()``で読み込み＆変換ができる\n",
    "- ``self.options``でアクセスできるようにした"
   ]
  },
  {
   "cell_type": "code",
   "execution_count": null,
   "metadata": {},
   "outputs": [],
   "source": [
    "options = c.options\n",
    "options.index = options[\"name\"]\n",
    "options[\"type\"].to_dict()\n"
   ]
  },
  {
   "cell_type": "markdown",
   "metadata": {},
   "source": [
    "## ``Data``クラス\n",
    "\n",
    "- ``Data``クラスも``pydantic``の``BaseModel``を継承している\n",
    "- ``Config``クラスとは独立したクラスとして作成した\n",
    "- 前処理済のデータを読み込み、要素のカテゴリー化を一括しておこなう"
   ]
  },
  {
   "cell_type": "code",
   "execution_count": null,
   "metadata": {},
   "outputs": [],
   "source": [
    "import titanite as ti\n",
    "f_cfg = \"../sandbox/config.toml\"\n",
    "f_csv = \"../data/test_data/prepared_data.csv\"\n",
    "c = ti.Config(load_from=f_cfg)\n",
    "t = ti.Data(read_from=f_csv, load_from=f_cfg)"
   ]
  },
  {
   "cell_type": "markdown",
   "metadata": {},
   "source": [
    "データを読み込む"
   ]
  },
  {
   "cell_type": "code",
   "execution_count": null,
   "metadata": {},
   "outputs": [],
   "source": [
    "data = t.read()\n",
    "data.info()"
   ]
  },
  {
   "cell_type": "code",
   "execution_count": null,
   "metadata": {},
   "outputs": [],
   "source": [
    "ti.config.CATEGORICAL_HEADERS\n",
    "ti.config.NUMERICAL_HEADERS"
   ]
  },
  {
   "cell_type": "markdown",
   "metadata": {},
   "source": [
    "総当たりするカラム名のペアを列挙する"
   ]
  },
  {
   "cell_type": "code",
   "execution_count": null,
   "metadata": {},
   "outputs": [],
   "source": [
    "headers = list(data.columns)\n",
    "t.matches(columns=headers)"
   ]
  },
  {
   "cell_type": "markdown",
   "metadata": {},
   "source": [
    "クロス集計"
   ]
  }
 ],
 "metadata": {
  "kernelspec": {
   "display_name": "Python 3 (ipykernel)",
   "language": "python",
   "name": "python3"
  },
  "language_info": {
   "codemirror_mode": {
    "name": "ipython",
    "version": 3
   },
   "file_extension": ".py",
   "mimetype": "text/x-python",
   "name": "python",
   "nbconvert_exporter": "python",
   "pygments_lexer": "ipython3",
   "version": "3.11.5"
  }
 },
 "nbformat": 4,
 "nbformat_minor": 4
}
