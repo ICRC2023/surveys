{
 "cells": [
  {
   "cell_type": "markdown",
   "metadata": {},
   "source": [
    "設定ファイルを読み込む\n",
    "\n",
    "- ``sandbox/config.toml``\n",
    "- 質問をカテゴリー型に変換するための設定\n",
    "- ``[questions]``: 質問の内容を取得するための設定\n",
    "- ``[choices]``: 質問の回答をカテゴリー型に変換するための設定\n",
    "- ``choices``は使いまわすことがあるので、``questions``と1対1に対応させず、別々のセクションにした\n",
    "  - 例: ``regional`` / ``subregional`` / ``good_poor`` / ``agree_disgree`` など"
   ]
  },
  {
   "cell_type": "code",
   "execution_count": null,
   "metadata": {},
   "outputs": [],
   "source": [
    "from pathlib import Path\n",
    "import pandas as pd\n",
    "import tomllib"
   ]
  },
  {
   "cell_type": "markdown",
   "metadata": {},
   "source": [
    "``tomllib``を使って設定ファイルを読み込む"
   ]
  },
  {
   "cell_type": "code",
   "execution_count": null,
   "metadata": {},
   "outputs": [],
   "source": [
    "f_cfg = \"../sandbox/config.toml\"\n",
    "fname = Path(f_cfg)\n",
    "with fname.open(\"rb\") as f:\n",
    "    config = tomllib.load(f)"
   ]
  },
  {
   "cell_type": "markdown",
   "metadata": {},
   "source": [
    "キーを確認する"
   ]
  },
  {
   "cell_type": "code",
   "execution_count": null,
   "metadata": {},
   "outputs": [],
   "source": [
    "config.keys()"
   ]
  },
  {
   "cell_type": "code",
   "execution_count": null,
   "metadata": {},
   "outputs": [],
   "source": [
    "nd = config.get(\"defined\", \"Not defined\")\n",
    "volumes = config.get(\"volumes\", \"Not Defined\")\n",
    "questions = config.get(\"questions\", \"Not Defined\")\n",
    "choices = config.get(\"choices\", \"Not Defined\")\n",
    "o = config.get(\"options\", \"Not Defined\")\n",
    "options = pd.DataFrame(o)"
   ]
  },
  {
   "cell_type": "code",
   "execution_count": null,
   "metadata": {},
   "outputs": [],
   "source": [
    "nd"
   ]
  },
  {
   "cell_type": "code",
   "execution_count": null,
   "metadata": {},
   "outputs": [],
   "source": [
    "volumes.keys()"
   ]
  },
  {
   "cell_type": "code",
   "execution_count": null,
   "metadata": {},
   "outputs": [],
   "source": [
    "questions.keys()"
   ]
  },
  {
   "cell_type": "code",
   "execution_count": null,
   "metadata": {},
   "outputs": [],
   "source": [
    "choices.keys()"
   ]
  },
  {
   "cell_type": "markdown",
   "metadata": {},
   "source": [
    "質問の概要オプションをデータフレームに変換する"
   ]
  },
  {
   "cell_type": "code",
   "execution_count": null,
   "metadata": {},
   "outputs": [],
   "source": [
    "options[\"name\"].tolist()\n",
    "options.query(\"type == 'categorical'\")[\"name\"].to_list()\n",
    "options.query(\"type == 'categorical'\")[\"description\"].to_list()\n",
    "options.query(\"type == 'categorical'\")[[\"name\", \"title\"]].to_dict().keys()"
   ]
  },
  {
   "cell_type": "markdown",
   "metadata": {},
   "source": [
    "## ``config``モジュールの動作確認\n",
    "\n",
    "- ``Config``クラス、``Data``クラスは``__init__.py``で呼び出していて、トップレベル（``ti.Config``、``ti.Data``）で使うことができる"
   ]
  },
  {
   "cell_type": "markdown",
   "metadata": {},
   "source": [
    "## ``Config``クラス\n",
    "\n",
    "- ``load_from``で設定ファイルを指定する\n",
    "  - 現在は``../sandbox``にある``config.toml``\n",
    "- インスタンスを作成しただけでは設定は読み込まれていない\n",
    "  - ``Config``クラスは（無駄に）``pydantic``の``BaseModel``を継承している\n",
    "  - 正直``dataclasses``でよかった気がしている\n",
    "- ``Config.load``を実行すると、設定ファイルの内容を読み込むことできる\n",
    "  - このときにメンバー変数（``config`` / ``categories`` / ``optins``）も設定される"
   ]
  },
  {
   "cell_type": "code",
   "execution_count": null,
   "metadata": {},
   "outputs": [],
   "source": [
    "import titanite as ti\n",
    "f_cfg = \"../sandbox/config.toml\"\n",
    "c = ti.Config(load_from=f_cfg)\n",
    "c"
   ]
  },
  {
   "cell_type": "markdown",
   "metadata": {},
   "source": [
    "``load_from``で指定したファイルの内容を読み込む"
   ]
  },
  {
   "cell_type": "code",
   "execution_count": null,
   "metadata": {},
   "outputs": [],
   "source": [
    "#c.load_categories()\n",
    "#c.load_options()\n",
    "c.load()\n",
    "#c.categories"
   ]
  },
  {
   "cell_type": "markdown",
   "metadata": {},
   "source": [
    "設定を確認する\n",
    "\n",
    "- 設定内容は``self.config``でアクセスできる\n",
    "- ``self.config``は辞書型"
   ]
  },
  {
   "cell_type": "code",
   "execution_count": null,
   "metadata": {},
   "outputs": [],
   "source": [
    "type(c.config)\n",
    "c.config.keys()\n",
    "#c.config.get(\"volumes\", \"Not defined\")\n",
    "#c.config.get(\"questions\", \"Not defined\")\n",
    "#c.config.get(\"choices\", \"Not defined\").items()\n",
    "#c.config.get(\"options\", \"Not defined\")\n",
    "#c.config.get(\"overview\", \"Not defined\")"
   ]
  },
  {
   "cell_type": "markdown",
   "metadata": {},
   "source": [
    "- ``categorical()`` を ``load_categories()``で置き換える\n",
    "- ``self.categories``でアクセスできるようにした"
   ]
  },
  {
   "cell_type": "code",
   "execution_count": null,
   "metadata": {},
   "outputs": [],
   "source": [
    "c.categorical() == c.categories"
   ]
  },
  {
   "cell_type": "markdown",
   "metadata": {},
   "source": [
    "- 質問に関係するオプション一式はデータフレームにした\n",
    "- ``load_options()``で読み込み＆変換ができる\n",
    "- ``self.options``でアクセスできるようにした"
   ]
  },
  {
   "cell_type": "code",
   "execution_count": null,
   "metadata": {},
   "outputs": [],
   "source": [
    "c.options"
   ]
  },
  {
   "cell_type": "markdown",
   "metadata": {},
   "source": [
    "## ``Data``クラス\n",
    "\n",
    "- ``Data``クラスも``pydantic``の``BaseModel``を継承している\n",
    "- ``Config``クラスとは独立したクラスとして作成した\n",
    "- 前処理済のデータを読み込み、要素のカテゴリー化を一括しておこなう"
   ]
  },
  {
   "cell_type": "code",
   "execution_count": null,
   "metadata": {},
   "outputs": [],
   "source": [
    "import titanite as ti\n",
    "f_cfg = \"../sandbox/config.toml\"\n",
    "f_csv = \"../data/test_data/prepared_data.csv\"\n",
    "c = ti.Config(load_from=f_cfg)\n",
    "t = ti.Data(read_from=f_csv, load_from=f_cfg)"
   ]
  },
  {
   "cell_type": "markdown",
   "metadata": {},
   "source": [
    "データを読み込む"
   ]
  },
  {
   "cell_type": "code",
   "execution_count": null,
   "metadata": {},
   "outputs": [],
   "source": [
    "data = t.read()\n",
    "data.info()"
   ]
  },
  {
   "cell_type": "code",
   "execution_count": null,
   "metadata": {},
   "outputs": [],
   "source": [
    "ti.config.CATEGORICAL_HEADERS\n",
    "ti.config.NUMERICAL_HEADERS"
   ]
  },
  {
   "cell_type": "markdown",
   "metadata": {},
   "source": [
    "総当たりするカラム名のペアを列挙する"
   ]
  },
  {
   "cell_type": "code",
   "execution_count": null,
   "metadata": {},
   "outputs": [],
   "source": [
    "headers = list(data.columns)\n",
    "t.matches(columns=headers)"
   ]
  },
  {
   "cell_type": "markdown",
   "metadata": {},
   "source": [
    "クロス集計"
   ]
  }
 ],
 "metadata": {
  "kernelspec": {
   "display_name": "Python 3 (ipykernel)",
   "language": "python",
   "name": "python3"
  },
  "language_info": {
   "codemirror_mode": {
    "name": "ipython",
    "version": 3
   },
   "file_extension": ".py",
   "mimetype": "text/x-python",
   "name": "python",
   "nbconvert_exporter": "python",
   "pygments_lexer": "ipython3",
   "version": "3.11.5"
  }
 },
 "nbformat": 4,
 "nbformat_minor": 4
}
