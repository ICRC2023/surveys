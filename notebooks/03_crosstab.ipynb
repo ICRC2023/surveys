{
 "cells": [
  {
   "cell_type": "markdown",
   "metadata": {},
   "source": [
    "クロス集計とカイ二乗検定\n",
    "\n",
    "- ``core.py``のモジュールに、クロス集計＆カイ二乗検定するメソッドを追加する\n",
    "  - ``crosstab_data`` : クロス集計した結果をカイ二乗検定する\n",
    "  - ``crosstab_heatmap`` : クロス集計した結果をヒートマップにする\n",
    "  - ``crosstab``: 上記のメソッドをまとめて実行する"
   ]
  },
  {
   "cell_type": "code",
   "execution_count": 1,
   "metadata": {},
   "outputs": [
    {
     "name": "stdout",
     "output_type": "stream",
     "text": [
      "Altair 5.0.1\n",
      "Pandas 2.0.3\n",
      "SciPy 1.11.1\n",
      "Titanite 0.4.0\n"
     ]
    }
   ],
   "source": [
    "import itertools\n",
    "import altair as alt\n",
    "import pandas as pd\n",
    "import titanite as ti\n",
    "import scipy as sp\n",
    "\n",
    "print(f\"Altair {alt.__version__}\")\n",
    "print(f\"Pandas {pd.__version__}\")\n",
    "print(f\"SciPy {sp.__version__}\")\n",
    "print(f\"Titanite {ti.__version__}\")"
   ]
  },
  {
   "cell_type": "markdown",
   "metadata": {},
   "source": [
    "データを読み込む\n",
    "\n",
    "- 前処理済のデータなので``Data``クラスで読み込む\n",
    "  - データ読み込みをシンプルにできた\n",
    "  - 外から``Config``にアクセスできないデメリットがある"
   ]
  },
  {
   "cell_type": "code",
   "execution_count": 2,
   "metadata": {},
   "outputs": [
    {
     "name": "stderr",
     "output_type": "stream",
     "text": [
      "\u001b[32m2023-07-23 14:19:27.800\u001b[0m | \u001b[1mINFO    \u001b[0m | \u001b[36mtitanite.preprocess\u001b[0m:\u001b[36mcategorical_data\u001b[0m:\u001b[36m123\u001b[0m - \u001b[1mCategorize\u001b[0m\n",
      "\u001b[32m2023-07-23 14:19:27.807\u001b[0m | \u001b[1mINFO    \u001b[0m | \u001b[36mtitanite.preprocess\u001b[0m:\u001b[36mbinned_data\u001b[0m:\u001b[36m229\u001b[0m - \u001b[1mBinned\u001b[0m\n"
     ]
    }
   ],
   "source": [
    "f_cfg = \"../sandbox/config.toml\"\n",
    "f_csv = \"../data/test_data/prepared_data.csv\"\n",
    "d = ti.Data(read_from=f_csv, load_from=f_cfg)\n",
    "data = d.read()\n",
    "# data.info()"
   ]
  },
  {
   "cell_type": "markdown",
   "metadata": {},
   "source": [
    "クロス集計すると、データのカテゴリ情報がなくなってしまうので、対処法を調べてみた\n",
    "\n",
    "- ``pd.DataFrame.dtypes``ですべてのカラムの型を確認できる\n",
    "- ``pd.Series.dtypes`` / ``pd.Series.dtype``でカラムの型を確認できる\n",
    "- ``data.cat.categories``でカテゴリーの中身にアクセスできる\n",
    "- 型の変換なので``pd.DataFrame.astype``でキャストすればよい\n",
    "- ``astype``には``pd.Series.dtype``を渡せばよいことがわかった"
   ]
  },
  {
   "cell_type": "code",
   "execution_count": 3,
   "metadata": {},
   "outputs": [],
   "source": [
    "#data.dtypes"
   ]
  },
  {
   "cell_type": "code",
   "execution_count": 4,
   "metadata": {},
   "outputs": [],
   "source": [
    "#data[\"q01\"].cat.categories"
   ]
  },
  {
   "cell_type": "code",
   "execution_count": 5,
   "metadata": {},
   "outputs": [],
   "source": [
    "# for h in data.columns:\n",
    "#     t = data[h].dtype\n",
    "#     if t == \"category\":\n",
    "#         c = data[h].cat.categories\n",
    "#         print(f\"{h} = {c}\")"
   ]
  },
  {
   "cell_type": "markdown",
   "metadata": {},
   "source": [
    "クロス集計してカイ二乗検定する"
   ]
  },
  {
   "cell_type": "code",
   "execution_count": 6,
   "metadata": {},
   "outputs": [],
   "source": [
    "x = \"q02\"\n",
    "y = \"q03\"\n",
    "v = \"count\"\n",
    "\n",
    "# data[h0].dtype\n",
    "# data[h1].dtype"
   ]
  },
  {
   "cell_type": "code",
   "execution_count": 7,
   "metadata": {},
   "outputs": [],
   "source": [
    "cross_tab = pd.crosstab(data[x], data[y])\n",
    "#cross_tab\n",
    "#cross_tab.columns\n",
    "#cross_tab.info()"
   ]
  },
  {
   "cell_type": "markdown",
   "metadata": {},
   "source": [
    "クロス集計した結果をロングデータに変換する（グラフ作成のための準備）\n",
    "- ``reset_index``するときに、カラムの型情報が抜けてしまった\n",
    "- カラム名が同じなので、元データのカテゴリ型を使って、上書きする"
   ]
  },
  {
   "cell_type": "code",
   "execution_count": 8,
   "metadata": {},
   "outputs": [],
   "source": [
    "melted = cross_tab.reset_index().melt(\n",
    "    id_vars=x,\n",
    "    var_name=y,\n",
    "    value_name=v,\n",
    "    )\n",
    "#ti.categorical_data(melted, category)\n",
    "melted[x] = melted[x].astype(data[x].dtype)\n",
    "melted[y] = melted[y].astype(data[y].dtype)\n",
    "#melted.info()"
   ]
  },
  {
   "cell_type": "markdown",
   "metadata": {},
   "source": [
    "これまでの処理をまとめる"
   ]
  },
  {
   "cell_type": "code",
   "execution_count": 29,
   "metadata": {},
   "outputs": [],
   "source": [
    "from scipy.stats import chi2_contingency\n",
    "\n",
    "def crosstab(data: pd.DataFrame, header: tuple):\n",
    "    x = header[0]\n",
    "    y = header[1]\n",
    "    z = \"count\"\n",
    "\n",
    "    # クロス集計してカイ二乗検定\n",
    "    cross_tab = pd.crosstab(data[x], data[y])\n",
    "    chi2_test = chi2_contingency(cross_tab)\n",
    "\n",
    "    # ロングデータに変換\n",
    "    melted = cross_tab.reset_index().melt(id_vars=x, var_name=y, value_name=z)\n",
    "    # 元データのカテゴリ型情報を付け直す\n",
    "    melted[x] = melted[x].astype(data[x].dtype)\n",
    "    melted[y] = melted[y].astype(data[y].dtype)\n",
    "\n",
    "    # グラフを作成\n",
    "    base = alt.Chart(melted).encode(\n",
    "        alt.X(x),\n",
    "        alt.Y(y),\n",
    "    )\n",
    "\n",
    "    mark = base.mark_rect().encode(\n",
    "        color = alt.condition(\n",
    "        alt.datum[z] > 0,\n",
    "        alt.Color(f\"{z}:Q\"),\n",
    "        alt.value(\"white\"),\n",
    "        )\n",
    "    )\n",
    "\n",
    "    text = base.mark_text().encode(\n",
    "        text=alt.condition(\n",
    "        alt.datum[z] > 0,\n",
    "        alt.Text(f\"{z}:Q\"),\n",
    "        alt.value(\"\")\n",
    "    ),\n",
    "    color=alt.value('black')\n",
    "    )\n",
    "\n",
    "    heatmap = (mark + text).properties(\n",
    "        width=400,\n",
    "        height=400,\n",
    "    )\n",
    "    return cross_tab, chi2_test, heatmap\n"
   ]
  },
  {
   "cell_type": "code",
   "execution_count": 30,
   "metadata": {},
   "outputs": [],
   "source": [
    "cross_tab, chi2_test, hm = crosstab(data, (\"q01\", \"q02\"))"
   ]
  },
  {
   "cell_type": "code",
   "execution_count": 31,
   "metadata": {},
   "outputs": [
    {
     "data": {
      "text/html": [
       "<div>\n",
       "<style scoped>\n",
       "    .dataframe tbody tr th:only-of-type {\n",
       "        vertical-align: middle;\n",
       "    }\n",
       "\n",
       "    .dataframe tbody tr th {\n",
       "        vertical-align: top;\n",
       "    }\n",
       "\n",
       "    .dataframe thead th {\n",
       "        text-align: right;\n",
       "    }\n",
       "</style>\n",
       "<table border=\"1\" class=\"dataframe\">\n",
       "  <thead>\n",
       "    <tr style=\"text-align: right;\">\n",
       "      <th>q02</th>\n",
       "      <th>Male</th>\n",
       "      <th>Female</th>\n",
       "      <th>Non-binary</th>\n",
       "      <th>Prefer to self-identify</th>\n",
       "      <th>Prefer not to answer</th>\n",
       "    </tr>\n",
       "    <tr>\n",
       "      <th>q01</th>\n",
       "      <th></th>\n",
       "      <th></th>\n",
       "      <th></th>\n",
       "      <th></th>\n",
       "      <th></th>\n",
       "    </tr>\n",
       "  </thead>\n",
       "  <tbody>\n",
       "    <tr>\n",
       "      <th>20s</th>\n",
       "      <td>67</td>\n",
       "      <td>32</td>\n",
       "      <td>4</td>\n",
       "      <td>0</td>\n",
       "      <td>0</td>\n",
       "    </tr>\n",
       "    <tr>\n",
       "      <th>30s</th>\n",
       "      <td>51</td>\n",
       "      <td>33</td>\n",
       "      <td>1</td>\n",
       "      <td>2</td>\n",
       "      <td>0</td>\n",
       "    </tr>\n",
       "    <tr>\n",
       "      <th>40s</th>\n",
       "      <td>26</td>\n",
       "      <td>11</td>\n",
       "      <td>0</td>\n",
       "      <td>1</td>\n",
       "      <td>1</td>\n",
       "    </tr>\n",
       "    <tr>\n",
       "      <th>50s</th>\n",
       "      <td>22</td>\n",
       "      <td>5</td>\n",
       "      <td>0</td>\n",
       "      <td>0</td>\n",
       "      <td>0</td>\n",
       "    </tr>\n",
       "    <tr>\n",
       "      <th>60s</th>\n",
       "      <td>16</td>\n",
       "      <td>3</td>\n",
       "      <td>0</td>\n",
       "      <td>0</td>\n",
       "      <td>1</td>\n",
       "    </tr>\n",
       "    <tr>\n",
       "      <th>70s</th>\n",
       "      <td>5</td>\n",
       "      <td>0</td>\n",
       "      <td>0</td>\n",
       "      <td>0</td>\n",
       "      <td>0</td>\n",
       "    </tr>\n",
       "    <tr>\n",
       "      <th>80s</th>\n",
       "      <td>2</td>\n",
       "      <td>0</td>\n",
       "      <td>0</td>\n",
       "      <td>0</td>\n",
       "      <td>0</td>\n",
       "    </tr>\n",
       "    <tr>\n",
       "      <th>90s+</th>\n",
       "      <td>2</td>\n",
       "      <td>1</td>\n",
       "      <td>0</td>\n",
       "      <td>0</td>\n",
       "      <td>0</td>\n",
       "    </tr>\n",
       "    <tr>\n",
       "      <th>Prefer not to answer</th>\n",
       "      <td>0</td>\n",
       "      <td>1</td>\n",
       "      <td>0</td>\n",
       "      <td>0</td>\n",
       "      <td>0</td>\n",
       "    </tr>\n",
       "  </tbody>\n",
       "</table>\n",
       "</div>"
      ],
      "text/plain": [
       "q02                   Male  Female  Non-binary  Prefer to self-identify  \\\n",
       "q01                                                                       \n",
       "20s                     67      32           4                        0   \n",
       "30s                     51      33           1                        2   \n",
       "40s                     26      11           0                        1   \n",
       "50s                     22       5           0                        0   \n",
       "60s                     16       3           0                        0   \n",
       "70s                      5       0           0                        0   \n",
       "80s                      2       0           0                        0   \n",
       "90s+                     2       1           0                        0   \n",
       "Prefer not to answer     0       1           0                        0   \n",
       "\n",
       "q02                   Prefer not to answer  \n",
       "q01                                         \n",
       "20s                                      0  \n",
       "30s                                      0  \n",
       "40s                                      1  \n",
       "50s                                      0  \n",
       "60s                                      1  \n",
       "70s                                      0  \n",
       "80s                                      0  \n",
       "90s+                                     0  \n",
       "Prefer not to answer                     0  "
      ]
     },
     "execution_count": 31,
     "metadata": {},
     "output_type": "execute_result"
    }
   ],
   "source": [
    "# cross_tab.info()\n",
    "cross_tab"
   ]
  },
  {
   "cell_type": "code",
   "execution_count": 32,
   "metadata": {},
   "outputs": [
    {
     "data": {
      "text/html": [
       "\n",
       "<style>\n",
       "  #altair-viz-b70941013c2546189d5aa3f305766234.vega-embed {\n",
       "    width: 100%;\n",
       "    display: flex;\n",
       "  }\n",
       "\n",
       "  #altair-viz-b70941013c2546189d5aa3f305766234.vega-embed details,\n",
       "  #altair-viz-b70941013c2546189d5aa3f305766234.vega-embed details summary {\n",
       "    position: relative;\n",
       "  }\n",
       "</style>\n",
       "<div id=\"altair-viz-b70941013c2546189d5aa3f305766234\"></div>\n",
       "<script type=\"text/javascript\">\n",
       "  var VEGA_DEBUG = (typeof VEGA_DEBUG == \"undefined\") ? {} : VEGA_DEBUG;\n",
       "  (function(spec, embedOpt){\n",
       "    let outputDiv = document.currentScript.previousElementSibling;\n",
       "    if (outputDiv.id !== \"altair-viz-b70941013c2546189d5aa3f305766234\") {\n",
       "      outputDiv = document.getElementById(\"altair-viz-b70941013c2546189d5aa3f305766234\");\n",
       "    }\n",
       "    const paths = {\n",
       "      \"vega\": \"https://cdn.jsdelivr.net/npm/vega@5?noext\",\n",
       "      \"vega-lib\": \"https://cdn.jsdelivr.net/npm/vega-lib?noext\",\n",
       "      \"vega-lite\": \"https://cdn.jsdelivr.net/npm/vega-lite@5.8.0?noext\",\n",
       "      \"vega-embed\": \"https://cdn.jsdelivr.net/npm/vega-embed@6?noext\",\n",
       "    };\n",
       "\n",
       "    function maybeLoadScript(lib, version) {\n",
       "      var key = `${lib.replace(\"-\", \"\")}_version`;\n",
       "      return (VEGA_DEBUG[key] == version) ?\n",
       "        Promise.resolve(paths[lib]) :\n",
       "        new Promise(function(resolve, reject) {\n",
       "          var s = document.createElement('script');\n",
       "          document.getElementsByTagName(\"head\")[0].appendChild(s);\n",
       "          s.async = true;\n",
       "          s.onload = () => {\n",
       "            VEGA_DEBUG[key] = version;\n",
       "            return resolve(paths[lib]);\n",
       "          };\n",
       "          s.onerror = () => reject(`Error loading script: ${paths[lib]}`);\n",
       "          s.src = paths[lib];\n",
       "        });\n",
       "    }\n",
       "\n",
       "    function showError(err) {\n",
       "      outputDiv.innerHTML = `<div class=\"error\" style=\"color:red;\">${err}</div>`;\n",
       "      throw err;\n",
       "    }\n",
       "\n",
       "    function displayChart(vegaEmbed) {\n",
       "      vegaEmbed(outputDiv, spec, embedOpt)\n",
       "        .catch(err => showError(`Javascript Error: ${err.message}<br>This usually means there's a typo in your chart specification. See the javascript console for the full traceback.`));\n",
       "    }\n",
       "\n",
       "    if(typeof define === \"function\" && define.amd) {\n",
       "      requirejs.config({paths});\n",
       "      require([\"vega-embed\"], displayChart, err => showError(`Error loading script: ${err.message}`));\n",
       "    } else {\n",
       "      maybeLoadScript(\"vega\", \"5\")\n",
       "        .then(() => maybeLoadScript(\"vega-lite\", \"5.8.0\"))\n",
       "        .then(() => maybeLoadScript(\"vega-embed\", \"6\"))\n",
       "        .catch(showError)\n",
       "        .then(() => displayChart(vegaEmbed));\n",
       "    }\n",
       "  })({\"config\": {\"view\": {\"continuousWidth\": 300, \"continuousHeight\": 300}}, \"layer\": [{\"mark\": {\"type\": \"rect\"}, \"encoding\": {\"color\": {\"condition\": {\"test\": \"(datum['count'] > 0)\", \"field\": \"count\", \"type\": \"quantitative\"}, \"value\": \"white\"}, \"x\": {\"field\": \"q01\", \"sort\": [\"10s\", \"20s\", \"30s\", \"40s\", \"50s\", \"60s\", \"70s\", \"80s\", \"90s+\", \"Prefer not to answer\"], \"type\": \"ordinal\"}, \"y\": {\"field\": \"q02\", \"sort\": [\"Male\", \"Female\", \"Non-binary\", \"Prefer to self-identify\", \"Prefer not to answer\"], \"type\": \"ordinal\"}}}, {\"mark\": {\"type\": \"text\"}, \"encoding\": {\"color\": {\"value\": \"black\"}, \"text\": {\"condition\": {\"test\": \"(datum['count'] > 0)\", \"field\": \"count\", \"type\": \"quantitative\"}, \"value\": \"\"}, \"x\": {\"field\": \"q01\", \"sort\": [\"10s\", \"20s\", \"30s\", \"40s\", \"50s\", \"60s\", \"70s\", \"80s\", \"90s+\", \"Prefer not to answer\"], \"type\": \"ordinal\"}, \"y\": {\"field\": \"q02\", \"sort\": [\"Male\", \"Female\", \"Non-binary\", \"Prefer to self-identify\", \"Prefer not to answer\"], \"type\": \"ordinal\"}}}], \"data\": {\"name\": \"data-e33316b7466e5af157d08b5b761e0edb\"}, \"height\": 400, \"width\": 400, \"$schema\": \"https://vega.github.io/schema/vega-lite/v5.8.0.json\", \"datasets\": {\"data-e33316b7466e5af157d08b5b761e0edb\": [{\"q01\": \"20s\", \"q02\": \"Male\", \"count\": 67}, {\"q01\": \"30s\", \"q02\": \"Male\", \"count\": 51}, {\"q01\": \"40s\", \"q02\": \"Male\", \"count\": 26}, {\"q01\": \"50s\", \"q02\": \"Male\", \"count\": 22}, {\"q01\": \"60s\", \"q02\": \"Male\", \"count\": 16}, {\"q01\": \"70s\", \"q02\": \"Male\", \"count\": 5}, {\"q01\": \"80s\", \"q02\": \"Male\", \"count\": 2}, {\"q01\": \"90s+\", \"q02\": \"Male\", \"count\": 2}, {\"q01\": \"Prefer not to answer\", \"q02\": \"Male\", \"count\": 0}, {\"q01\": \"20s\", \"q02\": \"Female\", \"count\": 32}, {\"q01\": \"30s\", \"q02\": \"Female\", \"count\": 33}, {\"q01\": \"40s\", \"q02\": \"Female\", \"count\": 11}, {\"q01\": \"50s\", \"q02\": \"Female\", \"count\": 5}, {\"q01\": \"60s\", \"q02\": \"Female\", \"count\": 3}, {\"q01\": \"70s\", \"q02\": \"Female\", \"count\": 0}, {\"q01\": \"80s\", \"q02\": \"Female\", \"count\": 0}, {\"q01\": \"90s+\", \"q02\": \"Female\", \"count\": 1}, {\"q01\": \"Prefer not to answer\", \"q02\": \"Female\", \"count\": 1}, {\"q01\": \"20s\", \"q02\": \"Non-binary\", \"count\": 4}, {\"q01\": \"30s\", \"q02\": \"Non-binary\", \"count\": 1}, {\"q01\": \"40s\", \"q02\": \"Non-binary\", \"count\": 0}, {\"q01\": \"50s\", \"q02\": \"Non-binary\", \"count\": 0}, {\"q01\": \"60s\", \"q02\": \"Non-binary\", \"count\": 0}, {\"q01\": \"70s\", \"q02\": \"Non-binary\", \"count\": 0}, {\"q01\": \"80s\", \"q02\": \"Non-binary\", \"count\": 0}, {\"q01\": \"90s+\", \"q02\": \"Non-binary\", \"count\": 0}, {\"q01\": \"Prefer not to answer\", \"q02\": \"Non-binary\", \"count\": 0}, {\"q01\": \"20s\", \"q02\": \"Prefer to self-identify\", \"count\": 0}, {\"q01\": \"30s\", \"q02\": \"Prefer to self-identify\", \"count\": 2}, {\"q01\": \"40s\", \"q02\": \"Prefer to self-identify\", \"count\": 1}, {\"q01\": \"50s\", \"q02\": \"Prefer to self-identify\", \"count\": 0}, {\"q01\": \"60s\", \"q02\": \"Prefer to self-identify\", \"count\": 0}, {\"q01\": \"70s\", \"q02\": \"Prefer to self-identify\", \"count\": 0}, {\"q01\": \"80s\", \"q02\": \"Prefer to self-identify\", \"count\": 0}, {\"q01\": \"90s+\", \"q02\": \"Prefer to self-identify\", \"count\": 0}, {\"q01\": \"Prefer not to answer\", \"q02\": \"Prefer to self-identify\", \"count\": 0}, {\"q01\": \"20s\", \"q02\": \"Prefer not to answer\", \"count\": 0}, {\"q01\": \"30s\", \"q02\": \"Prefer not to answer\", \"count\": 0}, {\"q01\": \"40s\", \"q02\": \"Prefer not to answer\", \"count\": 1}, {\"q01\": \"50s\", \"q02\": \"Prefer not to answer\", \"count\": 0}, {\"q01\": \"60s\", \"q02\": \"Prefer not to answer\", \"count\": 1}, {\"q01\": \"70s\", \"q02\": \"Prefer not to answer\", \"count\": 0}, {\"q01\": \"80s\", \"q02\": \"Prefer not to answer\", \"count\": 0}, {\"q01\": \"90s+\", \"q02\": \"Prefer not to answer\", \"count\": 0}, {\"q01\": \"Prefer not to answer\", \"q02\": \"Prefer not to answer\", \"count\": 0}]}}, {\"mode\": \"vega-lite\"});\n",
       "</script>"
      ],
      "text/plain": [
       "alt.LayerChart(...)"
      ]
     },
     "execution_count": 32,
     "metadata": {},
     "output_type": "execute_result"
    }
   ],
   "source": [
    "hm"
   ]
  },
  {
   "cell_type": "code",
   "execution_count": 13,
   "metadata": {},
   "outputs": [
    {
     "name": "stdout",
     "output_type": "stream",
     "text": [
      "29.775319946037516\n",
      "0.5795956041049015\n",
      "32\n"
     ]
    }
   ],
   "source": [
    "print(chi2_test.statistic)\n",
    "print(chi2_test.pvalue)\n",
    "print(chi2_test.dof)"
   ]
  },
  {
   "cell_type": "markdown",
   "metadata": {},
   "source": [
    "カイ二乗検定の結果をCSV（or JSON）に書き出す\n",
    "\n",
    "- まずデータフレームに変換する\n",
    "- JSONはTypstで読み込みやすい\n",
    "- CSVはTypstでそのまま表にできそう"
   ]
  },
  {
   "cell_type": "code",
   "execution_count": 14,
   "metadata": {},
   "outputs": [],
   "source": [
    "headers = [\n",
    "    (\"q01\", \"q02\"),\n",
    "    (\"q13_binned\", \"q14\"),\n",
    "    (\"q03_subregional\", \"q19\"),\n",
    "]"
   ]
  },
  {
   "cell_type": "code",
   "execution_count": 15,
   "metadata": {},
   "outputs": [
    {
     "name": "stdout",
     "output_type": "stream",
     "text": [
      "q01-q02\n",
      "29.775319946037516\n",
      "0.5795956041049015\n",
      "32\n",
      "q13_binned-q14\n",
      "377.3278332834723\n",
      "1.8953886707793875e-38\n",
      "85\n",
      "q03_subregional-q19\n",
      "136.9978979904653\n",
      "7.629276389468528e-05\n",
      "80\n"
     ]
    }
   ],
   "source": [
    "chi2_tests = []\n",
    "for header in headers:\n",
    "    cross_tab, chi2_test, hm = crosstab(data, header)\n",
    "    #display(cross_tab)\n",
    "    #hm.display()\n",
    "    x, y = header\n",
    "    name = f\"{x}-{y}\"\n",
    "    print(name)\n",
    "    print(chi2_test.statistic)\n",
    "    print(chi2_test.pvalue)\n",
    "    print(chi2_test.dof)\n",
    "    r = [name, chi2_test.statistic, chi2_test.pvalue, chi2_test.dof]\n",
    "    chi2_tests.append(r)"
   ]
  },
  {
   "cell_type": "code",
   "execution_count": 16,
   "metadata": {},
   "outputs": [
    {
     "data": {
      "text/plain": [
       "[['q01-q02', 29.775319946037516, 0.5795956041049015, 32],\n",
       " ['q13_binned-q14', 377.3278332834723, 1.8953886707793875e-38, 85],\n",
       " ['q03_subregional-q19', 136.9978979904653, 7.629276389468528e-05, 80]]"
      ]
     },
     "execution_count": 16,
     "metadata": {},
     "output_type": "execute_result"
    }
   ],
   "source": [
    "chi2_tests"
   ]
  },
  {
   "cell_type": "code",
   "execution_count": 17,
   "metadata": {},
   "outputs": [
    {
     "data": {
      "text/html": [
       "<div>\n",
       "<style scoped>\n",
       "    .dataframe tbody tr th:only-of-type {\n",
       "        vertical-align: middle;\n",
       "    }\n",
       "\n",
       "    .dataframe tbody tr th {\n",
       "        vertical-align: top;\n",
       "    }\n",
       "\n",
       "    .dataframe thead th {\n",
       "        text-align: right;\n",
       "    }\n",
       "</style>\n",
       "<table border=\"1\" class=\"dataframe\">\n",
       "  <thead>\n",
       "    <tr style=\"text-align: right;\">\n",
       "      <th></th>\n",
       "      <th>name</th>\n",
       "      <th>statistic</th>\n",
       "      <th>p-value</th>\n",
       "      <th>dof</th>\n",
       "    </tr>\n",
       "  </thead>\n",
       "  <tbody>\n",
       "    <tr>\n",
       "      <th>0</th>\n",
       "      <td>q01-q02</td>\n",
       "      <td>29.775320</td>\n",
       "      <td>5.795956e-01</td>\n",
       "      <td>32</td>\n",
       "    </tr>\n",
       "    <tr>\n",
       "      <th>1</th>\n",
       "      <td>q13_binned-q14</td>\n",
       "      <td>377.327833</td>\n",
       "      <td>1.895389e-38</td>\n",
       "      <td>85</td>\n",
       "    </tr>\n",
       "    <tr>\n",
       "      <th>2</th>\n",
       "      <td>q03_subregional-q19</td>\n",
       "      <td>136.997898</td>\n",
       "      <td>7.629276e-05</td>\n",
       "      <td>80</td>\n",
       "    </tr>\n",
       "  </tbody>\n",
       "</table>\n",
       "</div>"
      ],
      "text/plain": [
       "                  name   statistic       p-value  dof\n",
       "0              q01-q02   29.775320  5.795956e-01   32\n",
       "1       q13_binned-q14  377.327833  1.895389e-38   85\n",
       "2  q03_subregional-q19  136.997898  7.629276e-05   80"
      ]
     },
     "execution_count": 17,
     "metadata": {},
     "output_type": "execute_result"
    }
   ],
   "source": [
    "pd.DataFrame(chi2_tests, columns=[\"name\", \"statistic\", \"p-value\", \"dof\"])"
   ]
  },
  {
   "cell_type": "code",
   "execution_count": null,
   "metadata": {},
   "outputs": [],
   "source": []
  }
 ],
 "metadata": {
  "kernelspec": {
   "display_name": ".venv",
   "language": "python",
   "name": "python3"
  },
  "language_info": {
   "codemirror_mode": {
    "name": "ipython",
    "version": 3
   },
   "file_extension": ".py",
   "mimetype": "text/x-python",
   "name": "python",
   "nbconvert_exporter": "python",
   "pygments_lexer": "ipython3",
   "version": "3.11.4"
  },
  "orig_nbformat": 4
 },
 "nbformat": 4,
 "nbformat_minor": 2
}
