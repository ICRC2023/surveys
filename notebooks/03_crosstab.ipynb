{
 "cells": [
  {
   "cell_type": "markdown",
   "metadata": {},
   "source": [
    "# クロス集計とカイ二乗検定\n",
    "\n",
    "- ``core.py``のモジュールに、クロス集計＆カイ二乗検定するメソッドを追加する\n",
    "  - ``crosstab_data`` : クロス集計した結果をカイ二乗検定する\n",
    "  - ``crosstab_heatmap`` : クロス集計した結果をヒートマップにする\n",
    "  - ``crosstab``: 上記のメソッドをまとめて実行する"
   ]
  },
  {
   "cell_type": "code",
   "execution_count": null,
   "metadata": {},
   "outputs": [],
   "source": [
    "import itertools\n",
    "import altair as alt\n",
    "import pandas as pd\n",
    "import titanite as ti\n",
    "import scipy as sp\n",
    "\n",
    "print(f\"Altair {alt.__version__}\")\n",
    "print(f\"Pandas {pd.__version__}\")\n",
    "print(f\"SciPy {sp.__version__}\")\n",
    "print(f\"Titanite {ti.__version__}\")"
   ]
  },
  {
   "cell_type": "markdown",
   "metadata": {},
   "source": [
    "データを読み込む\n",
    "\n",
    "- 前処理済のデータなので``Data``クラスで読み込む\n",
    "  - データ読み込みをシンプルにできた\n",
    "  - 外から``Config``にアクセスできないデメリットがある"
   ]
  },
  {
   "cell_type": "code",
   "execution_count": null,
   "metadata": {},
   "outputs": [],
   "source": [
    "f_cfg = \"../sandbox/config.toml\"\n",
    "f_csv = \"../data/test_data/prepared_data.csv\"\n",
    "d = ti.Data(read_from=f_csv, load_from=f_cfg)\n",
    "data = d.read()\n",
    "# data.info()"
   ]
  },
  {
   "cell_type": "markdown",
   "metadata": {},
   "source": [
    "クロス集計すると、データのカテゴリ情報がなくなってしまうので、対処法を調べてみた\n",
    "\n",
    "- ``pd.DataFrame.dtypes``ですべてのカラムの型を確認できる\n",
    "- ``pd.Series.dtypes`` / ``pd.Series.dtype``でカラムの型を確認できる\n",
    "- ``data.cat.categories``でカテゴリーの中身にアクセスできる\n",
    "- 型の変換なので``pd.DataFrame.astype``でキャストすればよい\n",
    "- ``astype``には``pd.Series.dtype``を渡せばよいことがわかった"
   ]
  },
  {
   "cell_type": "code",
   "execution_count": null,
   "metadata": {},
   "outputs": [],
   "source": [
    "# data.dtypes"
   ]
  },
  {
   "cell_type": "code",
   "execution_count": null,
   "metadata": {},
   "outputs": [],
   "source": [
    "# data[\"q01\"].cat.categories"
   ]
  },
  {
   "cell_type": "code",
   "execution_count": null,
   "metadata": {},
   "outputs": [],
   "source": [
    "# for h in data.columns:\n",
    "#     t = data[h].dtype\n",
    "#     if t == \"category\":\n",
    "#         c = data[h].cat.categories\n",
    "#         print(f\"{h} = {c}\")"
   ]
  },
  {
   "cell_type": "markdown",
   "metadata": {},
   "source": [
    "クロス集計してカイ二乗検定する"
   ]
  },
  {
   "cell_type": "code",
   "execution_count": null,
   "metadata": {},
   "outputs": [],
   "source": [
    "x = \"q02\"\n",
    "y = \"q03\"\n",
    "v = \"count\"\n",
    "\n",
    "# data[h0].dtype\n",
    "# data[h1].dtype"
   ]
  },
  {
   "cell_type": "code",
   "execution_count": null,
   "metadata": {},
   "outputs": [],
   "source": [
    "cross_tab = pd.crosstab(data[x], data[y])\n",
    "# cross_tab\n",
    "# cross_tab.columns\n",
    "# cross_tab.info()"
   ]
  },
  {
   "cell_type": "markdown",
   "metadata": {},
   "source": [
    "クロス集計した結果をロングデータに変換する（グラフ作成のための準備）\n",
    "- ``reset_index``するときに、カラムの型情報が抜けてしまった\n",
    "- カラム名が同じなので、元データのカテゴリ型を使って、上書きする"
   ]
  },
  {
   "cell_type": "code",
   "execution_count": null,
   "metadata": {},
   "outputs": [],
   "source": [
    "melted = cross_tab.reset_index().melt(\n",
    "    id_vars=x,\n",
    "    var_name=y,\n",
    "    value_name=v,\n",
    ")\n",
    "# ti.categorical_data(melted, category)\n",
    "melted[x] = melted[x].astype(data[x].dtype)\n",
    "melted[y] = melted[y].astype(data[y].dtype)\n",
    "# melted.info()"
   ]
  },
  {
   "cell_type": "markdown",
   "metadata": {},
   "source": [
    "これまでの処理をまとめる"
   ]
  },
  {
   "cell_type": "code",
   "execution_count": null,
   "metadata": {},
   "outputs": [],
   "source": [
    "from scipy.stats import chi2_contingency\n",
    "\n",
    "\n",
    "def crosstab(data: pd.DataFrame, header: tuple):\n",
    "    x = header[0]\n",
    "    y = header[1]\n",
    "    z = \"count\"\n",
    "\n",
    "    # クロス集計してカイ二乗検定\n",
    "    cross_tab = pd.crosstab(data[x], data[y])\n",
    "    chi2_test = chi2_contingency(cross_tab)\n",
    "\n",
    "    # ロングデータに変換\n",
    "    melted = cross_tab.reset_index().melt(id_vars=x, var_name=y, value_name=z)\n",
    "    # 元データのカテゴリ型情報を付け直す\n",
    "    melted[x] = melted[x].astype(data[x].dtype)\n",
    "    melted[y] = melted[y].astype(data[y].dtype)\n",
    "\n",
    "    # グラフを作成\n",
    "    base = alt.Chart(melted).encode(\n",
    "        alt.X(x),\n",
    "        alt.Y(y),\n",
    "    )\n",
    "\n",
    "    mark = base.mark_rect().encode(\n",
    "        color=alt.condition(\n",
    "            alt.datum[z] > 0,\n",
    "            alt.Color(f\"{z}:Q\"),\n",
    "            alt.value(\"white\"),\n",
    "        )\n",
    "    )\n",
    "\n",
    "    text = base.mark_text().encode(\n",
    "        text=alt.condition(alt.datum[z] > 0, alt.Text(f\"{z}:Q\"), alt.value(\"\")),\n",
    "        color=alt.value(\"black\"),\n",
    "    )\n",
    "\n",
    "    heatmap = (mark + text).properties(\n",
    "        width=400,\n",
    "        height=400,\n",
    "    )\n",
    "    return cross_tab, chi2_test, heatmap"
   ]
  },
  {
   "cell_type": "code",
   "execution_count": null,
   "metadata": {},
   "outputs": [],
   "source": [
    "cross_tab, chi2_test, hm = crosstab(data, (\"q01\", \"q02\"))"
   ]
  },
  {
   "cell_type": "code",
   "execution_count": null,
   "metadata": {},
   "outputs": [],
   "source": [
    "# cross_tab.info()\n",
    "cross_tab"
   ]
  },
  {
   "cell_type": "code",
   "execution_count": null,
   "metadata": {},
   "outputs": [],
   "source": [
    "hm"
   ]
  },
  {
   "cell_type": "code",
   "execution_count": null,
   "metadata": {},
   "outputs": [],
   "source": [
    "print(chi2_test.statistic)\n",
    "print(chi2_test.pvalue)\n",
    "print(chi2_test.dof)"
   ]
  },
  {
   "cell_type": "markdown",
   "metadata": {},
   "source": [
    "カイ二乗検定の結果をCSV（or JSON）に書き出す\n",
    "\n",
    "- まずデータフレームに変換する\n",
    "- JSONはTypstで読み込みやすい\n",
    "- CSVはTypstでそのまま表にできそう"
   ]
  },
  {
   "cell_type": "code",
   "execution_count": null,
   "metadata": {},
   "outputs": [],
   "source": [
    "headers = [\n",
    "    (\"q01\", \"q02\"),\n",
    "    (\"q13_binned\", \"q14\"),\n",
    "    (\"q03_subregional\", \"q19\"),\n",
    "]"
   ]
  },
  {
   "cell_type": "code",
   "execution_count": null,
   "metadata": {},
   "outputs": [],
   "source": [
    "chi2_tests = []\n",
    "for header in headers:\n",
    "    cross_tab, chi2_test, hm = crosstab(data, header)\n",
    "    # display(cross_tab)\n",
    "    # hm.display()\n",
    "    x, y = header\n",
    "    name = f\"{x}-{y}\"\n",
    "    print(name)\n",
    "    print(chi2_test.statistic)\n",
    "    print(chi2_test.pvalue)\n",
    "    print(chi2_test.dof)\n",
    "    r = [name, chi2_test.statistic, chi2_test.pvalue, chi2_test.dof]\n",
    "    chi2_tests.append(r)"
   ]
  },
  {
   "cell_type": "code",
   "execution_count": null,
   "metadata": {},
   "outputs": [],
   "source": [
    "chi2_tests"
   ]
  },
  {
   "cell_type": "code",
   "execution_count": null,
   "metadata": {},
   "outputs": [],
   "source": [
    "pd.DataFrame(chi2_tests, columns=[\"name\", \"statistic\", \"p-value\", \"dof\"])"
   ]
  },
  {
   "cell_type": "code",
   "execution_count": null,
   "metadata": {},
   "outputs": [],
   "source": []
  }
 ],
 "metadata": {
  "kernelspec": {
   "display_name": ".venv",
   "language": "python",
   "name": "python3"
  },
  "language_info": {
   "codemirror_mode": {
    "name": "ipython",
    "version": 3
   },
   "file_extension": ".py",
   "mimetype": "text/x-python",
   "name": "python",
   "nbconvert_exporter": "python",
   "pygments_lexer": "ipython3",
   "version": "3.11.4"
  }
 },
 "nbformat": 4,
 "nbformat_minor": 2
}
