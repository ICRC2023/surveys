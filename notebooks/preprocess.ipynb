{
 "cells": [
  {
   "cell_type": "markdown",
   "metadata": {},
   "source": [
    "データの前処理\n",
    "\n",
    "1. ファイルを指定してデータを読み込む\n",
    "2. タイムスタンプをdatetimeオブジェクトにする\n",
    "3. 国を大州と地域に分割する　←　カラムを追加する\n",
    "4. カラムをcategoryにする\n",
    "5. コメントのある／なしフラグを追加する　←　カラムを追加する\n",
    "6. （他にあれば追加する）"
   ]
  },
  {
   "cell_type": "code",
   "execution_count": 8,
   "metadata": {},
   "outputs": [
    {
     "name": "stdout",
     "output_type": "stream",
     "text": [
      "Pandas 2.0.3\n",
      "Altair 5.0.1\n",
      "Titanite 0.1.0\n"
     ]
    }
   ],
   "source": [
    "from pathlib import Path\n",
    "import pandas as pd\n",
    "import altair as alt\n",
    "import titanite as ti\n",
    "\n",
    "print(f\"Pandas {pd.__version__}\")\n",
    "print(f\"Altair {alt.__version__}\")\n",
    "print(f\"Titanite {ti.__version__}\")"
   ]
  },
  {
   "cell_type": "markdown",
   "metadata": {},
   "source": [
    "設定ファイルを読み込む"
   ]
  },
  {
   "cell_type": "code",
   "execution_count": 9,
   "metadata": {},
   "outputs": [],
   "source": [
    "fname = \"../sandbox/config.toml\"\n",
    "config = ti.Config(fname=fname)\n",
    "config.load()\n",
    "# config.questions\n",
    "# config.choices\n",
    "# dir(config)"
   ]
  },
  {
   "cell_type": "markdown",
   "metadata": {},
   "source": [
    "データを読み込む"
   ]
  },
  {
   "cell_type": "code",
   "execution_count": 10,
   "metadata": {},
   "outputs": [],
   "source": [
    "fname = Path(\"../data/test_data/20230715_icrc2023_diversity_presurvey_answers.csv\")\n",
    "data = pd.read_csv(fname, skiprows=1)"
   ]
  },
  {
   "cell_type": "code",
   "execution_count": 11,
   "metadata": {},
   "outputs": [
    {
     "name": "stdout",
     "output_type": "stream",
     "text": [
      "<class 'pandas.core.frame.DataFrame'>\n",
      "RangeIndex: 258 entries, 0 to 257\n",
      "Data columns (total 29 columns):\n",
      " #   Column             Non-Null Count  Dtype  \n",
      "---  ------             --------------  -----  \n",
      " 0   timestamp          258 non-null    object \n",
      " 1   q1                 258 non-null    object \n",
      " 2   q2                 258 non-null    object \n",
      " 3   q3                 258 non-null    object \n",
      " 4   q4                 258 non-null    object \n",
      " 5   q5                 258 non-null    object \n",
      " 6   q6                 258 non-null    object \n",
      " 7   q7                 258 non-null    object \n",
      " 8   q8                 258 non-null    object \n",
      " 9   q9                 258 non-null    object \n",
      " 10  q10                258 non-null    float64\n",
      " 11  q11                258 non-null    object \n",
      " 12  q12_genderbalance  258 non-null    object \n",
      " 13  q12_diversity      258 non-null    object \n",
      " 14  q12_equity         258 non-null    object \n",
      " 15  q12_inclusion      258 non-null    object \n",
      " 16  q13                258 non-null    int64  \n",
      " 17  q14                258 non-null    object \n",
      " 18  q15                48 non-null     object \n",
      " 19  q16                49 non-null     object \n",
      " 20  q17_genderbalance  258 non-null    object \n",
      " 21  q17_diversity      258 non-null    object \n",
      " 22  q17_equity         258 non-null    object \n",
      " 23  q17_inclusion      258 non-null    object \n",
      " 24  q18                62 non-null     object \n",
      " 25  q19                258 non-null    object \n",
      " 26  q20                68 non-null     object \n",
      " 27  q21                83 non-null     object \n",
      " 28  q22                31 non-null     object \n",
      "dtypes: float64(1), int64(1), object(27)\n",
      "memory usage: 58.6+ KB\n"
     ]
    }
   ],
   "source": [
    "data.info()"
   ]
  },
  {
   "cell_type": "markdown",
   "metadata": {},
   "source": [
    "日付のカラムを``datetime``オブジェクトに変換する"
   ]
  },
  {
   "cell_type": "code",
   "execution_count": 12,
   "metadata": {},
   "outputs": [],
   "source": [
    "data[\"timestamp\"] = pd.to_datetime(data[\"timestamp\"])"
   ]
  },
  {
   "cell_type": "markdown",
   "metadata": {},
   "source": [
    "カラムの値を置換して整理する\n",
    "- \"regional\" が \"Prefer not to answer\" の場合、\"subregional\" も \"Prefer not to answer\"\n",
    "- \"regional\" が \"Oceania\" の場合、\"subregional\"も\"Oceania\"\n",
    "- \"No Interest\" を \"No interest\"に修正する"
   ]
  },
  {
   "cell_type": "code",
   "execution_count": 15,
   "metadata": {},
   "outputs": [],
   "source": [
    "data[\"q3\"] = data[\"q3\"].replace(\n",
    "    {\"Prefer not to answer\": \"Prefer not to answer / Prefer not to answer\",\n",
    "    \"Oceania\": \"Oceania / Oceania\"}\n",
    ")\n",
    "data[\"q4\"] = data[\"q4\"].replace(\n",
    "    {\"Prefer not to answer\": \"Prefer not to answer / Prefer not to answer\",\n",
    "    \"Oceania\": \"Oceania / Oceania\"}\n",
    ")\n",
    "data[\"q14\"] = data[\"q14\"].replace(\n",
    "    {\"No Interest\": \"No interest\"}\n",
    ")"
   ]
  },
  {
   "cell_type": "code",
   "execution_count": 16,
   "metadata": {},
   "outputs": [],
   "source": [
    "_q3 = data[\"q3\"].str.split(\"/\", expand=True)\n",
    "_q3[0] = _q3[0].str.strip()\n",
    "_q3[1] = _q3[1].str.strip()\n",
    "_q3 = _q3.rename(columns={0: \"q3_regional\", 1: \"q3_subregional\"})\n",
    "\n",
    "_q4 = data[\"q4\"].str.split(\"/\", expand=True)\n",
    "_q4[0] = _q4[0].str.strip()\n",
    "_q4[1] = _q4[1].str.strip()\n",
    "_q4 = _q4.rename(columns={0: \"q4_regional\", 1: \"q4_subregional\"})"
   ]
  },
  {
   "cell_type": "code",
   "execution_count": 17,
   "metadata": {},
   "outputs": [],
   "source": [
    "data = pd.concat([data, _q3], axis=1)\n",
    "data = pd.concat([data, _q4], axis=1)\n",
    "#data"
   ]
  },
  {
   "cell_type": "code",
   "execution_count": 18,
   "metadata": {},
   "outputs": [
    {
     "data": {
      "text/plain": [
       "Index(['timestamp', 'q1', 'q2', 'q3', 'q4', 'q5', 'q6', 'q7', 'q8', 'q9',\n",
       "       'q10', 'q11', 'q12_genderbalance', 'q12_diversity', 'q12_equity',\n",
       "       'q12_inclusion', 'q13', 'q14', 'q15', 'q16', 'q17_genderbalance',\n",
       "       'q17_diversity', 'q17_equity', 'q17_inclusion', 'q18', 'q19', 'q20',\n",
       "       'q21', 'q22', 'q3_regional', 'q3_subregional', 'q4_regional',\n",
       "       'q4_subregional'],\n",
       "      dtype='object')"
      ]
     },
     "execution_count": 18,
     "metadata": {},
     "output_type": "execute_result"
    }
   ],
   "source": [
    "data.columns"
   ]
  },
  {
   "cell_type": "markdown",
   "metadata": {},
   "source": [
    "カテゴリー型に変換する"
   ]
  },
  {
   "cell_type": "code",
   "execution_count": 19,
   "metadata": {},
   "outputs": [],
   "source": [
    "category = config.categories()\n",
    "data[\"q1\"] = data[\"q1\"].astype(category[\"age\"])\n",
    "data[\"q2\"] = data[\"q2\"].astype(category[\"gender\"])\n",
    "data[\"q3\"] = data[\"q3\"].astype(category[\"geoscheme\"])\n",
    "data[\"q3_regional\"] = data[\"q3_regional\"].astype(category[\"regional\"])\n",
    "data[\"q3_subregional\"] = data[\"q3_subregional\"].astype(category[\"subregional\"])\n",
    "data[\"q4\"] = data[\"q4\"].astype(category[\"geoscheme\"])\n",
    "data[\"q4_regional\"] = data[\"q4_regional\"].astype(category[\"regional\"])\n",
    "data[\"q4_subregional\"] = data[\"q4_subregional\"].astype(category[\"subregional\"])\n",
    "data[\"q5\"] = data[\"q5\"].astype(category[\"job_title\"])\n",
    "data[\"q6\"] = data[\"q6\"].astype(category[\"research_group\"])\n",
    "data[\"q7\"] = data[\"q7\"].astype(category[\"research_field\"])\n",
    "data[\"q8\"] = data[\"q8\"].astype(category[\"research_years\"])\n",
    "data[\"q9\"] = data[\"q9\"].astype(category[\"yes_no\"])\n",
    "# data[\"q10\"]\n",
    "data[\"q11\"] = data[\"q11\"].astype(category[\"yes_no\"])\n",
    "data[\"q12_genderbalance\"] = data[\"q12_genderbalance\"].astype(category[\"good_poor\"])\n",
    "data[\"q12_diversity\"] = data[\"q12_diversity\"].astype(category[\"good_poor\"])\n",
    "data[\"q12_equity\"] = data[\"q12_equity\"].astype(category[\"good_poor\"])\n",
    "data[\"q12_inclusion\"] = data[\"q12_inclusion\"].astype(category[\"good_poor\"])\n",
    "# data[\"q13\"]\n",
    "data[\"q14\"] = data[\"q14\"].astype(category[\"good_poor\"])\n",
    "# data[\"q15\"]\n",
    "# data[\"q16\"]\n",
    "data[\"q17_genderbalance\"] = data[\"q17_genderbalance\"].astype(category[\"agree_disagree\"])\n",
    "data[\"q17_diversity\"] = data[\"q17_diversity\"].astype(category[\"agree_disagree\"])\n",
    "data[\"q17_equity\"] = data[\"q17_equity\"].astype(category[\"agree_disagree\"])\n",
    "data[\"q17_inclusion\"] = data[\"q17_inclusion\"].astype(category[\"agree_disagree\"])\n",
    "# data[\"q18\"]\n",
    "data[\"q19\"] = data[\"q19\"].astype(category[\"school\"])\n",
    "# data[\"q20\"]\n",
    "# data[\"q21\"]\n",
    "# data[\"q22\"]"
   ]
  },
  {
   "cell_type": "code",
   "execution_count": 20,
   "metadata": {},
   "outputs": [
    {
     "name": "stdout",
     "output_type": "stream",
     "text": [
      "<class 'pandas.core.frame.DataFrame'>\n",
      "RangeIndex: 258 entries, 0 to 257\n",
      "Data columns (total 33 columns):\n",
      " #   Column             Non-Null Count  Dtype         \n",
      "---  ------             --------------  -----         \n",
      " 0   timestamp          258 non-null    datetime64[ns]\n",
      " 1   q1                 258 non-null    category      \n",
      " 2   q2                 258 non-null    category      \n",
      " 3   q3                 249 non-null    category      \n",
      " 4   q4                 247 non-null    category      \n",
      " 5   q5                 258 non-null    category      \n",
      " 6   q6                 258 non-null    category      \n",
      " 7   q7                 235 non-null    category      \n",
      " 8   q8                 258 non-null    category      \n",
      " 9   q9                 258 non-null    category      \n",
      " 10  q10                258 non-null    float64       \n",
      " 11  q11                258 non-null    category      \n",
      " 12  q12_genderbalance  258 non-null    category      \n",
      " 13  q12_diversity      258 non-null    category      \n",
      " 14  q12_equity         258 non-null    category      \n",
      " 15  q12_inclusion      258 non-null    category      \n",
      " 16  q13                258 non-null    int64         \n",
      " 17  q14                258 non-null    category      \n",
      " 18  q15                48 non-null     object        \n",
      " 19  q16                49 non-null     object        \n",
      " 20  q17_genderbalance  258 non-null    category      \n",
      " 21  q17_diversity      258 non-null    category      \n",
      " 22  q17_equity         258 non-null    category      \n",
      " 23  q17_inclusion      258 non-null    category      \n",
      " 24  q18                62 non-null     object        \n",
      " 25  q19                258 non-null    category      \n",
      " 26  q20                68 non-null     object        \n",
      " 27  q21                83 non-null     object        \n",
      " 28  q22                31 non-null     object        \n",
      " 29  q3_regional        258 non-null    category      \n",
      " 30  q3_subregional     258 non-null    category      \n",
      " 31  q4_regional        258 non-null    category      \n",
      " 32  q4_subregional     258 non-null    category      \n",
      "dtypes: category(24), datetime64[ns](1), float64(1), int64(1), object(6)\n",
      "memory usage: 31.6+ KB\n"
     ]
    }
   ],
   "source": [
    "data.info()"
   ]
  },
  {
   "cell_type": "code",
   "execution_count": 21,
   "metadata": {},
   "outputs": [],
   "source": [
    "data.to_csv(\"tmp_main_data.csv\", index=False)"
   ]
  },
  {
   "cell_type": "code",
   "execution_count": null,
   "metadata": {},
   "outputs": [],
   "source": []
  }
 ],
 "metadata": {
  "kernelspec": {
   "display_name": ".venv",
   "language": "python",
   "name": "python3"
  },
  "language_info": {
   "codemirror_mode": {
    "name": "ipython",
    "version": 3
   },
   "file_extension": ".py",
   "mimetype": "text/x-python",
   "name": "python",
   "nbconvert_exporter": "python",
   "pygments_lexer": "ipython3",
   "version": "3.11.4"
  },
  "orig_nbformat": 4
 },
 "nbformat": 4,
 "nbformat_minor": 2
}
