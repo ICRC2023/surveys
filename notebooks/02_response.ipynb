{
 "cells": [
  {
   "cell_type": "markdown",
   "metadata": {},
   "source": [
    "# 回答日時を確認する"
   ]
  },
  {
   "cell_type": "code",
   "execution_count": null,
   "metadata": {},
   "outputs": [],
   "source": [
    "from pathlib import Path\n",
    "import pandas as pd\n",
    "import altair as alt\n",
    "import titanite as ti\n",
    "\n",
    "print(f\"Pandas {pd.__version__}\")\n",
    "print(f\"Altair {alt.__version__}\")\n",
    "print(f\"Titanite {ti.__version__}\")"
   ]
  },
  {
   "cell_type": "code",
   "execution_count": null,
   "metadata": {},
   "outputs": [],
   "source": [
    "f_cfg = \"../sandbox/config.toml\"\n",
    "f_csv = \"../data/test_data/prepared_data.csv\"\n",
    "\n",
    "d = ti.Data(read_from=f_csv, load_from=f_cfg)\n",
    "data = d.read()"
   ]
  },
  {
   "cell_type": "code",
   "execution_count": null,
   "metadata": {},
   "outputs": [],
   "source": [
    "base = (\n",
    "    alt.Chart(data)\n",
    "    .encode(\n",
    "        alt.X(\"hours(timestamp):T\").title(\"時刻\"),\n",
    "        alt.Y(\"yearmonthdate(timestamp):T\")\n",
    "        .title(\"記入日\")\n",
    "        .axis(format=\"%Y-%m-%d\")\n",
    "        .sort(\"descending\"),\n",
    "    )\n",
    "    .properties(\n",
    "        width=800,\n",
    "        height=400,\n",
    "    )\n",
    ")\n",
    "\n",
    "mark = base.mark_rect().encode(\n",
    "    alt.Color(\"count()\").scale(scheme=\"blues\").title(\"回答数\"),\n",
    "    # size=\"response\"\n",
    ")\n",
    "\n",
    "text = base.mark_text(dx=15, dy=10, baseline=\"line-top\").encode(\n",
    "    alt.Text(\"count()\"),\n",
    ")\n",
    "\n",
    "mark + text"
   ]
  },
  {
   "cell_type": "code",
   "execution_count": null,
   "metadata": {},
   "outputs": [],
   "source": []
  }
 ],
 "metadata": {
  "kernelspec": {
   "display_name": ".venv",
   "language": "python",
   "name": "python3"
  },
  "language_info": {
   "codemirror_mode": {
    "name": "ipython",
    "version": 3
   },
   "file_extension": ".py",
   "mimetype": "text/x-python",
   "name": "python",
   "nbconvert_exporter": "python",
   "pygments_lexer": "ipython3",
   "version": "3.11.4"
  }
 },
 "nbformat": 4,
 "nbformat_minor": 2
}
