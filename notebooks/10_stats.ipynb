{
 "cells": [
  {
   "cell_type": "markdown",
   "metadata": {},
   "source": [
    "アンケート回答者の基本統計\n",
    "\n",
    "- 回答者の男女の数"
   ]
  },
  {
   "cell_type": "code",
   "execution_count": null,
   "metadata": {},
   "outputs": [],
   "source": [
    "import pandas as pd\n",
    "import titanite as ti"
   ]
  },
  {
   "cell_type": "markdown",
   "metadata": {},
   "source": [
    "現地参加"
   ]
  },
  {
   "cell_type": "code",
   "execution_count": null,
   "metadata": {},
   "outputs": [],
   "source": [
    "# Onsite : sum\n",
    "n = {\"Male\": [852], \"Female\": [241], \"Others\": [9]}\n",
    "data = pd.DataFrame.from_dict(n).melt()\n",
    "data[\"sum\"] = data[\"value\"].sum()\n",
    "data[\"ratio\"] = data[\"value\"] / data[\"sum\"] * 100\n",
    "data"
   ]
  },
  {
   "cell_type": "markdown",
   "metadata": {},
   "source": [
    "オンライン参加"
   ]
  },
  {
   "cell_type": "code",
   "execution_count": null,
   "metadata": {},
   "outputs": [],
   "source": [
    "# Online : sum\n",
    "n = {\"Male\": [220], \"Female\": [84], \"Others\": [0]}\n",
    "data = pd.DataFrame.from_dict(n).melt()\n",
    "data[\"sum\"] = data[\"value\"].sum()\n",
    "data[\"ratio\"] = data[\"value\"] / data[\"sum\"] * 100\n",
    "data"
   ]
  },
  {
   "cell_type": "markdown",
   "metadata": {},
   "source": [
    "現地参加 + オンライン参加"
   ]
  },
  {
   "cell_type": "code",
   "execution_count": null,
   "metadata": {},
   "outputs": [],
   "source": [
    "# On-site + Online\n",
    "n = {\"Male\": [852+220], \"Female\": [241+84], \"Others\": [9]}\n",
    "data = pd.DataFrame.from_dict(n).melt()\n",
    "data[\"sum\"] = data[\"value\"].sum()\n",
    "data[\"ratio\"] = data[\"value\"] / data[\"sum\"] * 100\n",
    "data"
   ]
  },
  {
   "cell_type": "markdown",
   "metadata": {},
   "source": [
    "Diversity Sessionの参加者"
   ]
  },
  {
   "cell_type": "markdown",
   "metadata": {},
   "source": [
    "このアンケートの回答者"
   ]
  },
  {
   "cell_type": "code",
   "execution_count": null,
   "metadata": {},
   "outputs": [],
   "source": [
    "f_cfg = \"../sandbox/config.toml\"\n",
    "f_csv = \"../data/test_data/prepared_data.csv\"\n",
    "d = ti.Data(load_from=f_cfg, read_from=f_csv)\n",
    "data = d.read()\n",
    "\n",
    "q02 = data.groupby(\"q02\")[\"response\"].sum().reset_index()\n",
    "q02[\"sum\"] = q02[\"response\"].sum()\n",
    "q02[\"ratio\"] = q02[\"response\"] / q02[\"sum\"] * 100\n",
    "q02"
   ]
  },
  {
   "cell_type": "markdown",
   "metadata": {},
   "source": [
    "アンケートの回答率"
   ]
  },
  {
   "cell_type": "code",
   "execution_count": null,
   "metadata": {},
   "outputs": [],
   "source": [
    "295 / 1406 * 100"
   ]
  },
  {
   "cell_type": "code",
   "execution_count": null,
   "metadata": {},
   "outputs": [],
   "source": [
    "data[d.categorical_headers].duplicated().sum()"
   ]
  },
  {
   "cell_type": "code",
   "execution_count": null,
   "metadata": {},
   "outputs": [],
   "source": []
  }
 ],
 "metadata": {
  "kernelspec": {
   "display_name": ".venv",
   "language": "python",
   "name": "python3"
  },
  "language_info": {
   "codemirror_mode": {
    "name": "ipython",
    "version": 3
   },
   "file_extension": ".py",
   "mimetype": "text/x-python",
   "name": "python",
   "nbconvert_exporter": "python",
   "pygments_lexer": "ipython3",
   "version": "3.11.5"
  },
  "orig_nbformat": 4
 },
 "nbformat": 4,
 "nbformat_minor": 2
}
