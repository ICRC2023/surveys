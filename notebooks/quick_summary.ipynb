{
 "cells": [
  {
   "cell_type": "markdown",
   "metadata": {},
   "source": [
    "# 事前アンケートの質問項目\n",
    "\n",
    "0. タイムスタンプ\n",
    "1. 【Q1】What is your age ?\n",
    "2. 【Q2】What gender do you identify as ?\n",
    "3. 【Q3】Which geographical region are you currently working or attending school/university in ?\n",
    "4. 【Q4】Which geographical region do you most strongly associate with ?\n",
    "5. 【Q5】What is your job title ?\n",
    "6. 【Q6】Which group do you belong to ?\n",
    "7. 【Q7】What is your research type ?\n",
    "8. 【Q8】How long have you been in this field ?\n",
    "9. 【Q9】Are you satisfied with your career to date ?\n",
    "10. 【Q10】How many hours, on average, do you spend on housework, childcare, and caregiving per day ?\n",
    "11. 【Q11】Did you already sign up for the diversity session in ICRC2023?\n",
    "12. 【Q12】What do you think about the initiatives on DE&I of your group? [Gender balance]\n",
    "13. 【Q12】What do you think about the initiatives on DE&I of your group? [Diversity]\n",
    "14. 【Q12】What do you think about the initiatives on DE&I of your group? [Equity]\n",
    "15. 【Q12】What do you think about the initiatives on DE&I of your group? [Inclusion]\n",
    "16. 【Q13】What is the percentage of female researcher in your group?\n",
    "17. 【Q14】What do you think about the percentage above ?\n",
    "18. 【Q15】Please let us know If your group has any good practice examples related to DE&I ?\n",
    "19. 【Q16】Please let us know if there is anything your group needs to work on or if your group has any problems related to DE&I.\n",
    "20. 【Q17】What are your thoughts on diversity, equity & inclusion initiatives ? [Gender balance]\n",
    "21. 【Q17】What are your thoughts on diversity, equity & inclusion initiatives ? [Diversity]\n",
    "22. 【Q17】What are your thoughts on diversity, equity & inclusion initiatives ? [Equity]\n",
    "23. 【Q17】What are your thoughts on diversity, equity & inclusion initiatives ? [Inclusion]\n",
    "24. 【Q18】Could you tell us more about your thoughts (agree / disagree) ?\n",
    "25. 【Q19】When did you first become interested in science ?\n",
    "26. 【Q20】Do you have any concerns / problems related to DE&I initiatives in science ?\n",
    "27. 【Q21】What reasons do you think are hindering DE&I initiatives in science ?\n",
    "28. 【Q22】Comments"
   ]
  },
  {
   "cell_type": "markdown",
   "metadata": {},
   "source": [
    "Pythonのライブラリ\n",
    "- ``pathlib.Path`` : パス操作\n",
    "- ``pandas`` : データ集計\n",
    "- ``altair (v5)`` : プロット作成"
   ]
  },
  {
   "cell_type": "code",
   "execution_count": 216,
   "metadata": {},
   "outputs": [
    {
     "name": "stdout",
     "output_type": "stream",
     "text": [
      "Pandas : 2.0.3\n",
      "Altair : 5.0.1\n"
     ]
    }
   ],
   "source": [
    "from pathlib import Path\n",
    "import pandas as pd\n",
    "import altair as alt\n",
    "\n",
    "print(f\"Pandas : {pd.__version__}\")\n",
    "print(f\"Altair : {alt.__version__}\")"
   ]
  },
  {
   "cell_type": "markdown",
   "metadata": {},
   "source": [
    "事前アンケートの結果を読み込む\n",
    "\n",
    "- 回答データはGoogleスプレッドシートからCSV形式でダウンロード（手動）\n",
    "- ファイルパスは``../data/test_data/``にする（あとで変えるかも）\n",
    "- 回答時刻（``timestamp``カラム）はDateTimeオブジェクトに変換する\n",
    "- 回答数を集計（主に``sum``）するためのカラム``response``を追加する"
   ]
  },
  {
   "cell_type": "code",
   "execution_count": 217,
   "metadata": {},
   "outputs": [],
   "source": [
    "fname = Path(\"../data/test_data/20230710_icrc2023_diversity_presurvey_answers.csv\")\n",
    "data = pd.read_csv(fname, skiprows=1, parse_dates=[\"timestamp\"])\n",
    "data[\"response\"] = 1"
   ]
  },
  {
   "cell_type": "code",
   "execution_count": 221,
   "metadata": {},
   "outputs": [],
   "source": [
    "# データフレームを確認する（不要なときはコメントアウトしておく）\n",
    "# data.head()\n",
    "# data.columns"
   ]
  },
  {
   "cell_type": "markdown",
   "metadata": {},
   "source": [
    "回答時刻を調べてみる\n",
    "\n",
    "- ``timestamp``カラムを使って、回答時刻の分布を調べる\n",
    "- 記録されている日時は、たぶんUTC+0900？（よく分かってない）\n",
    "- 年月日（=date）ごとにリサンプルして合計したいので、データフレームのインデックスを``timestamp``にする\n",
    "- ``date``と``時刻``のヒートマップを作りたいので、それ用のカラムを追加する"
   ]
  },
  {
   "cell_type": "code",
   "execution_count": 223,
   "metadata": {},
   "outputs": [],
   "source": [
    "data.index = data[\"timestamp\"]\n",
    "tm = data.resample(\"H\")[\"response\"].sum().reset_index()\n",
    "# tm[\"yyyymmdd\"] = tm[\"timestamp\"].dt.date\n",
    "tm[\"HH\"] = tm[\"timestamp\"].dt.hour\n",
    "# tm.info()"
   ]
  },
  {
   "cell_type": "code",
   "execution_count": 225,
   "metadata": {},
   "outputs": [
    {
     "data": {
      "text/html": [
       "<div>\n",
       "<style scoped>\n",
       "    .dataframe tbody tr th:only-of-type {\n",
       "        vertical-align: middle;\n",
       "    }\n",
       "\n",
       "    .dataframe tbody tr th {\n",
       "        vertical-align: top;\n",
       "    }\n",
       "\n",
       "    .dataframe thead th {\n",
       "        text-align: right;\n",
       "    }\n",
       "</style>\n",
       "<table border=\"1\" class=\"dataframe\">\n",
       "  <thead>\n",
       "    <tr style=\"text-align: right;\">\n",
       "      <th></th>\n",
       "      <th>timestamp</th>\n",
       "      <th>response</th>\n",
       "      <th>HH</th>\n",
       "    </tr>\n",
       "  </thead>\n",
       "  <tbody>\n",
       "    <tr>\n",
       "      <th>0</th>\n",
       "      <td>2023-07-08 08:00:00</td>\n",
       "      <td>4</td>\n",
       "      <td>8</td>\n",
       "    </tr>\n",
       "    <tr>\n",
       "      <th>1</th>\n",
       "      <td>2023-07-08 09:00:00</td>\n",
       "      <td>15</td>\n",
       "      <td>9</td>\n",
       "    </tr>\n",
       "    <tr>\n",
       "      <th>2</th>\n",
       "      <td>2023-07-08 10:00:00</td>\n",
       "      <td>6</td>\n",
       "      <td>10</td>\n",
       "    </tr>\n",
       "    <tr>\n",
       "      <th>3</th>\n",
       "      <td>2023-07-08 11:00:00</td>\n",
       "      <td>5</td>\n",
       "      <td>11</td>\n",
       "    </tr>\n",
       "    <tr>\n",
       "      <th>4</th>\n",
       "      <td>2023-07-08 12:00:00</td>\n",
       "      <td>3</td>\n",
       "      <td>12</td>\n",
       "    </tr>\n",
       "    <tr>\n",
       "      <th>...</th>\n",
       "      <td>...</td>\n",
       "      <td>...</td>\n",
       "      <td>...</td>\n",
       "    </tr>\n",
       "    <tr>\n",
       "      <th>69</th>\n",
       "      <td>2023-07-11 05:00:00</td>\n",
       "      <td>1</td>\n",
       "      <td>5</td>\n",
       "    </tr>\n",
       "    <tr>\n",
       "      <th>70</th>\n",
       "      <td>2023-07-11 06:00:00</td>\n",
       "      <td>0</td>\n",
       "      <td>6</td>\n",
       "    </tr>\n",
       "    <tr>\n",
       "      <th>71</th>\n",
       "      <td>2023-07-11 07:00:00</td>\n",
       "      <td>2</td>\n",
       "      <td>7</td>\n",
       "    </tr>\n",
       "    <tr>\n",
       "      <th>72</th>\n",
       "      <td>2023-07-11 08:00:00</td>\n",
       "      <td>0</td>\n",
       "      <td>8</td>\n",
       "    </tr>\n",
       "    <tr>\n",
       "      <th>73</th>\n",
       "      <td>2023-07-11 09:00:00</td>\n",
       "      <td>1</td>\n",
       "      <td>9</td>\n",
       "    </tr>\n",
       "  </tbody>\n",
       "</table>\n",
       "<p>74 rows × 3 columns</p>\n",
       "</div>"
      ],
      "text/plain": [
       "             timestamp  response  HH\n",
       "0  2023-07-08 08:00:00         4   8\n",
       "1  2023-07-08 09:00:00        15   9\n",
       "2  2023-07-08 10:00:00         6  10\n",
       "3  2023-07-08 11:00:00         5  11\n",
       "4  2023-07-08 12:00:00         3  12\n",
       "..                 ...       ...  ..\n",
       "69 2023-07-11 05:00:00         1   5\n",
       "70 2023-07-11 06:00:00         0   6\n",
       "71 2023-07-11 07:00:00         2   7\n",
       "72 2023-07-11 08:00:00         0   8\n",
       "73 2023-07-11 09:00:00         1   9\n",
       "\n",
       "[74 rows x 3 columns]"
      ]
     },
     "execution_count": 225,
     "metadata": {},
     "output_type": "execute_result"
    }
   ],
   "source": [
    "tm"
   ]
  },
  {
   "cell_type": "markdown",
   "metadata": {},
   "source": [
    "回答"
   ]
  },
  {
   "cell_type": "code",
   "execution_count": 226,
   "metadata": {},
   "outputs": [],
   "source": [
    "alt.Chart(data_time).mark_rect().encode(\n",
    "    alt.Y(\"date(timestamp):T\").title(\"記入日\"),\n",
    "    alt.X(\"HH:O\").title(\"時刻\"),\n",
    "    alt.Color(\"response\"),\n",
    ").properties(\n",
    "    width=800,\n",
    "    height=400,\n",
    ").save(\"trend.png\")"
   ]
  },
  {
   "cell_type": "markdown",
   "metadata": {},
   "source": [
    "すべての質問に対してヒストグラムを作成する\n",
    "\n",
    "- 横軸を「質問番号」にしたヒストグラムを作成する\n",
    "- 横軸はカテゴリカルなデータにして、任意の順番に並べたい（TODO）\n",
    "  - いまは自動でアルファベット順に整列"
   ]
  },
  {
   "cell_type": "code",
   "execution_count": 227,
   "metadata": {},
   "outputs": [],
   "source": [
    "def make_histogram(data: pd.DataFrame, x: str):\n",
    "    grouped = data.groupby(x)[\"response\"].sum().reset_index().sort_values(by=x)\n",
    "\n",
    "    chart = alt.Chart(grouped).mark_bar().encode(\n",
    "        alt.X(x),\n",
    "        alt.Y(\"response\"),\n",
    "    ).properties(\n",
    "        width=500,\n",
    "        height=500,\n",
    "    )\n",
    "    return {\"data\": grouped, \"chart\": chart}"
   ]
  },
  {
   "cell_type": "code",
   "execution_count": 229,
   "metadata": {},
   "outputs": [
    {
     "data": {
      "text/html": [
       "\n",
       "<style>\n",
       "  #altair-viz-0030c02d766a412e825afc625bc285b9.vega-embed {\n",
       "    width: 100%;\n",
       "    display: flex;\n",
       "  }\n",
       "\n",
       "  #altair-viz-0030c02d766a412e825afc625bc285b9.vega-embed details,\n",
       "  #altair-viz-0030c02d766a412e825afc625bc285b9.vega-embed details summary {\n",
       "    position: relative;\n",
       "  }\n",
       "</style>\n",
       "<div id=\"altair-viz-0030c02d766a412e825afc625bc285b9\"></div>\n",
       "<script type=\"text/javascript\">\n",
       "  var VEGA_DEBUG = (typeof VEGA_DEBUG == \"undefined\") ? {} : VEGA_DEBUG;\n",
       "  (function(spec, embedOpt){\n",
       "    let outputDiv = document.currentScript.previousElementSibling;\n",
       "    if (outputDiv.id !== \"altair-viz-0030c02d766a412e825afc625bc285b9\") {\n",
       "      outputDiv = document.getElementById(\"altair-viz-0030c02d766a412e825afc625bc285b9\");\n",
       "    }\n",
       "    const paths = {\n",
       "      \"vega\": \"https://cdn.jsdelivr.net/npm/vega@5?noext\",\n",
       "      \"vega-lib\": \"https://cdn.jsdelivr.net/npm/vega-lib?noext\",\n",
       "      \"vega-lite\": \"https://cdn.jsdelivr.net/npm/vega-lite@5.8.0?noext\",\n",
       "      \"vega-embed\": \"https://cdn.jsdelivr.net/npm/vega-embed@6?noext\",\n",
       "    };\n",
       "\n",
       "    function maybeLoadScript(lib, version) {\n",
       "      var key = `${lib.replace(\"-\", \"\")}_version`;\n",
       "      return (VEGA_DEBUG[key] == version) ?\n",
       "        Promise.resolve(paths[lib]) :\n",
       "        new Promise(function(resolve, reject) {\n",
       "          var s = document.createElement('script');\n",
       "          document.getElementsByTagName(\"head\")[0].appendChild(s);\n",
       "          s.async = true;\n",
       "          s.onload = () => {\n",
       "            VEGA_DEBUG[key] = version;\n",
       "            return resolve(paths[lib]);\n",
       "          };\n",
       "          s.onerror = () => reject(`Error loading script: ${paths[lib]}`);\n",
       "          s.src = paths[lib];\n",
       "        });\n",
       "    }\n",
       "\n",
       "    function showError(err) {\n",
       "      outputDiv.innerHTML = `<div class=\"error\" style=\"color:red;\">${err}</div>`;\n",
       "      throw err;\n",
       "    }\n",
       "\n",
       "    function displayChart(vegaEmbed) {\n",
       "      vegaEmbed(outputDiv, spec, embedOpt)\n",
       "        .catch(err => showError(`Javascript Error: ${err.message}<br>This usually means there's a typo in your chart specification. See the javascript console for the full traceback.`));\n",
       "    }\n",
       "\n",
       "    if(typeof define === \"function\" && define.amd) {\n",
       "      requirejs.config({paths});\n",
       "      require([\"vega-embed\"], displayChart, err => showError(`Error loading script: ${err.message}`));\n",
       "    } else {\n",
       "      maybeLoadScript(\"vega\", \"5\")\n",
       "        .then(() => maybeLoadScript(\"vega-lite\", \"5.8.0\"))\n",
       "        .then(() => maybeLoadScript(\"vega-embed\", \"6\"))\n",
       "        .catch(showError)\n",
       "        .then(() => displayChart(vegaEmbed));\n",
       "    }\n",
       "  })({\"config\": {\"view\": {\"continuousWidth\": 300, \"continuousHeight\": 300}}, \"data\": {\"name\": \"data-f90e6dd1352446208007029a907301d2\"}, \"mark\": {\"type\": \"bar\"}, \"encoding\": {\"x\": {\"field\": \"q2\", \"type\": \"nominal\"}, \"y\": {\"field\": \"response\", \"type\": \"quantitative\"}}, \"height\": 500, \"width\": 500, \"$schema\": \"https://vega.github.io/schema/vega-lite/v5.8.0.json\", \"datasets\": {\"data-f90e6dd1352446208007029a907301d2\": [{\"q2\": \"Female\", \"response\": 67}, {\"q2\": \"Male\", \"response\": 151}, {\"q2\": \"Non-binary\", \"response\": 5}, {\"q2\": \"Prefer not to answer\", \"response\": 2}, {\"q2\": \"Prefer to self-identify\", \"response\": 3}]}}, {\"mode\": \"vega-lite\"});\n",
       "</script>"
      ],
      "text/plain": [
       "alt.Chart(...)"
      ]
     },
     "execution_count": 229,
     "metadata": {},
     "output_type": "execute_result"
    }
   ],
   "source": [
    "q = make_histogram(data, \"q2\")\n",
    "q[\"data\"]\n",
    "q[\"chart\"]"
   ]
  },
  {
   "cell_type": "code",
   "execution_count": 230,
   "metadata": {},
   "outputs": [],
   "source": [
    "# すべてのカラムでループ\n",
    "# ただし timestampとresponseは除外\n",
    "for c in data.columns[1:-1]:    \n",
    "    hist = make_histogram(data, c)\n",
    "    fname = f\"../data/quick_summary/{c}.csv\"\n",
    "    hist[\"data\"].to_csv(fname, index=False)\n",
    "    fname = f\"../data/quick_summary/{c}.png\"\n",
    "    hist[\"chart\"].save(fname)    \n",
    "    "
   ]
  },
  {
   "cell_type": "markdown",
   "metadata": {},
   "source": [
    "2つの質問をクロス集計する\n",
    "\n",
    "- すべてのカラムに対してクロス集計する\n",
    "- CSV集計するときの見出し列をわかりやすくするために、転置（``.T``）している\n",
    "  - もっとコードが読みやすくなる方法があるかもしれない"
   ]
  },
  {
   "cell_type": "code",
   "execution_count": 257,
   "metadata": {},
   "outputs": [],
   "source": [
    "ctabs = {}\n",
    "for c1 in data.columns[1:-1]:\n",
    "    for c2 in data.columns[1:-1]:\n",
    "        ctab = pd.crosstab(data[c1], data[c2])\n",
    "        name = f\"{c1}_{c2}\"\n",
    "        fname = f\"../data/quick_summary/tmp_crosstab_{name}.csv\"\n",
    "        ctab.T.to_csv(fname)\n",
    "        ctabs.update({name: ctab})"
   ]
  },
  {
   "cell_type": "code",
   "execution_count": null,
   "metadata": {},
   "outputs": [],
   "source": []
  }
 ],
 "metadata": {
  "kernelspec": {
   "display_name": ".venv",
   "language": "python",
   "name": "python3"
  },
  "language_info": {
   "codemirror_mode": {
    "name": "ipython",
    "version": 3
   },
   "file_extension": ".py",
   "mimetype": "text/x-python",
   "name": "python",
   "nbconvert_exporter": "python",
   "pygments_lexer": "ipython3",
   "version": "3.11.4"
  },
  "orig_nbformat": 4
 },
 "nbformat": 4,
 "nbformat_minor": 2
}
