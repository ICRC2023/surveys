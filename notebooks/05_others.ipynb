{
 "cells": [
  {
   "cell_type": "markdown",
   "metadata": {},
   "source": [
    "気ままにプロットを作ってみる"
   ]
  },
  {
   "cell_type": "code",
   "execution_count": 1,
   "metadata": {},
   "outputs": [
    {
     "name": "stdout",
     "output_type": "stream",
     "text": [
      "Pandas 2.0.3\n",
      "Altair 5.0.1\n",
      "Titanite 0.1.1\n"
     ]
    }
   ],
   "source": [
    "from pathlib import Path\n",
    "import pandas as pd\n",
    "import altair as alt\n",
    "import titanite as ti\n",
    "\n",
    "print(f\"Pandas {pd.__version__}\")\n",
    "print(f\"Altair {alt.__version__}\")\n",
    "print(f\"Titanite {ti.__version__}\")"
   ]
  },
  {
   "cell_type": "code",
   "execution_count": 5,
   "metadata": {},
   "outputs": [],
   "source": [
    "f_cfg = \"../sandbox/config.toml\"\n",
    "f_csv = \"../sandbox/tmp_preprocessed.csv\"\n",
    "\n",
    "cfg = ti.Config(fname=f_cfg)\n",
    "cfg.load()\n",
    "category = cfg.categories()\n",
    "\n",
    "data = pd.read_csv(f_csv, parse_dates=[\"timestamp\"])\n",
    "data = ti.categorical_data(data, category)\n",
    "# data.info()"
   ]
  },
  {
   "cell_type": "code",
   "execution_count": 6,
   "metadata": {},
   "outputs": [
    {
     "data": {
      "text/plain": [
       "{'q1': '【Q1】What is your age ?',\n",
       " 'q2': '【Q2】What gender do you identify as ?',\n",
       " 'q3': '【Q3】Which geographical region are you currently working or attending school/university in ?',\n",
       " 'q4': '【Q4】Which geographical region do you most strongly associate with ?',\n",
       " 'q5': '【Q5】What is your job title ?',\n",
       " 'q6': '【Q6】Which group do you belong to ? ',\n",
       " 'q7': '【Q7】What is your research type ?',\n",
       " 'q8': '【Q8】How long have you been in this field ?',\n",
       " 'q9': '【Q9】Are you satisfied with your career to date ?',\n",
       " 'q10': '【Q10】How many hours, on average, do you spend on housework, childcare, and caregiving per day ?',\n",
       " 'q11': '【Q11】Did you already sign up for the diversity session in ICRC2023?',\n",
       " 'q12': '【Q12】What do you think about the initiatives on DE&I of your group?',\n",
       " 'q13': '【Q13】What is the percentage of female researcher in your group?',\n",
       " 'q14': '【Q14】What do you think about the percentage above ?',\n",
       " 'q15': '【Q15】Please let us know If your group has any good practice examples related to DE&I ?',\n",
       " 'q16': '【Q16】Please let us know if there is anything your group needs to work on or if your group has any problems related to DE&I.',\n",
       " 'q17': '【Q17】What are your thoughts on diversity, equity & inclusion initiatives ?',\n",
       " 'q18': '【Q18】Could you tell us more about your thoughts (agree / disagree) ?',\n",
       " 'q19': '【Q19】When did you first become interested in science ?',\n",
       " 'q20': '【Q20】Do you have any concerns / problems related to DE&I initiatives in science ?',\n",
       " 'q21': '【Q21】What reasons do you think are hindering DE&I initiatives in science ?',\n",
       " 'q22': '【Q22】Comments'}"
      ]
     },
     "execution_count": 6,
     "metadata": {},
     "output_type": "execute_result"
    }
   ],
   "source": [
    "cfg.questions"
   ]
  },
  {
   "cell_type": "code",
   "execution_count": 8,
   "metadata": {},
   "outputs": [
    {
     "data": {
      "text/html": [
       "\n",
       "<style>\n",
       "  #altair-viz-22bcc8a03d59489f8e2d9e79e654fa8f.vega-embed {\n",
       "    width: 100%;\n",
       "    display: flex;\n",
       "  }\n",
       "\n",
       "  #altair-viz-22bcc8a03d59489f8e2d9e79e654fa8f.vega-embed details,\n",
       "  #altair-viz-22bcc8a03d59489f8e2d9e79e654fa8f.vega-embed details summary {\n",
       "    position: relative;\n",
       "  }\n",
       "</style>\n",
       "<div id=\"altair-viz-22bcc8a03d59489f8e2d9e79e654fa8f\"></div>\n",
       "<script type=\"text/javascript\">\n",
       "  var VEGA_DEBUG = (typeof VEGA_DEBUG == \"undefined\") ? {} : VEGA_DEBUG;\n",
       "  (function(spec, embedOpt){\n",
       "    let outputDiv = document.currentScript.previousElementSibling;\n",
       "    if (outputDiv.id !== \"altair-viz-22bcc8a03d59489f8e2d9e79e654fa8f\") {\n",
       "      outputDiv = document.getElementById(\"altair-viz-22bcc8a03d59489f8e2d9e79e654fa8f\");\n",
       "    }\n",
       "    const paths = {\n",
       "      \"vega\": \"https://cdn.jsdelivr.net/npm/vega@5?noext\",\n",
       "      \"vega-lib\": \"https://cdn.jsdelivr.net/npm/vega-lib?noext\",\n",
       "      \"vega-lite\": \"https://cdn.jsdelivr.net/npm/vega-lite@5.8.0?noext\",\n",
       "      \"vega-embed\": \"https://cdn.jsdelivr.net/npm/vega-embed@6?noext\",\n",
       "    };\n",
       "\n",
       "    function maybeLoadScript(lib, version) {\n",
       "      var key = `${lib.replace(\"-\", \"\")}_version`;\n",
       "      return (VEGA_DEBUG[key] == version) ?\n",
       "        Promise.resolve(paths[lib]) :\n",
       "        new Promise(function(resolve, reject) {\n",
       "          var s = document.createElement('script');\n",
       "          document.getElementsByTagName(\"head\")[0].appendChild(s);\n",
       "          s.async = true;\n",
       "          s.onload = () => {\n",
       "            VEGA_DEBUG[key] = version;\n",
       "            return resolve(paths[lib]);\n",
       "          };\n",
       "          s.onerror = () => reject(`Error loading script: ${paths[lib]}`);\n",
       "          s.src = paths[lib];\n",
       "        });\n",
       "    }\n",
       "\n",
       "    function showError(err) {\n",
       "      outputDiv.innerHTML = `<div class=\"error\" style=\"color:red;\">${err}</div>`;\n",
       "      throw err;\n",
       "    }\n",
       "\n",
       "    function displayChart(vegaEmbed) {\n",
       "      vegaEmbed(outputDiv, spec, embedOpt)\n",
       "        .catch(err => showError(`Javascript Error: ${err.message}<br>This usually means there's a typo in your chart specification. See the javascript console for the full traceback.`));\n",
       "    }\n",
       "\n",
       "    if(typeof define === \"function\" && define.amd) {\n",
       "      requirejs.config({paths});\n",
       "      require([\"vega-embed\"], displayChart, err => showError(`Error loading script: ${err.message}`));\n",
       "    } else {\n",
       "      maybeLoadScript(\"vega\", \"5\")\n",
       "        .then(() => maybeLoadScript(\"vega-lite\", \"5.8.0\"))\n",
       "        .then(() => maybeLoadScript(\"vega-embed\", \"6\"))\n",
       "        .catch(showError)\n",
       "        .then(() => displayChart(vegaEmbed));\n",
       "    }\n",
       "  })({\"config\": {\"view\": {\"continuousWidth\": 300, \"continuousHeight\": 300}}, \"data\": {\"name\": \"data-75cdbe0b20ad700355d028bb1a20edc7\"}, \"mark\": {\"type\": \"rect\"}, \"encoding\": {\"color\": {\"field\": \"response\", \"type\": \"quantitative\"}, \"tooltip\": [{\"field\": \"q13\", \"type\": \"quantitative\"}, {\"field\": \"q14\", \"type\": \"ordinal\"}, {\"field\": \"response\", \"type\": \"quantitative\"}], \"x\": {\"field\": \"q14\", \"sort\": [\"Very Good\", \"Good\", \"Poor\", \"Very Poor\", \"No interest\", \"Prefer not to answer\"], \"type\": \"ordinal\"}, \"y\": {\"field\": \"q13\", \"type\": \"quantitative\"}}, \"height\": 500, \"params\": [{\"name\": \"param_2\", \"select\": {\"type\": \"interval\", \"encodings\": [\"x\", \"y\"]}, \"bind\": \"scales\"}], \"width\": 500, \"$schema\": \"https://vega.github.io/schema/vega-lite/v5.8.0.json\", \"datasets\": {\"data-75cdbe0b20ad700355d028bb1a20edc7\": [{\"q13\": -1, \"q14\": \"Very Good\", \"response\": 0}, {\"q13\": -1, \"q14\": \"Good\", \"response\": 1}, {\"q13\": -1, \"q14\": \"Poor\", \"response\": 1}, {\"q13\": -1, \"q14\": \"Very Poor\", \"response\": 0}, {\"q13\": -1, \"q14\": \"No interest\", \"response\": 1}, {\"q13\": -1, \"q14\": \"Prefer not to answer\", \"response\": 2}, {\"q13\": 0, \"q14\": \"Very Good\", \"response\": 0}, {\"q13\": 0, \"q14\": \"Good\", \"response\": 1}, {\"q13\": 0, \"q14\": \"Poor\", \"response\": 3}, {\"q13\": 0, \"q14\": \"Very Poor\", \"response\": 2}, {\"q13\": 0, \"q14\": \"No interest\", \"response\": 1}, {\"q13\": 0, \"q14\": \"Prefer not to answer\", \"response\": 0}, {\"q13\": 1, \"q14\": \"Very Good\", \"response\": 0}, {\"q13\": 1, \"q14\": \"Good\", \"response\": 0}, {\"q13\": 1, \"q14\": \"Poor\", \"response\": 3}, {\"q13\": 1, \"q14\": \"Very Poor\", \"response\": 1}, {\"q13\": 1, \"q14\": \"No interest\", \"response\": 0}, {\"q13\": 1, \"q14\": \"Prefer not to answer\", \"response\": 1}, {\"q13\": 2, \"q14\": \"Very Good\", \"response\": 0}, {\"q13\": 2, \"q14\": \"Good\", \"response\": 1}, {\"q13\": 2, \"q14\": \"Poor\", \"response\": 0}, {\"q13\": 2, \"q14\": \"Very Poor\", \"response\": 1}, {\"q13\": 2, \"q14\": \"No interest\", \"response\": 0}, {\"q13\": 2, \"q14\": \"Prefer not to answer\", \"response\": 0}, {\"q13\": 3, \"q14\": \"Very Good\", \"response\": 0}, {\"q13\": 3, \"q14\": \"Good\", \"response\": 1}, {\"q13\": 3, \"q14\": \"Poor\", \"response\": 1}, {\"q13\": 3, \"q14\": \"Very Poor\", \"response\": 2}, {\"q13\": 3, \"q14\": \"No interest\", \"response\": 1}, {\"q13\": 3, \"q14\": \"Prefer not to answer\", \"response\": 0}, {\"q13\": 4, \"q14\": \"Very Good\", \"response\": 0}, {\"q13\": 4, \"q14\": \"Good\", \"response\": 1}, {\"q13\": 4, \"q14\": \"Poor\", \"response\": 1}, {\"q13\": 4, \"q14\": \"Very Poor\", \"response\": 0}, {\"q13\": 4, \"q14\": \"No interest\", \"response\": 0}, {\"q13\": 4, \"q14\": \"Prefer not to answer\", \"response\": 0}, {\"q13\": 5, \"q14\": \"Very Good\", \"response\": 0}, {\"q13\": 5, \"q14\": \"Good\", \"response\": 1}, {\"q13\": 5, \"q14\": \"Poor\", \"response\": 2}, {\"q13\": 5, \"q14\": \"Very Poor\", \"response\": 5}, {\"q13\": 5, \"q14\": \"No interest\", \"response\": 0}, {\"q13\": 5, \"q14\": \"Prefer not to answer\", \"response\": 0}, {\"q13\": 7, \"q14\": \"Very Good\", \"response\": 0}, {\"q13\": 7, \"q14\": \"Good\", \"response\": 0}, {\"q13\": 7, \"q14\": \"Poor\", \"response\": 0}, {\"q13\": 7, \"q14\": \"Very Poor\", \"response\": 1}, {\"q13\": 7, \"q14\": \"No interest\", \"response\": 0}, {\"q13\": 7, \"q14\": \"Prefer not to answer\", \"response\": 0}, {\"q13\": 10, \"q14\": \"Very Good\", \"response\": 0}, {\"q13\": 10, \"q14\": \"Good\", \"response\": 2}, {\"q13\": 10, \"q14\": \"Poor\", \"response\": 10}, {\"q13\": 10, \"q14\": \"Very Poor\", \"response\": 9}, {\"q13\": 10, \"q14\": \"No interest\", \"response\": 0}, {\"q13\": 10, \"q14\": \"Prefer not to answer\", \"response\": 0}, {\"q13\": 11, \"q14\": \"Very Good\", \"response\": 0}, {\"q13\": 11, \"q14\": \"Good\", \"response\": 0}, {\"q13\": 11, \"q14\": \"Poor\", \"response\": 1}, {\"q13\": 11, \"q14\": \"Very Poor\", \"response\": 0}, {\"q13\": 11, \"q14\": \"No interest\", \"response\": 0}, {\"q13\": 11, \"q14\": \"Prefer not to answer\", \"response\": 0}, {\"q13\": 12, \"q14\": \"Very Good\", \"response\": 0}, {\"q13\": 12, \"q14\": \"Good\", \"response\": 0}, {\"q13\": 12, \"q14\": \"Poor\", \"response\": 1}, {\"q13\": 12, \"q14\": \"Very Poor\", \"response\": 2}, {\"q13\": 12, \"q14\": \"No interest\", \"response\": 0}, {\"q13\": 12, \"q14\": \"Prefer not to answer\", \"response\": 0}, {\"q13\": 14, \"q14\": \"Very Good\", \"response\": 0}, {\"q13\": 14, \"q14\": \"Good\", \"response\": 0}, {\"q13\": 14, \"q14\": \"Poor\", \"response\": 0}, {\"q13\": 14, \"q14\": \"Very Poor\", \"response\": 1}, {\"q13\": 14, \"q14\": \"No interest\", \"response\": 0}, {\"q13\": 14, \"q14\": \"Prefer not to answer\", \"response\": 0}, {\"q13\": 15, \"q14\": \"Very Good\", \"response\": 0}, {\"q13\": 15, \"q14\": \"Good\", \"response\": 0}, {\"q13\": 15, \"q14\": \"Poor\", \"response\": 3}, {\"q13\": 15, \"q14\": \"Very Poor\", \"response\": 6}, {\"q13\": 15, \"q14\": \"No interest\", \"response\": 2}, {\"q13\": 15, \"q14\": \"Prefer not to answer\", \"response\": 0}, {\"q13\": 18, \"q14\": \"Very Good\", \"response\": 0}, {\"q13\": 18, \"q14\": \"Good\", \"response\": 0}, {\"q13\": 18, \"q14\": \"Poor\", \"response\": 0}, {\"q13\": 18, \"q14\": \"Very Poor\", \"response\": 1}, {\"q13\": 18, \"q14\": \"No interest\", \"response\": 0}, {\"q13\": 18, \"q14\": \"Prefer not to answer\", \"response\": 0}, {\"q13\": 20, \"q14\": \"Very Good\", \"response\": 0}, {\"q13\": 20, \"q14\": \"Good\", \"response\": 7}, {\"q13\": 20, \"q14\": \"Poor\", \"response\": 30}, {\"q13\": 20, \"q14\": \"Very Poor\", \"response\": 6}, {\"q13\": 20, \"q14\": \"No interest\", \"response\": 2}, {\"q13\": 20, \"q14\": \"Prefer not to answer\", \"response\": 1}, {\"q13\": 22, \"q14\": \"Very Good\", \"response\": 0}, {\"q13\": 22, \"q14\": \"Good\", \"response\": 0}, {\"q13\": 22, \"q14\": \"Poor\", \"response\": 1}, {\"q13\": 22, \"q14\": \"Very Poor\", \"response\": 0}, {\"q13\": 22, \"q14\": \"No interest\", \"response\": 0}, {\"q13\": 22, \"q14\": \"Prefer not to answer\", \"response\": 0}, {\"q13\": 23, \"q14\": \"Very Good\", \"response\": 0}, {\"q13\": 23, \"q14\": \"Good\", \"response\": 1}, {\"q13\": 23, \"q14\": \"Poor\", \"response\": 0}, {\"q13\": 23, \"q14\": \"Very Poor\", \"response\": 0}, {\"q13\": 23, \"q14\": \"No interest\", \"response\": 0}, {\"q13\": 23, \"q14\": \"Prefer not to answer\", \"response\": 0}, {\"q13\": 25, \"q14\": \"Very Good\", \"response\": 0}, {\"q13\": 25, \"q14\": \"Good\", \"response\": 8}, {\"q13\": 25, \"q14\": \"Poor\", \"response\": 10}, {\"q13\": 25, \"q14\": \"Very Poor\", \"response\": 1}, {\"q13\": 25, \"q14\": \"No interest\", \"response\": 1}, {\"q13\": 25, \"q14\": \"Prefer not to answer\", \"response\": 0}, {\"q13\": 27, \"q14\": \"Very Good\", \"response\": 0}, {\"q13\": 27, \"q14\": \"Good\", \"response\": 0}, {\"q13\": 27, \"q14\": \"Poor\", \"response\": 2}, {\"q13\": 27, \"q14\": \"Very Poor\", \"response\": 0}, {\"q13\": 27, \"q14\": \"No interest\", \"response\": 0}, {\"q13\": 27, \"q14\": \"Prefer not to answer\", \"response\": 0}, {\"q13\": 28, \"q14\": \"Very Good\", \"response\": 0}, {\"q13\": 28, \"q14\": \"Good\", \"response\": 0}, {\"q13\": 28, \"q14\": \"Poor\", \"response\": 1}, {\"q13\": 28, \"q14\": \"Very Poor\", \"response\": 0}, {\"q13\": 28, \"q14\": \"No interest\", \"response\": 0}, {\"q13\": 28, \"q14\": \"Prefer not to answer\", \"response\": 0}, {\"q13\": 29, \"q14\": \"Very Good\", \"response\": 0}, {\"q13\": 29, \"q14\": \"Good\", \"response\": 1}, {\"q13\": 29, \"q14\": \"Poor\", \"response\": 0}, {\"q13\": 29, \"q14\": \"Very Poor\", \"response\": 0}, {\"q13\": 29, \"q14\": \"No interest\", \"response\": 0}, {\"q13\": 29, \"q14\": \"Prefer not to answer\", \"response\": 0}, {\"q13\": 30, \"q14\": \"Very Good\", \"response\": 2}, {\"q13\": 30, \"q14\": \"Good\", \"response\": 19}, {\"q13\": 30, \"q14\": \"Poor\", \"response\": 11}, {\"q13\": 30, \"q14\": \"Very Poor\", \"response\": 3}, {\"q13\": 30, \"q14\": \"No interest\", \"response\": 1}, {\"q13\": 30, \"q14\": \"Prefer not to answer\", \"response\": 1}, {\"q13\": 33, \"q14\": \"Very Good\", \"response\": 1}, {\"q13\": 33, \"q14\": \"Good\", \"response\": 1}, {\"q13\": 33, \"q14\": \"Poor\", \"response\": 5}, {\"q13\": 33, \"q14\": \"Very Poor\", \"response\": 0}, {\"q13\": 33, \"q14\": \"No interest\", \"response\": 0}, {\"q13\": 33, \"q14\": \"Prefer not to answer\", \"response\": 0}, {\"q13\": 35, \"q14\": \"Very Good\", \"response\": 0}, {\"q13\": 35, \"q14\": \"Good\", \"response\": 2}, {\"q13\": 35, \"q14\": \"Poor\", \"response\": 2}, {\"q13\": 35, \"q14\": \"Very Poor\", \"response\": 0}, {\"q13\": 35, \"q14\": \"No interest\", \"response\": 0}, {\"q13\": 35, \"q14\": \"Prefer not to answer\", \"response\": 0}, {\"q13\": 36, \"q14\": \"Very Good\", \"response\": 1}, {\"q13\": 36, \"q14\": \"Good\", \"response\": 1}, {\"q13\": 36, \"q14\": \"Poor\", \"response\": 0}, {\"q13\": 36, \"q14\": \"Very Poor\", \"response\": 0}, {\"q13\": 36, \"q14\": \"No interest\", \"response\": 0}, {\"q13\": 36, \"q14\": \"Prefer not to answer\", \"response\": 0}, {\"q13\": 37, \"q14\": \"Very Good\", \"response\": 1}, {\"q13\": 37, \"q14\": \"Good\", \"response\": 0}, {\"q13\": 37, \"q14\": \"Poor\", \"response\": 0}, {\"q13\": 37, \"q14\": \"Very Poor\", \"response\": 0}, {\"q13\": 37, \"q14\": \"No interest\", \"response\": 0}, {\"q13\": 37, \"q14\": \"Prefer not to answer\", \"response\": 0}, {\"q13\": 38, \"q14\": \"Very Good\", \"response\": 0}, {\"q13\": 38, \"q14\": \"Good\", \"response\": 2}, {\"q13\": 38, \"q14\": \"Poor\", \"response\": 0}, {\"q13\": 38, \"q14\": \"Very Poor\", \"response\": 0}, {\"q13\": 38, \"q14\": \"No interest\", \"response\": 0}, {\"q13\": 38, \"q14\": \"Prefer not to answer\", \"response\": 0}, {\"q13\": 40, \"q14\": \"Very Good\", \"response\": 1}, {\"q13\": 40, \"q14\": \"Good\", \"response\": 14}, {\"q13\": 40, \"q14\": \"Poor\", \"response\": 3}, {\"q13\": 40, \"q14\": \"Very Poor\", \"response\": 0}, {\"q13\": 40, \"q14\": \"No interest\", \"response\": 1}, {\"q13\": 40, \"q14\": \"Prefer not to answer\", \"response\": 0}, {\"q13\": 42, \"q14\": \"Very Good\", \"response\": 0}, {\"q13\": 42, \"q14\": \"Good\", \"response\": 1}, {\"q13\": 42, \"q14\": \"Poor\", \"response\": 0}, {\"q13\": 42, \"q14\": \"Very Poor\", \"response\": 0}, {\"q13\": 42, \"q14\": \"No interest\", \"response\": 0}, {\"q13\": 42, \"q14\": \"Prefer not to answer\", \"response\": 0}, {\"q13\": 43, \"q14\": \"Very Good\", \"response\": 0}, {\"q13\": 43, \"q14\": \"Good\", \"response\": 3}, {\"q13\": 43, \"q14\": \"Poor\", \"response\": 0}, {\"q13\": 43, \"q14\": \"Very Poor\", \"response\": 0}, {\"q13\": 43, \"q14\": \"No interest\", \"response\": 0}, {\"q13\": 43, \"q14\": \"Prefer not to answer\", \"response\": 0}, {\"q13\": 45, \"q14\": \"Very Good\", \"response\": 1}, {\"q13\": 45, \"q14\": \"Good\", \"response\": 2}, {\"q13\": 45, \"q14\": \"Poor\", \"response\": 0}, {\"q13\": 45, \"q14\": \"Very Poor\", \"response\": 0}, {\"q13\": 45, \"q14\": \"No interest\", \"response\": 0}, {\"q13\": 45, \"q14\": \"Prefer not to answer\", \"response\": 0}, {\"q13\": 50, \"q14\": \"Very Good\", \"response\": 9}, {\"q13\": 50, \"q14\": \"Good\", \"response\": 9}, {\"q13\": 50, \"q14\": \"Poor\", \"response\": 0}, {\"q13\": 50, \"q14\": \"Very Poor\", \"response\": 0}, {\"q13\": 50, \"q14\": \"No interest\", \"response\": 1}, {\"q13\": 50, \"q14\": \"Prefer not to answer\", \"response\": 0}, {\"q13\": 55, \"q14\": \"Very Good\", \"response\": 1}, {\"q13\": 55, \"q14\": \"Good\", \"response\": 0}, {\"q13\": 55, \"q14\": \"Poor\", \"response\": 0}, {\"q13\": 55, \"q14\": \"Very Poor\", \"response\": 0}, {\"q13\": 55, \"q14\": \"No interest\", \"response\": 0}, {\"q13\": 55, \"q14\": \"Prefer not to answer\", \"response\": 0}, {\"q13\": 60, \"q14\": \"Very Good\", \"response\": 1}, {\"q13\": 60, \"q14\": \"Good\", \"response\": 4}, {\"q13\": 60, \"q14\": \"Poor\", \"response\": 0}, {\"q13\": 60, \"q14\": \"Very Poor\", \"response\": 0}, {\"q13\": 60, \"q14\": \"No interest\", \"response\": 1}, {\"q13\": 60, \"q14\": \"Prefer not to answer\", \"response\": 0}, {\"q13\": 62, \"q14\": \"Very Good\", \"response\": 0}, {\"q13\": 62, \"q14\": \"Good\", \"response\": 0}, {\"q13\": 62, \"q14\": \"Poor\", \"response\": 0}, {\"q13\": 62, \"q14\": \"Very Poor\", \"response\": 0}, {\"q13\": 62, \"q14\": \"No interest\", \"response\": 1}, {\"q13\": 62, \"q14\": \"Prefer not to answer\", \"response\": 0}, {\"q13\": 65, \"q14\": \"Very Good\", \"response\": 0}, {\"q13\": 65, \"q14\": \"Good\", \"response\": 0}, {\"q13\": 65, \"q14\": \"Poor\", \"response\": 0}, {\"q13\": 65, \"q14\": \"Very Poor\", \"response\": 0}, {\"q13\": 65, \"q14\": \"No interest\", \"response\": 1}, {\"q13\": 65, \"q14\": \"Prefer not to answer\", \"response\": 0}, {\"q13\": 67, \"q14\": \"Very Good\", \"response\": 1}, {\"q13\": 67, \"q14\": \"Good\", \"response\": 0}, {\"q13\": 67, \"q14\": \"Poor\", \"response\": 0}, {\"q13\": 67, \"q14\": \"Very Poor\", \"response\": 0}, {\"q13\": 67, \"q14\": \"No interest\", \"response\": 0}, {\"q13\": 67, \"q14\": \"Prefer not to answer\", \"response\": 0}, {\"q13\": 70, \"q14\": \"Very Good\", \"response\": 1}, {\"q13\": 70, \"q14\": \"Good\", \"response\": 0}, {\"q13\": 70, \"q14\": \"Poor\", \"response\": 0}, {\"q13\": 70, \"q14\": \"Very Poor\", \"response\": 0}, {\"q13\": 70, \"q14\": \"No interest\", \"response\": 0}, {\"q13\": 70, \"q14\": \"Prefer not to answer\", \"response\": 0}, {\"q13\": 73, \"q14\": \"Very Good\", \"response\": 1}, {\"q13\": 73, \"q14\": \"Good\", \"response\": 0}, {\"q13\": 73, \"q14\": \"Poor\", \"response\": 0}, {\"q13\": 73, \"q14\": \"Very Poor\", \"response\": 0}, {\"q13\": 73, \"q14\": \"No interest\", \"response\": 0}, {\"q13\": 73, \"q14\": \"Prefer not to answer\", \"response\": 0}, {\"q13\": 75, \"q14\": \"Very Good\", \"response\": 1}, {\"q13\": 75, \"q14\": \"Good\", \"response\": 1}, {\"q13\": 75, \"q14\": \"Poor\", \"response\": 0}, {\"q13\": 75, \"q14\": \"Very Poor\", \"response\": 0}, {\"q13\": 75, \"q14\": \"No interest\", \"response\": 0}, {\"q13\": 75, \"q14\": \"Prefer not to answer\", \"response\": 0}, {\"q13\": 80, \"q14\": \"Very Good\", \"response\": 1}, {\"q13\": 80, \"q14\": \"Good\", \"response\": 1}, {\"q13\": 80, \"q14\": \"Poor\", \"response\": 0}, {\"q13\": 80, \"q14\": \"Very Poor\", \"response\": 0}, {\"q13\": 80, \"q14\": \"No interest\", \"response\": 0}, {\"q13\": 80, \"q14\": \"Prefer not to answer\", \"response\": 0}, {\"q13\": 100, \"q14\": \"Very Good\", \"response\": 1}, {\"q13\": 100, \"q14\": \"Good\", \"response\": 0}, {\"q13\": 100, \"q14\": \"Poor\", \"response\": 0}, {\"q13\": 100, \"q14\": \"Very Poor\", \"response\": 0}, {\"q13\": 100, \"q14\": \"No interest\", \"response\": 0}, {\"q13\": 100, \"q14\": \"Prefer not to answer\", \"response\": 0}]}}, {\"mode\": \"vega-lite\"});\n",
       "</script>"
      ],
      "text/plain": [
       "alt.Chart(...)"
      ]
     },
     "execution_count": 8,
     "metadata": {},
     "output_type": "execute_result"
    }
   ],
   "source": [
    "grouped = data.groupby([\"q13\", \"q14\"])[\"response\"].sum().reset_index()\n",
    "\n",
    "alt.Chart(grouped).mark_rect().encode(\n",
    "    alt.X(\"q14\"),\n",
    "    alt.Y(\"q13\"),\n",
    "    alt.Color(\"response\"),\n",
    "    tooltip=[\"q13\", \"q14\", \"response\"],\n",
    ").properties(\n",
    "    width = 500,\n",
    "    height = 500,\n",
    ").interactive()\n"
   ]
  },
  {
   "cell_type": "code",
   "execution_count": 10,
   "metadata": {},
   "outputs": [],
   "source": [
    "grouped.to_csv(\"tmp_grouped.csv\", index=False)"
   ]
  },
  {
   "cell_type": "code",
   "execution_count": null,
   "metadata": {},
   "outputs": [],
   "source": []
  }
 ],
 "metadata": {
  "kernelspec": {
   "display_name": ".venv",
   "language": "python",
   "name": "python3"
  },
  "language_info": {
   "codemirror_mode": {
    "name": "ipython",
    "version": 3
   },
   "file_extension": ".py",
   "mimetype": "text/x-python",
   "name": "python",
   "nbconvert_exporter": "python",
   "pygments_lexer": "ipython3",
   "version": "3.11.4"
  },
  "orig_nbformat": 4
 },
 "nbformat": 4,
 "nbformat_minor": 2
}
