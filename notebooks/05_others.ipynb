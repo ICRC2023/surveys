{
 "cells": [
  {
   "cell_type": "markdown",
   "metadata": {},
   "source": [
    "気ままにプロットを作ってみる"
   ]
  },
  {
   "cell_type": "code",
   "execution_count": null,
   "metadata": {},
   "outputs": [],
   "source": [
    "from pathlib import Path\n",
    "import pandas as pd\n",
    "import altair as alt\n",
    "import titanite as ti\n",
    "\n",
    "alt.data_transformers.disable_max_rows()\n",
    "\n",
    "print(f\"Pandas {pd.__version__}\")\n",
    "print(f\"Altair {alt.__version__}\")\n",
    "print(f\"Titanite {ti.__version__}\")"
   ]
  },
  {
   "cell_type": "code",
   "execution_count": null,
   "metadata": {},
   "outputs": [],
   "source": [
    "f_cfg = \"../sandbox/config.toml\"\n",
    "f_csv = \"../sandbox/tmp_preprocessed.csv\"\n",
    "\n",
    "cfg = ti.Config(fname=f_cfg)\n",
    "cfg.load()\n",
    "category = cfg.categories()\n",
    "\n",
    "data = pd.read_csv(f_csv, parse_dates=[\"timestamp\"])\n",
    "data = ti.categorical_data(data, category)\n",
    "# data.info()"
   ]
  },
  {
   "cell_type": "code",
   "execution_count": null,
   "metadata": {},
   "outputs": [],
   "source": [
    "cfg.questions"
   ]
  },
  {
   "cell_type": "code",
   "execution_count": null,
   "metadata": {},
   "outputs": [],
   "source": [
    "x = \"q2\"\n",
    "y = \"q13\"\n",
    "z = \"q14\"\n",
    "g = [x, y, z]\n",
    "grouped = ti.group_data(data, g)\n",
    "grouped"
   ]
  },
  {
   "cell_type": "code",
   "execution_count": null,
   "metadata": {},
   "outputs": [],
   "source": [
    "# import math\n",
    "# grouped[\"size\"] = grouped[\"response\"].apply(math.sqrt)\n",
    "\n",
    "alt.Chart(grouped).mark_point().encode(\n",
    "    alt.X(y),\n",
    "    alt.Y(z),\n",
    "    alt.Color(x),\n",
    "    alt.Size(\"response\"),\n",
    "    # alt.Size(\"size\").title(\"\"),\n",
    "    tooltip=[y, z, \"response\"],\n",
    ").properties(\n",
    "    width=500,\n",
    "    height=300,\n",
    ").interactive()"
   ]
  },
  {
   "cell_type": "code",
   "execution_count": null,
   "metadata": {},
   "outputs": [],
   "source": [
    "grouped.to_csv(\"tmp_grouped.csv\", index=False)"
   ]
  },
  {
   "cell_type": "code",
   "execution_count": null,
   "metadata": {},
   "outputs": [],
   "source": [
    "# g = [\"q2\", \"q12_genderbalance\", \"q12_diversity\", \"q12_equity\", \"q12_inclusion\"]\n",
    "g = [\"q2\", \"q12_genderbalance\", \"q17_genderbalance\"]\n",
    "grouped = ti.group_data(data, g)\n",
    "grouped"
   ]
  },
  {
   "cell_type": "code",
   "execution_count": null,
   "metadata": {},
   "outputs": [],
   "source": [
    "# import math\n",
    "# grouped[\"size\"] = grouped[\"response\"].apply(math.sqrt)\n",
    "\n",
    "alt.Chart(grouped).mark_point().encode(\n",
    "    alt.X(\"q12_genderbalance\"),\n",
    "    alt.Y(\"q17_genderbalance\"),\n",
    "    alt.Color(\"q2:N\"),\n",
    "    alt.Shape(\"q2:N\"),\n",
    "    alt.Size(\"response\"),\n",
    "    # alt.Size(\"size\").title(\"\"),\n",
    "    tooltip=[\"response\"],\n",
    ").properties(\n",
    "    width=500,\n",
    "    height=500,\n",
    ").interactive()"
   ]
  },
  {
   "cell_type": "code",
   "execution_count": null,
   "metadata": {},
   "outputs": [],
   "source": []
  }
 ],
 "metadata": {
  "kernelspec": {
   "display_name": ".venv",
   "language": "python",
   "name": "python3"
  },
  "language_info": {
   "codemirror_mode": {
    "name": "ipython",
    "version": 3
   },
   "file_extension": ".py",
   "mimetype": "text/x-python",
   "name": "python",
   "nbconvert_exporter": "python",
   "pygments_lexer": "ipython3",
   "version": "3.11.4"
  }
 },
 "nbformat": 4,
 "nbformat_minor": 2
}
