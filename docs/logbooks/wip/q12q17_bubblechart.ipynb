{
 "cells": [
  {
   "cell_type": "markdown",
   "metadata": {},
   "source": [
    "# バプル図\n",
    "\n",
    "- ``q12``\n",
    "- ``q17``"
   ]
  },
  {
   "cell_type": "code",
   "execution_count": null,
   "metadata": {},
   "outputs": [],
   "source": [
    "import altair as alt\n",
    "import pandas as pd\n",
    "import titanite as ti\n",
    "\n",
    "print(f\"Altair {alt.__version__}\")\n",
    "print(f\"Pandas {pd.__version__}\")\n",
    "print(f\"Titanite {ti.__version__}\")"
   ]
  },
  {
   "cell_type": "code",
   "execution_count": null,
   "metadata": {},
   "outputs": [],
   "source": [
    "f_cfg = \"../../../sandbox/config.toml\"\n",
    "f_csv = \"../../../data/test_data/prepared_data.csv\"\n",
    "d = ti.Data(read_from=f_csv, load_from=f_cfg)\n",
    "config = d.config()\n",
    "data = d.read()\n",
    "# data\n",
    "#data.info()"
   ]
  },
  {
   "cell_type": "code",
   "execution_count": null,
   "metadata": {},
   "outputs": [],
   "source": [
    "def group_data(data: pd.DataFrame, headers: dict[str, str]):\n",
    "    keys = list(headers.keys())\n",
    "    renamed = data[keys].rename(columns=headers)\n",
    "    melted = renamed.melt(var_name=\"Questions\", value_name=\"Options\")\n",
    "    melted[\"Responses\"] = 1\n",
    "    g = [\"Questions\", \"Options\"]\n",
    "    grouped = melted.groupby(g)[\"Responses\"].sum().reset_index()\n",
    "    return grouped\n"
   ]
  },
  {
   "cell_type": "code",
   "execution_count": null,
   "metadata": {},
   "outputs": [],
   "source": [
    "q12_headers = {\n",
    "    \"q12_genderbalance\": \"Gender Balance\",\n",
    "    \"q12_diversity\": \"Diversity\",\n",
    "    \"q12_equity\": \"Equity\",\n",
    "    \"q12_inclusion\": \"Inclusion\",\n",
    "}\n",
    "\n",
    "q17_headers = {\n",
    "    \"q17_genderbalance\": \"Gender Balance\",\n",
    "    \"q17_diversity\": \"Diversity\",\n",
    "    \"q17_equity\": \"Equity\",\n",
    "    \"q17_inclusion\": \"Inclusion\",\n",
    "}\n"
   ]
  },
  {
   "cell_type": "code",
   "execution_count": null,
   "metadata": {},
   "outputs": [],
   "source": [
    "grouped = group_data(data, q12_headers)\n",
    "\n",
    "tips = list(grouped.columns)\n",
    "\n",
    "alt.Chart(grouped).mark_circle().encode(\n",
    "    alt.X(\"Options\"),\n",
    "    alt.Y(\"Questions\"),\n",
    "    alt.Size(\"Responses:Q\").scale(type=\"sqrt\").title(\"responses\"),\n",
    "    alt.Shape(\"Options\"),\n",
    "    #alt.Color(\"Options\").scale(scheme=\"inferno\"),\n",
    "    alt.Tooltip(tips),\n",
    ").properties(\n",
    "    width=200,\n",
    "    height=200\n",
    ")"
   ]
  },
  {
   "cell_type": "code",
   "execution_count": null,
   "metadata": {},
   "outputs": [],
   "source": [
    "alt.Chart(grouped).mark_bar().encode(\n",
    "    alt.X(\"Options\").axis(labelFontSize=15).title(None),\n",
    "    alt.Y(\"Responses\").axis(labelFontSize=15, titleFontSize=15),\n",
    "    alt.Color(\"Options\").scale(scheme=\"set1\"),\n",
    "    alt.Column(\"Questions\"),\n",
    ").properties(\n",
    "    width=200,\n",
    ")"
   ]
  },
  {
   "cell_type": "code",
   "execution_count": null,
   "metadata": {},
   "outputs": [],
   "source": [
    "alt.Chart(grouped).mark_bar().encode(\n",
    "    alt.X(\"Questions\").axis(labelFontSize=15).title(None),\n",
    "    alt.Y(\"Responses\").axis(labelFontSize=15, titleFontSize=15),\n",
    "    alt.Color(\"Options\").scale(scheme=\"set1\"),\n",
    "    alt.Column(\"Options\"),\n",
    ").properties(\n",
    "    width=120\n",
    ")"
   ]
  },
  {
   "cell_type": "markdown",
   "metadata": {},
   "source": [
    "## Q17"
   ]
  },
  {
   "cell_type": "code",
   "execution_count": null,
   "metadata": {},
   "outputs": [],
   "source": [
    "grouped = group_data(data, q17_headers)\n",
    "\n",
    "tips = list(grouped.columns)\n",
    "\n",
    "alt.Chart(grouped).mark_circle().encode(\n",
    "    alt.X(\"Options\"),\n",
    "    alt.Y(\"Questions\"),\n",
    "    alt.Size(\"Responses:Q\").scale(type=\"sqrt\").title(\"responses\"),\n",
    "    alt.Shape(\"Options\"),\n",
    "    #alt.Color(\"Options\").scale(scheme=\"inferno\"),\n",
    "    alt.Tooltip(tips),\n",
    ").properties(\n",
    "    width=200,\n",
    "    height=200\n",
    ")"
   ]
  },
  {
   "cell_type": "code",
   "execution_count": null,
   "metadata": {},
   "outputs": [],
   "source": [
    "alt.Chart(grouped).mark_bar().encode(\n",
    "    alt.X(\"Options\").axis(labelFontSize=15).title(None),\n",
    "    alt.Y(\"Responses\").axis(labelFontSize=15, titleFontSize=15),\n",
    "    alt.Color(\"Options\").scale(scheme=\"set1\"),\n",
    "    alt.Column(\"Questions\"),\n",
    ").properties(\n",
    "    width=200,\n",
    ")"
   ]
  },
  {
   "cell_type": "code",
   "execution_count": null,
   "metadata": {},
   "outputs": [],
   "source": [
    "alt.Chart(grouped).mark_bar().encode(\n",
    "    alt.X(\"Questions\").axis(labelFontSize=15).title(None),\n",
    "    alt.Y(\"Responses\").axis(labelFontSize=15, titleFontSize=15),\n",
    "    alt.Color(\"Options\").scale(scheme=\"set1\"),\n",
    "    alt.Column(\"Options\"),\n",
    ").properties(\n",
    "    width=120\n",
    ")"
   ]
  }
 ],
 "metadata": {
  "kernelspec": {
   "display_name": ".venv",
   "language": "python",
   "name": "python3"
  },
  "language_info": {
   "codemirror_mode": {
    "name": "ipython",
    "version": 3
   },
   "file_extension": ".py",
   "mimetype": "text/x-python",
   "name": "python",
   "nbconvert_exporter": "python",
   "pygments_lexer": "ipython3",
   "version": "3.11.5"
  },
  "orig_nbformat": 4
 },
 "nbformat": 4,
 "nbformat_minor": 2
}
