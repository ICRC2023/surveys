{
 "cells": [
  {
   "cell_type": "code",
   "execution_count": null,
   "metadata": {},
   "outputs": [],
   "source": [
    "import altair as alt\n",
    "import pandas as pd\n",
    "import titanite as ti\n",
    "\n",
    "print(f\"Altair {alt.__version__}\")\n",
    "print(f\"Pandas {pd.__version__}\")\n",
    "print(f\"Titanite {ti.__version__}\")"
   ]
  },
  {
   "cell_type": "code",
   "execution_count": null,
   "metadata": {},
   "outputs": [],
   "source": [
    "f_cfg = \"../../../sandbox/config.toml\"\n",
    "f_csv = \"../../../data/test_data/prepared_data.csv\"\n",
    "d = ti.Data(read_from=f_csv, load_from=f_cfg)\n",
    "config = d.config()\n",
    "data = d.read()\n",
    "# data\n",
    "data.info()"
   ]
  },
  {
   "cell_type": "code",
   "execution_count": null,
   "metadata": {},
   "outputs": [],
   "source": [
    "def hbar(data: pd.DataFrame, x: str, w: int, h: int):\n",
    "    tooltips = list(data.columns)\n",
    "    \n",
    "    base = alt.Chart(data).encode(\n",
    "        alt.X(x),\n",
    "        alt.Y(\"count()\"),\n",
    "        \n",
    "    ).properties(\n",
    "        width=w,\n",
    "        height=h,\n",
    "    ).interactive()\n",
    "\n",
    "    mark = base.mark_bar().encode(\n",
    "        alt.Color(x).scale(scheme=\"set1\"),\n",
    "    )\n",
    "    return mark\n",
    "\n",
    "def pie(data: pd.DataFrame, x: str, w: int, h: int):\n",
    "    tooltips = list(data.columns)\n",
    "\n",
    "    mark = alt.Chart(data).mark_arc().encode(\n",
    "        alt.Color(x),\n",
    "        alt.Theta(\"count()\"),        \n",
    "    ).properties(\n",
    "        width=w,\n",
    "        height=h,\n",
    "    ).interactive()\n",
    "\n",
    "    return mark"
   ]
  },
  {
   "cell_type": "code",
   "execution_count": null,
   "metadata": {},
   "outputs": [],
   "source": [
    "h = hbar(data, \"q01\", w=300, h=400)\n",
    "p = pie(data, \"q01\", w=400, h=400)\n",
    "h | p"
   ]
  },
  {
   "cell_type": "code",
   "execution_count": null,
   "metadata": {},
   "outputs": [],
   "source": [
    "h = hbar(data, \"q02\", w=300, h=400)\n",
    "p = pie(data, \"q02\", w=400, h=400)\n",
    "h | p"
   ]
  },
  {
   "cell_type": "code",
   "execution_count": null,
   "metadata": {},
   "outputs": [],
   "source": [
    "h = hbar(data, \"q03_regional\", w=300, h=400)\n",
    "p = pie(data, \"q03_regional\", w=400, h=400)\n",
    "h | p"
   ]
  },
  {
   "cell_type": "code",
   "execution_count": null,
   "metadata": {},
   "outputs": [],
   "source": []
  }
 ],
 "metadata": {
  "kernelspec": {
   "display_name": ".venv",
   "language": "python",
   "name": "python3"
  },
  "language_info": {
   "codemirror_mode": {
    "name": "ipython",
    "version": 3
   },
   "file_extension": ".py",
   "mimetype": "text/x-python",
   "name": "python",
   "nbconvert_exporter": "python",
   "pygments_lexer": "ipython3",
   "version": "3.11.5"
  },
  "orig_nbformat": 4
 },
 "nbformat": 4,
 "nbformat_minor": 2
}
