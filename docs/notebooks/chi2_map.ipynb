{
 "cells": [
  {
   "cell_type": "code",
   "execution_count": null,
   "metadata": {},
   "outputs": [],
   "source": [
    "import pandas as pd\n",
    "import altair as alt\n",
    "from pathlib import Path"
   ]
  },
  {
   "cell_type": "code",
   "execution_count": null,
   "metadata": {},
   "outputs": [],
   "source": [
    "f_chi2 = \"../../data/test_data/chi2_test/chi2_test.csv\"\n",
    "f_p005 = \"../../data/test_data/chi2_test/chi2_test_p005.csv\""
   ]
  },
  {
   "cell_type": "code",
   "execution_count": null,
   "metadata": {},
   "outputs": [],
   "source": [
    "chi2_data = pd.read_csv(f_chi2)\n",
    "p005_data = pd.read_csv(f_p005)"
   ]
  },
  {
   "cell_type": "markdown",
   "metadata": {},
   "source": [
    "ぜんぶ"
   ]
  },
  {
   "cell_type": "code",
   "execution_count": null,
   "metadata": {},
   "outputs": [],
   "source": [
    "hm = alt.Chart(chi2_data).mark_rect().encode(\n",
    "    alt.X(\"x\"),\n",
    "    alt.Y(\"y\"),\n",
    "    alt.Color(\"p_value\").scale(scheme=\"blues\", reverse=True),\n",
    ")\n",
    "# fname = Path(\"../data/main_data/\") / \"chi2.png\"\n",
    "# hm.save(fname)\n",
    "# print(f\"Save chart to: {fname}\")\n",
    "hm"
   ]
  },
  {
   "cell_type": "markdown",
   "metadata": {},
   "source": [
    "``p < 0.05``のところ"
   ]
  },
  {
   "cell_type": "code",
   "execution_count": null,
   "metadata": {},
   "outputs": [],
   "source": [
    "p_limit = 0.05\n",
    "hm = alt.Chart(chi2_data).mark_rect().encode(\n",
    "    alt.X(\"x\"),\n",
    "    alt.Y(\"y\"),\n",
    "    color = alt.condition(\n",
    "        alt.datum.p_value < p_limit,\n",
    "        alt.Color(\"p_value:Q\").scale(domain=[0, p_limit], scheme=\"blues\", reverse=True),\n",
    "        alt.value(\"white\"),\n",
    "    )\n",
    ")\n",
    "\n",
    "# fname = Path(\"../data/main_data/\") / f\"chi2_p0050.png\"\n",
    "# hm.save(fname)\n",
    "# print(f\"Save chart to: {fname}\")\n",
    "hm"
   ]
  },
  {
   "cell_type": "markdown",
   "metadata": {},
   "source": [
    "``p < 0.01``のところ"
   ]
  },
  {
   "cell_type": "code",
   "execution_count": null,
   "metadata": {},
   "outputs": [],
   "source": [
    "p_limit = 0.01\n",
    "hm = alt.Chart(chi2_data).mark_rect().encode(\n",
    "    alt.X(\"x\"),\n",
    "    alt.Y(\"y\"),\n",
    "    color = alt.condition(\n",
    "        alt.datum.p_value < p_limit,\n",
    "        alt.Color(\"p_value:Q\").scale(domain=[0, p_limit], scheme=\"greens\", reverse=True),\n",
    "        alt.value(\"white\"),\n",
    "    )\n",
    ")\n",
    "# hm.save(\"../data/main_data/chi2_p0010.png\")\n",
    "hm"
   ]
  },
  {
   "cell_type": "markdown",
   "metadata": {},
   "source": [
    "``p < 0.005``のところ"
   ]
  },
  {
   "cell_type": "code",
   "execution_count": null,
   "metadata": {},
   "outputs": [],
   "source": [
    "p_limit = 0.005\n",
    "hm = alt.Chart(chi2_data).mark_rect().encode(\n",
    "    alt.X(\"x\"),\n",
    "    alt.Y(\"y\"),\n",
    "    color = alt.condition(\n",
    "        alt.datum.p_value < p_limit,\n",
    "        alt.Color(\"p_value:Q\").scale(domain=[0, p_limit], scheme=\"oranges\", reverse=True),\n",
    "        alt.value(\"white\"),        \n",
    "    )\n",
    ")\n",
    "# hm.save(\"../data/main_data/chi2_p0005.png\")\n",
    "hm"
   ]
  },
  {
   "cell_type": "code",
   "execution_count": null,
   "metadata": {},
   "outputs": [],
   "source": [
    "p_limit = 0.001\n",
    "hm = alt.Chart(chi2_data).mark_rect().encode(\n",
    "    alt.X(\"x\"),\n",
    "    alt.Y(\"y\"),\n",
    "    color = alt.condition(\n",
    "        alt.datum.p_value < p_limit,\n",
    "        alt.Color(\"p_value:Q\").scale(domain=[0, p_limit], scheme=\"purples\", reverse=True),\n",
    "        alt.value(\"white\"),        \n",
    "    )\n",
    ")\n",
    "# hm.save(\"../data/main_data/chi2_p0001.png\")\n",
    "hm"
   ]
  },
  {
   "cell_type": "code",
   "execution_count": null,
   "metadata": {},
   "outputs": [],
   "source": []
  }
 ],
 "metadata": {
  "kernelspec": {
   "display_name": ".venv",
   "language": "python",
   "name": "python3"
  },
  "language_info": {
   "codemirror_mode": {
    "name": "ipython",
    "version": 3
   },
   "file_extension": ".py",
   "mimetype": "text/x-python",
   "name": "python",
   "nbconvert_exporter": "python",
   "pygments_lexer": "ipython3",
   "version": "3.11.5"
  },
  "orig_nbformat": 4
 },
 "nbformat": 4,
 "nbformat_minor": 2
}
