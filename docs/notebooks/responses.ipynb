{
 "cells": [
  {
   "cell_type": "markdown",
   "metadata": {},
   "source": [
    "# Responses\n",
    "\n",
    "- 日別の回答数"
   ]
  },
  {
   "cell_type": "code",
   "execution_count": null,
   "metadata": {},
   "outputs": [],
   "source": [
    "import altair as alt\n",
    "import pandas as pd\n",
    "import titanite as ti\n",
    "\n",
    "print(f\"Altair {alt.__version__}\")\n",
    "print(f\"Pandas {pd.__version__}\")\n",
    "print(f\"Titanite {ti.__version__}\")"
   ]
  },
  {
   "cell_type": "code",
   "execution_count": null,
   "metadata": {},
   "outputs": [],
   "source": [
    "f_cfg = \"../../sandbox/config.toml\"\n",
    "f_csv = \"../../data/test_data/prepared_data.csv\"\n",
    "d = ti.Data(read_from=f_csv, load_from=f_cfg)\n",
    "config = d.config()\n",
    "data = d.read()\n",
    "# data\n",
    "# data.info()"
   ]
  },
  {
   "cell_type": "code",
   "execution_count": null,
   "metadata": {},
   "outputs": [],
   "source": [
    "data.index = data[\"timestamp\"]\n",
    "grouped = data.resample(\"D\")[\"response\"].sum().reset_index()"
   ]
  },
  {
   "cell_type": "code",
   "execution_count": null,
   "metadata": {},
   "outputs": [],
   "source": [
    "base = alt.Chart(grouped).encode(\n",
    "    alt.X(\"timestamp\").axis(format=\"%Y-%m-%d\", labelAngle=-90),\n",
    "    alt.Y(\"response\"),    \n",
    ").properties(\n",
    "    width=800,\n",
    "    height=400,\n",
    ")\n",
    "\n",
    "mark = base.mark_bar(width=30)\n",
    "point = base.mark_text(dy=-10).encode(\n",
    "    alt.Text(\"response\"),\n",
    ")\n",
    "\n",
    "mark + point\n"
   ]
  },
  {
   "cell_type": "code",
   "execution_count": null,
   "metadata": {},
   "outputs": [],
   "source": []
  }
 ],
 "metadata": {
  "kernelspec": {
   "display_name": ".venv",
   "language": "python",
   "name": "python3"
  },
  "language_info": {
   "codemirror_mode": {
    "name": "ipython",
    "version": 3
   },
   "file_extension": ".py",
   "mimetype": "text/x-python",
   "name": "python",
   "nbconvert_exporter": "python",
   "pygments_lexer": "ipython3",
   "version": "3.11.5"
  },
  "orig_nbformat": 4
 },
 "nbformat": 4,
 "nbformat_minor": 2
}
