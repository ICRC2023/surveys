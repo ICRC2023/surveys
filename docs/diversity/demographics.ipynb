{
 "cells": [
  {
   "cell_type": "markdown",
   "metadata": {},
   "source": [
    "# Demographics\n",
    "\n",
    "- 回答者の基本属性を確認する\n",
    "  - 1次元\n",
    "  - ヒストグラムと円グラフ"
   ]
  },
  {
   "cell_type": "code",
   "execution_count": null,
   "metadata": {},
   "outputs": [],
   "source": [
    "import altair as alt\n",
    "import pandas as pd\n",
    "import titanite as ti\n",
    "\n",
    "print(f\"Altair {alt.__version__}\")\n",
    "print(f\"Pandas {pd.__version__}\")\n",
    "print(f\"Titanite {ti.__version__}\")"
   ]
  },
  {
   "cell_type": "code",
   "execution_count": null,
   "metadata": {},
   "outputs": [],
   "source": [
    "f_cfg = \"../../sandbox/config.toml\"\n",
    "f_csv = \"../../data/test_data/prepared_data.csv\"\n",
    "d = ti.Data(read_from=f_csv, load_from=f_cfg)\n",
    "config = d.config()\n",
    "data = d.read()\n",
    "# data\n",
    "# data.info()"
   ]
  },
  {
   "cell_type": "code",
   "execution_count": null,
   "metadata": {},
   "outputs": [],
   "source": [
    "def group_data(data: pd.DataFrame, x: str):\n",
    "    # x でグループ化してカウント数を計算する\n",
    "    # | x | response |\n",
    "    v = \"response\"\n",
    "    grouped = data.groupby(x)[v].count().reset_index()\n",
    "    # countの合計を計算して、パーセンテージを計算する\n",
    "    n = grouped[v].sum()\n",
    "    grouped[\"percentage\"] = grouped[v] / n\n",
    "    return grouped\n",
    "\n",
    "\n",
    "def hbar(data: pd.DataFrame, x: str, y: str, w: int, h: int):\n",
    "    tips = list(data.columns)\n",
    "\n",
    "    y_max = data[y].max() + 20\n",
    "\n",
    "    base = (\n",
    "        alt.Chart(data)\n",
    "        .encode(\n",
    "            alt.X(x).axis(labelFontSize=15),\n",
    "            alt.Y(y).axis(labelFontSize=15).scale(domain=[0, y_max]),\n",
    "        )\n",
    "        .properties(\n",
    "            width=w,\n",
    "            height=h,\n",
    "        )\n",
    "    )\n",
    "\n",
    "    mark = base.mark_bar().encode(\n",
    "        alt.Color(x),\n",
    "        # alt.Color(x).scale(scheme=\"set1\"),\n",
    "        alt.Tooltip(tips),\n",
    "    )\n",
    "\n",
    "    text = base.mark_text(dy=-10, size=15).encode(alt.Text(y))\n",
    "\n",
    "    return mark + text\n",
    "\n",
    "\n",
    "def pie(data: pd.DataFrame, x: str, y: str, w: int, h: int):\n",
    "    tips = list(data.columns)\n",
    "\n",
    "    base = (\n",
    "        alt.Chart(data)\n",
    "        .encode(\n",
    "            alt.Theta(y).stack(True),\n",
    "            alt.Color(x),\n",
    "            alt.Order(y),\n",
    "        )\n",
    "        .properties(\n",
    "            width=w,\n",
    "            height=h,\n",
    "        )\n",
    "    )\n",
    "\n",
    "    mark = base.mark_arc(outerRadius=120).encode(\n",
    "        alt.Tooltip(tips),\n",
    "    )\n",
    "\n",
    "    text = base.mark_text(radius=150, size=15).encode(\n",
    "        alt.Text(y).format(\".1%\"),\n",
    "    )\n",
    "\n",
    "    return mark + text"
   ]
  },
  {
   "cell_type": "code",
   "execution_count": null,
   "metadata": {},
   "outputs": [],
   "source": [
    "def check(data: pd.DataFrame, x: str):\n",
    "    w, h = 400, 400\n",
    "    y = \"response\"\n",
    "    grouped = group_data(data, x)\n",
    "    b = hbar(grouped, x, y, w, h)\n",
    "    y = \"percentage\"\n",
    "    p = pie(grouped, x, y, w, h)\n",
    "    return b | p"
   ]
  },
  {
   "cell_type": "code",
   "execution_count": null,
   "metadata": {},
   "outputs": [],
   "source": [
    "check(data, \"q05\")"
   ]
  },
  {
   "cell_type": "code",
   "execution_count": null,
   "metadata": {},
   "outputs": [],
   "source": [
    "def check_all(data: pd.DataFrame, headers: list[str], questions: dict[str, str]):\n",
    "    charts = []\n",
    "    for header in headers:\n",
    "        name = header.split(\"_\")[0]\n",
    "        title = questions.get(name, \"No Title\")\n",
    "        chart = check(data, header).properties(title=title)\n",
    "        charts.append(chart)\n",
    "    return charts"
   ]
  },
  {
   "cell_type": "code",
   "execution_count": null,
   "metadata": {},
   "outputs": [],
   "source": [
    "headers = [\n",
    "    \"q01\",\n",
    "    \"q02\",\n",
    "    \"q03_regional\",\n",
    "    \"q03_subregional\",\n",
    "    \"q04_regional\",\n",
    "    \"q04_subregional\",\n",
    "    \"q05\",\n",
    "    \"q06\",\n",
    "    \"q07\",\n",
    "    \"q08\",\n",
    "    \"q09\",\n",
    "    \"q11\",\n",
    "]\n",
    "\n",
    "questions = config.get(\"questions\", \"No Questions\")"
   ]
  },
  {
   "cell_type": "code",
   "execution_count": null,
   "metadata": {},
   "outputs": [],
   "source": [
    "charts = check_all(data, headers, questions)\n",
    "for chart in charts:\n",
    "    chart.display()"
   ]
  }
 ],
 "metadata": {
  "kernelspec": {
   "display_name": ".venv",
   "language": "python",
   "name": "python3"
  },
  "language_info": {
   "codemirror_mode": {
    "name": "ipython",
    "version": 3
   },
   "file_extension": ".py",
   "mimetype": "text/x-python",
   "name": "python",
   "nbconvert_exporter": "python",
   "pygments_lexer": "ipython3",
   "version": "3.11.5"
  }
 },
 "nbformat": 4,
 "nbformat_minor": 2
}
