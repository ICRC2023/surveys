{
 "cells": [
  {
   "cell_type": "markdown",
   "metadata": {},
   "source": [
    "# Q19. Science Interest\n",
    "\n",
    "## Question\n",
    "\n",
    "When did you first become interested in science ?\n",
    "\n",
    "## Choices\n",
    "\n",
    "1. Pre school\n",
    "2. Elementary school\n",
    "3. Junior High school\n",
    "4. High school\n",
    "5. University\n",
    "6. Others\n",
    "7. Prefer not to answer"
   ]
  },
  {
   "cell_type": "markdown",
   "metadata": {},
   "source": [
    "## Responses"
   ]
  },
  {
   "cell_type": "code",
   "execution_count": null,
   "metadata": {},
   "outputs": [],
   "source": [
    "import pandas as pd\n",
    "import hvplot.pandas\n",
    "import titanite as ti\n",
    "\n",
    "print(f\"Pandas: {pd.__version__}\")\n",
    "print(f\"Titanite: {ti.__version__}\")\n"
   ]
  },
  {
   "cell_type": "code",
   "execution_count": null,
   "metadata": {},
   "outputs": [],
   "source": [
    "f_cfg = \"../../../sandbox/config.toml\"\n",
    "f_csv = \"../../../data/test_data/prepared_data.csv\"\n",
    "d = ti.Data(read_from=f_csv, load_from=f_cfg)\n",
    "config = d.config()\n",
    "data = d.read()\n"
   ]
  },
  {
   "cell_type": "code",
   "execution_count": null,
   "metadata": {},
   "outputs": [],
   "source": [
    "names = [\"q19\"]\n",
    "bd = ti.analysis.breakdowns(data, names)\n",
    "bd.graph.cols(1)\n"
   ]
  },
  {
   "cell_type": "markdown",
   "metadata": {},
   "source": [
    "- 小学校で科学に興味を持つ人が多いようだ\n",
    "- 中学校では少し減って、高校でまた増えている\n",
    "- 大学に入る時点で、科学に興味を持ってもらう必要がありそう"
   ]
  },
  {
   "cell_type": "markdown",
   "metadata": {},
   "source": [
    "## Breakdowns"
   ]
  },
  {
   "cell_type": "code",
   "execution_count": null,
   "metadata": {},
   "outputs": [],
   "source": [
    "names = [\"q19\", \"q02\"]\n",
    "bd = ti.analysis.breakdowns(data, names)\n",
    "bd.graph.cols(1)\n"
   ]
  },
  {
   "cell_type": "markdown",
   "metadata": {},
   "source": [
    "- 男性は``Elementary shool``で興味を持った割合がおおい\n",
    "- 女性は``Elementary`` / ``Junior High`` / ``High`` でフラットな印象"
   ]
  },
  {
   "cell_type": "code",
   "execution_count": null,
   "metadata": {},
   "outputs": [],
   "source": [
    "names = [\"q19\", \"q04_regional\"]\n",
    "bd = ti.analysis.breakdowns(data, names)\n",
    "bd.graph.cols(1)\n"
   ]
  },
  {
   "cell_type": "markdown",
   "metadata": {},
   "source": [
    "- ``Hometown``別に集計した（``Workplace``より``Hometown``で確認するほうが適切なはず）\n",
    "- ``Asia`` / ``America`` は ``Elementary shool``で科学に興味をもった割合が多い\n",
    "- ``Europe``はフラット\n",
    "- 地域差がある？"
   ]
  },
  {
   "cell_type": "code",
   "execution_count": null,
   "metadata": {},
   "outputs": [],
   "source": [
    "names = [\"q19\", \"q05\"]\n",
    "bd = ti.analysis.breakdowns(data, names)\n",
    "bd.graph.cols(1)\n"
   ]
  },
  {
   "cell_type": "markdown",
   "metadata": {},
   "source": [
    "- ``Elementary shool``で興味をもった割合が（やはり）おおい\n",
    "- ``Permanent Staff`` / ``Doctrate`` は ``High school``で興味をもった割合も大きい"
   ]
  },
  {
   "cell_type": "code",
   "execution_count": null,
   "metadata": {},
   "outputs": [],
   "source": [
    "names = [\"q19\", \"q06\"]\n",
    "bd = ti.analysis.breakdowns(data, names)\n",
    "bd.graph.cols(1)\n"
   ]
  },
  {
   "cell_type": "markdown",
   "metadata": {},
   "source": [
    "- ``NU`` / ``GA`` 分野は ``Elementary school``で興味を持った割合がおおい"
   ]
  },
  {
   "cell_type": "code",
   "execution_count": null,
   "metadata": {},
   "outputs": [],
   "source": [
    "names = [\"q19\", \"q07\"]\n",
    "bd = ti.analysis.breakdowns(data, names)\n",
    "bd.graph.cols(1)\n"
   ]
  },
  {
   "cell_type": "code",
   "execution_count": null,
   "metadata": {},
   "outputs": [],
   "source": [
    "names = [\"q19\", \"q08\"]\n",
    "bd = ti.analysis.breakdowns(data, names)\n",
    "bd.graph.cols(1)\n"
   ]
  },
  {
   "cell_type": "code",
   "execution_count": null,
   "metadata": {},
   "outputs": [],
   "source": [
    "names = [\"q19\", \"q09\"]\n",
    "bd = ti.analysis.breakdowns(data, names)\n",
    "bd.graph.cols(1)\n"
   ]
  },
  {
   "cell_type": "code",
   "execution_count": null,
   "metadata": {},
   "outputs": [],
   "source": [
    "names = [\"q19\", \"q11\"]\n",
    "bd = ti.analysis.breakdowns(data, names)\n",
    "bd.graph.cols(1)\n"
   ]
  },
  {
   "cell_type": "markdown",
   "metadata": {},
   "source": []
  }
 ],
 "metadata": {
  "kernelspec": {
   "display_name": ".venv",
   "language": "python",
   "name": "python3"
  },
  "language_info": {
   "codemirror_mode": {
    "name": "ipython",
    "version": 3
   },
   "file_extension": ".py",
   "mimetype": "text/x-python",
   "name": "python",
   "nbconvert_exporter": "python",
   "pygments_lexer": "ipython3",
   "version": "3.11.9"
  }
 },
 "nbformat": 4,
 "nbformat_minor": 2
}
