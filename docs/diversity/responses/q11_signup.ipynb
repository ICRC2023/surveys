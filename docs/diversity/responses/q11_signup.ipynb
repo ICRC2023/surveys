{
 "cells": [
  {
   "cell_type": "markdown",
   "metadata": {},
   "source": [
    "# Q11. Diversity Session Signup\n",
    "\n",
    "## Question\n",
    "\n",
    "Did you already sign up for the diversity session in ICRC2023?\n",
    "\n",
    "## Choices\n",
    "\n",
    "1. Yes\n",
    "2. No\n",
    "3. Prefer not to answer"
   ]
  },
  {
   "cell_type": "markdown",
   "metadata": {},
   "source": [
    "## Responses"
   ]
  },
  {
   "cell_type": "code",
   "execution_count": null,
   "metadata": {},
   "outputs": [],
   "source": [
    "import pandas as pd\n",
    "import hvplot.pandas\n",
    "import titanite as ti\n",
    "\n",
    "print(f\"Pandas: {pd.__version__}\")\n",
    "print(f\"Titanite: {ti.__version__}\")\n"
   ]
  },
  {
   "cell_type": "code",
   "execution_count": null,
   "metadata": {},
   "outputs": [],
   "source": [
    "f_cfg = \"../../../sandbox/config.toml\"\n",
    "f_csv = \"../../../data/test_data/prepared_data.csv\"\n",
    "d = ti.Data(read_from=f_csv, load_from=f_cfg)\n",
    "config = d.config()\n",
    "data = d.read()\n"
   ]
  },
  {
   "cell_type": "code",
   "execution_count": null,
   "metadata": {},
   "outputs": [],
   "source": [
    "names = [\"q11\"]\n",
    "bd = ti.analysis.breakdowns(data, names)\n",
    "bd.graph.cols(1)\n"
   ]
  },
  {
   "cell_type": "markdown",
   "metadata": {},
   "source": [
    "事前アンケートに協力してくれる\n",
    "= Diversityの取り組みへの関心度が高い\n",
    "= Diversity Sessionに参加する\n",
    "\n",
    "と想定していた。\n",
    "\n",
    "Diversity Sessionに参加しない多くの方が回答してくれた。"
   ]
  },
  {
   "cell_type": "markdown",
   "metadata": {},
   "source": [
    "### Breakdowns"
   ]
  },
  {
   "cell_type": "code",
   "execution_count": null,
   "metadata": {},
   "outputs": [],
   "source": [
    "names = [\"q11\", \"q02\"]\n",
    "bd = ti.analysis.breakdowns(data, names)\n",
    "bd.graph.cols(1)\n"
   ]
  },
  {
   "cell_type": "code",
   "execution_count": null,
   "metadata": {},
   "outputs": [],
   "source": [
    "names = [\"q11\", \"q03_regional\"]\n",
    "bd = ti.analysis.breakdowns(data, names)\n",
    "bd.graph.cols(1)\n"
   ]
  },
  {
   "cell_type": "code",
   "execution_count": null,
   "metadata": {},
   "outputs": [],
   "source": [
    "names = [\"q11\", \"q05\"]\n",
    "bd = ti.analysis.breakdowns(data, names)\n",
    "bd.graph.cols(1)\n"
   ]
  },
  {
   "cell_type": "code",
   "execution_count": null,
   "metadata": {},
   "outputs": [],
   "source": [
    "names = [\"q11\", \"q06\"]\n",
    "bd = ti.analysis.breakdowns(data, names)\n",
    "bd.graph.cols(1)\n"
   ]
  },
  {
   "cell_type": "markdown",
   "metadata": {},
   "source": [
    "### Gender Balance\n",
    "\n",
    "- `Q11. singup`したかどうかと、`Q17`（個人の賛否）は関係がありそう"
   ]
  },
  {
   "cell_type": "code",
   "execution_count": null,
   "metadata": {},
   "outputs": [],
   "source": [
    "names = [\"q11\", \"q12_genderbalance\"]\n",
    "bd = ti.analysis.breakdowns(data, names)\n",
    "bd.graph.cols(1)\n"
   ]
  },
  {
   "cell_type": "code",
   "execution_count": null,
   "metadata": {},
   "outputs": [],
   "source": [
    "names = [\"q11\", \"q17_genderbalance\"]\n",
    "bd = ti.analysis.breakdowns(data, names)\n",
    "bd.graph.cols(1)\n"
   ]
  },
  {
   "cell_type": "markdown",
   "metadata": {},
   "source": [
    "### Diversity"
   ]
  },
  {
   "cell_type": "code",
   "execution_count": null,
   "metadata": {},
   "outputs": [],
   "source": [
    "names = [\"q11\", \"q12_diversity\"]\n",
    "bd = ti.analysis.breakdowns(data, names)\n",
    "bd.graph.cols(1)\n"
   ]
  },
  {
   "cell_type": "code",
   "execution_count": null,
   "metadata": {},
   "outputs": [],
   "source": [
    "names = [\"q11\", \"q17_diversity\"]\n",
    "bd = ti.analysis.breakdowns(data, names)\n",
    "bd.graph.cols(1)\n"
   ]
  },
  {
   "cell_type": "markdown",
   "metadata": {},
   "source": [
    "### Equity"
   ]
  },
  {
   "cell_type": "code",
   "execution_count": null,
   "metadata": {},
   "outputs": [],
   "source": [
    "names = [\"q11\", \"q12_equity\"]\n",
    "bd = ti.analysis.breakdowns(data, names)\n",
    "bd.graph.cols(1)\n"
   ]
  },
  {
   "cell_type": "code",
   "execution_count": null,
   "metadata": {},
   "outputs": [],
   "source": [
    "names = [\"q11\", \"q17_equity\"]\n",
    "bd = ti.analysis.breakdowns(data, names)\n",
    "bd.graph.cols(1)\n"
   ]
  },
  {
   "cell_type": "markdown",
   "metadata": {},
   "source": [
    "### Inclusion"
   ]
  },
  {
   "cell_type": "code",
   "execution_count": null,
   "metadata": {},
   "outputs": [],
   "source": [
    "names = [\"q11\", \"q12_inclusion\"]\n",
    "bd = ti.analysis.breakdowns(data, names)\n",
    "bd.graph.cols(1)\n"
   ]
  },
  {
   "cell_type": "code",
   "execution_count": null,
   "metadata": {},
   "outputs": [],
   "source": [
    "names = [\"q11\", \"q17_inclusion\"]\n",
    "bd = ti.analysis.breakdowns(data, names)\n",
    "bd.graph.cols(1)\n"
   ]
  }
 ],
 "metadata": {
  "kernelspec": {
   "display_name": ".venv",
   "language": "python",
   "name": "python3"
  },
  "language_info": {
   "codemirror_mode": {
    "name": "ipython",
    "version": 3
   },
   "file_extension": ".py",
   "mimetype": "text/x-python",
   "name": "python",
   "nbconvert_exporter": "python",
   "pygments_lexer": "ipython3",
   "version": "3.11.9"
  }
 },
 "nbformat": 4,
 "nbformat_minor": 2
}
