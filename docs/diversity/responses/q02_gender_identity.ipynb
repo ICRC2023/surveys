{
 "cells": [
  {
   "cell_type": "markdown",
   "metadata": {},
   "source": [
    "# Q02. Gender Identity\n",
    "\n",
    "## Question\n",
    "\n",
    "What gender do you identify as?\n",
    "\n",
    "## Choices\n",
    "\n",
    "1. Female\n",
    "2. Make\n",
    "3. Non-binary\n",
    "4. Prefer to self-identify\n",
    "5. Prefer not to answer"
   ]
  },
  {
   "cell_type": "markdown",
   "metadata": {},
   "source": [
    "## Responses"
   ]
  },
  {
   "cell_type": "code",
   "execution_count": null,
   "metadata": {},
   "outputs": [],
   "source": [
    "import pandas as pd\n",
    "import hvplot.pandas\n",
    "import titanite as ti\n",
    "\n",
    "print(f\"Pandas: {pd.__version__}\")\n",
    "print(f\"Titanite: {ti.__version__}\")\n"
   ]
  },
  {
   "cell_type": "code",
   "execution_count": null,
   "metadata": {},
   "outputs": [],
   "source": [
    "f_cfg = \"../../../sandbox/config.toml\"\n",
    "f_csv = \"../../../data/test_data/prepared_data.csv\"\n",
    "d = ti.Data(read_from=f_csv, load_from=f_cfg)\n",
    "config = d.config()\n",
    "data = d.read()\n"
   ]
  },
  {
   "cell_type": "code",
   "execution_count": null,
   "metadata": {},
   "outputs": [],
   "source": [
    "names = [\"q02\"]\n",
    "bd = ti.analysis.breakdowns(data, names)\n",
    "bd.graph.cols(1)\n"
   ]
  },
  {
   "cell_type": "markdown",
   "metadata": {},
   "source": [
    "## Breakdowns"
   ]
  },
  {
   "cell_type": "code",
   "execution_count": null,
   "metadata": {},
   "outputs": [],
   "source": [
    "names = [\"q02\", \"q03_regional\"]\n",
    "bd = ti.analysis.breakdowns(data, names)\n",
    "bd.graph.cols(1)\n"
   ]
  },
  {
   "cell_type": "code",
   "execution_count": null,
   "metadata": {},
   "outputs": [],
   "source": [
    "names = [\"q02\", \"q05\"]\n",
    "bd = ti.analysis.breakdowns(data, names)\n",
    "bd.graph.cols(1)\n"
   ]
  },
  {
   "cell_type": "code",
   "execution_count": null,
   "metadata": {},
   "outputs": [],
   "source": [
    "names = [\"q02\", \"q06\"]\n",
    "bd = ti.analysis.breakdowns(data, names)\n",
    "bd.graph.cols(1)\n"
   ]
  },
  {
   "cell_type": "markdown",
   "metadata": {},
   "source": [
    "- 男性は分野ごとにばらつきがある\n",
    "- 女性は割とフラット\n",
    "- "
   ]
  },
  {
   "cell_type": "code",
   "execution_count": null,
   "metadata": {},
   "outputs": [],
   "source": [
    "names = [\"q02\", \"q07\"]\n",
    "bd = ti.analysis.breakdowns(data, names)\n",
    "bd.graph.cols(1)\n"
   ]
  },
  {
   "cell_type": "code",
   "execution_count": null,
   "metadata": {},
   "outputs": [],
   "source": [
    "names = [\"q02\", \"q08\"]\n",
    "bd = ti.analysis.breakdowns(data, names)\n",
    "bd.graph.cols(1)\n"
   ]
  },
  {
   "cell_type": "code",
   "execution_count": null,
   "metadata": {},
   "outputs": [],
   "source": [
    "names = [\"q02\", \"q09\"]\n",
    "bd = ti.analysis.breakdowns(data, names)\n",
    "bd.graph.cols(1)\n"
   ]
  },
  {
   "cell_type": "code",
   "execution_count": null,
   "metadata": {},
   "outputs": [],
   "source": [
    "names = [\"q02\", \"q11\"]\n",
    "bd = ti.analysis.breakdowns(data, names)\n",
    "bd.graph.cols(1)\n"
   ]
  },
  {
   "cell_type": "code",
   "execution_count": null,
   "metadata": {},
   "outputs": [],
   "source": [
    "names = [\"q02\", \"q12_genderbalance\"]\n",
    "bd = ti.analysis.breakdowns(data, names)\n",
    "bd.graph.cols(1)\n"
   ]
  },
  {
   "cell_type": "markdown",
   "metadata": {},
   "source": []
  }
 ],
 "metadata": {
  "kernelspec": {
   "display_name": ".venv",
   "language": "python",
   "name": "python3"
  },
  "language_info": {
   "codemirror_mode": {
    "name": "ipython",
    "version": 3
   },
   "file_extension": ".py",
   "mimetype": "text/x-python",
   "name": "python",
   "nbconvert_exporter": "python",
   "pygments_lexer": "ipython3",
   "version": "3.11.9"
  }
 },
 "nbformat": 4,
 "nbformat_minor": 2
}
