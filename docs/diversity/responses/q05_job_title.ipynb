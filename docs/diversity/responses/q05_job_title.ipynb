{
 "cells": [
  {
   "cell_type": "markdown",
   "metadata": {},
   "source": [
    "# Q05. Job Title\n",
    "\n",
    "## Question\n",
    "\n",
    "What is your job title?\n",
    "\n",
    "## Choices\n",
    "\n",
    "1. Undergraduate\n",
    "2. Master\n",
    "3. Doctrate\n",
    "4. Postdoc\n",
    "5. Fixed-term staff\n",
    "6. Permanent staff\n",
    "7. Prefer not to answer"
   ]
  },
  {
   "cell_type": "markdown",
   "metadata": {},
   "source": [
    "## Responses"
   ]
  },
  {
   "cell_type": "code",
   "execution_count": null,
   "metadata": {},
   "outputs": [],
   "source": [
    "import pandas as pd\n",
    "import hvplot.pandas\n",
    "import titanite as ti\n",
    "\n",
    "print(f\"Pandas: {pd.__version__}\")\n",
    "print(f\"Titanite: {ti.__version__}\")"
   ]
  },
  {
   "cell_type": "code",
   "execution_count": null,
   "metadata": {},
   "outputs": [],
   "source": [
    "f_cfg = \"../../../sandbox/config.toml\"\n",
    "f_csv = \"../../../data/test_data/prepared_data.csv\"\n",
    "d = ti.Data(read_from=f_csv, load_from=f_cfg)\n",
    "config = d.config()\n",
    "data = d.read()"
   ]
  },
  {
   "cell_type": "code",
   "execution_count": null,
   "metadata": {},
   "outputs": [],
   "source": [
    "names = [\"q05\"]\n",
    "bd = ti.analysis.breakdowns(data, names)\n",
    "bd.graph.cols(1)"
   ]
  },
  {
   "cell_type": "markdown",
   "metadata": {},
   "source": [
    "## Breakdowns"
   ]
  },
  {
   "cell_type": "code",
   "execution_count": null,
   "metadata": {},
   "outputs": [],
   "source": [
    "names = [\"q05\", \"q02\"]\n",
    "bd = ti.analysis.breakdowns(data, names)\n",
    "bd.graph.cols(1)"
   ]
  },
  {
   "cell_type": "code",
   "execution_count": null,
   "metadata": {},
   "outputs": [],
   "source": [
    "names = [\"q05\", \"q03_regional\"]\n",
    "bd = ti.analysis.breakdowns(data, names)\n",
    "bd.graph.cols(1)"
   ]
  },
  {
   "cell_type": "code",
   "execution_count": null,
   "metadata": {},
   "outputs": [],
   "source": [
    "names = [\"q05\", \"q06\"]\n",
    "bd = ti.analysis.breakdowns(data, names, width=2000)\n",
    "bd.graph.cols(1)"
   ]
  },
  {
   "cell_type": "code",
   "execution_count": null,
   "metadata": {},
   "outputs": [],
   "source": [
    "names = [\"q05\", \"q07\"]\n",
    "bd = ti.analysis.breakdowns(data, names)\n",
    "bd.graph.cols(1)"
   ]
  },
  {
   "cell_type": "code",
   "execution_count": null,
   "metadata": {},
   "outputs": [],
   "source": [
    "names = [\"q05\", \"q09\"]\n",
    "bd = ti.analysis.breakdowns(data, names)\n",
    "bd.graph.cols(1)"
   ]
  },
  {
   "cell_type": "markdown",
   "metadata": {},
   "source": [
    "- 職種別の`Yes`と`No`の比率（``Yes/No``）を考えると``Fixed-term``（任期付き）が最小になる\n",
    "- 任期付のポジションに地域差はない　→　どの地域も大変ということが感じられる"
   ]
  },
  {
   "cell_type": "code",
   "execution_count": null,
   "metadata": {},
   "outputs": [],
   "source": [
    "names = [\"q05\", \"q11\"]\n",
    "bd = ti.analysis.breakdowns(data, names)\n",
    "bd.graph.cols(1)"
   ]
  },
  {
   "cell_type": "markdown",
   "metadata": {},
   "source": [
    "### Gender Balance\n",
    "\n",
    "- Q12. Group\n",
    "- Q17. Individual"
   ]
  },
  {
   "cell_type": "code",
   "execution_count": null,
   "metadata": {},
   "outputs": [],
   "source": [
    "names = [\"q05\", \"q12_genderbalance\"]\n",
    "bd = ti.analysis.breakdowns(data, names)\n",
    "bd.graph.cols(1)"
   ]
  },
  {
   "cell_type": "code",
   "execution_count": null,
   "metadata": {},
   "outputs": [],
   "source": [
    "names = [\"q05\", \"q17_genderbalance\"]\n",
    "bd = ti.analysis.breakdowns(data, names)\n",
    "bd.graph.cols(1)"
   ]
  },
  {
   "cell_type": "markdown",
   "metadata": {},
   "source": [
    "- グループの取り組みは、``Good``が多い、ついで、``Poor``\n",
    "  - `Fixed-term`の方は、``Good/Poor``の比率が、他の職種より大きい\n",
    "- 個人的にも、Gender Balanceの取り組みに``Agree``の方がおおい\n",
    "  - `Permanent Staff`の方は``Disagree``の回答数が相対的におおい？"
   ]
  },
  {
   "cell_type": "markdown",
   "metadata": {},
   "source": [
    "### Diversity"
   ]
  },
  {
   "cell_type": "code",
   "execution_count": null,
   "metadata": {},
   "outputs": [],
   "source": [
    "names = [\"q05\", \"q12_diversity\"]\n",
    "bd = ti.analysis.breakdowns(data, names)\n",
    "bd.graph.cols(1)"
   ]
  },
  {
   "cell_type": "code",
   "execution_count": null,
   "metadata": {},
   "outputs": [],
   "source": [
    "names = [\"q05\", \"q17_diversity\"]\n",
    "bd = ti.analysis.breakdowns(data, names)\n",
    "bd.graph.cols(1)"
   ]
  },
  {
   "cell_type": "markdown",
   "metadata": {},
   "source": [
    "### Equity"
   ]
  },
  {
   "cell_type": "code",
   "execution_count": null,
   "metadata": {},
   "outputs": [],
   "source": [
    "names = [\"q05\", \"q12_equity\"]\n",
    "bd = ti.analysis.breakdowns(data, names)\n",
    "bd.graph.cols(1)"
   ]
  },
  {
   "cell_type": "code",
   "execution_count": null,
   "metadata": {},
   "outputs": [],
   "source": [
    "names = [\"q05\", \"q17_equity\"]\n",
    "bd = ti.analysis.breakdowns(data, names)\n",
    "bd.graph.cols(1)"
   ]
  },
  {
   "cell_type": "markdown",
   "metadata": {},
   "source": [
    "### Inclusion"
   ]
  },
  {
   "cell_type": "code",
   "execution_count": null,
   "metadata": {},
   "outputs": [],
   "source": [
    "names = [\"q05\", \"q12_inclusion\"]\n",
    "bd = ti.analysis.breakdowns(data, names)\n",
    "bd.graph.cols(1)"
   ]
  },
  {
   "cell_type": "code",
   "execution_count": null,
   "metadata": {},
   "outputs": [],
   "source": [
    "names = [\"q05\", \"q17_inclusion\"]\n",
    "bd = ti.analysis.breakdowns(data, names)\n",
    "bd.graph.cols(1)"
   ]
  },
  {
   "cell_type": "markdown",
   "metadata": {},
   "source": [
    "- DEIの取り組みに関する個人の印象を聞いた\n",
    "  - Gender Balance / Diversity は Disagree と表明する人が少しいる\n",
    "  - Equity  / Inclusion はDisagree があまりいない？"
   ]
  },
  {
   "cell_type": "markdown",
   "metadata": {},
   "source": []
  }
 ],
 "metadata": {
  "kernelspec": {
   "display_name": ".venv",
   "language": "python",
   "name": "python3"
  },
  "language_info": {
   "codemirror_mode": {
    "name": "ipython",
    "version": 3
   },
   "file_extension": ".py",
   "mimetype": "text/x-python",
   "name": "python",
   "nbconvert_exporter": "python",
   "pygments_lexer": "ipython3",
   "version": "3.11.9"
  }
 },
 "nbformat": 4,
 "nbformat_minor": 2
}
