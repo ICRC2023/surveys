{
 "cells": [
  {
   "cell_type": "markdown",
   "metadata": {},
   "source": [
    "# Q12. Group Initiatives on DE&I\n",
    "\n",
    "## Question\n",
    "\n",
    "What do you think about the initiatives on DE&I of your group?\n",
    "\n",
    "## Choices\n",
    "\n",
    "| | Very Good | Good | Poor | Very Poor | No interest | Prefer no to answer |\n",
    "|---|---|---|---|---|---|---|\n",
    "| Gender Balance | | | | | | |\n",
    "| Diversity | | | | | | |\n",
    "| Equity | | | | | | |\n",
    "| Inclusion | | | | | | |\n",
    "\n",
    ":::{note}\n",
    "\n",
    "きちんとリッカートスケールで聞いた方がよかったかもしれない。\n",
    "\n",
    ":::"
   ]
  },
  {
   "cell_type": "markdown",
   "metadata": {},
   "source": [
    "## Responses"
   ]
  },
  {
   "cell_type": "code",
   "execution_count": null,
   "metadata": {},
   "outputs": [],
   "source": [
    "import pandas as pd\n",
    "import hvplot.pandas\n",
    "import titanite as ti\n",
    "\n",
    "print(f\"Pandas: {pd.__version__}\")\n",
    "print(f\"Titanite: {ti.__version__}\")\n"
   ]
  },
  {
   "cell_type": "code",
   "execution_count": null,
   "metadata": {},
   "outputs": [],
   "source": [
    "f_cfg = \"../../../sandbox/config.toml\"\n",
    "f_csv = \"../../../data/test_data/prepared_data.csv\"\n",
    "d = ti.Data(read_from=f_csv, load_from=f_cfg)\n",
    "config = d.config()\n",
    "data = d.read()\n"
   ]
  },
  {
   "cell_type": "code",
   "execution_count": null,
   "metadata": {},
   "outputs": [],
   "source": [
    "names = [\"q12_genderbalance\"]\n",
    "bd = ti.analysis.breakdowns(data, names)\n",
    "bd.graph.cols(1)\n"
   ]
  },
  {
   "cell_type": "code",
   "execution_count": null,
   "metadata": {},
   "outputs": [],
   "source": [
    "names = [\"q12_diversity\"]\n",
    "bd = ti.analysis.breakdowns(data, names)\n",
    "bd.graph.cols(1)\n"
   ]
  },
  {
   "cell_type": "code",
   "execution_count": null,
   "metadata": {},
   "outputs": [],
   "source": [
    "names = [\"q12_equity\"]\n",
    "bd = ti.analysis.breakdowns(data, names)\n",
    "bd.graph.cols(1)\n"
   ]
  },
  {
   "cell_type": "code",
   "execution_count": null,
   "metadata": {},
   "outputs": [],
   "source": [
    "names = [\"q12_inclusion\"]\n",
    "bd = ti.analysis.breakdowns(data, names)\n",
    "bd.graph.cols(1)\n"
   ]
  },
  {
   "cell_type": "markdown",
   "metadata": {},
   "source": [
    "### Breakdowns"
   ]
  },
  {
   "cell_type": "code",
   "execution_count": null,
   "metadata": {},
   "outputs": [],
   "source": [
    "copied = data.copy()\n",
    "# copied.info()\n"
   ]
  },
  {
   "cell_type": "code",
   "execution_count": null,
   "metadata": {},
   "outputs": [],
   "source": [
    "x = \"q12_genderbalance\"\n",
    "y = \"q17_genderbalance\"\n",
    "\n",
    "xlabel = ti.analysis.TITLES.get(x)\n",
    "ylabel = ti.analysis.TITLES.get(y)\n",
    "\n",
    "pd.crosstab(data[x], data[y]).T.hvplot.heatmap(\n",
    "    width=600,\n",
    "    height=600,\n",
    "    rot=90,\n",
    "    xlabel=xlabel,\n",
    "    ylabel=ylabel,\n",
    ")\n"
   ]
  },
  {
   "cell_type": "code",
   "execution_count": null,
   "metadata": {},
   "outputs": [],
   "source": [
    "x = \"q12_diversity\"\n",
    "y = \"q17_diversity\"\n",
    "\n",
    "xlabel = ti.analysis.TITLES.get(x)\n",
    "ylabel = ti.analysis.TITLES.get(y)\n",
    "\n",
    "pd.crosstab(data[x], data[y]).T.hvplot.heatmap(\n",
    "    width=600,\n",
    "    height=600,\n",
    "    rot=90,\n",
    "    xlabel=xlabel,\n",
    "    ylabel=ylabel,\n",
    ")\n"
   ]
  },
  {
   "cell_type": "code",
   "execution_count": null,
   "metadata": {},
   "outputs": [],
   "source": [
    "x = \"q12_equity\"\n",
    "y = \"q17_equity\"\n",
    "\n",
    "xlabel = ti.analysis.TITLES.get(x)\n",
    "ylabel = ti.analysis.TITLES.get(y)\n",
    "\n",
    "pd.crosstab(data[x], data[y]).T.hvplot.heatmap(\n",
    "    width=600,\n",
    "    height=600,\n",
    "    rot=90,\n",
    "    xlabel=xlabel,\n",
    "    ylabel=ylabel,\n",
    ")\n"
   ]
  },
  {
   "cell_type": "code",
   "execution_count": null,
   "metadata": {},
   "outputs": [],
   "source": [
    "x = \"q12_inclusion\"\n",
    "y = \"q17_inclusion\"\n",
    "\n",
    "xlabel = ti.analysis.TITLES.get(x)\n",
    "ylabel = ti.analysis.TITLES.get(y)\n",
    "\n",
    "pd.crosstab(data[x], data[y]).T.hvplot.heatmap(\n",
    "    width=600,\n",
    "    height=600,\n",
    "    rot=90,\n",
    "    xlabel=xlabel,\n",
    "    ylabel=ylabel,\n",
    ")\n"
   ]
  },
  {
   "cell_type": "code",
   "execution_count": null,
   "metadata": {},
   "outputs": [],
   "source": []
  }
 ],
 "metadata": {
  "kernelspec": {
   "display_name": ".venv",
   "language": "python",
   "name": "python3"
  },
  "language_info": {
   "codemirror_mode": {
    "name": "ipython",
    "version": 3
   },
   "file_extension": ".py",
   "mimetype": "text/x-python",
   "name": "python",
   "nbconvert_exporter": "python",
   "pygments_lexer": "ipython3",
   "version": "3.11.9"
  }
 },
 "nbformat": 4,
 "nbformat_minor": 2
}
