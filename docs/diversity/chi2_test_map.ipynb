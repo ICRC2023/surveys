{
 "cells": [
  {
   "cell_type": "markdown",
   "metadata": {},
   "source": [
    "# Chi2 Test\n",
    "\n",
    "- カテゴリカル変数に対してカイ二乗検定した\n",
    "- その結果をヒートマップにした"
   ]
  },
  {
   "cell_type": "code",
   "execution_count": null,
   "metadata": {},
   "outputs": [],
   "source": [
    "import altair as alt\n",
    "import pandas as pd\n",
    "from pathlib import Path"
   ]
  },
  {
   "cell_type": "code",
   "execution_count": null,
   "metadata": {},
   "outputs": [],
   "source": [
    "f_chi2 = \"../../data/test_data/chi2_test/chi2_test.csv\"\n",
    "# f_p005 = \"../../data/test_data/chi2_test/chi2_test_p005.csv\""
   ]
  },
  {
   "cell_type": "code",
   "execution_count": null,
   "metadata": {},
   "outputs": [],
   "source": [
    "chi2_data = pd.read_csv(f_chi2)\n",
    "# p005_data = pd.read_csv(f_p005)\n",
    "# chi2_data"
   ]
  },
  {
   "cell_type": "code",
   "execution_count": null,
   "metadata": {},
   "outputs": [],
   "source": [
    "def hmap(data: pd.DataFrame, scheme: str, p_limit: float):\n",
    "    q = f\"p_value < {p_limit}\"\n",
    "    queried = data.query(q).copy()\n",
    "    tips = list(queried.columns)\n",
    "    mark = (\n",
    "        alt.Chart(queried)\n",
    "        .mark_rect()\n",
    "        .encode(\n",
    "            alt.X(\"x\"),\n",
    "            alt.Y(\"y\"),\n",
    "            alt.Color(\"p_value\").scale(\n",
    "                domain=[0, p_limit], scheme=scheme, reverse=True\n",
    "            ),\n",
    "            alt.Tooltip(tips),\n",
    "        )\n",
    "    )\n",
    "    return mark"
   ]
  },
  {
   "cell_type": "markdown",
   "metadata": {},
   "source": [
    "All"
   ]
  },
  {
   "cell_type": "code",
   "execution_count": null,
   "metadata": {},
   "outputs": [],
   "source": [
    "p_limit = 1\n",
    "scheme = \"blues\"\n",
    "hm = hmap(chi2_data, scheme, p_limit)\n",
    "hm\n",
    "# fname = Path(\"../data/main_data/\") / \"chi2.png\"\n",
    "# hm.save(fname)\n",
    "# print(f\"Save chart to: {fname}\")"
   ]
  },
  {
   "cell_type": "markdown",
   "metadata": {},
   "source": [
    "When ``p < 0.05``"
   ]
  },
  {
   "cell_type": "code",
   "execution_count": null,
   "metadata": {},
   "outputs": [],
   "source": [
    "p_limit = 0.05\n",
    "scheme = \"blues\"\n",
    "hm = hmap(chi2_data, scheme, p_limit)\n",
    "hm\n",
    "\n",
    "# fname = Path(\"../data/main_data/\") / f\"chi2_p0050.png\"\n",
    "# hm.save(fname)\n",
    "# print(f\"Save chart to: {fname}\")"
   ]
  },
  {
   "cell_type": "markdown",
   "metadata": {},
   "source": [
    "When ``p < 0.01``"
   ]
  },
  {
   "cell_type": "code",
   "execution_count": null,
   "metadata": {},
   "outputs": [],
   "source": [
    "p_limit = 0.01\n",
    "scheme = \"greens\"\n",
    "hm = hmap(chi2_data, scheme, p_limit)\n",
    "hm\n",
    "\n",
    "# fname = Path(\"../data/main_data/\") / f\"chi2_p0010.png\"\n",
    "# hm.save(fname)\n",
    "# print(f\"Save chart to: {fname}\")"
   ]
  },
  {
   "cell_type": "markdown",
   "metadata": {},
   "source": [
    "When ``p < 0.005``"
   ]
  },
  {
   "cell_type": "code",
   "execution_count": null,
   "metadata": {},
   "outputs": [],
   "source": [
    "p_limit = 0.005\n",
    "scheme = \"oranges\"\n",
    "hm = hmap(chi2_data, scheme, p_limit)\n",
    "hm\n",
    "\n",
    "# fname = Path(\"../data/main_data/\") / f\"chi2_p0005.png\"\n",
    "# hm.save(fname)\n",
    "# print(f\"Save chart to: {fname}\")"
   ]
  },
  {
   "cell_type": "markdown",
   "metadata": {},
   "source": [
    "When `p < 0.001`"
   ]
  },
  {
   "cell_type": "code",
   "execution_count": null,
   "metadata": {},
   "outputs": [],
   "source": [
    "p_limit = 0.001\n",
    "scheme = \"purples\"\n",
    "hm = hmap(chi2_data, scheme, p_limit)\n",
    "hm\n",
    "\n",
    "# fname = Path(\"../data/main_data/\") / f\"chi2_p0001.png\"\n",
    "# hm.save(fname)\n",
    "# print(f\"Save chart to: {fname}\")"
   ]
  }
 ],
 "metadata": {
  "kernelspec": {
   "display_name": ".venv",
   "language": "python",
   "name": "python3"
  },
  "language_info": {
   "codemirror_mode": {
    "name": "ipython",
    "version": 3
   },
   "file_extension": ".py",
   "mimetype": "text/x-python",
   "name": "python",
   "nbconvert_exporter": "python",
   "pygments_lexer": "ipython3",
   "version": "3.11.5"
  },
  "orig_nbformat": 4
 },
 "nbformat": 4,
 "nbformat_minor": 2
}
