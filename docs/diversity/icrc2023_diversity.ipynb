{
 "cells": [
  {
   "cell_type": "markdown",
   "metadata": {},
   "source": [
    "# Plots for the ICRC2023 Diversity Session\n",
    "\n",
    "- Making plots for ICRC2023 Diversity Session"
   ]
  },
  {
   "cell_type": "code",
   "execution_count": null,
   "metadata": {},
   "outputs": [],
   "source": [
    "import altair as alt\n",
    "import pandas as pd\n",
    "import titanite as ti\n",
    "\n",
    "print(f\"Altair {alt.__version__}\")\n",
    "print(f\"Pandas {pd.__version__}\")\n",
    "print(f\"Titanite {ti.__version__}\")"
   ]
  },
  {
   "cell_type": "markdown",
   "metadata": {},
   "source": [
    "Read data"
   ]
  },
  {
   "cell_type": "code",
   "execution_count": null,
   "metadata": {},
   "outputs": [],
   "source": [
    "f_cfg = \"../../sandbox/config.toml\"\n",
    "f_csv = \"../../data/test_data/prepared_data.csv\"\n",
    "d = ti.Data(read_from=f_csv, load_from=f_cfg)\n",
    "config = d.config()\n",
    "data = d.read()\n",
    "# data"
   ]
  },
  {
   "cell_type": "markdown",
   "metadata": {},
   "source": [
    "`q13` の不要な値を削除する"
   ]
  },
  {
   "cell_type": "code",
   "execution_count": null,
   "metadata": {},
   "outputs": [],
   "source": [
    "q = \"q13 >= 0\"\n",
    "q13_data = data.query(q)"
   ]
  },
  {
   "cell_type": "markdown",
   "metadata": {},
   "source": [
    "Check correlation with `q13` and `q14`"
   ]
  },
  {
   "cell_type": "code",
   "execution_count": null,
   "metadata": {},
   "outputs": [],
   "source": [
    "def heatmap(data: pd.DataFrame, x: str, y: str):\n",
    "    domain_x = alt.Scale(domain=[-10, 100])\n",
    "\n",
    "    base = (\n",
    "        alt.Chart(data)\n",
    "        .encode(\n",
    "            alt.Y(y),\n",
    "        )\n",
    "        .properties(\n",
    "            width=400,\n",
    "            height=400,\n",
    "        )\n",
    "    )\n",
    "\n",
    "    bin0 = base.mark_point().encode(alt.X(x).scale(domain_x))\n",
    "\n",
    "    bin5 = base.mark_rect().encode(\n",
    "        alt.X(x).scale(domain_x).bin(step=5),\n",
    "        alt.Color(\"count()\").scale(scheme=\"blues\"),\n",
    "    )\n",
    "\n",
    "    bin10 = base.mark_rect().encode(\n",
    "        alt.X(x).scale(domain_x).bin(step=5),\n",
    "        alt.Color(\"count()\").scale(scheme=\"blues\"),\n",
    "    )\n",
    "\n",
    "    hm = bin0 & bin5 & bin10\n",
    "    return hm"
   ]
  },
  {
   "cell_type": "code",
   "execution_count": null,
   "metadata": {},
   "outputs": [],
   "source": [
    "heatmap(q13_data, x=\"q13\", y=\"q14\")"
   ]
  },
  {
   "cell_type": "code",
   "execution_count": null,
   "metadata": {},
   "outputs": [],
   "source": [
    "q = \"q14 != 'Prefer not to answer'\"\n",
    "q14_data = q13_data.query(q)\n",
    "heatmap(q14_data, x=\"q13\", y=\"q14\")"
   ]
  },
  {
   "cell_type": "code",
   "execution_count": null,
   "metadata": {},
   "outputs": [],
   "source": [
    "q = \"q03_regional != 'Prefer not to answer'\"\n",
    "q03_data = q13_data.query(q)\n",
    "heatmap(q03_data, x=\"q13\", y=\"q03_regional\")"
   ]
  },
  {
   "cell_type": "code",
   "execution_count": null,
   "metadata": {},
   "outputs": [],
   "source": [
    "q = \"q04_regional != 'Prefer not to answer'\"\n",
    "q04_data = q13_data.query(q)\n",
    "heatmap(q04_data, x=\"q13\", y=\"q03_regional\")"
   ]
  },
  {
   "cell_type": "markdown",
   "metadata": {},
   "source": [
    "`q14`の値（割合）でクラスター化する\n",
    "\n",
    "- ``10 - 20%``\n",
    "- ``20 - 30%``\n",
    "- ``30 - 40%``"
   ]
  },
  {
   "cell_type": "code",
   "execution_count": null,
   "metadata": {},
   "outputs": [],
   "source": [
    "def cluster_data(data: pd.DataFrame) -> pd.DataFrame:\n",
    "    copied = data.copy()\n",
    "    h = \"q13_clustered\"\n",
    "    copied[h] = \"Others\"\n",
    "\n",
    "    is_lower = copied[\"q13\"] >= 0\n",
    "    is_upper = copied[\"q13\"] < 10\n",
    "    isT = is_lower & is_upper\n",
    "    copied.loc[isT, h] = \"0% to 10%\"\n",
    "\n",
    "    is_lower = copied[\"q13\"] >= 10\n",
    "    is_upper = copied[\"q13\"] < 20\n",
    "    isT = is_lower & is_upper\n",
    "    copied.loc[isT, h] = \"10% to 20%\"\n",
    "\n",
    "    is_lower = copied[\"q13\"] >= 20\n",
    "    is_upper = copied[\"q13\"] < 30\n",
    "    isT = is_lower & is_upper\n",
    "    copied.loc[isT, h] = \"20% to 30%\"\n",
    "\n",
    "    is_lower = copied[\"q13\"] >= 30\n",
    "    is_upper = copied[\"q13\"] < 40\n",
    "    isT = is_lower & is_upper\n",
    "    copied.loc[isT, h] = \"30% to 40%\"\n",
    "\n",
    "    is_lower = copied[\"q13\"] >= 40\n",
    "    is_upper = copied[\"q13\"] < 110\n",
    "    isT = is_lower & is_upper\n",
    "    copied.loc[isT, h] = \"40% and over\"\n",
    "\n",
    "    h = \"q03_clustered\"\n",
    "    copied[h] = \"Others\"\n",
    "    isT = copied[\"q03_regional\"] == \"Asia\"\n",
    "    copied.loc[isT, h] = \"Asia\"\n",
    "    isT = copied[\"q03_regional\"] == \"Europe\"\n",
    "    copied.loc[isT, h] = \"Europe\"\n",
    "    isT = copied[\"q03_regional\"] == \"America\"\n",
    "    copied.loc[isT, h] = \"America\"\n",
    "\n",
    "    h = \"q04_clustered\"\n",
    "    copied[h] = \"Others\"\n",
    "    isT = copied[\"q04_regional\"] == \"Asia\"\n",
    "    copied.loc[isT, h] = \"Asia\"\n",
    "    isT = copied[\"q04_regional\"] == \"Europe\"\n",
    "    copied.loc[isT, h] = \"Europe\"\n",
    "    isT = copied[\"q04_regional\"] == \"America\"\n",
    "    copied.loc[isT, h] = \"America\"\n",
    "\n",
    "    return copied"
   ]
  },
  {
   "cell_type": "code",
   "execution_count": null,
   "metadata": {},
   "outputs": [],
   "source": [
    "q13_data = cluster_data(q13_data)\n",
    "q03_data = cluster_data(q03_data)\n",
    "q04_data = cluster_data(q04_data)"
   ]
  },
  {
   "cell_type": "code",
   "execution_count": null,
   "metadata": {},
   "outputs": [],
   "source": [
    "q13_grouped, h13 = ti.core.hbar(\n",
    "    q13_data, x=\"q14\", color=\"q13_clustered\", title=\"q13-q14\"\n",
    ")\n",
    "q03_grouped, h03 = ti.core.hbar(\n",
    "    q03_data, x=\"q13\", color=\"q03_clustered\", title=\"q03-q13\"\n",
    ")\n",
    "q04_grouped, h04 = ti.core.hbar(\n",
    "    q04_data, x=\"q13\", color=\"q04_clustered\", title=\"q04-q13\"\n",
    ")"
   ]
  },
  {
   "cell_type": "code",
   "execution_count": null,
   "metadata": {},
   "outputs": [],
   "source": [
    "h13 & h03 & h04"
   ]
  },
  {
   "cell_type": "markdown",
   "metadata": {},
   "source": [
    "クラスターごとの回答数で規格化する"
   ]
  },
  {
   "cell_type": "code",
   "execution_count": null,
   "metadata": {},
   "outputs": [],
   "source": [
    "q13_sum = q13_grouped.groupby(\"q13_clustered\")[\"response\"].sum().reset_index()\n",
    "q13_merged = pd.merge(q13_grouped, q13_sum, on=\"q13_clustered\")\n",
    "q13_merged[\"response\"] = q13_merged[\"response_x\"] / q13_merged[\"response_y\"]\n",
    "# q13_merged"
   ]
  },
  {
   "cell_type": "code",
   "execution_count": null,
   "metadata": {},
   "outputs": [],
   "source": [
    "q03_sum = q03_grouped.groupby(\"q03_clustered\")[\"response\"].sum().reset_index()\n",
    "q03_merged = pd.merge(q03_grouped, q03_sum, on=\"q03_clustered\")\n",
    "q03_merged[\"response\"] = q03_merged[\"response_x\"] / q03_merged[\"response_y\"]\n",
    "# q03_merged"
   ]
  },
  {
   "cell_type": "code",
   "execution_count": null,
   "metadata": {},
   "outputs": [],
   "source": [
    "q04_sum = q04_grouped.groupby(\"q04_clustered\")[\"response\"].sum().reset_index()\n",
    "q04_merged = pd.merge(q04_grouped, q04_sum, on=\"q04_clustered\")\n",
    "q04_merged[\"response\"] = q04_merged[\"response_x\"] / q04_merged[\"response_y\"]\n",
    "# q04_merged"
   ]
  },
  {
   "cell_type": "code",
   "execution_count": null,
   "metadata": {},
   "outputs": [],
   "source": [
    "g, h = ti.core.hbar(q13_merged, x=\"q14\", color=\"q13_clustered\", title=\"hoge\")\n",
    "h"
   ]
  },
  {
   "cell_type": "code",
   "execution_count": null,
   "metadata": {},
   "outputs": [],
   "source": [
    "_, hbar03 = ti.core.hbar(q03_merged, x=\"q13\", color=\"q03_clustered\", title=\"hoge\")\n",
    "_, hbar04 = ti.core.hbar(q04_merged, x=\"q13\", color=\"q04_clustered\", title=\"hoge\")\n",
    "hbar03 & hbar04"
   ]
  },
  {
   "cell_type": "code",
   "execution_count": null,
   "metadata": {},
   "outputs": [],
   "source": [
    "hm03 = heatmap(q03_data, x=\"q13\", y=\"q03_clustered\")\n",
    "hm04 = heatmap(q04_data, x=\"q13\", y=\"q04_clustered\")\n",
    "hm03 | hm04"
   ]
  },
  {
   "cell_type": "markdown",
   "metadata": {},
   "source": [
    "# Plots for presentation\n",
    "\n",
    "- ``X軸-Y軸``\n",
    "- ``q14-q13_clustered``\n",
    "- ``q13-q03_clustered``"
   ]
  },
  {
   "cell_type": "code",
   "execution_count": null,
   "metadata": {},
   "outputs": [],
   "source": [
    "# q13_merged\n"
   ]
  },
  {
   "cell_type": "code",
   "execution_count": null,
   "metadata": {},
   "outputs": [],
   "source": [
    "opacity = 0.7\n",
    "# scheme = \"category20b\"\n",
    "# scheme = \"category20c\"\n",
    "scheme = \"set1\"\n",
    "question = \"【Q14】What do you think about the percentage of the female researcher in your group ?\"\n",
    "title_x = \"What you think\"\n",
    "q = \"q13_clustered != 'Others'\"\n",
    "q13_x = (\n",
    "    alt.Chart(q13_merged)\n",
    "    .mark_bar(opacity=opacity)\n",
    "    .encode(\n",
    "        alt.X(\"q14\").title(title_x),\n",
    "        alt.Y(\"response_x\").title(\"responses\"),\n",
    "        alt.Color(\"q13_clustered\").title(\"Percentages\").scale(scheme=scheme),\n",
    "    )\n",
    "    .properties(\n",
    "        width=300,\n",
    "        height=600,\n",
    "    )\n",
    ")\n",
    "# q13_x"
   ]
  },
  {
   "cell_type": "code",
   "execution_count": null,
   "metadata": {},
   "outputs": [],
   "source": [
    "q = \"q13_clustered != 'Others'\"\n",
    "q13_n = (\n",
    "    alt.Chart(q13_merged.query(q))\n",
    "    .mark_bar(opacity=opacity)\n",
    "    .encode(\n",
    "        alt.X(\"q14\").title(\"Answers\"),\n",
    "        # alt.Y(\"response\").title(\"normalized\"),\n",
    "        alt.Y(\"response\").title(None),\n",
    "        alt.Color(\"q13_clustered\").title(\"Percentages\").scale(scheme=scheme),\n",
    "        alt.Row(\"q13_clustered\").title(\"Females in your group\"),\n",
    "    )\n",
    "    .properties(\n",
    "        width=300,\n",
    "        height=100,\n",
    "    )\n",
    ")\n",
    "\n",
    "q13_n.configure_axis(\n",
    "    labelFontSize=15,\n",
    "    titleFontSize=15,\n",
    ").configure_header(labelFontSize=15)"
   ]
  },
  {
   "cell_type": "code",
   "execution_count": null,
   "metadata": {},
   "outputs": [],
   "source": [
    "chart = (\n",
    "    alt.hconcat(\n",
    "        q13_x,\n",
    "        q13_n,\n",
    "    )\n",
    "    .properties(\n",
    "        title=question,\n",
    "    )\n",
    "    .configure_title(fontSize=20)\n",
    "    .configure_axis(\n",
    "        labelFontSize=15,\n",
    "        titleFontSize=15,\n",
    "    )\n",
    "    .configure_header(labelFontSize=15)\n",
    ")\n",
    "# chart.save(\"../../data/main_data/q14-q13_clustered.png\")\n",
    "chart"
   ]
  },
  {
   "cell_type": "markdown",
   "metadata": {},
   "source": [
    "- Horizontal axis is \"how you think about\" and the color denotes the female fraction in your group.\n",
    "- Divided into 5 groups depending on the value range of the fractions.\n",
    "- ``< 20%`` (red & blue): the response tends to be on the dissatisfied side\n",
    "- ``> 30%`` (purple & orange): the response leans towards the satisfactory side\n",
    "- There seems to be a boundary between 20% and 30%."
   ]
  },
  {
   "cell_type": "markdown",
   "metadata": {},
   "source": [
    "``q13-q03_clustered``"
   ]
  },
  {
   "cell_type": "code",
   "execution_count": null,
   "metadata": {},
   "outputs": [],
   "source": [
    "# q03_merged\n"
   ]
  },
  {
   "cell_type": "code",
   "execution_count": null,
   "metadata": {},
   "outputs": [],
   "source": [
    "opacity = 0.7\n",
    "scheme = \"set1\"\n",
    "question = \"【Q13】What is the percentage of female researcher in your group ?\"\n",
    "title_x = \"Female researchers in your group [%]\"\n",
    "\n",
    "q03_x = (\n",
    "    alt.Chart(q03_merged)\n",
    "    .mark_bar(opacity=opacity)\n",
    "    .encode(\n",
    "        alt.X(\"q13\").bin(step=10).title(title_x),\n",
    "        alt.Y(\"response_x\").title(\"entries\"),\n",
    "        alt.Color(\"q03_clustered\").scale(scheme=scheme),\n",
    "    )\n",
    "    .properties(\n",
    "        width=300,\n",
    "        height=600,\n",
    "    )\n",
    ")\n",
    "# q03_x"
   ]
  },
  {
   "cell_type": "code",
   "execution_count": null,
   "metadata": {},
   "outputs": [],
   "source": [
    "q = \"q03_clustered != 'Others'\"\n",
    "q03_n = (\n",
    "    alt.Chart(q03_merged)\n",
    "    .mark_bar(opacity=opacity)\n",
    "    .encode(\n",
    "        alt.X(\"q13\").bin(step=10).title(title_x),\n",
    "        alt.Y(\"response\").title(\"normalized\"),\n",
    "        alt.Color(\"q03_clustered:N\").scale(scheme=scheme).title(\"Regions\"),\n",
    "        alt.Row(\"q03_clustered:N\").title(\"Workplace Regions\"),\n",
    "    )\n",
    "    .properties(\n",
    "        width=300,\n",
    "        height=100,\n",
    "    )\n",
    ")\n",
    "# q03_n"
   ]
  },
  {
   "cell_type": "code",
   "execution_count": null,
   "metadata": {},
   "outputs": [],
   "source": [
    "chart = (q03_x | q03_n).properties(title=question).configure_title(fontSize=20)\n",
    "# chart.save(\"../../data/main_data/q13-q03_clustered.png\")\n",
    "chart"
   ]
  },
  {
   "cell_type": "markdown",
   "metadata": {},
   "source": [
    "``q13-q04_clustered``"
   ]
  },
  {
   "cell_type": "code",
   "execution_count": null,
   "metadata": {},
   "outputs": [],
   "source": [
    "opacity = 0.7\n",
    "scheme = \"set1\"\n",
    "question = \"【Q13】What is the percentage of female researcher in your group ?\"\n",
    "title_x = \"Female researchers in your group [%]\"\n",
    "\n",
    "q04_x = (\n",
    "    alt.Chart(q04_merged)\n",
    "    .mark_bar(opacity=opacity)\n",
    "    .encode(\n",
    "        alt.X(\"q13\").bin(step=10).title(title_x),\n",
    "        alt.Y(\"response_x\").title(\"entries\"),\n",
    "        alt.Color(\"q04_clustered\").scale(scheme=scheme),\n",
    "    )\n",
    "    .properties(\n",
    "        width=300,\n",
    "        height=600,\n",
    "    )\n",
    ")\n",
    "# q04_x"
   ]
  },
  {
   "cell_type": "code",
   "execution_count": null,
   "metadata": {},
   "outputs": [],
   "source": [
    "q = \"q04_clustered != 'Others'\"\n",
    "q04_n = (\n",
    "    alt.Chart(q04_merged)\n",
    "    .mark_bar(opacity=opacity)\n",
    "    .encode(\n",
    "        alt.X(\"q13\").bin(step=10).title(title_x),\n",
    "        alt.Y(\"response\").title(\"normalized\"),\n",
    "        alt.Color(\"q04_clustered:N\").scale(scheme=scheme).title(\"Regions\"),\n",
    "        alt.Row(\"q04_clustered:N\").title(\"Birthplace Regions\"),\n",
    "    )\n",
    "    .properties(\n",
    "        width=300,\n",
    "        height=100,\n",
    "    )\n",
    ")\n",
    "# q03_n"
   ]
  },
  {
   "cell_type": "code",
   "execution_count": null,
   "metadata": {},
   "outputs": [],
   "source": [
    "chart = (q04_x | q04_n).properties(title=question).configure_title(fontSize=20)\n",
    "# chart.save(\"../../data/main_data/q13-q04_clustered.png\")\n",
    "chart"
   ]
  },
  {
   "cell_type": "markdown",
   "metadata": {},
   "source": [
    "- Examined the percentage of female researchers by region.\n",
    "- The disparities showed up.\n",
    "- The horizontal axis indicates the percentage of female researchers, while the color denotes the region.\n",
    "- Asia tends to exhibit a lower ratio of female researchers."
   ]
  },
  {
   "cell_type": "code",
   "execution_count": null,
   "metadata": {},
   "outputs": [],
   "source": []
  }
 ],
 "metadata": {
  "kernelspec": {
   "display_name": ".venv",
   "language": "python",
   "name": "python3"
  },
  "language_info": {
   "codemirror_mode": {
    "name": "ipython",
    "version": 3
   },
   "file_extension": ".py",
   "mimetype": "text/x-python",
   "name": "python",
   "nbconvert_exporter": "python",
   "pygments_lexer": "ipython3",
   "version": "3.11.9"
  }
 },
 "nbformat": 4,
 "nbformat_minor": 2
}
