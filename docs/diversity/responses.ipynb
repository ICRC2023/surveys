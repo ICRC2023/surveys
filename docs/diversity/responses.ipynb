{
 "cells": [
  {
   "cell_type": "markdown",
   "metadata": {},
   "source": [
    "# Responses\n",
    "\n",
    "- 日別の回答数\n",
    "- メール\n",
    "  - 2023-07-08 : First request\n",
    "  - 2023-07-17 : Reminder"
   ]
  },
  {
   "cell_type": "code",
   "execution_count": null,
   "metadata": {},
   "outputs": [],
   "source": [
    "import altair as alt\n",
    "import pandas as pd\n",
    "import titanite as ti\n",
    "\n",
    "print(f\"Altair {alt.__version__}\")\n",
    "print(f\"Pandas {pd.__version__}\")\n",
    "print(f\"Titanite {ti.__version__}\")"
   ]
  },
  {
   "cell_type": "code",
   "execution_count": null,
   "metadata": {},
   "outputs": [],
   "source": [
    "f_cfg = \"../../sandbox/config.toml\"\n",
    "f_csv = \"../../data/test_data/prepared_data.csv\"\n",
    "d = ti.Data(read_from=f_csv, load_from=f_cfg)\n",
    "config = d.config()\n",
    "data = d.read()\n",
    "# data\n",
    "# data.info()"
   ]
  },
  {
   "cell_type": "markdown",
   "metadata": {},
   "source": [
    "アンケート依頼をメールした日"
   ]
  },
  {
   "cell_type": "code",
   "execution_count": null,
   "metadata": {},
   "outputs": [],
   "source": [
    "reminders = pd.DataFrame(\n",
    "    {\n",
    "        \"date\": [\"2023-07-08\", \"2023-07-17\"],\n",
    "        \"description\": [\"1st Circular\", \"2nd Circular\"],\n",
    "    }\n",
    ")\n",
    "reminders"
   ]
  },
  {
   "cell_type": "code",
   "execution_count": null,
   "metadata": {},
   "outputs": [],
   "source": [
    "data.index = data[\"timestamp\"]\n",
    "grouped = data.resample(\"D\")[\"response\"].sum().reset_index()"
   ]
  },
  {
   "cell_type": "code",
   "execution_count": null,
   "metadata": {},
   "outputs": [],
   "source": [
    "base = (\n",
    "    alt.Chart(grouped)\n",
    "    .encode(\n",
    "        alt.X(\"timestamp\").axis(format=\"%Y-%m-%d\", labelAngle=-90),\n",
    "        alt.Y(\"response\"),\n",
    "    )\n",
    "    .properties(\n",
    "        width=800,\n",
    "        height=400,\n",
    "    )\n",
    ")\n",
    "\n",
    "mark = base.mark_bar(width=30, xOffset=15)\n",
    "point = base.mark_text(dx=15, dy=-10).encode(\n",
    "    alt.Text(\"response\"),\n",
    ")\n",
    "\n",
    "base2 = alt.Chart(reminders).encode(\n",
    "    alt.X(\"date:T\"),\n",
    ")\n",
    "rule = base2.mark_rule(xOffset=-17, color=\"orange\", size=3)\n",
    "text = base2.mark_text(dy=-210).encode(\n",
    "    alt.Text(\"description\"),\n",
    ")\n",
    "\n",
    "mark + point + rule + text"
   ]
  },
  {
   "cell_type": "code",
   "execution_count": null,
   "metadata": {},
   "outputs": [],
   "source": []
  },
  {
   "cell_type": "code",
   "execution_count": null,
   "metadata": {},
   "outputs": [],
   "source": []
  }
 ],
 "metadata": {
  "kernelspec": {
   "display_name": ".venv",
   "language": "python",
   "name": "python3"
  },
  "language_info": {
   "codemirror_mode": {
    "name": "ipython",
    "version": 3
   },
   "file_extension": ".py",
   "mimetype": "text/x-python",
   "name": "python",
   "nbconvert_exporter": "python",
   "pygments_lexer": "ipython3",
   "version": "3.11.5"
  }
 },
 "nbformat": 4,
 "nbformat_minor": 2
}
