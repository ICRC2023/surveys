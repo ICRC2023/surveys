{
 "cells": [
  {
   "cell_type": "markdown",
   "metadata": {},
   "source": [
    "# Responses\n",
    "\n",
    "- 日別の回答数\n",
    "- メール\n",
    "  - 2023-09-13 : First request\n",
    "  - 2023-09-30 : Deadline"
   ]
  },
  {
   "cell_type": "code",
   "execution_count": 1,
   "metadata": {},
   "outputs": [
    {
     "name": "stdout",
     "output_type": "stream",
     "text": [
      "Altair 5.1.1\n",
      "Pandas 2.0.3\n",
      "Titanite 0.5.0\n"
     ]
    }
   ],
   "source": [
    "import altair as alt\n",
    "import pandas as pd\n",
    "import titanite as ti\n",
    "\n",
    "print(f\"Altair {alt.__version__}\")\n",
    "print(f\"Pandas {pd.__version__}\")\n",
    "print(f\"Titanite {ti.__version__}\")"
   ]
  },
  {
   "cell_type": "code",
   "execution_count": 35,
   "metadata": {},
   "outputs": [
    {
     "data": {
      "text/html": [
       "\n",
       "<style>\n",
       "  #altair-viz-91332a22c3f14d55abe19edade81b1f8.vega-embed {\n",
       "    width: 100%;\n",
       "    display: flex;\n",
       "  }\n",
       "\n",
       "  #altair-viz-91332a22c3f14d55abe19edade81b1f8.vega-embed details,\n",
       "  #altair-viz-91332a22c3f14d55abe19edade81b1f8.vega-embed details summary {\n",
       "    position: relative;\n",
       "  }\n",
       "</style>\n",
       "<div id=\"altair-viz-91332a22c3f14d55abe19edade81b1f8\"></div>\n",
       "<script type=\"text/javascript\">\n",
       "  var VEGA_DEBUG = (typeof VEGA_DEBUG == \"undefined\") ? {} : VEGA_DEBUG;\n",
       "  (function(spec, embedOpt){\n",
       "    let outputDiv = document.currentScript.previousElementSibling;\n",
       "    if (outputDiv.id !== \"altair-viz-91332a22c3f14d55abe19edade81b1f8\") {\n",
       "      outputDiv = document.getElementById(\"altair-viz-91332a22c3f14d55abe19edade81b1f8\");\n",
       "    }\n",
       "    const paths = {\n",
       "      \"vega\": \"https://cdn.jsdelivr.net/npm/vega@5?noext\",\n",
       "      \"vega-lib\": \"https://cdn.jsdelivr.net/npm/vega-lib?noext\",\n",
       "      \"vega-lite\": \"https://cdn.jsdelivr.net/npm/vega-lite@5.14.1?noext\",\n",
       "      \"vega-embed\": \"https://cdn.jsdelivr.net/npm/vega-embed@6?noext\",\n",
       "    };\n",
       "\n",
       "    function maybeLoadScript(lib, version) {\n",
       "      var key = `${lib.replace(\"-\", \"\")}_version`;\n",
       "      return (VEGA_DEBUG[key] == version) ?\n",
       "        Promise.resolve(paths[lib]) :\n",
       "        new Promise(function(resolve, reject) {\n",
       "          var s = document.createElement('script');\n",
       "          document.getElementsByTagName(\"head\")[0].appendChild(s);\n",
       "          s.async = true;\n",
       "          s.onload = () => {\n",
       "            VEGA_DEBUG[key] = version;\n",
       "            return resolve(paths[lib]);\n",
       "          };\n",
       "          s.onerror = () => reject(`Error loading script: ${paths[lib]}`);\n",
       "          s.src = paths[lib];\n",
       "        });\n",
       "    }\n",
       "\n",
       "    function showError(err) {\n",
       "      outputDiv.innerHTML = `<div class=\"error\" style=\"color:red;\">${err}</div>`;\n",
       "      throw err;\n",
       "    }\n",
       "\n",
       "    function displayChart(vegaEmbed) {\n",
       "      vegaEmbed(outputDiv, spec, embedOpt)\n",
       "        .catch(err => showError(`Javascript Error: ${err.message}<br>This usually means there's a typo in your chart specification. See the javascript console for the full traceback.`));\n",
       "    }\n",
       "\n",
       "    if(typeof define === \"function\" && define.amd) {\n",
       "      requirejs.config({paths});\n",
       "      require([\"vega-embed\"], displayChart, err => showError(`Error loading script: ${err.message}`));\n",
       "    } else {\n",
       "      maybeLoadScript(\"vega\", \"5\")\n",
       "        .then(() => maybeLoadScript(\"vega-lite\", \"5.14.1\"))\n",
       "        .then(() => maybeLoadScript(\"vega-embed\", \"6\"))\n",
       "        .catch(showError)\n",
       "        .then(() => displayChart(vegaEmbed));\n",
       "    }\n",
       "  })({\"config\": {\"view\": {\"continuousWidth\": 300, \"continuousHeight\": 300}}, \"data\": {\"name\": \"data-73aee55996110cc2be47d9ea8bd9977e\"}, \"mark\": {\"type\": \"bar\", \"width\": 15}, \"encoding\": {\"x\": {\"field\": \"timestamp\", \"type\": \"temporal\"}, \"y\": {\"field\": \"response\", \"type\": \"quantitative\"}}, \"height\": 300, \"width\": 300, \"$schema\": \"https://vega.github.io/schema/vega-lite/v5.14.1.json\", \"datasets\": {\"data-73aee55996110cc2be47d9ea8bd9977e\": [{\"timestamp\": \"2023-09-15T00:00:00\", \"response\": 116}, {\"timestamp\": \"2023-09-16T00:00:00\", \"response\": 22}, {\"timestamp\": \"2023-09-17T00:00:00\", \"response\": 2}, {\"timestamp\": \"2023-09-18T00:00:00\", \"response\": 11}, {\"timestamp\": \"2023-09-19T00:00:00\", \"response\": 10}, {\"timestamp\": \"2023-09-20T00:00:00\", \"response\": 6}, {\"timestamp\": \"2023-09-21T00:00:00\", \"response\": 8}, {\"timestamp\": \"2023-09-22T00:00:00\", \"response\": 5}, {\"timestamp\": \"2023-09-23T00:00:00\", \"response\": 0}, {\"timestamp\": \"2023-09-24T00:00:00\", \"response\": 1}, {\"timestamp\": \"2023-09-25T00:00:00\", \"response\": 2}, {\"timestamp\": \"2023-09-26T00:00:00\", \"response\": 1}, {\"timestamp\": \"2023-09-27T00:00:00\", \"response\": 0}, {\"timestamp\": \"2023-09-28T00:00:00\", \"response\": 2}, {\"timestamp\": \"2023-09-29T00:00:00\", \"response\": 1}]}}, {\"mode\": \"vega-lite\"});\n",
       "</script>"
      ],
      "text/plain": [
       "alt.Chart(...)"
      ]
     },
     "execution_count": 35,
     "metadata": {},
     "output_type": "execute_result"
    }
   ],
   "source": [
    "f_csv = \"../../data/raw_data/report/20230930_icrc2023_post_conference_survey.csv\"\n",
    "data = pd.read_csv(f_csv, skiprows=1, parse_dates=[\"timestamp\"])\n",
    "data[\"response\"] = 1\n",
    "data.index = data[\"timestamp\"]\n",
    "resampled = data.resample(\"D\")[\"response\"].sum().reset_index()\n",
    "\n",
    "alt.Chart(resampled).mark_bar(width=15).encode(\n",
    "    alt.X(\"timestamp\"),\n",
    "    alt.Y(\"response\"),\n",
    ").properties(\n",
    "    width=300,\n",
    "    height=300,\n",
    ")"
   ]
  },
  {
   "cell_type": "code",
   "execution_count": null,
   "metadata": {},
   "outputs": [],
   "source": [
    "f_cfg = \"../../sandbox/config.toml\"\n",
    "f_csv = \"../../data/test_data/prepared_data.csv\"\n",
    "d = ti.Data(read_from=f_csv, load_from=f_cfg)\n",
    "config = d.config()\n",
    "data = d.read()\n",
    "# data\n",
    "# data.info()"
   ]
  },
  {
   "cell_type": "markdown",
   "metadata": {},
   "source": [
    "アンケート依頼をメールした日"
   ]
  },
  {
   "cell_type": "code",
   "execution_count": null,
   "metadata": {},
   "outputs": [],
   "source": [
    "reminders = pd.DataFrame(\n",
    "    {\n",
    "        \"date\": [\"2023-07-08\", \"2023-07-17\"],\n",
    "        \"description\": [\"1st Circular\", \"2nd Circular\"],\n",
    "    }\n",
    ")\n",
    "reminders"
   ]
  },
  {
   "cell_type": "code",
   "execution_count": null,
   "metadata": {},
   "outputs": [],
   "source": [
    "data.index = data[\"timestamp\"]\n",
    "grouped = data.resample(\"D\")[\"response\"].sum().reset_index()"
   ]
  },
  {
   "cell_type": "code",
   "execution_count": null,
   "metadata": {},
   "outputs": [],
   "source": [
    "base = (\n",
    "    alt.Chart(grouped)\n",
    "    .encode(\n",
    "        alt.X(\"timestamp\").axis(format=\"%Y-%m-%d\", labelAngle=-90),\n",
    "        alt.Y(\"response\"),\n",
    "    )\n",
    "    .properties(\n",
    "        width=800,\n",
    "        height=400,\n",
    "    )\n",
    ")\n",
    "\n",
    "mark = base.mark_bar(width=30, xOffset=15)\n",
    "point = base.mark_text(dx=15, dy=-10).encode(\n",
    "    alt.Text(\"response\"),\n",
    ")\n",
    "\n",
    "base2 = alt.Chart(reminders).encode(\n",
    "    alt.X(\"date:T\"),\n",
    ")\n",
    "rule = base2.mark_rule(xOffset=-17, color=\"orange\", size=3)\n",
    "text = base2.mark_text(dy=-210).encode(\n",
    "    alt.Text(\"description\"),\n",
    ")\n",
    "\n",
    "mark + point + rule + text"
   ]
  },
  {
   "cell_type": "code",
   "execution_count": null,
   "metadata": {},
   "outputs": [],
   "source": []
  },
  {
   "cell_type": "code",
   "execution_count": null,
   "metadata": {},
   "outputs": [],
   "source": []
  }
 ],
 "metadata": {
  "kernelspec": {
   "display_name": ".venv",
   "language": "python",
   "name": "python3"
  },
  "language_info": {
   "codemirror_mode": {
    "name": "ipython",
    "version": 3
   },
   "file_extension": ".py",
   "mimetype": "text/x-python",
   "name": "python",
   "nbconvert_exporter": "python",
   "pygments_lexer": "ipython3",
   "version": "3.11.6"
  },
  "orig_nbformat": 4
 },
 "nbformat": 4,
 "nbformat_minor": 2
}
